{
 "cells": [
  {
   "cell_type": "code",
   "execution_count": null,
   "id": "cdbac9d6-b209-4fcc-becd-b75e076b605d",
   "metadata": {},
   "outputs": [],
   "source": [
    "!pip install gymnasium\n",
    "!pip install pygame"
   ]
  },
  {
   "cell_type": "markdown",
   "id": "36ee8b9b-2a71-4bcd-96d5-5329a9ae5feb",
   "metadata": {},
   "source": [
    "# Carga y exploración de un entorno de Gymnasium"
   ]
  },
  {
   "cell_type": "code",
   "execution_count": 1,
   "id": "cd6db6f7-7bce-4b74-8f9d-d048d6359082",
   "metadata": {
    "execution": {
     "iopub.execute_input": "2025-06-03T10:09:03.332034Z",
     "iopub.status.busy": "2025-06-03T10:09:03.331608Z",
     "iopub.status.idle": "2025-06-03T10:09:06.553758Z",
     "shell.execute_reply": "2025-06-03T10:09:06.552253Z",
     "shell.execute_reply.started": "2025-06-03T10:09:03.332014Z"
    }
   },
   "outputs": [
    {
     "name": "stdout",
     "output_type": "stream",
     "text": [
      "Dispositivo utilizado: cuda\n"
     ]
    }
   ],
   "source": [
    "import gymnasium as gym\n",
    "import numpy as np\n",
    "import time\n",
    "from IPython.display import clear_output, display, HTML\n",
    "import matplotlib.pyplot as plt\n",
    "from tqdm import tqdm\n",
    "import pandas as pd\n",
    "import random\n",
    "from itertools import product\n",
    "from concurrent.futures import ProcessPoolExecutor, as_completed\n",
    "import imageio\n",
    "from IPython.display import HTML\n",
    "\n",
    "import torch\n",
    "import torch.nn as nn\n",
    "import torch.optim as optim\n",
    "from collections import deque\n",
    "import multiprocessing\n",
    "\n",
    "import subprocess\n",
    "import os\n",
    "import json\n",
    "import glob\n",
    "import pickle\n",
    "\n",
    "# Configurar dispositivo\n",
    "device = torch.device(\"cuda\" if torch.cuda.is_available() else \"cpu\")\n",
    "\n",
    "print(f\"Dispositivo utilizado: {device}\")\n",
    "\n",
    "SEED = 42\n",
    "\n",
    "# -------------------- VISUALIZACIÓN DE RESULTADOS --------------------\n",
    "\n",
    "def graficar_recompensas(agente):\n",
    "    \"\"\"Grafica la recompensa media acumulada por episodio.\"\"\"\n",
    "    plt.figure(figsize=(6, 3))\n",
    "    plt.plot(agente.stats)\n",
    "    plt.title('Recompensa media acumulada')\n",
    "    plt.xlabel('Episodio')\n",
    "    plt.ylabel('Recompensa media')\n",
    "    plt.grid(True)\n",
    "    plt.show()\n",
    "\n",
    "def graficar_longitud_episodios(agente):\n",
    "    \"\"\"Grafica la longitud de cada episodio.\"\"\"\n",
    "    plt.figure(figsize=(6, 3))\n",
    "    plt.plot(agente.episode_lengths)\n",
    "    plt.title(\"Longitud de episodios\")\n",
    "    plt.xlabel(\"Episodio\")\n",
    "    plt.ylabel(\"Pasos\")\n",
    "    plt.grid(True)\n",
    "    plt.show()\n",
    "\n",
    "def mostrar_resultados_agente_continuo(agente):\n",
    "    \"\"\"Muestra gráficos de rendimiento en entornos continuos.\"\"\"\n",
    "    graficar_recompensas(agente)\n",
    "    graficar_longitud_episodios(agente)\n",
    "\n",
    "# -------------------- EVALUACIÓN DE LA POLÍTICA --------------------\n",
    "\n",
    "def evaluar_politica(agente, num_episodios=100):\n",
    "    \"\"\"Evalúa la política del agente ejecutando múltiples episodios y muestra estadísticas.\"\"\"\n",
    "\n",
    "    env = agente.env\n",
    "    recompensas = []\n",
    "    longitudes = []\n",
    "    semillas_fallidas = []\n",
    "\n",
    "    pbar = tqdm(range(num_episodios), desc=\"Evaluando\", dynamic_ncols=True)\n",
    "    for i in pbar:\n",
    "        random.seed(i)\n",
    "        np.random.seed(i)\n",
    "        torch.manual_seed(i)\n",
    "        env.action_space.seed(i)\n",
    "        state, _ = env.reset(seed=i)\n",
    "        done = False\n",
    "        total_reward = 0\n",
    "        posiciones = []\n",
    "        pasos = 0\n",
    "\n",
    "        terminated = False\n",
    "        truncated = False\n",
    "        \n",
    "        while not done:\n",
    "            posiciones.append(state[0])\n",
    "            action = agente.seleccionar_accion_greedy(state)\n",
    "            state, reward, terminated, truncated, _ = env.step(action)\n",
    "            done = terminated or truncated\n",
    "            total_reward += reward\n",
    "            pasos += 1\n",
    "    \n",
    "            if truncated:\n",
    "                semillas_fallidas.append(i)\n",
    "\n",
    "        recompensas.append(total_reward)\n",
    "        longitudes.append(pasos)\n",
    "            \n",
    "        env.close()\n",
    "\n",
    "    # Resumen estadístico\n",
    "    print(\"📊 Resultados de evaluación:\")\n",
    "    print(f\"  Episodios evaluados: {num_episodios}\")\n",
    "    print(f\"  Recompensa media:    {np.mean(recompensas):.2f} ± {np.std(recompensas):.2f}\")\n",
    "    print(f\"  Recompensa min/max:  {np.min(recompensas):.2f} / {np.max(recompensas):.2f}\")\n",
    "\n",
    "    print(f\"  Episodios exitosos:  {num_episodios - len(semillas_fallidas)}\")\n",
    "    print(f\"  Episodios fallidos:  {len(semillas_fallidas)}\")\n",
    "    print(f\"  Semillas fallidas: {semillas_fallidas}\")\n",
    "\n"
   ]
  },
  {
   "cell_type": "markdown",
   "id": "25ea2caf-b67a-4dbb-b612-3121e4403f06",
   "metadata": {},
   "source": [
    "# Objeto Agente-DeepQLearning"
   ]
  },
  {
   "cell_type": "code",
   "execution_count": 2,
   "id": "81be454b-f029-4467-b0ab-279f798fce9a",
   "metadata": {
    "execution": {
     "iopub.execute_input": "2025-06-03T10:09:06.555838Z",
     "iopub.status.busy": "2025-06-03T10:09:06.555476Z",
     "iopub.status.idle": "2025-06-03T10:09:06.579415Z",
     "shell.execute_reply": "2025-06-03T10:09:06.578523Z",
     "shell.execute_reply.started": "2025-06-03T10:09:06.555816Z"
    }
   },
   "outputs": [],
   "source": [
    "class DQN(nn.Module):\n",
    "    def __init__(self, input_dim, output_dim):\n",
    "        super().__init__()\n",
    "        self.net = nn.Sequential(\n",
    "            nn.Linear(input_dim, 64),\n",
    "            nn.ReLU(),\n",
    "            nn.Linear(64, 128),\n",
    "            nn.ReLU(),\n",
    "            nn.Linear(128, 128),\n",
    "            nn.ReLU(),\n",
    "            nn.Linear(128, output_dim)\n",
    "        )\n",
    "\n",
    "    def forward(self, x):\n",
    "        return self.net(x)\n",
    "\n",
    "class AgenteDQLearning:\n",
    "    def __init__(self, env, epsilon=1.0, epsilon_min=0.01, epsilon_decay=0.995,\n",
    "                 alpha=1e-3, gamma=0.99, buffer_size=100000, batch_size=64,\n",
    "                 target_update_freq=1000):\n",
    "        \n",
    "        self.env = env\n",
    "        self.epsilon = epsilon\n",
    "        self.epsilon_min = epsilon_min\n",
    "        self.epsilon_decay = epsilon_decay\n",
    "        self.alpha = alpha\n",
    "        self.gamma = gamma\n",
    "        self.batch_size = batch_size\n",
    "        self.buffer = deque(maxlen=buffer_size)\n",
    "        self.target_update_freq = target_update_freq\n",
    "\n",
    "        self.nS = env.observation_space.shape[0]\n",
    "        self.nA = env.action_space.n\n",
    "\n",
    "        self.device = torch.device(\"cuda\" if torch.cuda.is_available() else \"cpu\")\n",
    "        self.policy_net = DQN(self.nS, self.nA).to(self.device)\n",
    "        self.target_net = DQN(self.nS, self.nA).to(self.device)\n",
    "        self.target_net.load_state_dict(self.policy_net.state_dict())\n",
    "        self.target_net.eval()\n",
    "\n",
    "        self.optimizer = optim.Adam(self.policy_net.parameters(), lr=self.alpha)\n",
    "        self.stats = []\n",
    "        self.episode_lengths = []\n",
    "        self.steps_done = 0\n",
    "\n",
    "    def guardar_agente(self, name=\"agente_dqn.pkl\"):\n",
    "        # Crear un diccionario con todo lo importante\n",
    "        modelo_guardado = {\n",
    "            \"params\": {\n",
    "                \"alpha\": self.alpha,\n",
    "                \"gamma\": self.gamma,\n",
    "                \"epsilon\": self.epsilon,\n",
    "                \"epsilon_min\": self.epsilon_min,\n",
    "                \"epsilon_decay\": self.epsilon_decay,\n",
    "                \"buffer_size\": self.buffer.maxlen,\n",
    "                \"batch_size\": self.batch_size,\n",
    "                \"target_update_freq\": self.target_update_freq,\n",
    "            },\n",
    "            \"policy_state_dict\": self.policy_net.state_dict(),\n",
    "            \"stats\": self.stats,\n",
    "            \"episode_lengths\": self.episode_lengths,\n",
    "        }\n",
    "        \n",
    "        # Guardar en un archivo\n",
    "        with open(name, \"wb\") as f:\n",
    "            pickle.dump(modelo_guardado, f)\n",
    "\n",
    "    @staticmethod\n",
    "    def cargar_agente(name=\"agente_dqn.pkl\"):\n",
    "        # Cargar el archivo\n",
    "        with open(name, \"rb\") as f:\n",
    "            data = pickle.load(f)\n",
    "        \n",
    "        # Reconstruir el entorno\n",
    "        env = gym.make(\"MountainCar-v0\")\n",
    "        env.reset(seed=SEED)\n",
    "        \n",
    "        # Reconstruir el agente con los mismos hiperparámetros\n",
    "        agent = AgenteDQLearning(env, **data[\"params\"])\n",
    "        agent.policy_net.load_state_dict(data[\"policy_state_dict\"])\n",
    "        agent.stats = data[\"stats\"]\n",
    "        agent.episode_lengths = data[\"episode_lengths\"]\n",
    "    \n",
    "        return agent\n",
    "\n",
    "\n",
    "    def seleccionar_accion(self, estado):\n",
    "        \"\"\"Selecciona una acción usando la política epsilon-soft explícita.\"\"\"\n",
    "        policy = self._epsilon_soft_policy(estado)\n",
    "        return np.random.choice(np.arange(self.nA), p=policy)\n",
    "\n",
    "    def seleccionar_accion_greedy(self, estado):\n",
    "        \"\"\"Selecciona la mejor acción según la política actual (greedy).\"\"\"\n",
    "        estado_tensor = torch.tensor(estado, dtype=torch.float32).unsqueeze(0).to(self.device)\n",
    "        with torch.no_grad():\n",
    "            q_vals = self.policy_net(estado_tensor)\n",
    "        return torch.argmax(q_vals, dim=1).item()\n",
    "\n",
    "    \n",
    "    def _epsilon_soft_policy(self, estado):\n",
    "        \"\"\"Devuelve una política epsilon-soft como vector de probabilidades.\"\"\"\n",
    "        estado_tensor = torch.tensor(estado, dtype=torch.float32).unsqueeze(0).to(self.device)\n",
    "        with torch.no_grad():\n",
    "            q_vals = self.policy_net(estado_tensor).cpu().numpy().squeeze()\n",
    "        \n",
    "        policy = np.ones(self.nA) * self.epsilon / self.nA\n",
    "        best_action = np.argmax(q_vals)\n",
    "        policy[best_action] += 1.0 - self.epsilon\n",
    "        return policy\n",
    "\n",
    "\n",
    "    def almacenar(self, s, a, r, s_, done):\n",
    "        self.buffer.append((s, a, r, s_, done))\n",
    "\n",
    "    def _actualizar_red(self):\n",
    "        if len(self.buffer) < self.batch_size:\n",
    "            return\n",
    "\n",
    "        batch = random.sample(self.buffer, self.batch_size)\n",
    "        s, a, r, s_, d = zip(*batch)\n",
    "\n",
    "        s = torch.tensor(np.array(s), dtype=torch.float32).to(self.device)\n",
    "        a = torch.tensor(np.array(a), dtype=torch.int64).unsqueeze(1).to(self.device)\n",
    "        r = torch.tensor(np.array(r), dtype=torch.float32).unsqueeze(1).to(self.device)\n",
    "        s_ = torch.tensor(np.array(s_), dtype=torch.float32).to(self.device)\n",
    "        d = torch.tensor(np.array(d), dtype=torch.float32).unsqueeze(1).to(self.device)\n",
    "\n",
    "        q_vals = self.policy_net(s).gather(1, a)\n",
    "        with torch.no_grad():\n",
    "            q_next = self.target_net(s_).max(1, keepdim=True)[0]\n",
    "            target = r + self.gamma * q_next * (1 - d)\n",
    "\n",
    "        loss = nn.MSELoss()(q_vals, target)\n",
    "        self.optimizer.zero_grad()\n",
    "        loss.backward()\n",
    "        self.optimizer.step()\n",
    "\n",
    "        if self.steps_done % self.target_update_freq == 0:\n",
    "            self.target_net.load_state_dict(self.policy_net.state_dict())\n",
    "\n",
    "    def entrenar(self, num_episodes=5000, mostrar_barra=True):\n",
    "        random.seed(SEED)\n",
    "        np.random.seed(SEED)\n",
    "        torch.manual_seed(SEED)\n",
    "        torch.backends.cudnn.deterministic = True\n",
    "        torch.backends.cudnn.benchmark = False\n",
    "        self.env.reset(seed=SEED)\n",
    "        self.env.action_space.seed(SEED)\n",
    "\n",
    "        acumulador_recompensas = 0.0\n",
    "\n",
    "        pbar = tqdm(range(num_episodes), desc=\"Entrenando\", dynamic_ncols=True)\n",
    "        \n",
    "        for t in pbar:\n",
    "            estado, _ = self.env.reset()\n",
    "            done = False\n",
    "            total_reward = 0\n",
    "            pasos = 0\n",
    "\n",
    "            while not done:\n",
    "                accion = self.seleccionar_accion(estado)\n",
    "                estado_siguiente, recompensa, terminado, truncado, _ = self.env.step(accion)\n",
    "                done = terminado or truncado\n",
    "\n",
    "                self.almacenar(estado, accion, recompensa, estado_siguiente, done)\n",
    "                self._actualizar_red()\n",
    "\n",
    "                estado = estado_siguiente\n",
    "                total_reward += recompensa\n",
    "                pasos += 1\n",
    "                self.steps_done += 1\n",
    "\n",
    "            self.episode_lengths.append(pasos)\n",
    "            acumulador_recompensas += total_reward\n",
    "            self.stats.append(acumulador_recompensas / (t + 1))\n",
    "\n",
    "            pbar.set_postfix({'Recompensa': total_reward})\n",
    "            \n",
    "            # Epsilon decay\n",
    "            self.epsilon = max(self.epsilon_min, self.epsilon * self.epsilon_decay)\n",
    "\n",
    "        return self.policy_net"
   ]
  },
  {
   "cell_type": "raw",
   "id": "8b52914a-8bef-429e-a0da-349b5105881b",
   "metadata": {},
   "source": [
    "# Crear carpeta de resultados\n",
    "os.makedirs(\"resultados\", exist_ok=True)\n",
    "\n",
    "# Lista de hiperparámetros\n",
    "alphas = [0.001, 0.01, 0.1]\n",
    "gammas = [0.99, 0.95, 1.0]\n",
    "epsilons = [1.0, 0.5, 0.3, 0.1]\n",
    "\n",
    "combinaciones = list(product(alphas, gammas, epsilons))\n",
    "\n",
    "episodes = 1000\n",
    "\n",
    "def ejecutar_comando(args):\n",
    "    alpha, gamma, epsilon, idx = args\n",
    "    cmd = [\n",
    "        \"python\", \"evaluar_config.py\",\n",
    "        \"--alpha\", str(alpha),\n",
    "        \"--gamma\", str(gamma),\n",
    "        \"--epsilon\", str(epsilon),\n",
    "        \"--episodes\", str(episodes),\n",
    "        \"--id\", str(idx)\n",
    "    ]\n",
    "    return subprocess.run(cmd)\n",
    "\n",
    "# Preparar argumentos con IDs únicos\n",
    "args_list = [(a, g, e, i) for i, (a, g, e) in enumerate(combinaciones)]\n",
    "\n",
    "\n",
    "# Usar N procesos en paralelo\n",
    "with multiprocessing.Pool(processes=16) as pool:\n",
    "    pool.map(ejecutar_comando, args_list)\n",
    "\n",
    "# Leer y procesar todos los resultados\n",
    "resultados = []\n",
    "for fichero in glob.glob(\"resultados/resultado_*.json\"):\n",
    "    with open(fichero) as f:\n",
    "        alpha, gamma, epsilon, score = json.load(f)\n",
    "        resultados.append({\n",
    "            \"alpha\": alpha,\n",
    "            \"gamma\": gamma,\n",
    "            \"epsilon\": epsilon,\n",
    "            \"score\": score\n",
    "        })\n",
    "\n",
    "# Encontrar el mejor\n",
    "mejor = max(resultados, key=lambda x: x[\"score\"])\n",
    "\n",
    "# Mostrar\n",
    "print(\"\\n✅ Mejor configuración encontrada:\")\n",
    "print(f\"  α = {mejor['alpha']}\")\n",
    "print(f\"  γ = {mejor['gamma']}\")\n",
    "print(f\"  ε = {mejor['epsilon']}\")\n",
    "print(f\"  Recompensa media final: {mejor['score']:.2f}\")"
   ]
  },
  {
   "cell_type": "code",
   "execution_count": 3,
   "id": "61b77384-6991-424a-85b8-4c6ca553dd73",
   "metadata": {
    "execution": {
     "iopub.execute_input": "2025-06-03T10:09:07.135391Z",
     "iopub.status.busy": "2025-06-03T10:09:07.134702Z",
     "iopub.status.idle": "2025-06-03T10:39:22.434799Z",
     "shell.execute_reply": "2025-06-03T10:39:22.432948Z",
     "shell.execute_reply.started": "2025-06-03T10:09:07.135353Z"
    }
   },
   "outputs": [
    {
     "name": "stderr",
     "output_type": "stream",
     "text": [
      "Entrenando: 100%|███████████████████████████████████████████████████| 3000/3000 [30:14<00:00,  1.65it/s, Recompensa=-92]\n"
     ]
    },
    {
     "data": {
      "text/plain": [
       "DQN(\n",
       "  (net): Sequential(\n",
       "    (0): Linear(in_features=2, out_features=64, bias=True)\n",
       "    (1): ReLU()\n",
       "    (2): Linear(in_features=64, out_features=128, bias=True)\n",
       "    (3): ReLU()\n",
       "    (4): Linear(in_features=128, out_features=128, bias=True)\n",
       "    (5): ReLU()\n",
       "    (6): Linear(in_features=128, out_features=3, bias=True)\n",
       "  )\n",
       ")"
      ]
     },
     "execution_count": 3,
     "metadata": {},
     "output_type": "execute_result"
    }
   ],
   "source": [
    "# Ejecución de ejemplo\n",
    "env = gym.make(\"MountainCar-v0\")\n",
    "env.reset(seed=SEED)\n",
    "agent = AgenteDQLearning(env, alpha=0.001, gamma=1.0, epsilon=1.0)\n",
    "agent.entrenar(num_episodes=3000)"
   ]
  },
  {
   "cell_type": "code",
   "execution_count": 4,
   "id": "fcc9f83a-d2f1-41d4-b56d-d68ec183d588",
   "metadata": {
    "execution": {
     "iopub.execute_input": "2025-06-03T10:39:22.447841Z",
     "iopub.status.busy": "2025-06-03T10:39:22.437974Z",
     "iopub.status.idle": "2025-06-03T10:39:22.463495Z",
     "shell.execute_reply": "2025-06-03T10:39:22.462322Z",
     "shell.execute_reply.started": "2025-06-03T10:39:22.447789Z"
    }
   },
   "outputs": [],
   "source": [
    "agent.guardar_agente()"
   ]
  },
  {
   "cell_type": "code",
   "execution_count": 5,
   "id": "9d0e79c2-6231-4e77-9dcd-e30f15a8363e",
   "metadata": {
    "execution": {
     "iopub.execute_input": "2025-06-03T10:39:22.464610Z",
     "iopub.status.busy": "2025-06-03T10:39:22.464344Z",
     "iopub.status.idle": "2025-06-03T10:39:22.599375Z",
     "shell.execute_reply": "2025-06-03T10:39:22.598521Z",
     "shell.execute_reply.started": "2025-06-03T10:39:22.464578Z"
    }
   },
   "outputs": [],
   "source": [
    "agente = AgenteDQLearning.cargar_agente()"
   ]
  },
  {
   "cell_type": "markdown",
   "id": "5f45bc4c-4001-4cc6-b535-3c85808ff65f",
   "metadata": {},
   "source": [
    "# Resultados de agente Deep-Q-Learning"
   ]
  },
  {
   "cell_type": "code",
   "execution_count": 6,
   "id": "aec87b34-d1e2-47d5-ad38-45cb9a69d5c2",
   "metadata": {
    "execution": {
     "iopub.execute_input": "2025-06-03T10:39:22.601468Z",
     "iopub.status.busy": "2025-06-03T10:39:22.601098Z",
     "iopub.status.idle": "2025-06-03T10:39:23.050073Z",
     "shell.execute_reply": "2025-06-03T10:39:23.049180Z",
     "shell.execute_reply.started": "2025-06-03T10:39:22.601446Z"
    }
   },
   "outputs": [
    {
     "data": {
      "image/png": "[encoded data removed]",
      "text/plain": [
       "<Figure size 600x300 with 1 Axes>"
      ]
     },
     "metadata": {},
     "output_type": "display_data"
    },
    {
     "data": {
      "image/png": "[encoded data removed]",
      "text/plain": [
       "<Figure size 600x300 with 1 Axes>"
      ]
     },
     "metadata": {},
     "output_type": "display_data"
    }
   ],
   "source": [
    "mostrar_resultados_agente_continuo(agente)"
   ]
  },
  {
   "cell_type": "code",
   "execution_count": 7,
   "id": "fd82d335-4596-40e0-ac41-4339d66603f4",
   "metadata": {
    "execution": {
     "iopub.execute_input": "2025-06-03T10:39:23.051370Z",
     "iopub.status.busy": "2025-06-03T10:39:23.050986Z",
     "iopub.status.idle": "2025-06-03T10:51:23.859059Z",
     "shell.execute_reply": "2025-06-03T10:51:23.857730Z",
     "shell.execute_reply.started": "2025-06-03T10:39:23.051351Z"
    }
   },
   "outputs": [
    {
     "name": "stderr",
     "output_type": "stream",
     "text": [
      "Evaluando: 100%|██████████████████████████████████████████████████████████████████| 10000/10000 [12:00<00:00, 13.87it/s]"
     ]
    },
    {
     "name": "stdout",
     "output_type": "stream",
     "text": [
      "📊 Resultados de evaluación:\n",
      "  Episodios evaluados: 10000\n",
      "  Recompensa media:    -106.37 ± 11.19\n",
      "  Recompensa min/max:  -130.00 / -87.00\n",
      "  Episodios exitosos:  10000\n",
      "  Episodios fallidos:  0\n",
      "  Semillas fallidas: []\n"
     ]
    },
    {
     "name": "stderr",
     "output_type": "stream",
     "text": [
      "\n"
     ]
    }
   ],
   "source": [
    "evaluar_politica(agente, num_episodios=10000)"
   ]
  },
  {
   "cell_type": "code",
   "execution_count": null,
   "id": "733fc842-48bb-4a5a-a171-5a631e364304",
   "metadata": {},
   "outputs": [],
   "source": [
    "def grabar_video_agente(agente, seed, nombre_archivo=\"video_mountaincar.gif\", fps=30):\n",
    "    \"\"\"\n",
    "    Ejecuta un episodio con la política aprendida y guarda un video del entorno.\n",
    "    \"\"\"\n",
    "\n",
    "    random.seed(seed)\n",
    "    np.random.seed(seed)\n",
    "    torch.manual_seed(seed)\n",
    "\n",
    "    # Crear entorno con renderizado de imágenes\n",
    "    env = gym.make(\"MountainCar-v0\", render_mode=\"rgb_array\")\n",
    "    state, _ = env.reset(seed=seed)\n",
    "    done = False\n",
    "    total_reward = 0\n",
    "    frames = []\n",
    "\n",
    "    while not done:\n",
    "        frame = env.render()\n",
    "        frames.append(frame)\n",
    "\n",
    "        action = agente.seleccionar_accion_greedy(state)\n",
    "        state, reward, terminated, truncated, _ = env.step(action)\n",
    "        done = terminated or truncated\n",
    "        total_reward += reward\n",
    "\n",
    "        if done:\n",
    "            break\n",
    "\n",
    "    env.close()\n",
    "\n",
    "    print(f\"Número total de frames: {len(frames)}\")\n",
    "    # Guardar el video como GIF\n",
    "    imageio.mimsave(nombre_archivo, frames, fps=fps, loop=0)\n",
    "    print(f\"🎥 Vídeo guardado en: {nombre_archivo}\")\n",
    "    print(f\"🏁 Recompensa total obtenida: {total_reward:.2f}\")"
   ]
  },
  {
   "cell_type": "code",
   "execution_count": null,
   "id": "bb665331-176f-4b1a-a3fe-a511a15ec686",
   "metadata": {},
   "outputs": [],
   "source": [
    "nombre_archivo = \"video_mountaincar_dqn.gif\"\n",
    "\n",
    "grabar_video_agente(agente, seed=55, nombre_archivo=nombre_archivo)\n",
    "\n",
    "HTML(f\"\"\"\n",
    "<img src=\"{nombre_archivo}\" style=\"width: 600px;\" loop>\n",
    "\"\"\")"
   ]
  },
  {
   "cell_type": "code",
   "execution_count": null,
   "id": "f361b194-dcb4-4fb0-9d3f-365142c931df",
   "metadata": {},
   "outputs": [],
   "source": []
  }
 ],
 "metadata": {
  "kernelspec": {
   "display_name": "Python 3 (ipykernel)",
   "language": "python",
   "name": "python3"
  },
  "language_info": {
   "codemirror_mode": {
    "name": "ipython",
    "version": 3
   },
   "file_extension": ".py",
   "mimetype": "text/x-python",
   "name": "python",
   "nbconvert_exporter": "python",
   "pygments_lexer": "ipython3",
   "version": "3.10.12"
  }
 },
 "nbformat": 4,
 "nbformat_minor": 5
}
