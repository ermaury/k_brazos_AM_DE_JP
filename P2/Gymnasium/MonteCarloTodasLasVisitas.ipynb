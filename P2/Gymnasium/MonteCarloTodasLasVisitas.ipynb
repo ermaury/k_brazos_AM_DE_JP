{
 "cells": [
  {
   "cell_type": "markdown",
   "metadata": {
    "id": "SipaVo-gz1ey"
   },
   "source": [
    "# **Monte Carlo con Políticas epsilon-soft**\n",
    "\n",
    "_Esto es un ejemplo de uso de Gymnasium e informe sobre un experimento de aprendizaje por refuerzo_\n",
    "\n",
    "````\n",
    "Luis D. Hernández.\n",
    "<ldaniel at um.es>\n",
    "````\n",
    "\n",
    "Este notebook describe un experimento de aprendizaje por refuerzo utilizando el algoritmo de Monte Carlo con políticas epsilon-soft. El propósito de este análisis es entrenar un agente en un entorno de gym con el juego \"FrozenLake\", un entorno estándar en el que el agente debe aprender a moverse a través de un mapa en busca de una meta, evitando caer en agujeros. A continuación, se presenta una descripción de las diferentes partes del código y el proceso utilizado en el experimento.\n",
    "\n",
    "🎯 **Ojo, el código debe modificarse para ser un auténtico Monte Carlo. Supongo que sabrás darte cuenta.**"
   ]
  },
  {
   "cell_type": "markdown",
   "metadata": {
    "id": "loCIjd-T0AVg"
   },
   "source": [
    "## **1. Preparación del Entorno**"
   ]
  },
  {
   "cell_type": "markdown",
   "metadata": {
    "id": "e2MTvyPWcU2q"
   },
   "source": [
    "La preparación consta de las siguientes partes:\n",
    "- **Instalación de Dependencias**: Se instalan las librerías necesarias para utilizar el entorno `gymnasium` para la simulación, con el objetivo de crear un ambiente controlado para que el agente pueda interactuar.\n",
    "- **Importación de Librerías**: Se importan las bibliotecas necesarias como `numpy` para el manejo de matrices y `matplotlib` para la visualización de los resultados.\n",
    "\n",
    "- **Importación del Entorno \"FrozenLake\"**:\n",
    "Se cargan dos versiones del entorno \"FrozenLake\": una de 4x4 y otra de 8x8. Ambas versiones no son resbaladizas, lo que facilita la comprensión de los resultados, dado que el entorno resbaladizo podría dificultar la comprensión inicial del aprendizaje.\n",
    "\n",
    "#### 3. **Funciones para Mostrar los Resultados**\n",
    "   - Se define una función para graficar la proporción de recompensas obtenidas en cada episodio del entrenamiento. Esto ayuda a visualizar el progreso del agente en términos de su desempeño durante el entrenamiento.\n",
    "\n"
   ]
  },
  {
   "cell_type": "markdown",
   "metadata": {
    "id": "0P7_98YrcsZw"
   },
   "source": [
    "##### _________ **Código de la Instalación e Importación**\n",
    "----"
   ]
  },
  {
   "cell_type": "code",
   "execution_count": null,
   "metadata": {
    "id": "s-wSiHxNyuBH"
   },
   "outputs": [],
   "source": [
    "%%capture\n",
    "#@title Instalamos gym\n",
    "!pip install 'gym[box2d]==0.20.0'\n",
    "\n",
    "## Instalación de algunos paquetes.\n",
    "#!apt-get update\n",
    "## Para usar gymnasium[box2d]\n",
    "#!apt install swig\n",
    "#!pip install gymnasium[box2d]"
   ]
  },
  {
   "cell_type": "code",
   "execution_count": 1,
   "metadata": {
    "execution": {
     "iopub.execute_input": "2025-05-15T10:55:55.869775Z",
     "iopub.status.busy": "2025-05-15T10:55:55.868896Z",
     "iopub.status.idle": "2025-05-15T10:55:56.261092Z",
     "shell.execute_reply": "2025-05-15T10:55:56.260289Z",
     "shell.execute_reply.started": "2025-05-15T10:55:55.869746Z"
    },
    "id": "o5s4pz9Hzk7r"
   },
   "outputs": [],
   "source": [
    "#@title Importamos librerias\n",
    "import numpy as np\n",
    "import matplotlib.pyplot as plt\n",
    "from tqdm import tqdm\n",
    "import gymnasium as gym"
   ]
  },
  {
   "cell_type": "code",
   "execution_count": 2,
   "metadata": {
    "execution": {
     "iopub.execute_input": "2025-05-15T10:55:56.263366Z",
     "iopub.status.busy": "2025-05-15T10:55:56.262704Z",
     "iopub.status.idle": "2025-05-15T10:55:56.372820Z",
     "shell.execute_reply": "2025-05-15T10:55:56.371858Z",
     "shell.execute_reply.started": "2025-05-15T10:55:56.263339Z"
    },
    "id": "0ogCwKft-Ki9"
   },
   "outputs": [],
   "source": [
    "#@title Importamos el lago helado\n",
    "name = 'FrozenLake-v1'\n",
    "env4 = gym.make(name, is_slippery=False, map_name=\"4x4\", render_mode=\"ansi\") # No resbaladizo para entender mejor los resultados.\n",
    "env8 = gym.make(name, is_slippery=False, map_name=\"8x8\", render_mode=\"ansi\") # No resbaladizo para entender mejor los resultados."
   ]
  },
  {
   "cell_type": "markdown",
   "metadata": {
    "id": "n1ySdi2wdXdm"
   },
   "source": [
    "## **2. Diseño del Agente**\n",
    "\n",
    "El diseño del agente consta de dos partes, el algoritmo con el que aprende y las políticas (toma de decisiones) que realiza.\n",
    "\n",
    "- **Políticas del Agente**\n",
    "   - **Política epsilon-soft**: Se define una política donde todas las acciones tienen una probabilidad de ser elegida.\n",
    "   - **Política epsilon-greedy**: basada en la política epsilon-soft. De esta forma el agente tiene una pequeña probabilidad de explorar (tomar una acción aleatoria) y una mayor probabilidad de explotar (tomar la acción que considera mejor). Esto permite equilibrar la exploración y la explotación.\n",
    "   - **Política greedy**: Es la usada una vez que \"ha aprendido\".\n",
    "\n",
    "- **Algoritmo de Iteración de Valor**\n",
    "  - Se implementa el algoritmo de iteración de valor utilizando Monte Carlo.\n",
    "  - Se usa una versión \"on-policy\" de Monte Carlo con políticas epsilon greedy sobre una política epsilon-soft.\n",
    "  - Se basa en el criterio de todas las visitas.\n",
    "  - Otro aspecto es que la actualización de los retornos no se realiza en el orden inverso a las visitas."
   ]
  },
  {
   "cell_type": "markdown",
   "metadata": {
    "id": "9vDI1gmKfDPT"
   },
   "source": [
    "#### **Código de las políticas y algoritmo MC**\n",
    "----------------"
   ]
  },
  {
   "cell_type": "code",
   "execution_count": 3,
   "metadata": {
    "cellView": "form",
    "execution": {
     "iopub.execute_input": "2025-05-15T10:55:56.515715Z",
     "iopub.status.busy": "2025-05-15T10:55:56.515232Z",
     "iopub.status.idle": "2025-05-15T10:55:56.537850Z",
     "shell.execute_reply": "2025-05-15T10:55:56.536426Z",
     "shell.execute_reply.started": "2025-05-15T10:55:56.515691Z"
    },
    "id": "lVEIYzaJ4p8N"
   },
   "outputs": [],
   "source": [
    "# @title Políticas del agente\n",
    "\n",
    "# actions\n",
    "LEFT, DOWN, RIGHT, UP = 0,1,2,3\n",
    "\n",
    "# Política epsilon-soft. Se usa para el entrenamiento\n",
    "def random_epsilon_greedy_policy(Q, epsilon, state, nA):\n",
    "    pi_A = np.ones(nA, dtype=float) * epsilon / nA\n",
    "    best_action = np.argmax(Q[state])\n",
    "    pi_A[best_action] += (1.0 - epsilon)\n",
    "    return pi_A\n",
    "\n",
    "# Política epsilon-greedy a partir de una epsilon-soft\n",
    "def epsilon_greedy_policy(Q, epsilon, state, nA):\n",
    "    pi_A = random_epsilon_greedy_policy(Q, epsilon, state, nA)\n",
    "    return np.random.choice(np.arange(nA), p=pi_A)\n",
    "\n",
    "# Política Greedy a partir de los valones Q. Se usa para mostrar la solución.\n",
    "def pi_star_from_Q(env, Q):\n",
    "    done = False\n",
    "    pi_star = np.zeros([env.observation_space.n, env.action_space.n])\n",
    "    state, info = env.reset() # start in top-left, = 0\n",
    "    actions = \"\"\n",
    "    while not done:\n",
    "        action = np.argmax(Q[state, :])\n",
    "        actions += f\"{action}, \"\n",
    "        pi_star[state,action] = action\n",
    "        state, reward, terminated, truncated, info = env.step(action)\n",
    "        done = terminated or truncated\n",
    "    return pi_star, actions"
   ]
  },
  {
   "cell_type": "code",
   "execution_count": 4,
   "metadata": {
    "execution": {
     "iopub.execute_input": "2025-05-15T10:55:56.665839Z",
     "iopub.status.busy": "2025-05-15T10:55:56.665291Z",
     "iopub.status.idle": "2025-05-15T10:55:56.672868Z",
     "shell.execute_reply": "2025-05-15T10:55:56.671873Z",
     "shell.execute_reply.started": "2025-05-15T10:55:56.665814Z"
    },
    "id": "RpUWKye-7YA1"
   },
   "outputs": [],
   "source": [
    "#@title Algoritmo de Iteración de Valor versión MC con Políticas epsilon-soft\n",
    "\n",
    "def on_policy_all_visit(env, num_episodes=5000, epsilon=0.4, decay=False, discount_factor=1):\n",
    "  # Matriz de valores  Q\n",
    "  nA = env.action_space.n\n",
    "  Q = np.zeros([env.observation_space.n, nA])\n",
    "\n",
    "  # Número de visitas. Vamoa a realizar la versión incremental.\n",
    "  n_visits = np.zeros([env.observation_space.n, env.action_space.n])\n",
    "\n",
    "  # Para mostrar la evolución en el terminal y algún dato que mostrar\n",
    "  stats = 0.0\n",
    "  list_stats = [stats]\n",
    "  step_display = num_episodes / 10\n",
    "\n",
    "  for t in tqdm(range(num_episodes)):\n",
    "      state, info = env.reset(seed=100)\n",
    "      done = False\n",
    "      episode = []\n",
    "      result_sum = 0.0  # Retorno\n",
    "      factor = 1\n",
    "      while not done:\n",
    "          if decay:\n",
    "            epsilon = min(1.0, 1000.0/(t+1))\n",
    "          action = epsilon_greedy_policy(Q, epsilon, state, nA)\n",
    "          new_state, reward, terminated, truncated, info = env.step(action)\n",
    "          done = terminated or truncated\n",
    "          episode.append((state, action))\n",
    "          result_sum += factor * reward\n",
    "          factor *= discount_factor\n",
    "          state = new_state\n",
    "\n",
    "      for (state, action) in episode:\n",
    "          n_visits[state, action] += 1.0\n",
    "          alpha = 1.0 / n_visits[state, action]\n",
    "          Q[state, action] += alpha * (result_sum - Q[state, action])\n",
    "\n",
    "      # Guardamos datos sobre la evolución\n",
    "      stats += result_sum\n",
    "      list_stats.append(stats/(t+1))\n",
    "\n",
    "      # Para mostrar la evolución.  Comentar si no se quiere mostrar\n",
    "      if t % step_display == 0 and t != 0:\n",
    "          print(f\"success: {stats/t}, epsilon: {epsilon}\")\n",
    "\n",
    "  return Q, list_stats\n"
   ]
  },
  {
   "cell_type": "markdown",
   "metadata": {
    "id": "0XxVyTFTfVkL"
   },
   "source": [
    "## **3. Experimentación**\n",
    "\n",
    "   - En esta sección, el algoritmo de Monte Carlo con la política epsilon-soft se ejecuta tanto para el entorno de 4x4 como al de 8x8 de FrozenLake sin resbalar.\n",
    "   \n",
    "   - En ambos casos se realiza un entrenamiento con un número determinado de episodios (5000 en concreto)\n",
    "\n",
    "   - Además en el escenario 8x8 el  epsilon tiene decaimiento de acuerdo a la expresión: $\\epsilon = min(1.0, 1000.0/(t+1))$\n",
    "\n",
    "   - Durante el entrenamiento hay una visualización de la proporción de recompensas obtenidas a lo largo del entrenamiento.\n",
    "\n",
    "   - Junto a dicho volcado se muestra gráficamente la proporcion de recompensas obtendias.\n",
    "\n",
    "   - También se hace un volcado de los valores Q de cada estado, donde se muestra cómo el agente valora diferentes acciones en distintos estados del entorno, lo que puede interpretarse como su conocimiento sobre las mejores estrategias para alcanzar la meta sin caer en los agujeros.\n",
    "\n",
    "   - Además, se muestra la política óptima derivada de los valores Q. Esta política es la que el agente seguiría si tuviera que elegir siempre la acción que maximiza su recompensa esperada.\n",
    "\n",
    "   "
   ]
  },
  {
   "cell_type": "markdown",
   "metadata": {
    "id": "cqdLUE8zQN2v"
   },
   "source": [
    "### **3.1 Repressentaciones Gráficas**\n",
    "\n",
    "Para comprobar el aprendizaje se mostrará la función $f(t)=\\frac{\\sum_{i=1}^t R_i}{t}$ para $t=1,2,\\ldots, NumeroEpisodios$. La justificación es la siguiente. Como sabemmos que el retorno en el estados inicial 1 (pues no hay descuento) o 9, si se divide por el número de episodios ejecutados se calcular el porcentaje de recompensas positivas obtenidas. Dicho de otra forma, nos dirá el porcentaje de veces que el agente ha llegado al estado terminal.\n",
    "\n",
    "*TODO:* Contruir una gráfica que muestre la longitud de los episodios en cada estado junto con la curva de tendencia."
   ]
  },
  {
   "cell_type": "code",
   "execution_count": 5,
   "metadata": {
    "execution": {
     "iopub.execute_input": "2025-05-15T10:55:57.124000Z",
     "iopub.status.busy": "2025-05-15T10:55:57.123259Z",
     "iopub.status.idle": "2025-05-15T10:55:57.128464Z",
     "shell.execute_reply": "2025-05-15T10:55:57.127579Z",
     "shell.execute_reply.started": "2025-05-15T10:55:57.123971Z"
    },
    "id": "u42-YlgazukU"
   },
   "outputs": [],
   "source": [
    "# @title Funciones para mostrar los resultados\n",
    "\n",
    "def plot(list_stats):\n",
    "  # Creamos una lista de índices para el eje x\n",
    "  indices = list(range(len(list_stats)))\n",
    "\n",
    "  # Creamos el gráfico\n",
    "  plt.figure(figsize=(6, 3))\n",
    "  plt.plot(indices, list_stats)\n",
    "\n",
    "  # Añadimos título y etiquetas\n",
    "  plt.title('Proporción de recompensas')\n",
    "  plt.xlabel('Episodio')\n",
    "  plt.ylabel('Proporción')\n",
    "\n",
    "  # Mostramos el gráfico\n",
    "  plt.grid(True)\n",
    "  plt.show()\n",
    "\n",
    "# Define la función para mostrar el tamaño de los episodios\n",
    "# Pon aquí tu código."
   ]
  },
  {
   "cell_type": "markdown",
   "metadata": {
    "id": "JvnGJVGF_j2j"
   },
   "source": [
    "### **3.2 Experimentación en el escenario 4x4**\n",
    "\n",
    "\n",
    "\n",
    "   - Se realizan 5000 epsisodios y se actualizan los valores Q (valor de acción) basándose en las recompensas obtenidas durante cada episodio completo (e.d. aplicamos Monte Carlo) Se apica una política $\\epsilon$ greedy sobre una política $\\epsilon$ soft con un valor $\\epsilon$ constante\n",
    "\n",
    "\n"
   ]
  },
  {
   "cell_type": "code",
   "execution_count": 6,
   "metadata": {
    "colab": {
     "base_uri": "https://localhost:8080/"
    },
    "execution": {
     "iopub.execute_input": "2025-05-15T10:55:57.432557Z",
     "iopub.status.busy": "2025-05-15T10:55:57.432066Z",
     "iopub.status.idle": "2025-05-15T10:56:16.661084Z",
     "shell.execute_reply": "2025-05-15T10:56:16.660388Z",
     "shell.execute_reply.started": "2025-05-15T10:55:57.432529Z"
    },
    "id": "j_Dronjr_mAN",
    "outputId": "1c0f7ad3-0686-494e-b7eb-1b4a49573329"
   },
   "outputs": [
    {
     "name": "stderr",
     "output_type": "stream",
     "text": [
      " 11%|████████▍                                                                   | 5515/50000 [00:02<00:16, 2673.34it/s]"
     ]
    },
    {
     "name": "stdout",
     "output_type": "stream",
     "text": [
      "success: 0.4342, epsilon: 0.4\n"
     ]
    },
    {
     "name": "stderr",
     "output_type": "stream",
     "text": [
      " 21%|███████████████▋                                                           | 10446/50000 [00:04<00:15, 2622.61it/s]"
     ]
    },
    {
     "name": "stdout",
     "output_type": "stream",
     "text": [
      "success: 0.4834, epsilon: 0.4\n"
     ]
    },
    {
     "name": "stderr",
     "output_type": "stream",
     "text": [
      " 31%|███████████████████████▏                                                   | 15424/50000 [00:06<00:12, 2713.80it/s]"
     ]
    },
    {
     "name": "stdout",
     "output_type": "stream",
     "text": [
      "success: 0.5037333333333334, epsilon: 0.4\n"
     ]
    },
    {
     "name": "stderr",
     "output_type": "stream",
     "text": [
      " 41%|██████████████████████████████▌                                            | 20371/50000 [00:08<00:11, 2667.38it/s]"
     ]
    },
    {
     "name": "stdout",
     "output_type": "stream",
     "text": [
      "success: 0.51425, epsilon: 0.4\n"
     ]
    },
    {
     "name": "stderr",
     "output_type": "stream",
     "text": [
      " 51%|█████████████████████████████████████▉                                     | 25320/50000 [00:10<00:09, 2539.34it/s]"
     ]
    },
    {
     "name": "stdout",
     "output_type": "stream",
     "text": [
      "success: 0.5214, epsilon: 0.4\n"
     ]
    },
    {
     "name": "stderr",
     "output_type": "stream",
     "text": [
      " 61%|█████████████████████████████████████████████▍                             | 30297/50000 [00:11<00:07, 2801.18it/s]"
     ]
    },
    {
     "name": "stdout",
     "output_type": "stream",
     "text": [
      "success: 0.5236666666666666, epsilon: 0.4\n"
     ]
    },
    {
     "name": "stderr",
     "output_type": "stream",
     "text": [
      " 71%|████████████████████████████████████████████████████▉                      | 35290/50000 [00:13<00:05, 2644.50it/s]"
     ]
    },
    {
     "name": "stdout",
     "output_type": "stream",
     "text": [
      "success: 0.5247428571428572, epsilon: 0.4\n"
     ]
    },
    {
     "name": "stderr",
     "output_type": "stream",
     "text": [
      " 81%|████████████████████████████████████████████████████████████▍              | 40297/50000 [00:15<00:03, 2754.40it/s]"
     ]
    },
    {
     "name": "stdout",
     "output_type": "stream",
     "text": [
      "success: 0.526875, epsilon: 0.4\n"
     ]
    },
    {
     "name": "stderr",
     "output_type": "stream",
     "text": [
      " 91%|███████████████████████████████████████████████████████████████████▉       | 45325/50000 [00:17<00:01, 2616.67it/s]"
     ]
    },
    {
     "name": "stdout",
     "output_type": "stream",
     "text": [
      "success: 0.5297333333333333, epsilon: 0.4\n"
     ]
    },
    {
     "name": "stderr",
     "output_type": "stream",
     "text": [
      "100%|███████████████████████████████████████████████████████████████████████████| 50000/50000 [00:19<00:00, 2601.36it/s]\n"
     ]
    }
   ],
   "source": [
    "# @title Aprendizaje\n",
    "Q, list_stats = on_policy_all_visit(env4, num_episodes=20000, epsilon=0.4, discount_factor=1)"
   ]
  },
  {
   "cell_type": "code",
   "execution_count": 7,
   "metadata": {
    "cellView": "form",
    "colab": {
     "base_uri": "https://localhost:8080/",
     "height": 351
    },
    "execution": {
     "iopub.execute_input": "2025-05-15T10:56:16.662488Z",
     "iopub.status.busy": "2025-05-15T10:56:16.662254Z",
     "iopub.status.idle": "2025-05-15T10:56:16.800563Z",
     "shell.execute_reply": "2025-05-15T10:56:16.799714Z",
     "shell.execute_reply.started": "2025-05-15T10:56:16.662467Z"
    },
    "id": "KLhdk1SFtn8S",
    "outputId": "30d22b75-74ae-4735-99a7-0401d3a836ea"
   },
   "outputs": [
    {
     "data": {
      "image/png": "[encoded data removed]",
      "text/plain": [
       "<Figure size 600x300 with 1 Axes>"
      ]
     },
     "metadata": {},
     "output_type": "display_data"
    },
    {
     "name": "stdout",
     "output_type": "stream",
     "text": [
      "Máxima proporcion: 0.53078\n"
     ]
    }
   ],
   "source": [
    "#@title Proporción de aciertos por número de episodios\n",
    "\n",
    "plot(list_stats)\n",
    "print(f\"Máxima proporcion: {list_stats[-1]}\")"
   ]
  },
  {
   "cell_type": "markdown",
   "metadata": {
    "id": "zoP1jHL_StI9"
   },
   "source": [
    "####.\n",
    "Mostramos los valores Q para cada estado. Cada estado tienen 4 valores, que se corresponden con las 4 acciones que se pueden en cada estado."
   ]
  },
  {
   "cell_type": "code",
   "execution_count": 8,
   "metadata": {
    "colab": {
     "base_uri": "https://localhost:8080/"
    },
    "execution": {
     "iopub.execute_input": "2025-05-15T10:56:16.801780Z",
     "iopub.status.busy": "2025-05-15T10:56:16.801538Z",
     "iopub.status.idle": "2025-05-15T10:56:17.105033Z",
     "shell.execute_reply": "2025-05-15T10:56:17.104023Z",
     "shell.execute_reply.started": "2025-05-15T10:56:16.801759Z"
    },
    "id": "psRtMmxyFkFq",
    "outputId": "f9e44658-ea7b-49fe-affb-b1453c055dbf"
   },
   "outputs": [
    {
     "name": "stdout",
     "output_type": "stream",
     "text": [
      "Valores Q para cada estado:\n",
      " [[0.2365132  0.5292047  0.44788214 0.45807229]\n",
      " [0.24298111 0.         0.59358553 0.43899782]\n",
      " [0.47090517 0.62525844 0.48165138 0.55710956]\n",
      " [0.55408971 0.         0.43181818 0.39901478]\n",
      " [0.34408488 0.61208614 0.         0.50069477]\n",
      " [0.         0.         0.         0.        ]\n",
      " [0.         0.80938301 0.         0.59660574]\n",
      " [0.         0.         0.         0.        ]\n",
      " [0.47737489 0.         0.71339435 0.51630435]\n",
      " [0.59063927 0.82232509 0.79948751 0.        ]\n",
      " [0.71075484 0.95865731 0.         0.61854305]\n",
      " [0.         0.         0.         0.        ]\n",
      " [0.         0.         0.         0.        ]\n",
      " [0.         0.82262817 0.95754478 0.70703812]\n",
      " [0.82033037 0.95641962 1.         0.80395299]\n",
      " [0.         0.         0.         0.        ]]\n"
     ]
    }
   ],
   "source": [
    "# @title Tabla de valores Q\n",
    "LEFT, DOWN, RIGHT, UP = 0,1,2,3\n",
    "print(\"Valores Q para cada estado:\\n\", Q)\n"
   ]
  },
  {
   "cell_type": "markdown",
   "metadata": {
    "id": "AsJ-AgwcTgdO"
   },
   "source": [
    "- También se muestra la política óptima (greedy) obtenida a partir del aprendizaje anterior.\n",
    "\n",
    "- Cada estado tienen 4 valores, pero todos son 0 menos 1. Es decir, en cada estado se aplica de manera determinística una única acción.\n",
    "\n",
    "*TODO:* Mostrar de forma gráfica el escenario."
   ]
  },
  {
   "cell_type": "code",
   "execution_count": 9,
   "metadata": {
    "colab": {
     "base_uri": "https://localhost:8080/"
    },
    "execution": {
     "iopub.execute_input": "2025-05-15T10:56:17.106982Z",
     "iopub.status.busy": "2025-05-15T10:56:17.106500Z",
     "iopub.status.idle": "2025-05-15T10:56:17.239050Z",
     "shell.execute_reply": "2025-05-15T10:56:17.238138Z",
     "shell.execute_reply.started": "2025-05-15T10:56:17.106950Z"
    },
    "id": "dA0-q-woGYL2",
    "outputId": "b5cfb689-5329-49d1-8c47-b96de08a5105"
   },
   "outputs": [
    {
     "name": "stdout",
     "output_type": "stream",
     "text": [
      "Política óptima obtenida\n",
      " [[0. 1. 0. 0.]\n",
      " [0. 0. 0. 0.]\n",
      " [0. 0. 0. 0.]\n",
      " [0. 0. 0. 0.]\n",
      " [0. 1. 0. 0.]\n",
      " [0. 0. 0. 0.]\n",
      " [0. 0. 0. 0.]\n",
      " [0. 0. 0. 0.]\n",
      " [0. 0. 2. 0.]\n",
      " [0. 1. 0. 0.]\n",
      " [0. 0. 0. 0.]\n",
      " [0. 0. 0. 0.]\n",
      " [0. 0. 0. 0.]\n",
      " [0. 0. 2. 0.]\n",
      " [0. 0. 2. 0.]\n",
      " [0. 0. 0. 0.]] \n",
      " Acciones 1, 1, 2, 1, 2, 2,  \n",
      " Para el siguiente grid\n",
      "   (Right)\n",
      "SFFF\n",
      "FHFH\n",
      "FFFH\n",
      "HFF\u001b[41mG\u001b[0m\n",
      "\n",
      "\n"
     ]
    }
   ],
   "source": [
    "# @title Política final\n",
    "LEFT, DOWN, RIGHT, UP = 0,1,2,3\n",
    "pi, actions = pi_star_from_Q(env4, Q)\n",
    "\n",
    "print(\"Política óptima obtenida\\n\", pi, f\"\\n Acciones {actions} \\n Para el siguiente grid\\n\", env4.render())\n",
    "print()"
   ]
  },
  {
   "cell_type": "markdown",
   "metadata": {
    "id": "3tUyGCBuS41T"
   },
   "source": [
    "### **3.3 Experimentación en el escenario 8x8**\n",
    "\n",
    "  - Se realizan 5000 epsisodios y se actualizan los valores Q (valor de acción) basándose en las recompensas obtenidas durante cada episodio completo (e.d. aplicamos Monte Carlo) Se apica una política $\\epsilon$ greedy sobre una política $\\epsilon$ soft con un valor $\\epsilon$ decreciente\n",
    "\n"
   ]
  },
  {
   "cell_type": "code",
   "execution_count": 10,
   "metadata": {
    "colab": {
     "base_uri": "https://localhost:8080/"
    },
    "execution": {
     "iopub.execute_input": "2025-05-15T10:56:17.240608Z",
     "iopub.status.busy": "2025-05-15T10:56:17.239913Z",
     "iopub.status.idle": "2025-05-15T10:57:06.090944Z",
     "shell.execute_reply": "2025-05-15T10:57:06.090067Z",
     "shell.execute_reply.started": "2025-05-15T10:56:17.240584Z"
    },
    "id": "ttDsqDX16sSj",
    "outputId": "ea0da61a-0fd7-4fad-b75e-f92deaaf6551"
   },
   "outputs": [
    {
     "name": "stderr",
     "output_type": "stream",
     "text": [
      " 10%|███████▊                                                                     | 5084/50000 [00:07<01:00, 745.51it/s]"
     ]
    },
    {
     "name": "stdout",
     "output_type": "stream",
     "text": [
      "success: 0.5142, epsilon: 0.19996000799840033\n"
     ]
    },
    {
     "name": "stderr",
     "output_type": "stream",
     "text": [
      " 20%|███████████████▎                                                            | 10069/50000 [00:14<01:09, 578.22it/s]"
     ]
    },
    {
     "name": "stdout",
     "output_type": "stream",
     "text": [
      "success: 0.7094, epsilon: 0.0999900009999\n"
     ]
    },
    {
     "name": "stderr",
     "output_type": "stream",
     "text": [
      " 30%|██████████████████████▊                                                    | 15186/50000 [00:22<00:26, 1312.49it/s]"
     ]
    },
    {
     "name": "stdout",
     "output_type": "stream",
     "text": [
      "success: 0.7842666666666667, epsilon: 0.06666222251849876\n"
     ]
    },
    {
     "name": "stderr",
     "output_type": "stream",
     "text": [
      " 40%|██████████████████████████████▎                                            | 20205/50000 [00:26<00:21, 1360.94it/s]"
     ]
    },
    {
     "name": "stdout",
     "output_type": "stream",
     "text": [
      "success: 0.83175, epsilon: 0.04999750012499375\n"
     ]
    },
    {
     "name": "stderr",
     "output_type": "stream",
     "text": [
      " 50%|█████████████████████████████████████▊                                     | 25177/50000 [00:29<00:18, 1359.76it/s]"
     ]
    },
    {
     "name": "stdout",
     "output_type": "stream",
     "text": [
      "success: 0.86052, epsilon: 0.03999840006399744\n"
     ]
    },
    {
     "name": "stderr",
     "output_type": "stream",
     "text": [
      " 60%|█████████████████████████████████████████████▎                             | 30171/50000 [00:33<00:14, 1365.61it/s]"
     ]
    },
    {
     "name": "stdout",
     "output_type": "stream",
     "text": [
      "success: 0.8805333333333333, epsilon: 0.033332222259258026\n"
     ]
    },
    {
     "name": "stderr",
     "output_type": "stream",
     "text": [
      " 71%|████████████████████████████████████████████████████▉                      | 35278/50000 [00:37<00:10, 1381.80it/s]"
     ]
    },
    {
     "name": "stdout",
     "output_type": "stream",
     "text": [
      "success: 0.8951428571428571, epsilon: 0.02857061226822091\n"
     ]
    },
    {
     "name": "stderr",
     "output_type": "stream",
     "text": [
      " 80%|████████████████████████████████████████████████████████████▎              | 40203/50000 [00:41<00:07, 1310.84it/s]"
     ]
    },
    {
     "name": "stdout",
     "output_type": "stream",
     "text": [
      "success: 0.906225, epsilon: 0.02499937501562461\n"
     ]
    },
    {
     "name": "stderr",
     "output_type": "stream",
     "text": [
      " 90%|███████████████████████████████████████████████████████████████████▋       | 45145/50000 [00:45<00:03, 1297.57it/s]"
     ]
    },
    {
     "name": "stdout",
     "output_type": "stream",
     "text": [
      "success: 0.9154, epsilon: 0.02222172840603542\n"
     ]
    },
    {
     "name": "stderr",
     "output_type": "stream",
     "text": [
      "100%|███████████████████████████████████████████████████████████████████████████| 50000/50000 [00:48<00:00, 1025.99it/s]\n"
     ]
    }
   ],
   "source": [
    "# @title Aprendizaje\n",
    "Q, list_stats = on_policy_all_visit(env8, num_episodes=50000, epsilon=0.4, decay=True, discount_factor=1)"
   ]
  },
  {
   "cell_type": "code",
   "execution_count": 11,
   "metadata": {
    "cellView": "form",
    "colab": {
     "base_uri": "https://localhost:8080/",
     "height": 351
    },
    "execution": {
     "iopub.execute_input": "2025-05-15T10:57:06.092507Z",
     "iopub.status.busy": "2025-05-15T10:57:06.092298Z",
     "iopub.status.idle": "2025-05-15T10:57:06.214029Z",
     "shell.execute_reply": "2025-05-15T10:57:06.213203Z",
     "shell.execute_reply.started": "2025-05-15T10:57:06.092488Z"
    },
    "id": "Z_tbLcAq6yWR",
    "outputId": "bd14600f-00cd-4cc1-a5d0-81f972a3a295"
   },
   "outputs": [
    {
     "data": {
      "image/png": "[encoded data removed]",
      "text/plain": [
       "<Figure size 600x300 with 1 Axes>"
      ]
     },
     "metadata": {},
     "output_type": "display_data"
    },
    {
     "name": "stdout",
     "output_type": "stream",
     "text": [
      "Máxima proporcion: 0.92278\n"
     ]
    }
   ],
   "source": [
    "#@title Proporción de aciertos por número de episodios\n",
    "\n",
    "plot(list_stats)\n",
    "print(f\"Máxima proporcion: {list_stats[-1]}\")"
   ]
  },
  {
   "cell_type": "markdown",
   "metadata": {
    "id": "dptS3Xv8v8H7"
   },
   "source": [
    "####.\n",
    "Mostramos los valores Q para cada estado. Cada estado tienen 4 valores, que se corresponden con las 4 acciones que se pueden en cada estado."
   ]
  },
  {
   "cell_type": "code",
   "execution_count": 12,
   "metadata": {
    "cellView": "form",
    "colab": {
     "base_uri": "https://localhost:8080/"
    },
    "execution": {
     "iopub.execute_input": "2025-05-15T10:57:06.215084Z",
     "iopub.status.busy": "2025-05-15T10:57:06.214880Z",
     "iopub.status.idle": "2025-05-15T10:57:06.221582Z",
     "shell.execute_reply": "2025-05-15T10:57:06.220544Z",
     "shell.execute_reply.started": "2025-05-15T10:57:06.215065Z"
    },
    "id": "scmn1mwlwBam",
    "outputId": "f2597e0f-bcd0-4daa-e4a3-0e939279f24a"
   },
   "outputs": [
    {
     "name": "stdout",
     "output_type": "stream",
     "text": [
      "Valores Q para cada estado:\n",
      " [[0.33765738 0.33483653 0.91579218 0.33958652]\n",
      " [0.43220339 0.427401   0.92516846 0.43434343]\n",
      " [0.50668216 0.49303621 0.93593699 0.49970501]\n",
      " [0.57953749 0.5608931  0.94138208 0.58700068]\n",
      " [0.68266516 0.64222874 0.93119076 0.66132597]\n",
      " [0.79868927 0.83410271 0.96022952 0.83969266]\n",
      " [0.6977492  0.95918702 0.7360673  0.67631851]\n",
      " [0.34771574 0.71737089 0.34254144 0.33130699]\n",
      " [0.08078818 0.04799216 0.42830712 0.08325359]\n",
      " [0.12637363 0.09015421 0.11872146 0.5922807 ]\n",
      " [0.13050571 0.10106383 0.54764638 0.13689482]\n",
      " [0.23114355 0.         0.74428822 0.24654832]\n",
      " [0.32107843 0.30133929 0.36787565 0.7846513 ]\n",
      " [0.49911817 0.49414063 0.84963691 0.52028219]\n",
      " [0.68477366 0.73653199 0.95198658 0.72860847]\n",
      " [0.7104     0.95453036 0.68455285 0.61192137]\n",
      " [0.24716099 0.05797101 0.06279435 0.08523592]\n",
      " [0.08333333 0.20544747 0.07984032 0.07465619]\n",
      " [0.03007519 0.02364865 0.         0.20319635]\n",
      " [0.         0.         0.         0.        ]\n",
      " [0.         0.08527132 0.45259939 0.20325203]\n",
      " [0.23529412 0.         0.6562986  0.30215827]\n",
      " [0.40873016 0.43333333 0.81740196 0.47719298]\n",
      " [0.77734068 0.95305907 0.8        0.7605985 ]\n",
      " [0.24285714 0.04726368 0.07900208 0.09782609]\n",
      " [0.06976744 0.05491329 0.07614213 0.24691358]\n",
      " [0.12015504 0.01020408 0.         0.03535354]\n",
      " [0.01754386 0.         0.         0.        ]\n",
      " [0.02325581 0.02173913 0.         0.11111111]\n",
      " [0.         0.         0.         0.        ]\n",
      " [0.         0.46153846 0.82298424 0.46825397]\n",
      " [0.76744186 0.95561113 0.78584071 0.77777778]\n",
      " [0.04       0.01477833 0.         0.13011152]\n",
      " [0.08247423 0.         0.         0.01898734]\n",
      " [0.         0.         0.         0.02409639]\n",
      " [0.         0.         0.         0.        ]\n",
      " [0.         0.         0.12903226 0.        ]\n",
      " [0.13636364 0.         0.48387097 0.        ]\n",
      " [0.37662338 0.         0.84449022 0.53571429]\n",
      " [0.77906977 0.95803482 0.83055556 0.81360671]\n",
      " [0.         0.         0.         0.03703704]\n",
      " [0.         0.         0.         0.        ]\n",
      " [0.         0.         0.         0.        ]\n",
      " [0.         0.         0.         0.        ]\n",
      " [0.         0.         0.         0.        ]\n",
      " [0.         0.         0.         0.        ]\n",
      " [0.         0.         0.         0.        ]\n",
      " [0.         0.97894912 0.84252758 0.8338558 ]\n",
      " [0.         0.         0.         0.        ]\n",
      " [0.         0.         0.         0.        ]\n",
      " [0.         0.         0.         0.        ]\n",
      " [0.         0.         0.         0.        ]\n",
      " [0.         0.         0.         0.        ]\n",
      " [0.         0.         0.         0.        ]\n",
      " [0.         0.         0.         0.        ]\n",
      " [0.         1.         0.94811321 0.88391906]\n",
      " [0.         0.         0.         0.        ]\n",
      " [0.         0.         0.         0.        ]\n",
      " [0.         0.         0.         0.        ]\n",
      " [0.         0.         0.         0.        ]\n",
      " [0.         0.         0.         0.        ]\n",
      " [0.         0.         0.         0.        ]\n",
      " [0.         0.         0.         0.        ]\n",
      " [0.         0.         0.         0.        ]]\n"
     ]
    }
   ],
   "source": [
    "# @title Tabla de valores Q\n",
    "LEFT, DOWN, RIGHT, UP = 0,1,2,3\n",
    "print(\"Valores Q para cada estado:\\n\", Q)"
   ]
  },
  {
   "cell_type": "markdown",
   "metadata": {
    "id": "oWQWD7UqwH2Y"
   },
   "source": [
    "- También se muestra la política óptima (greedy) obtenida a partir del aprendizaje anterior.\n",
    "\n",
    "- Cada estado tienen 4 valores, pero todos son 0 menos 1. Es decir, en cada estado se aplica de manera determinística una única acción.\n",
    "\n",
    "*TODO:* Mostrar de forma gráfica el escenario."
   ]
  },
  {
   "cell_type": "code",
   "execution_count": 13,
   "metadata": {
    "cellView": "form",
    "colab": {
     "base_uri": "https://localhost:8080/"
    },
    "execution": {
     "iopub.execute_input": "2025-05-15T10:57:06.222922Z",
     "iopub.status.busy": "2025-05-15T10:57:06.222517Z",
     "iopub.status.idle": "2025-05-15T10:57:06.345921Z",
     "shell.execute_reply": "2025-05-15T10:57:06.345190Z",
     "shell.execute_reply.started": "2025-05-15T10:57:06.222900Z"
    },
    "id": "1n6i3oMzwSG3",
    "outputId": "0dd2772e-e096-41d8-e2ae-18d809e2b098"
   },
   "outputs": [
    {
     "name": "stdout",
     "output_type": "stream",
     "text": [
      "Política óptima obtenida\n",
      " [[0. 0. 2. 0.]\n",
      " [0. 0. 2. 0.]\n",
      " [0. 0. 2. 0.]\n",
      " [0. 0. 2. 0.]\n",
      " [0. 0. 2. 0.]\n",
      " [0. 0. 2. 0.]\n",
      " [0. 1. 0. 0.]\n",
      " [0. 0. 0. 0.]\n",
      " [0. 0. 0. 0.]\n",
      " [0. 0. 0. 0.]\n",
      " [0. 0. 0. 0.]\n",
      " [0. 0. 0. 0.]\n",
      " [0. 0. 0. 0.]\n",
      " [0. 0. 0. 0.]\n",
      " [0. 0. 2. 0.]\n",
      " [0. 1. 0. 0.]\n",
      " [0. 0. 0. 0.]\n",
      " [0. 0. 0. 0.]\n",
      " [0. 0. 0. 0.]\n",
      " [0. 0. 0. 0.]\n",
      " [0. 0. 0. 0.]\n",
      " [0. 0. 0. 0.]\n",
      " [0. 0. 0. 0.]\n",
      " [0. 1. 0. 0.]\n",
      " [0. 0. 0. 0.]\n",
      " [0. 0. 0. 0.]\n",
      " [0. 0. 0. 0.]\n",
      " [0. 0. 0. 0.]\n",
      " [0. 0. 0. 0.]\n",
      " [0. 0. 0. 0.]\n",
      " [0. 0. 0. 0.]\n",
      " [0. 1. 0. 0.]\n",
      " [0. 0. 0. 0.]\n",
      " [0. 0. 0. 0.]\n",
      " [0. 0. 0. 0.]\n",
      " [0. 0. 0. 0.]\n",
      " [0. 0. 0. 0.]\n",
      " [0. 0. 0. 0.]\n",
      " [0. 0. 0. 0.]\n",
      " [0. 1. 0. 0.]\n",
      " [0. 0. 0. 0.]\n",
      " [0. 0. 0. 0.]\n",
      " [0. 0. 0. 0.]\n",
      " [0. 0. 0. 0.]\n",
      " [0. 0. 0. 0.]\n",
      " [0. 0. 0. 0.]\n",
      " [0. 0. 0. 0.]\n",
      " [0. 1. 0. 0.]\n",
      " [0. 0. 0. 0.]\n",
      " [0. 0. 0. 0.]\n",
      " [0. 0. 0. 0.]\n",
      " [0. 0. 0. 0.]\n",
      " [0. 0. 0. 0.]\n",
      " [0. 0. 0. 0.]\n",
      " [0. 0. 0. 0.]\n",
      " [0. 1. 0. 0.]\n",
      " [0. 0. 0. 0.]\n",
      " [0. 0. 0. 0.]\n",
      " [0. 0. 0. 0.]\n",
      " [0. 0. 0. 0.]\n",
      " [0. 0. 0. 0.]\n",
      " [0. 0. 0. 0.]\n",
      " [0. 0. 0. 0.]\n",
      " [0. 0. 0. 0.]] \n",
      " Acciones 2, 2, 2, 2, 2, 2, 1, 2, 1, 1, 1, 1, 1, 1,  \n",
      " Para el siguiente grid\n",
      "   (Down)\n",
      "SFFFFFFF\n",
      "FFFFFFFF\n",
      "FFFHFFFF\n",
      "FFFFFHFF\n",
      "FFFHFFFF\n",
      "FHHFFFHF\n",
      "FHFFHFHF\n",
      "FFFHFFF\u001b[41mG\u001b[0m\n",
      "\n",
      "\n"
     ]
    }
   ],
   "source": [
    "# @title Política final\n",
    "LEFT, DOWN, RIGHT, UP = 0,1,2,3\n",
    "pi, actions = pi_star_from_Q(env8, Q)\n",
    "\n",
    "print(\"Política óptima obtenida\\n\", pi, f\"\\n Acciones {actions} \\n Para el siguiente grid\\n\", env8.render())\n",
    "print()"
   ]
  },
  {
   "cell_type": "markdown",
   "metadata": {
    "id": "FG0Z813yhKz7"
   },
   "source": [
    "## **4. Análisis y Estudios Futuros**\n",
    "\n",
    "### **4.1 Análisis de Resultados**\n",
    "\n",
    "- En los dos entornos (4x4 y 8x8), el agente comienza con un conocimiento muy limitado, pero gradualmente mejora su desempeño a medida que avanza en los episodios. Este comportamiento se puede observar en el gráfico de la proporción de recompensas, que aumenta con el tiempo.\n",
    "- En el entorno 4x4, la máxima proporción de éxito alcanzada fue 0.522, mientras que en el entorno 8x8, la máxima alcanzada fue 0.914. Esto refleja que el agente aprendió a optimizar su estrategia en un entorno más complejo.\n",
    "- La política óptima obtenida muestra las acciones recomendadas por el agente en cada estado del entorno. En el entorno 8x8, la política es más compleja debido a la mayor cantidad de estados y la dificultad del entorno.\n",
    "\n",
    "### **4.2 Propuestas para Estudios Futuros**\n",
    "\n",
    "1. **Evaluar con Otros Entornos**: Sería interesante aplicar este algoritmo a otros entornos más complejos de `gym`, como \"Taxi-v3\" o \"MountainCar\", para analizar cómo se comporta el agente en situaciones con dinámicas más complicadas.\n",
    "   \n",
    "2. **Optimización del Decaimiento de Epsilon**: Aunque se utilizó un decaimiento de epsilon en el segundo experimento, se podría investigar la efectividad de diferentes tasas de decaimiento o incluso explorar algoritmos como `Q-learning` para comparar su desempeño. Graficamente se trataría de mostrar la curva de la tasa de aciertos para distintas funciones de decaimientos\n",
    "\n",
    "3. **Análisis del Impacto de los descuentos en las Recompensas**: El estudio se ha hecho para $\\gamma = 1$; pero no se ha probado qué pasa cuando  $0 \\leq \\gamma < 1$. Se trataría de estudiar la curva para distintos valores de $\\gamma$\n",
    "\n",
    "4. **Nuevas gráficas**: Aquí solo se ha usado la proporción de aciertos, pero sería interesante qué relación entre dicha tasa y las tamaños de los episodios.\n",
    "\n",
    "4. **Ampliación del Algoritmo**: Explorar otros enfoques de Monte Carlo o incluso combinar Monte Carlo con otros algoritmos de aprendizaje por refuerzo, como el Deep Q-Network (DQN), podría mejorar aún más los resultados en entornos más complejos.\n"
   ]
  },
  {
   "cell_type": "code",
   "execution_count": null,
   "metadata": {},
   "outputs": [],
   "source": []
  }
 ],
 "metadata": {
  "colab": {
   "provenance": []
  },
  "kernelspec": {
   "display_name": "Python 3 (ipykernel)",
   "language": "python",
   "name": "python3"
  },
  "language_info": {
   "codemirror_mode": {
    "name": "ipython",
    "version": 3
   },
   "file_extension": ".py",
   "mimetype": "text/x-python",
   "name": "python",
   "nbconvert_exporter": "python",
   "pygments_lexer": "ipython3",
   "version": "3.10.12"
  }
 },
 "nbformat": 4,
 "nbformat_minor": 4
}
