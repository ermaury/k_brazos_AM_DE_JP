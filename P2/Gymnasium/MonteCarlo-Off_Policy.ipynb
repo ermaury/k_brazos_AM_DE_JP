{
 "cells": [
  {
   "cell_type": "code",
   "execution_count": null,
   "id": "cdbac9d6-b209-4fcc-becd-b75e076b605d",
   "metadata": {},
   "outputs": [],
   "source": [
    "!pip install gymnasium\n",
    "!pip install pygame"
   ]
  },
  {
   "cell_type": "markdown",
   "id": "36ee8b9b-2a71-4bcd-96d5-5329a9ae5feb",
   "metadata": {},
   "source": [
    "# Carga y exploración de un entorno de Gymnasium"
   ]
  },
  {
   "cell_type": "code",
   "execution_count": 2,
   "id": "cd6db6f7-7bce-4b74-8f9d-d048d6359082",
   "metadata": {
    "execution": {
     "iopub.execute_input": "2025-05-19T13:24:04.035618Z",
     "iopub.status.busy": "2025-05-19T13:24:04.035363Z",
     "iopub.status.idle": "2025-05-19T13:24:04.051590Z",
     "shell.execute_reply": "2025-05-19T13:24:04.050710Z",
     "shell.execute_reply.started": "2025-05-19T13:24:04.035599Z"
    }
   },
   "outputs": [],
   "source": [
    "import gymnasium as gym\n",
    "import numpy as np\n",
    "import time\n",
    "from IPython.display import clear_output, display, HTML\n",
    "import matplotlib.pyplot as plt\n",
    "from tqdm import tqdm\n",
    "import pandas as pd\n",
    "import random\n",
    "from itertools import product\n",
    "from concurrent.futures import ProcessPoolExecutor, as_completed\n",
    "\n",
    "# Parámetros globales\n",
    "SEED = 42\n",
    "ACCIONES = ['←', '↓', '→', '↑']\n",
    "\n",
    "# -------------------- POLÍTICAS --------------------\n",
    "\n",
    "def epsilon_soft_policy(Q: np.ndarray, epsilon: float, state: int, nA: int) -> np.ndarray:\n",
    "    \"\"\"Devuelve una política epsilon-soft como vector de probabilidades.\"\"\"\n",
    "    policy = np.ones(nA) * epsilon / nA\n",
    "    best_action = np.argmax(Q[state])\n",
    "    policy[best_action] += 1.0 - epsilon\n",
    "    return policy\n",
    "\n",
    "def seleccionar_accion(Q: np.ndarray, epsilon: float, state: int, nA: int) -> int:\n",
    "    \"\"\"Devuelve una acción siguiendo política epsilon-greedy.\"\"\"\n",
    "    policy = epsilon_soft_policy(Q, epsilon, state, nA)\n",
    "    return np.random.choice(np.arange(nA), p=policy)\n",
    "\n",
    "# -------------------- VISUALIZACIÓN DE POLÍTICA --------------------\n",
    "\n",
    "def representar_politica_greedy(agente, mostrar_como_grid=True):\n",
    "    \"\"\"Ejecuta y visualiza la política greedy aprendida.\"\"\"\n",
    "    env = agente.env\n",
    "    Q = agente.Q\n",
    "    desc = env.unwrapped.desc\n",
    "\n",
    "    state, _ = env.reset()\n",
    "    done = False\n",
    "    total_reward = 0\n",
    "    acciones_realizadas = []\n",
    "    tableros = []\n",
    "\n",
    "    while not done:\n",
    "        action = np.argmax(Q[state])\n",
    "        acciones_realizadas.append(ACCIONES[action])\n",
    "        tableros.append(tablero_con_emojis(desc, state))\n",
    "        state, reward, terminated, truncated, _ = env.step(action)\n",
    "        done = terminated or truncated\n",
    "        total_reward += reward\n",
    "\n",
    "    tableros.append(tablero_con_emojis(desc, state))  # último estado\n",
    "\n",
    "    if mostrar_como_grid:\n",
    "        mostrar_tableros_en_grid(tableros)\n",
    "    else:\n",
    "        for tablero in tableros:\n",
    "            display(HTML(f\"<pre style='font-size: 24px'>{tablero}</pre>\"))\n",
    "\n",
    "    print(f\"Recompensa total: {total_reward}\")\n",
    "    print(f\"Secuencia de acciones: {acciones_realizadas}\")\n",
    "\n",
    "def tablero_con_emojis(desc: np.ndarray, pos_agente: int) -> str:\n",
    "    \"\"\"Devuelve una representación del entorno con emojis.\"\"\"\n",
    "    EMOJI_MAP = {b'S': '🚩', b'F': '🧊', b'H': '🕳️', b'G': '🏁'}\n",
    "    AGENTE = '🤖'\n",
    "    tablero = \"\"\n",
    "\n",
    "    for i, fila in enumerate(desc):\n",
    "        for j, celda in enumerate(fila):\n",
    "            idx = i * desc.shape[1] + j\n",
    "            tablero += AGENTE if idx == pos_agente else EMOJI_MAP[celda]\n",
    "        tablero += \"\\n\"\n",
    "    return tablero\n",
    "\n",
    "def mostrar_tableros_en_grid(tableros: list[str], columnas: int = 4):\n",
    "    \"\"\"Muestra múltiples tableros en una cuadrícula HTML.\"\"\"\n",
    "    html = \"<table><tr>\"\n",
    "    for i, t in enumerate(tableros):\n",
    "        html += f\"<td><pre style='font-size: 14px'>{t}</pre></td>\"\n",
    "        if (i + 1) % columnas == 0:\n",
    "            html += \"</tr><tr>\"\n",
    "    html += \"</tr></table>\"\n",
    "    display(HTML(html))\n",
    "\n",
    "def dibujar_politica_optima(agente):\n",
    "    \"\"\"Dibuja con matplotlib la política óptima aprendida.\"\"\"\n",
    "    Q = agente.Q\n",
    "    desc = agente.env.unwrapped.desc\n",
    "    num_rows, num_cols = desc.shape\n",
    "\n",
    "    simbolos = [\n",
    "        'X' if np.all(fila == 0) else ACCIONES[np.argmax(fila)]\n",
    "        for fila in Q\n",
    "    ]\n",
    "\n",
    "    matriz = np.array(simbolos).reshape(num_rows, num_cols)\n",
    "\n",
    "    fig, ax = plt.subplots(figsize=(num_cols, num_rows))\n",
    "    ax.set_xticks(np.arange(num_cols))\n",
    "    ax.set_yticks(np.arange(num_rows))\n",
    "    ax.set_xticklabels([])\n",
    "    ax.set_yticklabels([])\n",
    "    ax.set_xticks(np.arange(-.5, num_cols, 1), minor=True)\n",
    "    ax.set_yticks(np.arange(-.5, num_rows, 1), minor=True)\n",
    "    ax.grid(which='minor', color='black', linewidth=1)\n",
    "\n",
    "    for i in range(num_rows):\n",
    "        for j in range(num_cols):\n",
    "            ax.text(j, i, matriz[i, j], ha='center', va='center', fontsize=16)\n",
    "\n",
    "    ax.invert_yaxis()\n",
    "    plt.title(\"Política óptima\")\n",
    "    plt.show()\n",
    "\n",
    "# -------------------- MÉTRICAS Y RESULTADOS --------------------\n",
    "\n",
    "def graficar_recompensas(agente):\n",
    "    \"\"\"Grafica la proporción de éxitos por episodio.\"\"\"\n",
    "    plt.figure(figsize=(6, 3))\n",
    "    plt.plot(range(len(agente.stats)), agente.stats)\n",
    "    plt.title('Proporción de recompensas')\n",
    "    plt.xlabel('Episodio')\n",
    "    plt.ylabel('Proporción')\n",
    "    plt.grid(True)\n",
    "    plt.show()\n",
    "\n",
    "def graficar_longitud_episodios(agente):\n",
    "    \"\"\"Grafica la longitud de cada episodio.\"\"\"\n",
    "    plt.plot(agente.episode_lengths)\n",
    "    plt.title(\"Longitud por episodio\")\n",
    "    plt.xlabel(\"Episodio\")\n",
    "    plt.ylabel(\"Longitud\")\n",
    "    plt.grid(True)\n",
    "    plt.show()\n",
    "\n",
    "def mostrar_resultados_agente(agente):\n",
    "    \"\"\"Muestra la política seguida, la Q aprendida y la política óptima.\"\"\"\n",
    "    representar_politica_greedy(agente)\n",
    "    \n",
    "    print(\"\\nTabla Q aprendida:\")\n",
    "    columnas = ['← Izquierda', '↓ Abajo', '→ Derecha', '↑ Arriba']\n",
    "    tabla_q = pd.DataFrame(agente.Q, columns=columnas)\n",
    "    tabla_q.index.name = 'Estado'\n",
    "    display(tabla_q.round(3))\n",
    "\n",
    "    print(\"\\nPolítica óptima aprendida:\")\n",
    "    dibujar_politica_optima(agente)\n"
   ]
  },
  {
   "cell_type": "markdown",
   "id": "25ea2caf-b67a-4dbb-b612-3121e4403f06",
   "metadata": {},
   "source": [
    "# Objeto AgenteMonteCarlo"
   ]
  },
  {
   "cell_type": "code",
   "execution_count": 6,
   "id": "81be454b-f029-4467-b0ab-279f798fce9a",
   "metadata": {
    "execution": {
     "iopub.execute_input": "2025-05-19T13:24:31.844721Z",
     "iopub.status.busy": "2025-05-19T13:24:31.844229Z",
     "iopub.status.idle": "2025-05-19T13:24:31.853664Z",
     "shell.execute_reply": "2025-05-19T13:24:31.852632Z",
     "shell.execute_reply.started": "2025-05-19T13:24:31.844698Z"
    }
   },
   "outputs": [],
   "source": [
    "class AgenteMonteCarloOffPolicy:\n",
    "    def __init__(self, env, epsilon=1.0, discount_factor=1.0):\n",
    "        self.env = env\n",
    "        self.epsilon = epsilon\n",
    "        self.epsilon_ini = epsilon\n",
    "        self.discount_factor = discount_factor\n",
    "        self.nA = env.action_space.n\n",
    "        self.Q = np.zeros([env.observation_space.n, self.nA])\n",
    "        self.C = np.zeros_like(self.Q)  # acumulador de pesos\n",
    "        self.stats = []\n",
    "        self.episode_lengths = []\n",
    "\n",
    "    def entrenar(self, num_episodes=200000, mostrar_barra=True):\n",
    "\n",
    "        random.seed(SEED)\n",
    "        np.random.seed(SEED)\n",
    "\n",
    "        acumulador_recompensas = 0.0\n",
    "\n",
    "        for t in tqdm(range(num_episodes), disable=not mostrar_barra):\n",
    "\n",
    "            state, _ = self.env.reset()\n",
    "            episode = []\n",
    "            done = False\n",
    "\n",
    "            # Generar episodio con política de comportamiento ε-greedy\n",
    "            while not done:\n",
    "                action = seleccionar_accion(self.Q, self.epsilon, state, self.nA)\n",
    "                next_state, reward, terminated, truncated, _ = self.env.step(action)\n",
    "                episode.append((state, action, reward))\n",
    "                state = next_state\n",
    "                done = terminated or truncated\n",
    "\n",
    "            self.episode_lengths.append(len(episode))\n",
    "\n",
    "            G = 0\n",
    "            W = 1.0\n",
    "\n",
    "            # Procesar episodio hacia atrás\n",
    "            for i in reversed(range(len(episode))):\n",
    "                s, a, r = episode[i]\n",
    "                G = self.discount_factor * G + r\n",
    "\n",
    "                self.C[s, a] += W\n",
    "                self.Q[s, a] += (W / self.C[s, a]) * (G - self.Q[s, a])\n",
    "\n",
    "                a_star = np.argmax(self.Q[s])\n",
    "\n",
    "                if a != a_star:\n",
    "                    break\n",
    "\n",
    "                prob_b = self.epsilon / self.nA\n",
    "                prob_b += (1 - self.epsilon) if a == a_star else 0\n",
    "\n",
    "                W *= 1.0 / prob_b\n",
    "                if W == 0:\n",
    "                    break\n",
    "\n",
    "            acumulador_recompensas += G\n",
    "            self.stats.append(acumulador_recompensas / (t + 1))\n",
    "\n",
    "        return self.Q\n"
   ]
  },
  {
   "cell_type": "markdown",
   "id": "72e848e7-90db-4ae5-8d66-8190accfc70b",
   "metadata": {},
   "source": [
    "# Entorno 4X4"
   ]
  },
  {
   "cell_type": "code",
   "execution_count": 4,
   "id": "36dcfdd4-0bed-420b-bd80-0557734cc774",
   "metadata": {
    "execution": {
     "iopub.execute_input": "2025-05-19T13:24:04.830131Z",
     "iopub.status.busy": "2025-05-19T13:24:04.829733Z",
     "iopub.status.idle": "2025-05-19T13:24:04.837549Z",
     "shell.execute_reply": "2025-05-19T13:24:04.836143Z",
     "shell.execute_reply.started": "2025-05-19T13:24:04.830111Z"
    }
   },
   "outputs": [],
   "source": [
    "def evaluar_configuracion(params, map_name):\n",
    "    if isinstance(map_name, str):\n",
    "        env = gym.make(\"FrozenLake-v1\", is_slippery=False, map_name=map_name)\n",
    "    else:\n",
    "        env = gym.make(\"FrozenLake-v1\", is_slippery=False, desc=map_name)\n",
    "    gamma, epsilon = params\n",
    "    agente = AgenteMonteCarloOffPolicy(env, epsilon=epsilon, discount_factor=gamma)\n",
    "    agente.entrenar(num_episodes=20000, mostrar_barra=False)\n",
    "    recompensa_final = agente.stats[-1]\n",
    "    return (gamma, epsilon, recompensa_final)\n",
    "\n",
    "def grid_search(map_name):\n",
    "    # Espacio de búsqueda\n",
    "    gammas = np.linspace(0.1, 1.0, 10)\n",
    "    epsilons = np.linspace(0.1, 1.0, 10)\n",
    "\n",
    "    combinaciones = product(gammas, epsilons)\n",
    "\n",
    "    mejor_config = None\n",
    "    mejor_recompensa = -float('inf')\n",
    "    resultados = []\n",
    "\n",
    "    print(\"🔍 Buscando la mejor combinación de hiperparámetros...\\n\")\n",
    "\n",
    "    with ProcessPoolExecutor() as executor:\n",
    "        futures = [executor.submit(evaluar_configuracion, combo, map_name) for combo in combinaciones]\n",
    "        for future in tqdm(as_completed(futures), total=len(futures), desc=\"Progreso\"):\n",
    "            gamma, epsilon, recompensa = future.result()\n",
    "            resultados.append((gamma, epsilon, recompensa))\n",
    "\n",
    "            if recompensa > mejor_recompensa:\n",
    "                mejor_recompensa = recompensa\n",
    "                mejor_config = (gamma, epsilon)\n",
    "\n",
    "    print(\"\\n✅ Mejor configuración encontrada:\")\n",
    "    print(f\" γ = {mejor_config[0]}, ε = {mejor_config[1]}\")\n",
    "    print(f\"  → Recompensa media final: {mejor_recompensa:.4f}\")"
   ]
  },
  {
   "cell_type": "code",
   "execution_count": 7,
   "id": "9f270f91-51e7-4347-8a7c-e76f22c1d692",
   "metadata": {
    "execution": {
     "iopub.execute_input": "2025-05-19T13:24:34.680500Z",
     "iopub.status.busy": "2025-05-19T13:24:34.679978Z",
     "iopub.status.idle": "2025-05-19T13:28:23.219529Z",
     "shell.execute_reply": "2025-05-19T13:28:23.218628Z",
     "shell.execute_reply.started": "2025-05-19T13:24:34.680477Z"
    }
   },
   "outputs": [
    {
     "name": "stdout",
     "output_type": "stream",
     "text": [
      "🔍 Buscando la mejor combinación de hiperparámetros...\n",
      "\n"
     ]
    },
    {
     "name": "stderr",
     "output_type": "stream",
     "text": [
      "Progreso: 100%|███████████████████████████████████████████████████████████████████████| 100/100 [03:48<00:00,  2.28s/it]"
     ]
    },
    {
     "name": "stdout",
     "output_type": "stream",
     "text": [
      "\n",
      "✅ Mejor configuración encontrada:\n",
      " γ = 1.0, ε = 0.30000000000000004\n",
      "  → Recompensa media final: 0.4728\n"
     ]
    },
    {
     "name": "stderr",
     "output_type": "stream",
     "text": [
      "\n"
     ]
    }
   ],
   "source": [
    "grid_search(\"4x4\")"
   ]
  },
  {
   "cell_type": "code",
   "execution_count": 8,
   "id": "b61b29bf-b801-4299-b68e-85c583dd207f",
   "metadata": {
    "execution": {
     "iopub.execute_input": "2025-05-19T13:32:20.101010Z",
     "iopub.status.busy": "2025-05-19T13:32:20.100407Z",
     "iopub.status.idle": "2025-05-19T13:32:45.865267Z",
     "shell.execute_reply": "2025-05-19T13:32:45.864435Z",
     "shell.execute_reply.started": "2025-05-19T13:32:20.100981Z"
    }
   },
   "outputs": [
    {
     "name": "stderr",
     "output_type": "stream",
     "text": [
      "100%|███████████████████████████████████████████████████████████████████████████| 50000/50000 [00:25<00:00, 1942.00it/s]\n"
     ]
    },
    {
     "data": {
      "text/plain": [
       "array([[0.83027853, 0.99445128, 0.62560038, 0.97768131],\n",
       "       [0.90610371, 0.        , 0.92600717, 0.        ],\n",
       "       [0.72223057, 0.9672692 , 0.97332272, 0.        ],\n",
       "       [0.98016733, 0.        , 1.        , 0.90838142],\n",
       "       [0.79933932, 0.99798843, 0.        , 0.96741749],\n",
       "       [0.        , 0.        , 0.        , 0.        ],\n",
       "       [0.        , 1.        , 0.        , 1.        ],\n",
       "       [0.        , 0.        , 0.        , 0.        ],\n",
       "       [0.92098275, 0.        , 0.99904165, 0.98632463],\n",
       "       [0.99267758, 0.98037815, 0.99988243, 0.        ],\n",
       "       [0.99901644, 0.99984165, 0.        , 0.94815807],\n",
       "       [0.        , 0.        , 0.        , 0.        ],\n",
       "       [0.        , 0.        , 0.        , 0.        ],\n",
       "       [0.        , 0.98680057, 0.99658266, 1.        ],\n",
       "       [0.99797277, 0.99961438, 1.        , 1.        ],\n",
       "       [0.        , 0.        , 0.        , 0.        ]])"
      ]
     },
     "execution_count": 8,
     "metadata": {},
     "output_type": "execute_result"
    }
   ],
   "source": [
    "# Ejecución de ejemplo\n",
    "env_4x4 = gym.make(\"FrozenLake-v1\", is_slippery=False)\n",
    "env_4x4.reset(seed=SEED)\n",
    "agente_4x4 = AgenteMonteCarloOffPolicy(env_4x4, epsilon=0.3, discount_factor=1.0)\n",
    "agente_4x4.entrenar(num_episodes=50000)"
   ]
  },
  {
   "cell_type": "markdown",
   "id": "5f45bc4c-4001-4cc6-b535-3c85808ff65f",
   "metadata": {},
   "source": [
    "# Gráfica de Proporción de aciertos por número de episodios"
   ]
  },
  {
   "cell_type": "code",
   "execution_count": 9,
   "id": "aec87b34-d1e2-47d5-ad38-45cb9a69d5c2",
   "metadata": {
    "execution": {
     "iopub.execute_input": "2025-05-19T13:32:45.866660Z",
     "iopub.status.busy": "2025-05-19T13:32:45.866458Z",
     "iopub.status.idle": "2025-05-19T13:32:46.063281Z",
     "shell.execute_reply": "2025-05-19T13:32:46.061993Z",
     "shell.execute_reply.started": "2025-05-19T13:32:45.866641Z"
    }
   },
   "outputs": [
    {
     "data": {
      "image/png": "[encoded data removed]",
      "text/plain": [
       "<Figure size 600x300 with 1 Axes>"
      ]
     },
     "metadata": {},
     "output_type": "display_data"
    }
   ],
   "source": [
    "graficar_recompensas(agente_4x4)"
   ]
  },
  {
   "cell_type": "markdown",
   "id": "23468f23-69ce-41aa-9ef1-425f8a64577a",
   "metadata": {},
   "source": [
    "# Gráfica de longitud de los episodios"
   ]
  },
  {
   "cell_type": "code",
   "execution_count": 10,
   "id": "387a9af9-4f43-44b0-93fa-bc7bccb21a5a",
   "metadata": {
    "execution": {
     "iopub.execute_input": "2025-05-19T13:32:46.064922Z",
     "iopub.status.busy": "2025-05-19T13:32:46.064468Z",
     "iopub.status.idle": "2025-05-19T13:32:46.298166Z",
     "shell.execute_reply": "2025-05-19T13:32:46.296964Z",
     "shell.execute_reply.started": "2025-05-19T13:32:46.064898Z"
    }
   },
   "outputs": [
    {
     "data": {
      "image/png": "[encoded data removed]",
      "text/plain": [
       "<Figure size 640x480 with 1 Axes>"
      ]
     },
     "metadata": {},
     "output_type": "display_data"
    }
   ],
   "source": [
    "graficar_longitud_episodios(agente_4x4)"
   ]
  },
  {
   "cell_type": "markdown",
   "id": "c41be3c3-cbeb-4ccc-b99e-f18c59d6a1bc",
   "metadata": {},
   "source": [
    "## Interpretación de las gráficas:\n",
    "\n",
    "1. La primera gráfica muestra la proporción acumulada de recompensas por episodio. Se observa una tendencia ascendente que se estabiliza, lo cual indica que el agente ha aprendido una política que mejora progresivamente su rendimiento. La proporción final cercana a 0.5 sugiere que logra alcanzar el objetivo en aproximadamente la mitad de los episodios.\n",
    "\n",
    "2. La segunda gráfica representa la longitud de cada episodio (número de pasos hasta terminar). Inicialmente, el agente necesita más pasos y los episodios son inestables. A medida que aprende, la longitud tiende a estabilizarse y reducirse, lo cual indica que el agente encuentra trayectorias más eficientes o termina el episodio de forma más consistente.\n",
    "\n",
    "Ambas gráficas son complementarias: mientras que una muestra la eficacia del agente, la otra muestra su eficiencia y estabilidad."
   ]
  },
  {
   "cell_type": "code",
   "execution_count": 11,
   "id": "e0f11422-d438-46e9-a88a-d944ecafbce9",
   "metadata": {
    "execution": {
     "iopub.execute_input": "2025-05-19T13:32:46.300104Z",
     "iopub.status.busy": "2025-05-19T13:32:46.299854Z",
     "iopub.status.idle": "2025-05-19T13:32:46.417056Z",
     "shell.execute_reply": "2025-05-19T13:32:46.416106Z",
     "shell.execute_reply.started": "2025-05-19T13:32:46.300083Z"
    }
   },
   "outputs": [
    {
     "data": {
      "text/html": [
       "<table><tr><td><pre style='font-size: 14px'>🤖🧊🧊🧊\n",
       "🧊🕳️🧊🕳️\n",
       "🧊🧊🧊🕳️\n",
       "🕳️🧊🧊🏁\n",
       "</pre></td><td><pre style='font-size: 14px'>🚩🧊🧊🧊\n",
       "🤖🕳️🧊🕳️\n",
       "🧊🧊🧊🕳️\n",
       "🕳️🧊🧊🏁\n",
       "</pre></td><td><pre style='font-size: 14px'>🚩🧊🧊🧊\n",
       "🧊🕳️🧊🕳️\n",
       "🤖🧊🧊🕳️\n",
       "🕳️🧊🧊🏁\n",
       "</pre></td><td><pre style='font-size: 14px'>🚩🧊🧊🧊\n",
       "🧊🕳️🧊🕳️\n",
       "🧊🤖🧊🕳️\n",
       "🕳️🧊🧊🏁\n",
       "</pre></td></tr><tr><td><pre style='font-size: 14px'>🚩🧊🧊🧊\n",
       "🧊🕳️🧊🕳️\n",
       "🧊🧊🤖🕳️\n",
       "🕳️🧊🧊🏁\n",
       "</pre></td><td><pre style='font-size: 14px'>🚩🧊🧊🧊\n",
       "🧊🕳️🧊🕳️\n",
       "🧊🧊🧊🕳️\n",
       "🕳️🧊🤖🏁\n",
       "</pre></td><td><pre style='font-size: 14px'>🚩🧊🧊🧊\n",
       "🧊🕳️🧊🕳️\n",
       "🧊🧊🧊🕳️\n",
       "🕳️🧊🧊🤖\n",
       "</pre></td></tr></table>"
      ],
      "text/plain": [
       "<IPython.core.display.HTML object>"
      ]
     },
     "metadata": {},
     "output_type": "display_data"
    },
    {
     "name": "stdout",
     "output_type": "stream",
     "text": [
      "Recompensa total: 1.0\n",
      "Secuencia de acciones: ['↓', '↓', '→', '→', '↓', '→']\n",
      "\n",
      "Tabla Q aprendida:\n"
     ]
    },
    {
     "data": {
      "text/html": [
       "<div>\n",
       "<style scoped>\n",
       "    .dataframe tbody tr th:only-of-type {\n",
       "        vertical-align: middle;\n",
       "    }\n",
       "\n",
       "    .dataframe tbody tr th {\n",
       "        vertical-align: top;\n",
       "    }\n",
       "\n",
       "    .dataframe thead th {\n",
       "        text-align: right;\n",
       "    }\n",
       "</style>\n",
       "<table border=\"1\" class=\"dataframe\">\n",
       "  <thead>\n",
       "    <tr style=\"text-align: right;\">\n",
       "      <th></th>\n",
       "      <th>← Izquierda</th>\n",
       "      <th>↓ Abajo</th>\n",
       "      <th>→ Derecha</th>\n",
       "      <th>↑ Arriba</th>\n",
       "    </tr>\n",
       "    <tr>\n",
       "      <th>Estado</th>\n",
       "      <th></th>\n",
       "      <th></th>\n",
       "      <th></th>\n",
       "      <th></th>\n",
       "    </tr>\n",
       "  </thead>\n",
       "  <tbody>\n",
       "    <tr>\n",
       "      <th>0</th>\n",
       "      <td>0.830</td>\n",
       "      <td>0.994</td>\n",
       "      <td>0.626</td>\n",
       "      <td>0.978</td>\n",
       "    </tr>\n",
       "    <tr>\n",
       "      <th>1</th>\n",
       "      <td>0.906</td>\n",
       "      <td>0.000</td>\n",
       "      <td>0.926</td>\n",
       "      <td>0.000</td>\n",
       "    </tr>\n",
       "    <tr>\n",
       "      <th>2</th>\n",
       "      <td>0.722</td>\n",
       "      <td>0.967</td>\n",
       "      <td>0.973</td>\n",
       "      <td>0.000</td>\n",
       "    </tr>\n",
       "    <tr>\n",
       "      <th>3</th>\n",
       "      <td>0.980</td>\n",
       "      <td>0.000</td>\n",
       "      <td>1.000</td>\n",
       "      <td>0.908</td>\n",
       "    </tr>\n",
       "    <tr>\n",
       "      <th>4</th>\n",
       "      <td>0.799</td>\n",
       "      <td>0.998</td>\n",
       "      <td>0.000</td>\n",
       "      <td>0.967</td>\n",
       "    </tr>\n",
       "    <tr>\n",
       "      <th>5</th>\n",
       "      <td>0.000</td>\n",
       "      <td>0.000</td>\n",
       "      <td>0.000</td>\n",
       "      <td>0.000</td>\n",
       "    </tr>\n",
       "    <tr>\n",
       "      <th>6</th>\n",
       "      <td>0.000</td>\n",
       "      <td>1.000</td>\n",
       "      <td>0.000</td>\n",
       "      <td>1.000</td>\n",
       "    </tr>\n",
       "    <tr>\n",
       "      <th>7</th>\n",
       "      <td>0.000</td>\n",
       "      <td>0.000</td>\n",
       "      <td>0.000</td>\n",
       "      <td>0.000</td>\n",
       "    </tr>\n",
       "    <tr>\n",
       "      <th>8</th>\n",
       "      <td>0.921</td>\n",
       "      <td>0.000</td>\n",
       "      <td>0.999</td>\n",
       "      <td>0.986</td>\n",
       "    </tr>\n",
       "    <tr>\n",
       "      <th>9</th>\n",
       "      <td>0.993</td>\n",
       "      <td>0.980</td>\n",
       "      <td>1.000</td>\n",
       "      <td>0.000</td>\n",
       "    </tr>\n",
       "    <tr>\n",
       "      <th>10</th>\n",
       "      <td>0.999</td>\n",
       "      <td>1.000</td>\n",
       "      <td>0.000</td>\n",
       "      <td>0.948</td>\n",
       "    </tr>\n",
       "    <tr>\n",
       "      <th>11</th>\n",
       "      <td>0.000</td>\n",
       "      <td>0.000</td>\n",
       "      <td>0.000</td>\n",
       "      <td>0.000</td>\n",
       "    </tr>\n",
       "    <tr>\n",
       "      <th>12</th>\n",
       "      <td>0.000</td>\n",
       "      <td>0.000</td>\n",
       "      <td>0.000</td>\n",
       "      <td>0.000</td>\n",
       "    </tr>\n",
       "    <tr>\n",
       "      <th>13</th>\n",
       "      <td>0.000</td>\n",
       "      <td>0.987</td>\n",
       "      <td>0.997</td>\n",
       "      <td>1.000</td>\n",
       "    </tr>\n",
       "    <tr>\n",
       "      <th>14</th>\n",
       "      <td>0.998</td>\n",
       "      <td>1.000</td>\n",
       "      <td>1.000</td>\n",
       "      <td>1.000</td>\n",
       "    </tr>\n",
       "    <tr>\n",
       "      <th>15</th>\n",
       "      <td>0.000</td>\n",
       "      <td>0.000</td>\n",
       "      <td>0.000</td>\n",
       "      <td>0.000</td>\n",
       "    </tr>\n",
       "  </tbody>\n",
       "</table>\n",
       "</div>"
      ],
      "text/plain": [
       "        ← Izquierda  ↓ Abajo  → Derecha  ↑ Arriba\n",
       "Estado                                           \n",
       "0             0.830    0.994      0.626     0.978\n",
       "1             0.906    0.000      0.926     0.000\n",
       "2             0.722    0.967      0.973     0.000\n",
       "3             0.980    0.000      1.000     0.908\n",
       "4             0.799    0.998      0.000     0.967\n",
       "5             0.000    0.000      0.000     0.000\n",
       "6             0.000    1.000      0.000     1.000\n",
       "7             0.000    0.000      0.000     0.000\n",
       "8             0.921    0.000      0.999     0.986\n",
       "9             0.993    0.980      1.000     0.000\n",
       "10            0.999    1.000      0.000     0.948\n",
       "11            0.000    0.000      0.000     0.000\n",
       "12            0.000    0.000      0.000     0.000\n",
       "13            0.000    0.987      0.997     1.000\n",
       "14            0.998    1.000      1.000     1.000\n",
       "15            0.000    0.000      0.000     0.000"
      ]
     },
     "metadata": {},
     "output_type": "display_data"
    },
    {
     "name": "stdout",
     "output_type": "stream",
     "text": [
      "\n",
      "Política óptima aprendida:\n"
     ]
    },
    {
     "data": {
      "image/png": "[encoded data removed]",
      "text/plain": [
       "<Figure size 400x400 with 1 Axes>"
      ]
     },
     "metadata": {},
     "output_type": "display_data"
    }
   ],
   "source": [
    "mostrar_resultados_agente(agente_4x4)"
   ]
  },
  {
   "cell_type": "markdown",
   "id": "3c14d823-59c1-4791-a525-509d7f945d88",
   "metadata": {},
   "source": [
    "# Entorno 8x8"
   ]
  },
  {
   "cell_type": "code",
   "execution_count": 12,
   "id": "729d0349-6410-4b1f-8884-8e25d99dbc7a",
   "metadata": {
    "execution": {
     "iopub.execute_input": "2025-05-19T13:32:46.419298Z",
     "iopub.status.busy": "2025-05-19T13:32:46.418285Z",
     "iopub.status.idle": "2025-05-19T13:48:01.993961Z",
     "shell.execute_reply": "2025-05-19T13:48:01.992978Z",
     "shell.execute_reply.started": "2025-05-19T13:32:46.419254Z"
    }
   },
   "outputs": [
    {
     "name": "stdout",
     "output_type": "stream",
     "text": [
      "🔍 Buscando la mejor combinación de hiperparámetros...\n",
      "\n"
     ]
    },
    {
     "name": "stderr",
     "output_type": "stream",
     "text": [
      "Progreso: 100%|███████████████████████████████████████████████████████████████████████| 100/100 [15:15<00:00,  9.15s/it]"
     ]
    },
    {
     "name": "stdout",
     "output_type": "stream",
     "text": [
      "\n",
      "✅ Mejor configuración encontrada:\n",
      " γ = 1.0, ε = 1.0\n",
      "  → Recompensa media final: 0.0016\n"
     ]
    },
    {
     "name": "stderr",
     "output_type": "stream",
     "text": [
      "\n"
     ]
    }
   ],
   "source": [
    "grid_search(\"8x8\")"
   ]
  },
  {
   "cell_type": "code",
   "execution_count": null,
   "id": "8a6eae31-a4ad-4755-bec6-b04a4be6a5da",
   "metadata": {},
   "outputs": [],
   "source": [
    "# Ejecución de ejemplo\n",
    "env_8x8 = gym.make(\"FrozenLake-v1\", is_slippery=False, map_name=\"8x8\")\n",
    "env_8x8.reset(seed=SEED)\n",
    "agente_8x8 = AgenteMonteCarloOffPolicy(env_8x8, decay=False, epsilon=1.0, discount_factor=1.0)\n",
    "agente_8x8.entrenar(num_episodes=50000)"
   ]
  },
  {
   "cell_type": "code",
   "execution_count": null,
   "id": "91ffc416-d029-4ee2-97c3-f711c4e0a14e",
   "metadata": {},
   "outputs": [],
   "source": [
    "graficar_recompensas(agente_8x8)"
   ]
  },
  {
   "cell_type": "code",
   "execution_count": null,
   "id": "a612e365-90dd-4c60-bfef-c64a6e442b1e",
   "metadata": {},
   "outputs": [],
   "source": [
    "graficar_longitud_episodios(agente_8x8)"
   ]
  },
  {
   "cell_type": "code",
   "execution_count": null,
   "id": "414d4394-691e-4a14-8795-ec2fd5187e03",
   "metadata": {},
   "outputs": [],
   "source": [
    "mostrar_resultados_agente(agente_8x8)"
   ]
  },
  {
   "cell_type": "code",
   "execution_count": null,
   "id": "a548d70b-ef39-4847-b439-3ad6b34efed6",
   "metadata": {},
   "outputs": [],
   "source": []
  }
 ],
 "metadata": {
  "kernelspec": {
   "display_name": "Python 3 (ipykernel)",
   "language": "python",
   "name": "python3"
  },
  "language_info": {
   "codemirror_mode": {
    "name": "ipython",
    "version": 3
   },
   "file_extension": ".py",
   "mimetype": "text/x-python",
   "name": "python",
   "nbconvert_exporter": "python",
   "pygments_lexer": "ipython3",
   "version": "3.10.12"
  }
 },
 "nbformat": 4,
 "nbformat_minor": 5
}
