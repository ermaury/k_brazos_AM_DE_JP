{
 "cells": [
  {
   "cell_type": "code",
   "execution_count": 1,
   "id": "aaaaa489",
   "metadata": {
    "execution": {
     "iopub.execute_input": "2025-05-25T01:41:23.632167Z",
     "iopub.status.busy": "2025-05-25T01:41:23.631859Z",
     "iopub.status.idle": "2025-05-25T01:41:37.894791Z",
     "shell.execute_reply": "2025-05-25T01:41:37.893881Z",
     "shell.execute_reply.started": "2025-05-25T01:41:23.632141Z"
    }
   },
   "outputs": [
    {
     "name": "stdout",
     "output_type": "stream",
     "text": [
      "Requirement already satisfied: gymnasium in /home/user/miniconda3/envs/cvenv/lib/python3.10/site-packages (1.1.1)\n",
      "Requirement already satisfied: numpy>=1.21.0 in /home/user/miniconda3/envs/cvenv/lib/python3.10/site-packages (from gymnasium) (1.24.1)\n",
      "Requirement already satisfied: cloudpickle>=1.2.0 in /home/user/miniconda3/envs/cvenv/lib/python3.10/site-packages (from gymnasium) (3.0.0)\n",
      "Requirement already satisfied: typing-extensions>=4.3.0 in /home/user/miniconda3/envs/cvenv/lib/python3.10/site-packages (from gymnasium) (4.8.0)\n",
      "Requirement already satisfied: farama-notifications>=0.0.1 in /home/user/miniconda3/envs/cvenv/lib/python3.10/site-packages (from gymnasium) (0.0.4)\n",
      "Requirement already satisfied: pygame in /home/user/miniconda3/envs/cvenv/lib/python3.10/site-packages (2.6.1)\n"
     ]
    }
   ],
   "source": [
    "!pip install gymnasium\n",
    "!pip install pygame"
   ]
  },
  {
   "cell_type": "markdown",
   "id": "b2996c1a",
   "metadata": {},
   "source": [
    "# Carga y exploración de un entorno de Gymnasium"
   ]
  },
  {
   "cell_type": "code",
   "execution_count": 19,
   "id": "83f1e201",
   "metadata": {
    "execution": {
     "iopub.execute_input": "2025-06-02T20:57:48.116692Z",
     "iopub.status.busy": "2025-06-02T20:57:48.116475Z",
     "iopub.status.idle": "2025-06-02T20:57:48.129492Z",
     "shell.execute_reply": "2025-06-02T20:57:48.128670Z",
     "shell.execute_reply.started": "2025-06-02T20:57:48.116674Z"
    }
   },
   "outputs": [],
   "source": [
    "import gymnasium as gym\n",
    "import numpy as np\n",
    "import time\n",
    "from IPython.display import clear_output, display, HTML\n",
    "import matplotlib.pyplot as plt\n",
    "from tqdm import tqdm\n",
    "import pandas as pd\n",
    "import random\n",
    "from itertools import product\n",
    "from concurrent.futures import ProcessPoolExecutor, as_completed\n",
    "import imageio\n",
    "from IPython.display import HTML\n",
    "import pickle\n",
    "\n",
    "SEED = 42\n",
    "\n",
    "def guardar_agente(agente, ruta_archivo=\"agente_sarsa_rbf.pkl\"):\n",
    "    \"\"\"Guarda el agente AgenteSARSARBF en un archivo pickle.\"\"\"\n",
    "    datos = {\n",
    "        \"alpha\": agente.alpha,\n",
    "        \"gamma\": agente.gamma,\n",
    "        \"epsilon\": agente.epsilon,\n",
    "        \"decay\": agente.decay,\n",
    "        \"num_centers\": agente.rbf.num_centers,\n",
    "        \"sigma\": agente.rbf.sigma,\n",
    "        \"theta\": agente.theta,\n",
    "        \"stats\": agente.stats,\n",
    "        \"episode_lengths\": agente.episode_lengths,\n",
    "        \"low\": agente.low,\n",
    "        \"high\": agente.high\n",
    "    }\n",
    "    with open(ruta_archivo, \"wb\") as f:\n",
    "        pickle.dump(datos, f)\n",
    "\n",
    "def cargar_agente(ruta_archivo=\"agente_sarsa_rbf.pkl\"):\n",
    "    \"\"\"Carga un agente AgenteSARSARBF desde un archivo pickle.\"\"\"\n",
    "    with open(ruta_archivo, \"rb\") as f:\n",
    "        datos = pickle.load(f)\n",
    "\n",
    "    env = gym.make(\"MountainCar-v0\")\n",
    "    env.reset(seed=SEED)\n",
    "\n",
    "    agente = AgenteSARSARBF(\n",
    "        env,\n",
    "        alpha=datos[\"alpha\"],\n",
    "        gamma=datos[\"gamma\"],\n",
    "        epsilon=datos[\"epsilon\"],\n",
    "        decay=datos[\"decay\"],\n",
    "        num_centers=tuple(datos[\"num_centers\"]),\n",
    "        sigma=datos[\"sigma\"]\n",
    "    )\n",
    "\n",
    "    # Restaurar parámetros\n",
    "    agente.theta = datos[\"theta\"]\n",
    "    agente.stats = datos[\"stats\"]\n",
    "    agente.episode_lengths = datos[\"episode_lengths\"]\n",
    "    agente.low = datos[\"low\"]\n",
    "    agente.high = datos[\"high\"]\n",
    "\n",
    "    return agente\n",
    "\n",
    "# -------------------- VISUALIZACIÓN DE RESULTADOS --------------------\n",
    "\n",
    "def graficar_recompensas(agente):\n",
    "    \"\"\"Grafica la recompensa media acumulada por episodio.\"\"\"\n",
    "    plt.figure(figsize=(6, 3))\n",
    "    plt.plot(agente.stats)\n",
    "    plt.title('Recompensa media acumulada')\n",
    "    plt.xlabel('Episodio')\n",
    "    plt.ylabel('Recompensa media')\n",
    "    plt.grid(True)\n",
    "    plt.show()\n",
    "\n",
    "def graficar_longitud_episodios(agente):\n",
    "    \"\"\"Grafica la longitud de cada episodio.\"\"\"\n",
    "    plt.figure(figsize=(6, 3))\n",
    "    plt.plot(agente.episode_lengths)\n",
    "    plt.title(\"Longitud de episodios\")\n",
    "    plt.xlabel(\"Episodio\")\n",
    "    plt.ylabel(\"Pasos\")\n",
    "    plt.grid(True)\n",
    "    plt.show()\n",
    "\n",
    "def mostrar_resultados_agente_continuo(agente):\n",
    "    \"\"\"Muestra gráficos de rendimiento en entornos continuos.\"\"\"\n",
    "    graficar_recompensas(agente)\n",
    "    graficar_longitud_episodios(agente)\n",
    "\n",
    "# -------------------- EJECUCIÓN DE UN EPISODIO --------------------\n",
    "\n",
    "def ejecutar_episodio_y_mostrar(agente, render=False):\n",
    "    \"\"\"Ejecuta un episodio con la política aprendida y muestra la evolución de la posición.\"\"\"\n",
    "    env = agente.env\n",
    "    state, _ = env.reset()\n",
    "\n",
    "    random.seed(SEED)\n",
    "    np.random.seed(SEED)\n",
    "    \n",
    "    done = False\n",
    "    total_reward = 0\n",
    "    posiciones = []\n",
    "\n",
    "    while not done:\n",
    "        if render:\n",
    "            env.render()\n",
    "        posiciones.append(state[0])  # Guardamos la posición del coche\n",
    "        action = agente.seleccionar_accion(state)\n",
    "        state, reward, terminated, truncated, _ = env.step(action)\n",
    "        done = terminated or truncated\n",
    "        total_reward += reward\n",
    "\n",
    "    env.close()\n",
    "    \n",
    "    # Mostrar gráfico de posiciones\n",
    "    plt.figure(figsize=(6, 3))\n",
    "    plt.plot(posiciones)\n",
    "    plt.title(\"Evolución de la posición del coche\")\n",
    "    plt.xlabel(\"Paso del episodio\")\n",
    "    plt.ylabel(\"Posición\")\n",
    "    plt.grid(True)\n",
    "    plt.show()\n",
    "    \n",
    "    print(f\"Recompensa total obtenida: {total_reward:.2f}\")\n",
    "\n",
    "# -------------------- EVALUACIÓN DE LA POLÍTICA --------------------\n",
    "\n",
    "def evaluar_politica(agente, num_episodios=100):\n",
    "    \"\"\"Evalúa la política del agente ejecutando múltiples episodios y muestra estadísticas.\"\"\"\n",
    "\n",
    "    env = agente.env\n",
    "    recompensas = []\n",
    "    longitudes = []\n",
    "    semillas_fallidas = []\n",
    "\n",
    "    for i in range(num_episodios):\n",
    "        random.seed(i)\n",
    "        np.random.seed(i)\n",
    "        env.action_space.seed(i)\n",
    "        state, _ = env.reset(seed=i)\n",
    "        done = False\n",
    "        total_reward = 0\n",
    "        posiciones = []\n",
    "        pasos = 0\n",
    "\n",
    "        terminated = False\n",
    "        truncated = False\n",
    "        \n",
    "        while not done:\n",
    "            posiciones.append(state[0])\n",
    "            action = agente.seleccionar_accion_greedy(state)\n",
    "            state, reward, terminated, truncated, _ = env.step(action)\n",
    "            done = terminated or truncated\n",
    "            total_reward += reward\n",
    "            pasos += 1\n",
    "\n",
    "            if truncated:\n",
    "                semillas_fallidas.append(i)\n",
    "\n",
    "        recompensas.append(total_reward)\n",
    "        longitudes.append(pasos)\n",
    "        \n",
    "        env.close()\n",
    "\n",
    "    # Resumen estadístico\n",
    "    print(\"📊 Resultados de evaluación:\")\n",
    "    print(f\"  Episodios evaluados: {num_episodios}\")\n",
    "    print(f\"  Recompensa media:    {np.mean(recompensas):.2f} ± {np.std(recompensas):.2f}\")\n",
    "    print(f\"  Recompensa min/max:  {np.max(recompensas):.2f} / {np.min(recompensas):.2f}\")\n",
    "\n",
    "    print(f\"  Episodios exitosos:  {num_episodios - len(semillas_fallidas)}\")\n",
    "    print(f\"  Episodios fallidos:  {len(semillas_fallidas)}\")\n",
    "    print(f\"  Semillas fallidas: {semillas_fallidas}\")\n",
    "\n"
   ]
  },
  {
   "cell_type": "markdown",
   "id": "557a19ac",
   "metadata": {},
   "source": [
    "# Objeto AgenteSARSA-SemiGradiente con RBF"
   ]
  },
  {
   "cell_type": "code",
   "execution_count": 7,
   "id": "e9b7d98f",
   "metadata": {
    "execution": {
     "iopub.execute_input": "2025-06-02T19:38:16.393358Z",
     "iopub.status.busy": "2025-06-02T19:38:16.392874Z",
     "iopub.status.idle": "2025-06-02T19:38:16.432916Z",
     "shell.execute_reply": "2025-06-02T19:38:16.431785Z",
     "shell.execute_reply.started": "2025-06-02T19:38:16.393331Z"
    }
   },
   "outputs": [],
   "source": [
    "import numpy as np\n",
    "import random\n",
    "from tqdm import tqdm\n",
    "\n",
    "class RBFBasisFunctions:\n",
    "    def __init__(self, low, high, num_centers=(5, 5), sigma=0.5):\n",
    "        self.low = np.array(low)\n",
    "        self.high = np.array(high)\n",
    "        self.num_centers = np.array(num_centers)\n",
    "        self.sigma = sigma\n",
    "\n",
    "        # Normalizar límites para trabajar en [0, 1]\n",
    "        self.range = self.high - self.low\n",
    "\n",
    "        # Crear centros normalizados en grilla regular\n",
    "        pos_centers = np.linspace(0, 1, num_centers[0])\n",
    "        vel_centers = np.linspace(0, 1, num_centers[1])\n",
    "        self.centers = np.array([[p, v] for p in pos_centers for v in vel_centers])\n",
    "\n",
    "        self.num_features = len(self.centers)\n",
    "\n",
    "    def normalize_state(self, state):\n",
    "        return (np.array(state) - self.low) / self.range\n",
    "\n",
    "    def get_features(self, state):\n",
    "        state = self.normalize_state(state)\n",
    "        features = np.exp(-np.sum((state - self.centers) ** 2, axis=1) / (2 * self.sigma ** 2))\n",
    "        return features\n",
    "\n",
    "\n",
    "class AgenteSARSARBF:\n",
    "    def __init__(self, env, alpha=0.1, gamma=0.99, epsilon=1.0, decay=True, num_centers=(5, 5), sigma=0.5):\n",
    "        self.env = env\n",
    "        self.alpha = alpha\n",
    "        self.gamma = gamma\n",
    "        self.epsilon = epsilon\n",
    "        self.decay = decay\n",
    "\n",
    "        self.nA = env.action_space.n\n",
    "        self.low = env.observation_space.low\n",
    "        self.high = env.observation_space.high\n",
    "\n",
    "        self.rbf = RBFBasisFunctions(self.low, self.high, num_centers, sigma)\n",
    "        self.d = self.rbf.num_features\n",
    "        self.theta = np.zeros((self.nA, self.d))\n",
    "\n",
    "        self.stats = []\n",
    "        self.episode_lengths = []\n",
    "\n",
    "    def _phi(self, state):\n",
    "        return self.rbf.get_features(state)\n",
    "\n",
    "    def _Q(self, state, action):\n",
    "        return np.dot(self.theta[action], self._phi(state))\n",
    "\n",
    "    def _epsilon_soft_policy_rbf(self, state):\n",
    "        q_values = np.array([self._Q(state, a) for a in range(self.nA)])\n",
    "        q_values = np.nan_to_num(q_values)\n",
    "\n",
    "        policy = np.ones(self.nA) * self.epsilon / self.nA\n",
    "        best_action = np.argmax(q_values)\n",
    "        policy[best_action] += 1.0 - self.epsilon\n",
    "        policy = np.clip(policy, 0, 1)\n",
    "        return policy / policy.sum() if policy.sum() > 0 else np.ones(self.nA) / self.nA\n",
    "\n",
    "    def seleccionar_accion(self, state):\n",
    "        \"\"\"Selecciona una acción usando la política epsilon-soft explícita.\"\"\"\n",
    "        policy = self._epsilon_soft_policy_rbf(state)\n",
    "        return np.random.choice(np.arange(self.nA), p=policy)\n",
    "\n",
    "    def seleccionar_accion_greedy(self, state):\n",
    "        \"\"\"Selecciona una acción usando la política greedy.\"\"\"\n",
    "        q_values = [self._Q(state, a) for a in range(self.nA)]\n",
    "        action = np.argmax(q_values)\n",
    "        return action\n",
    "\n",
    "\n",
    "    def entrenar(self, num_episodes=5000, mostrar_barra=True, seed=42):\n",
    "        random.seed(seed)\n",
    "        np.random.seed(seed)\n",
    "        acumulador_recompensas = 0.0\n",
    "\n",
    "        for t in tqdm(range(num_episodes), disable=not mostrar_barra):\n",
    "            if self.decay:\n",
    "                self.epsilon = max(0.05, 1000.0 / (t + 1))\n",
    "\n",
    "            state, _ = self.env.reset()\n",
    "            action = self.seleccionar_accion(state)\n",
    "            done = False\n",
    "            total_reward = 0\n",
    "            pasos = 0\n",
    "\n",
    "            while not done:\n",
    "                next_state, reward, terminated, truncated, _ = self.env.step(action)\n",
    "                done = terminated or truncated\n",
    "                next_action = self.seleccionar_accion(next_state)\n",
    "\n",
    "                phi = self._phi(state)\n",
    "                q_current = self._Q(state, action)\n",
    "                q_next = self._Q(next_state, next_action) if not done else 0.0\n",
    "                delta = reward + self.gamma * q_next - q_current\n",
    "\n",
    "                if not np.isnan(delta) and not np.isinf(delta):\n",
    "                    self.theta[action] += self.alpha * delta * phi\n",
    "                    self.theta[action] = np.clip(self.theta[action], -1e3, 1e3)\n",
    "\n",
    "                state = next_state\n",
    "                action = next_action\n",
    "                total_reward += reward\n",
    "                pasos += 1\n",
    "\n",
    "            self.episode_lengths.append(pasos)\n",
    "            acumulador_recompensas += total_reward\n",
    "            self.stats.append(acumulador_recompensas / (t + 1))"
   ]
  },
  {
   "cell_type": "code",
   "execution_count": 8,
   "id": "835d2873",
   "metadata": {
    "execution": {
     "iopub.execute_input": "2025-06-02T19:38:16.890765Z",
     "iopub.status.busy": "2025-06-02T19:38:16.890474Z",
     "iopub.status.idle": "2025-06-02T19:38:16.911351Z",
     "shell.execute_reply": "2025-06-02T19:38:16.910569Z",
     "shell.execute_reply.started": "2025-06-02T19:38:16.890740Z"
    }
   },
   "outputs": [],
   "source": [
    "def evaluar_configuracion(params, env_name=\"MountainCar-v0\"):\n",
    "    alpha, gamma, epsilon, decay, num_centers, sigma = params\n",
    "    env = gym.make(env_name)\n",
    "    agente = AgenteSARSARBF(\n",
    "        env,\n",
    "        alpha=alpha,\n",
    "        gamma=gamma,\n",
    "        epsilon=epsilon,\n",
    "        decay=decay,\n",
    "        num_centers=num_centers,\n",
    "        sigma=sigma\n",
    "    )\n",
    "    agente.entrenar(num_episodes=5000, mostrar_barra=False)\n",
    "    recompensa_final = np.mean(agente.stats[-100:])  # Media últimos 100 episodios\n",
    "    return (alpha, gamma, epsilon, decay, num_centers, sigma, recompensa_final)\n",
    "\n",
    "def random_search_rbf(env_name=\"MountainCar-v0\", n_configs=100, seed=42):\n",
    "    # Espacios de búsqueda\n",
    "    alphas = [0.01, 0.05, 0.1]\n",
    "    gammas = np.linspace(0.8, 1.0, 5)\n",
    "    epsilons = np.linspace(0.1, 1.0, 5)\n",
    "    num_centers_list = [(5, 5), (7, 7), (9, 9)]\n",
    "    sigmas = [0.2, 0.5, 0.7]\n",
    "    decays = [True, False]\n",
    "\n",
    "    # Combinaciones posibles y aleatorias\n",
    "    combinaciones = list(product(alphas, gammas, epsilons, decays, num_centers_list, sigmas))\n",
    "    np.random.seed(seed)\n",
    "    seleccionadas = np.random.choice(len(combinaciones), size=min(n_configs, len(combinaciones)), replace=False)\n",
    "    combinaciones_random = [combinaciones[i] for i in seleccionadas]\n",
    "\n",
    "    mejor_config = None\n",
    "    mejor_recompensa = -float(\"inf\")\n",
    "    resultados = []\n",
    "\n",
    "    print(\"🔍 Ejecutando búsqueda paralela de hiperparámetros (SARSA-RBF)...\\n\")\n",
    "\n",
    "    with ProcessPoolExecutor() as executor:\n",
    "        futures = [executor.submit(evaluar_configuracion, combo, env_name) for combo in combinaciones_random]\n",
    "        for future in tqdm(as_completed(futures), total=len(futures), desc=\"Progreso\"):\n",
    "            alpha, gamma, epsilon, decay, num_centers, sigma, recompensa = future.result()\n",
    "            resultados.append((alpha, gamma, epsilon, decay, num_centers, sigma, recompensa))\n",
    "\n",
    "            if recompensa > mejor_recompensa:\n",
    "                mejor_recompensa = recompensa\n",
    "                mejor_config = (alpha, gamma, epsilon, decay, num_centers, sigma)\n",
    "\n",
    "    print(\"\\n✅ Mejor configuración encontrada:\")\n",
    "    print(f\" α = {mejor_config[0]}, γ = {mejor_config[1]}, ε = {mejor_config[2]}, decay = {mejor_config[3]}\")\n",
    "    print(f\" num_centers = {mejor_config[4]}, sigma = {mejor_config[5]}\")\n",
    "    print(f\" → Recompensa media final: {mejor_recompensa:.4f}\")"
   ]
  },
  {
   "cell_type": "code",
   "execution_count": null,
   "id": "82710e46",
   "metadata": {},
   "outputs": [],
   "source": [
    "random_search_rbf()"
   ]
  },
  {
   "cell_type": "code",
   "execution_count": 10,
   "id": "a5c07a40",
   "metadata": {
    "execution": {
     "iopub.execute_input": "2025-06-02T19:43:44.199065Z",
     "iopub.status.busy": "2025-06-02T19:43:44.189136Z",
     "iopub.status.idle": "2025-06-02T20:07:55.431006Z",
     "shell.execute_reply": "2025-06-02T20:07:55.429113Z",
     "shell.execute_reply.started": "2025-06-02T19:43:44.198986Z"
    }
   },
   "outputs": [
    {
     "name": "stderr",
     "output_type": "stream",
     "text": [
      "100%|█████████████████████████████████████████████████████████████████████████████| 10000/10000 [24:11<00:00,  6.89it/s]\n"
     ]
    }
   ],
   "source": [
    "# Ejecución de ejemplo\n",
    "env = gym.make(\"MountainCar-v0\")\n",
    "env.reset(seed=SEED)\n",
    "agente = AgenteSARSARBF(env, alpha=0.01, gamma=1.0, epsilon=1.0, num_centers=(9, 9), sigma=0.2, decay=True)\n",
    "agente.entrenar(num_episodes=10000)"
   ]
  },
  {
   "cell_type": "code",
   "execution_count": 20,
   "id": "cd6583f7-fa62-41a6-8708-b762a1a4a652",
   "metadata": {
    "execution": {
     "iopub.execute_input": "2025-06-02T20:57:51.855392Z",
     "iopub.status.busy": "2025-06-02T20:57:51.854949Z",
     "iopub.status.idle": "2025-06-02T20:57:51.861913Z",
     "shell.execute_reply": "2025-06-02T20:57:51.861079Z",
     "shell.execute_reply.started": "2025-06-02T20:57:51.855371Z"
    }
   },
   "outputs": [],
   "source": [
    "guardar_agente(agente)"
   ]
  },
  {
   "cell_type": "code",
   "execution_count": 27,
   "id": "77850224-27b5-405b-9258-60281eac4749",
   "metadata": {
    "execution": {
     "iopub.execute_input": "2025-06-03T05:53:18.390373Z",
     "iopub.status.busy": "2025-06-03T05:53:18.388583Z",
     "iopub.status.idle": "2025-06-03T05:53:18.434895Z",
     "shell.execute_reply": "2025-06-03T05:53:18.433486Z",
     "shell.execute_reply.started": "2025-06-03T05:53:18.390185Z"
    }
   },
   "outputs": [],
   "source": [
    "agent = cargar_agente(\"agente_sarsa_rbf.pkl\")"
   ]
  },
  {
   "cell_type": "markdown",
   "id": "4f86e0b1",
   "metadata": {},
   "source": [
    "# Resultados de agente SARSA SemiGradiente con RBF"
   ]
  },
  {
   "cell_type": "code",
   "execution_count": 28,
   "id": "adf54fd0",
   "metadata": {
    "execution": {
     "iopub.execute_input": "2025-06-03T05:53:20.553397Z",
     "iopub.status.busy": "2025-06-03T05:53:20.552946Z",
     "iopub.status.idle": "2025-06-03T05:53:20.952716Z",
     "shell.execute_reply": "2025-06-03T05:53:20.951796Z",
     "shell.execute_reply.started": "2025-06-03T05:53:20.553378Z"
    }
   },
   "outputs": [
    {
     "data": {
      "image/png": "[encoded data removed]",
      "text/plain": [
       "<Figure size 600x300 with 1 Axes>"
      ]
     },
     "metadata": {},
     "output_type": "display_data"
    },
    {
     "data": {
      "image/png": "[encoded data removed]",
      "text/plain": [
       "<Figure size 600x300 with 1 Axes>"
      ]
     },
     "metadata": {},
     "output_type": "display_data"
    }
   ],
   "source": [
    "mostrar_resultados_agente_continuo(agent)"
   ]
  },
  {
   "cell_type": "code",
   "execution_count": 29,
   "id": "c20170c5",
   "metadata": {
    "execution": {
     "iopub.execute_input": "2025-06-03T05:53:23.224561Z",
     "iopub.status.busy": "2025-06-03T05:53:23.224144Z",
     "iopub.status.idle": "2025-06-03T05:55:44.412212Z",
     "shell.execute_reply": "2025-06-03T05:55:44.411379Z",
     "shell.execute_reply.started": "2025-06-03T05:53:23.224540Z"
    }
   },
   "outputs": [
    {
     "name": "stdout",
     "output_type": "stream",
     "text": [
      "📊 Resultados de evaluación:\n",
      "  Episodios evaluados: 10000\n",
      "  Recompensa media:    -150.10 ± 16.42\n",
      "  Recompensa min/max:  -108.00 / -191.00\n",
      "  Episodios exitosos:  10000\n",
      "  Episodios fallidos:  0\n",
      "  Semillas fallidas: []\n"
     ]
    }
   ],
   "source": [
    "evaluar_politica(agent, num_episodios=10000)"
   ]
  },
  {
   "cell_type": "code",
   "execution_count": 24,
   "id": "a54ee9ed",
   "metadata": {
    "execution": {
     "iopub.execute_input": "2025-06-02T21:25:00.415176Z",
     "iopub.status.busy": "2025-06-02T21:25:00.414360Z",
     "iopub.status.idle": "2025-06-02T21:25:00.421428Z",
     "shell.execute_reply": "2025-06-02T21:25:00.420498Z",
     "shell.execute_reply.started": "2025-06-02T21:25:00.415151Z"
    }
   },
   "outputs": [],
   "source": [
    "def grabar_video_agente(agente, seed, nombre_archivo=\"video_mountaincar.gif\", fps=30):\n",
    "    \"\"\"\n",
    "    Ejecuta un episodio con la política aprendida y guarda un video del entorno.\n",
    "    \"\"\"\n",
    "\n",
    "    random.seed(seed)\n",
    "    np.random.seed(seed)\n",
    "\n",
    "    # Crear entorno con renderizado de imágenes\n",
    "    env = gym.make(\"MountainCar-v0\", render_mode=\"rgb_array\")\n",
    "    state, _ = env.reset(seed=seed)\n",
    "    done = False\n",
    "    total_reward = 0\n",
    "    frames = []\n",
    "\n",
    "    while not done:\n",
    "        frame = env.render()\n",
    "        frames.append(frame)\n",
    "\n",
    "        action = agente.seleccionar_accion_greedy(state)\n",
    "        state, reward, terminated, truncated, _ = env.step(action)\n",
    "        done = terminated or truncated\n",
    "        total_reward += reward\n",
    "\n",
    "        if done:\n",
    "            break\n",
    "\n",
    "    env.close()\n",
    "\n",
    "    print(f\"Número total de frames: {len(frames)}\")\n",
    "    # Guardar el video como GIF\n",
    "    imageio.mimsave(nombre_archivo, frames, fps=fps, loop=0)\n",
    "    print(f\"🎥 Vídeo guardado en: {nombre_archivo}\")\n",
    "    print(f\"🏁 Recompensa total obtenida: {total_reward:.2f}\")"
   ]
  },
  {
   "cell_type": "code",
   "execution_count": 26,
   "id": "f28dbfd4",
   "metadata": {
    "execution": {
     "iopub.execute_input": "2025-06-02T21:25:07.696996Z",
     "iopub.status.busy": "2025-06-02T21:25:07.696583Z",
     "iopub.status.idle": "2025-06-02T21:25:11.782828Z",
     "shell.execute_reply": "2025-06-02T21:25:11.782072Z",
     "shell.execute_reply.started": "2025-06-02T21:25:07.696976Z"
    }
   },
   "outputs": [
    {
     "name": "stdout",
     "output_type": "stream",
     "text": [
      "Número total de frames: 141\n",
      "🎥 Vídeo guardado en: video_mountaincar_rbf.gif\n",
      "🏁 Recompensa total obtenida: -141.00\n"
     ]
    },
    {
     "data": {
      "text/html": [
       "\n",
       "<img src=\"video_mountaincar_rbf.gif\" style=\"width: 600px;\" loop>\n"
      ],
      "text/plain": [
       "<IPython.core.display.HTML object>"
      ]
     },
     "execution_count": 26,
     "metadata": {},
     "output_type": "execute_result"
    }
   ],
   "source": [
    "nombre_archivo = \"video_mountaincar_rbf.gif\"\n",
    "\n",
    "grabar_video_agente(agent, seed=1, nombre_archivo=nombre_archivo)\n",
    "\n",
    "HTML(f\"\"\"\n",
    "<img src=\"{nombre_archivo}\" style=\"width: 600px;\" loop>\n",
    "\"\"\")"
   ]
  },
  {
   "cell_type": "code",
   "execution_count": null,
   "id": "a0c78866-42bb-4e79-a5ba-d12a7b00f6c1",
   "metadata": {
    "editable": true,
    "slideshow": {
     "slide_type": ""
    },
    "tags": []
   },
   "outputs": [],
   "source": []
  }
 ],
 "metadata": {
  "kernelspec": {
   "display_name": "Python 3 (ipykernel)",
   "language": "python",
   "name": "python3"
  },
  "language_info": {
   "codemirror_mode": {
    "name": "ipython",
    "version": 3
   },
   "file_extension": ".py",
   "mimetype": "text/x-python",
   "name": "python",
   "nbconvert_exporter": "python",
   "pygments_lexer": "ipython3",
   "version": "3.10.12"
  }
 },
 "nbformat": 4,
 "nbformat_minor": 5
}
