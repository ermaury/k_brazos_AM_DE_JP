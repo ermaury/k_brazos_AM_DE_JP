{
 "cells": [
  {
   "cell_type": "code",
   "execution_count": null,
   "id": "cdbac9d6-b209-4fcc-becd-b75e076b605d",
   "metadata": {},
   "outputs": [],
   "source": [
    "!pip install gymnasium\n",
    "!pip install pygame"
   ]
  },
  {
   "cell_type": "markdown",
   "id": "36ee8b9b-2a71-4bcd-96d5-5329a9ae5feb",
   "metadata": {},
   "source": [
    "# Carga y exploración de un entorno de Gymnasium"
   ]
  },
  {
   "cell_type": "code",
   "execution_count": 1,
   "id": "cd6db6f7-7bce-4b74-8f9d-d048d6359082",
   "metadata": {
    "execution": {
     "iopub.execute_input": "2025-05-19T11:56:55.416161Z",
     "iopub.status.busy": "2025-05-19T11:56:55.414843Z",
     "iopub.status.idle": "2025-05-19T11:56:56.750741Z",
     "shell.execute_reply": "2025-05-19T11:56:56.749791Z",
     "shell.execute_reply.started": "2025-05-19T11:56:55.416119Z"
    }
   },
   "outputs": [],
   "source": [
    "import gymnasium as gym\n",
    "import numpy as np\n",
    "import time\n",
    "from IPython.display import clear_output, display, HTML\n",
    "import matplotlib.pyplot as plt\n",
    "from tqdm import tqdm\n",
    "import pandas as pd\n",
    "import random\n",
    "from itertools import product\n",
    "from concurrent.futures import ProcessPoolExecutor, as_completed\n",
    "\n",
    "# Parámetros globales\n",
    "SEED = 42\n",
    "ACCIONES = ['←', '↓', '→', '↑']\n",
    "\n",
    "# -------------------- POLÍTICAS --------------------\n",
    "\n",
    "def epsilon_soft_policy(Q: np.ndarray, epsilon: float, state: int, nA: int) -> np.ndarray:\n",
    "    \"\"\"Devuelve una política epsilon-soft como vector de probabilidades.\"\"\"\n",
    "    policy = np.ones(nA) * epsilon / nA\n",
    "    best_action = np.argmax(Q[state])\n",
    "    policy[best_action] += 1.0 - epsilon\n",
    "    return policy\n",
    "\n",
    "def seleccionar_accion(Q: np.ndarray, epsilon: float, state: int, nA: int) -> int:\n",
    "    \"\"\"Devuelve una acción siguiendo política epsilon-greedy.\"\"\"\n",
    "    policy = epsilon_soft_policy(Q, epsilon, state, nA)\n",
    "    return np.random.choice(np.arange(nA), p=policy)\n",
    "\n",
    "# -------------------- VISUALIZACIÓN DE POLÍTICA --------------------\n",
    "\n",
    "def representar_politica_greedy(agente, mostrar_como_grid=True):\n",
    "    \"\"\"Ejecuta y visualiza la política greedy aprendida.\"\"\"\n",
    "    env = agente.env\n",
    "    Q = agente.Q\n",
    "    desc = env.unwrapped.desc\n",
    "\n",
    "    state, _ = env.reset()\n",
    "    done = False\n",
    "    total_reward = 0\n",
    "    acciones_realizadas = []\n",
    "    tableros = []\n",
    "\n",
    "    while not done:\n",
    "        action = np.argmax(Q[state])\n",
    "        acciones_realizadas.append(ACCIONES[action])\n",
    "        tableros.append(tablero_con_emojis(desc, state))\n",
    "        state, reward, terminated, truncated, _ = env.step(action)\n",
    "        done = terminated or truncated\n",
    "        total_reward += reward\n",
    "\n",
    "    tableros.append(tablero_con_emojis(desc, state))  # último estado\n",
    "\n",
    "    if mostrar_como_grid:\n",
    "        mostrar_tableros_en_grid(tableros)\n",
    "    else:\n",
    "        for tablero in tableros:\n",
    "            display(HTML(f\"<pre style='font-size: 24px'>{tablero}</pre>\"))\n",
    "\n",
    "    print(f\"Recompensa total: {total_reward}\")\n",
    "    print(f\"Secuencia de acciones: {acciones_realizadas}\")\n",
    "\n",
    "def tablero_con_emojis(desc: np.ndarray, pos_agente: int) -> str:\n",
    "    \"\"\"Devuelve una representación del entorno con emojis.\"\"\"\n",
    "    EMOJI_MAP = {b'S': '🚩', b'F': '🧊', b'H': '🕳️', b'G': '🏁'}\n",
    "    AGENTE = '🤖'\n",
    "    tablero = \"\"\n",
    "\n",
    "    for i, fila in enumerate(desc):\n",
    "        for j, celda in enumerate(fila):\n",
    "            idx = i * desc.shape[1] + j\n",
    "            tablero += AGENTE if idx == pos_agente else EMOJI_MAP[celda]\n",
    "        tablero += \"\\n\"\n",
    "    return tablero\n",
    "\n",
    "def mostrar_tableros_en_grid(tableros: list[str], columnas: int = 4):\n",
    "    \"\"\"Muestra múltiples tableros en una cuadrícula HTML.\"\"\"\n",
    "    html = \"<table><tr>\"\n",
    "    for i, t in enumerate(tableros):\n",
    "        html += f\"<td><pre style='font-size: 14px'>{t}</pre></td>\"\n",
    "        if (i + 1) % columnas == 0:\n",
    "            html += \"</tr><tr>\"\n",
    "    html += \"</tr></table>\"\n",
    "    display(HTML(html))\n",
    "\n",
    "def dibujar_politica_optima(agente):\n",
    "    \"\"\"Dibuja con matplotlib la política óptima aprendida.\"\"\"\n",
    "    Q = agente.Q\n",
    "    desc = agente.env.unwrapped.desc\n",
    "    num_rows, num_cols = desc.shape\n",
    "\n",
    "    simbolos = [\n",
    "        'X' if np.all(fila == 0) else ACCIONES[np.argmax(fila)]\n",
    "        for fila in Q\n",
    "    ]\n",
    "\n",
    "    matriz = np.array(simbolos).reshape(num_rows, num_cols)\n",
    "\n",
    "    fig, ax = plt.subplots(figsize=(num_cols, num_rows))\n",
    "    ax.set_xticks(np.arange(num_cols))\n",
    "    ax.set_yticks(np.arange(num_rows))\n",
    "    ax.set_xticklabels([])\n",
    "    ax.set_yticklabels([])\n",
    "    ax.set_xticks(np.arange(-.5, num_cols, 1), minor=True)\n",
    "    ax.set_yticks(np.arange(-.5, num_rows, 1), minor=True)\n",
    "    ax.grid(which='minor', color='black', linewidth=1)\n",
    "\n",
    "    for i in range(num_rows):\n",
    "        for j in range(num_cols):\n",
    "            ax.text(j, i, matriz[i, j], ha='center', va='center', fontsize=16)\n",
    "\n",
    "    ax.invert_yaxis()\n",
    "    plt.title(\"Política óptima\")\n",
    "    plt.show()\n",
    "\n",
    "# -------------------- MÉTRICAS Y RESULTADOS --------------------\n",
    "\n",
    "def graficar_recompensas(agente):\n",
    "    \"\"\"Grafica la proporción de éxitos por episodio.\"\"\"\n",
    "    plt.figure(figsize=(6, 3))\n",
    "    plt.plot(range(len(agente.stats)), agente.stats)\n",
    "    plt.title('Proporción de recompensas')\n",
    "    plt.xlabel('Episodio')\n",
    "    plt.ylabel('Proporción')\n",
    "    plt.grid(True)\n",
    "    plt.show()\n",
    "\n",
    "def graficar_longitud_episodios(agente):\n",
    "    \"\"\"Grafica la longitud de cada episodio.\"\"\"\n",
    "    plt.plot(agente.episode_lengths)\n",
    "    plt.title(\"Longitud por episodio\")\n",
    "    plt.xlabel(\"Episodio\")\n",
    "    plt.ylabel(\"Longitud\")\n",
    "    plt.grid(True)\n",
    "    plt.show()\n",
    "\n",
    "def mostrar_resultados_agente(agente):\n",
    "    \"\"\"Muestra la política seguida, la Q aprendida y la política óptima.\"\"\"\n",
    "    representar_politica_greedy(agente)\n",
    "    \n",
    "    print(\"\\nTabla Q aprendida:\")\n",
    "    columnas = ['← Izquierda', '↓ Abajo', '→ Derecha', '↑ Arriba']\n",
    "    tabla_q = pd.DataFrame(agente.Q, columns=columnas)\n",
    "    tabla_q.index.name = 'Estado'\n",
    "    display(tabla_q.round(3))\n",
    "\n",
    "    print(\"\\nPolítica óptima aprendida:\")\n",
    "    dibujar_politica_optima(agente)"
   ]
  },
  {
   "cell_type": "markdown",
   "id": "25ea2caf-b67a-4dbb-b612-3121e4403f06",
   "metadata": {},
   "source": [
    "# Objeto AgenteMonteCarlo"
   ]
  },
  {
   "cell_type": "code",
   "execution_count": 2,
   "id": "81be454b-f029-4467-b0ab-279f798fce9a",
   "metadata": {
    "execution": {
     "iopub.execute_input": "2025-05-19T11:57:14.028665Z",
     "iopub.status.busy": "2025-05-19T11:57:14.028194Z",
     "iopub.status.idle": "2025-05-19T11:57:14.044412Z",
     "shell.execute_reply": "2025-05-19T11:57:14.043545Z",
     "shell.execute_reply.started": "2025-05-19T11:57:14.028634Z"
    }
   },
   "outputs": [],
   "source": [
    "class AgenteSARSA:\n",
    "    def __init__(self, env, epsilon=1.0, alpha=0.1, discount_factor=1.0, decay=True):\n",
    "        self.env = env\n",
    "        self.epsilon = epsilon\n",
    "        self.alpha = alpha\n",
    "        self.discount_factor = discount_factor\n",
    "        self.decay = decay\n",
    "        self.nA = env.action_space.n\n",
    "        self.Q = np.zeros([env.observation_space.n, self.nA])\n",
    "        self.stats = []\n",
    "        self.episode_lengths = []\n",
    "\n",
    "    def entrenar(self, num_episodes=50000, mostrar_barra=True):\n",
    "\n",
    "        random.seed(SEED)\n",
    "        np.random.seed(SEED)\n",
    "        \n",
    "        acumulador_recompensas = 0.0\n",
    "\n",
    "        for t in tqdm(range(num_episodes), disable=not mostrar_barra):\n",
    "            state, _ = self.env.reset()\n",
    "            done = False\n",
    "\n",
    "            if self.decay:\n",
    "                self.epsilon = min(1.0, 1000.0 / (t + 1))\n",
    "\n",
    "            action = seleccionar_accion(self.Q, self.epsilon, state, self.nA)\n",
    "            total_reward = 0\n",
    "            pasos = 0\n",
    "\n",
    "            while not done:\n",
    "                next_state, reward, terminated, truncated, _ = self.env.step(action)\n",
    "                done = terminated or truncated\n",
    "                pasos += 1\n",
    "                total_reward += reward\n",
    "\n",
    "                if not done:\n",
    "                    next_action = seleccionar_accion(self.Q, self.epsilon, next_state, self.nA)\n",
    "                    td_target = reward + self.discount_factor * self.Q[next_state, next_action]\n",
    "                else:\n",
    "                    td_target = reward  # no hay estado siguiente\n",
    "\n",
    "                td_error = td_target - self.Q[state, action]\n",
    "                self.Q[state, action] += self.alpha * td_error\n",
    "\n",
    "                state = next_state\n",
    "                action = next_action if not done else None\n",
    "\n",
    "            self.episode_lengths.append(pasos)\n",
    "            acumulador_recompensas += total_reward\n",
    "            self.stats.append(acumulador_recompensas / (t + 1))\n",
    "\n",
    "        return self.Q\n"
   ]
  },
  {
   "cell_type": "markdown",
   "id": "72e848e7-90db-4ae5-8d66-8190accfc70b",
   "metadata": {},
   "source": [
    "# Entorno 4X4"
   ]
  },
  {
   "cell_type": "code",
   "execution_count": 3,
   "id": "7fd99155-cfa5-432e-8e00-f03d444afd2d",
   "metadata": {
    "execution": {
     "iopub.execute_input": "2025-05-19T12:00:05.324655Z",
     "iopub.status.busy": "2025-05-19T12:00:05.324351Z",
     "iopub.status.idle": "2025-05-19T12:00:05.344593Z",
     "shell.execute_reply": "2025-05-19T12:00:05.343689Z",
     "shell.execute_reply.started": "2025-05-19T12:00:05.324628Z"
    }
   },
   "outputs": [],
   "source": [
    "def evaluar_configuracion(params, map_name):\n",
    "    if isinstance(map_name, str):\n",
    "        env = gym.make(\"FrozenLake-v1\", is_slippery=False, map_name=map_name)\n",
    "    else:\n",
    "        env = gym.make(\"FrozenLake-v1\", is_slippery=False, desc=map_name)\n",
    "    alpha, gamma, epsilon, decay = params\n",
    "    agente = AgenteSARSA(env, alpha=alpha, epsilon=epsilon, discount_factor=gamma, decay=decay)\n",
    "    agente.entrenar(num_episodes=20000, mostrar_barra=False)\n",
    "    recompensa_final = agente.stats[-1]\n",
    "    return (alpha, gamma, epsilon, decay, recompensa_final)\n",
    "\n",
    "def grid_search(map_name):\n",
    "    # Espacio de búsqueda\n",
    "    alphas = [0.05, 0.1, 0.25, 0.5]\n",
    "    gammas = np.linspace(0.1, 1.0, 10)\n",
    "    epsilons = np.linspace(0.1, 1.0, 10)\n",
    "    \n",
    "    # Combinaciones con decay = False (usar todos los epsilon)\n",
    "    combinaciones_sin_decay = [(a, g, e, False) for a, g, e in product(alphas, gammas, epsilons)]\n",
    "    \n",
    "    # Combinaciones con decay = True (epsilon ignorado, se pone a 0.0)\n",
    "    combinaciones_con_decay = [(a, g, 0.0, True) for a, g in product(alphas, gammas)]\n",
    "    \n",
    "    # Unir ambas listas\n",
    "    combinaciones = combinaciones_sin_decay + combinaciones_con_decay\n",
    "\n",
    "    mejor_config = None\n",
    "    mejor_recompensa = -float('inf')\n",
    "    resultados = []\n",
    "\n",
    "    print(\"🔍 Buscando la mejor combinación de hiperparámetros...\\n\")\n",
    "\n",
    "    with ProcessPoolExecutor() as executor:\n",
    "        futures = [executor.submit(evaluar_configuracion, combo, map_name) for combo in combinaciones]\n",
    "        for future in tqdm(as_completed(futures), total=len(futures), desc=\"Progreso\"):\n",
    "            alpha, gamma, epsilon, decay_flag, recompensa = future.result()\n",
    "            resultados.append((alpha, gamma, epsilon, decay_flag, recompensa))\n",
    "\n",
    "            if recompensa > mejor_recompensa:\n",
    "                mejor_recompensa = recompensa\n",
    "                mejor_config = (alpha, gamma, epsilon, decay_flag)\n",
    "\n",
    "    print(\"\\n✅ Mejor configuración encontrada:\")\n",
    "    print(f\" alpha = {mejor_config[0]}, γ = {mejor_config[1]}, ε = {mejor_config[2]}, decay = {mejor_config[3]}\")\n",
    "    print(f\"  → Recompensa media final: {mejor_recompensa:.4f}\")"
   ]
  },
  {
   "cell_type": "code",
   "execution_count": 4,
   "id": "3f85ce5b-04b7-4b82-a2e3-5a16974a5c54",
   "metadata": {
    "execution": {
     "iopub.execute_input": "2025-05-19T12:00:33.387506Z",
     "iopub.status.busy": "2025-05-19T12:00:33.387090Z",
     "iopub.status.idle": "2025-05-19T12:19:57.140475Z",
     "shell.execute_reply": "2025-05-19T12:19:57.139599Z",
     "shell.execute_reply.started": "2025-05-19T12:00:33.387480Z"
    }
   },
   "outputs": [
    {
     "name": "stdout",
     "output_type": "stream",
     "text": [
      "🔍 Buscando la mejor combinación de hiperparámetros...\n",
      "\n"
     ]
    },
    {
     "name": "stderr",
     "output_type": "stream",
     "text": [
      "Progreso: 100%|███████████████████████████████████████████████████████████████████████| 440/440 [19:23<00:00,  2.64s/it]"
     ]
    },
    {
     "name": "stdout",
     "output_type": "stream",
     "text": [
      "\n",
      "✅ Mejor configuración encontrada:\n",
      " alpha = 0.05, γ = 0.7000000000000001, ε = 0.0, decay = True\n",
      "  → Recompensa media final: 0.7913\n"
     ]
    },
    {
     "name": "stderr",
     "output_type": "stream",
     "text": [
      "\n"
     ]
    }
   ],
   "source": [
    "grid_search(\"4x4\")"
   ]
  },
  {
   "cell_type": "code",
   "execution_count": 5,
   "id": "61b77384-6991-424a-85b8-4c6ca553dd73",
   "metadata": {
    "execution": {
     "iopub.execute_input": "2025-05-19T12:27:25.737146Z",
     "iopub.status.busy": "2025-05-19T12:27:25.736805Z",
     "iopub.status.idle": "2025-05-19T12:28:30.637325Z",
     "shell.execute_reply": "2025-05-19T12:28:30.636496Z",
     "shell.execute_reply.started": "2025-05-19T12:27:25.737124Z"
    }
   },
   "outputs": [
    {
     "name": "stderr",
     "output_type": "stream",
     "text": [
      "100%|█████████████████████████████████████████████████████████████████████████| 200000/200000 [01:04<00:00, 3082.54it/s]\n"
     ]
    },
    {
     "data": {
      "text/plain": [
       "array([[0.11602062, 0.16731114, 0.15765679, 0.11530848],\n",
       "       [0.11298071, 0.        , 0.2348531 , 0.16578034],\n",
       "       [0.16128934, 0.33935844, 0.16401137, 0.23739851],\n",
       "       [0.23684103, 0.        , 0.03043284, 0.0108334 ],\n",
       "       [0.16637617, 0.23836482, 0.        , 0.11321891],\n",
       "       [0.        , 0.        , 0.        , 0.        ],\n",
       "       [0.        , 0.48764443, 0.        , 0.22982781],\n",
       "       [0.        , 0.        , 0.        , 0.        ],\n",
       "       [0.23831714, 0.        , 0.33938485, 0.1621732 ],\n",
       "       [0.23262993, 0.48452645, 0.46111751, 0.        ],\n",
       "       [0.33622348, 0.69346286, 0.        , 0.33725235],\n",
       "       [0.        , 0.        , 0.        , 0.        ],\n",
       "       [0.        , 0.        , 0.        , 0.        ],\n",
       "       [0.        , 0.48861548, 0.69569172, 0.33121844],\n",
       "       [0.48336877, 0.69999991, 1.        , 0.47988892],\n",
       "       [0.        , 0.        , 0.        , 0.        ]])"
      ]
     },
     "execution_count": 5,
     "metadata": {},
     "output_type": "execute_result"
    }
   ],
   "source": [
    "# Ejecución de ejemplo\n",
    "env_4x4 = gym.make(\"FrozenLake-v1\", is_slippery=False)\n",
    "env_4x4.reset(seed=SEED)\n",
    "agente_4x4 = AgenteSARSA(env_4x4, alpha=0.05, discount_factor=0.7, decay=True)\n",
    "agente_4x4.entrenar(num_episodes=200000)"
   ]
  },
  {
   "cell_type": "markdown",
   "id": "5f45bc4c-4001-4cc6-b535-3c85808ff65f",
   "metadata": {},
   "source": [
    "# Gráfica de Proporción de aciertos por número de episodios"
   ]
  },
  {
   "cell_type": "code",
   "execution_count": 6,
   "id": "aec87b34-d1e2-47d5-ad38-45cb9a69d5c2",
   "metadata": {
    "execution": {
     "iopub.execute_input": "2025-05-19T12:28:30.639037Z",
     "iopub.status.busy": "2025-05-19T12:28:30.638655Z",
     "iopub.status.idle": "2025-05-19T12:28:30.888587Z",
     "shell.execute_reply": "2025-05-19T12:28:30.887639Z",
     "shell.execute_reply.started": "2025-05-19T12:28:30.639014Z"
    }
   },
   "outputs": [
    {
     "data": {
      "image/png": "[encoded data removed]",
      "text/plain": [
       "<Figure size 600x300 with 1 Axes>"
      ]
     },
     "metadata": {},
     "output_type": "display_data"
    }
   ],
   "source": [
    "graficar_recompensas(agente_4x4)"
   ]
  },
  {
   "cell_type": "markdown",
   "id": "23468f23-69ce-41aa-9ef1-425f8a64577a",
   "metadata": {},
   "source": [
    "# Gráfica de longitud de los episodios"
   ]
  },
  {
   "cell_type": "code",
   "execution_count": 7,
   "id": "387a9af9-4f43-44b0-93fa-bc7bccb21a5a",
   "metadata": {
    "execution": {
     "iopub.execute_input": "2025-05-19T12:28:30.889718Z",
     "iopub.status.busy": "2025-05-19T12:28:30.889484Z",
     "iopub.status.idle": "2025-05-19T12:28:31.681996Z",
     "shell.execute_reply": "2025-05-19T12:28:31.680598Z",
     "shell.execute_reply.started": "2025-05-19T12:28:30.889698Z"
    }
   },
   "outputs": [
    {
     "data": {
      "image/png": "[encoded data removed]",
      "text/plain": [
       "<Figure size 640x480 with 1 Axes>"
      ]
     },
     "metadata": {},
     "output_type": "display_data"
    }
   ],
   "source": [
    "graficar_longitud_episodios(agente_4x4)"
   ]
  },
  {
   "cell_type": "markdown",
   "id": "c41be3c3-cbeb-4ccc-b99e-f18c59d6a1bc",
   "metadata": {},
   "source": [
    "## Interpretación de las gráficas:\n",
    "\n",
    "1. La primera gráfica muestra la proporción acumulada de recompensas por episodio. Se observa una tendencia ascendente que se estabiliza, lo cual indica que el agente ha aprendido una política que mejora progresivamente su rendimiento. La proporción final cercana a 0.5 sugiere que logra alcanzar el objetivo en aproximadamente la mitad de los episodios.\n",
    "\n",
    "2. La segunda gráfica representa la longitud de cada episodio (número de pasos hasta terminar). Inicialmente, el agente necesita más pasos y los episodios son inestables. A medida que aprende, la longitud tiende a estabilizarse y reducirse, lo cual indica que el agente encuentra trayectorias más eficientes o termina el episodio de forma más consistente.\n",
    "\n",
    "Ambas gráficas son complementarias: mientras que una muestra la eficacia del agente, la otra muestra su eficiencia y estabilidad."
   ]
  },
  {
   "cell_type": "code",
   "execution_count": 8,
   "id": "e0f11422-d438-46e9-a88a-d944ecafbce9",
   "metadata": {
    "execution": {
     "iopub.execute_input": "2025-05-19T12:28:31.684419Z",
     "iopub.status.busy": "2025-05-19T12:28:31.683794Z",
     "iopub.status.idle": "2025-05-19T12:28:31.806848Z",
     "shell.execute_reply": "2025-05-19T12:28:31.805754Z",
     "shell.execute_reply.started": "2025-05-19T12:28:31.684397Z"
    }
   },
   "outputs": [
    {
     "data": {
      "text/html": [
       "<table><tr><td><pre style='font-size: 14px'>🤖🧊🧊🧊\n",
       "🧊🕳️🧊🕳️\n",
       "🧊🧊🧊🕳️\n",
       "🕳️🧊🧊🏁\n",
       "</pre></td><td><pre style='font-size: 14px'>🚩🧊🧊🧊\n",
       "🤖🕳️🧊🕳️\n",
       "🧊🧊🧊🕳️\n",
       "🕳️🧊🧊🏁\n",
       "</pre></td><td><pre style='font-size: 14px'>🚩🧊🧊🧊\n",
       "🧊🕳️🧊🕳️\n",
       "🤖🧊🧊🕳️\n",
       "🕳️🧊🧊🏁\n",
       "</pre></td><td><pre style='font-size: 14px'>🚩🧊🧊🧊\n",
       "🧊🕳️🧊🕳️\n",
       "🧊🤖🧊🕳️\n",
       "🕳️🧊🧊🏁\n",
       "</pre></td></tr><tr><td><pre style='font-size: 14px'>🚩🧊🧊🧊\n",
       "🧊🕳️🧊🕳️\n",
       "🧊🧊🧊🕳️\n",
       "🕳️🤖🧊🏁\n",
       "</pre></td><td><pre style='font-size: 14px'>🚩🧊🧊🧊\n",
       "🧊🕳️🧊🕳️\n",
       "🧊🧊🧊🕳️\n",
       "🕳️🧊🤖🏁\n",
       "</pre></td><td><pre style='font-size: 14px'>🚩🧊🧊🧊\n",
       "🧊🕳️🧊🕳️\n",
       "🧊🧊🧊🕳️\n",
       "🕳️🧊🧊🤖\n",
       "</pre></td></tr></table>"
      ],
      "text/plain": [
       "<IPython.core.display.HTML object>"
      ]
     },
     "metadata": {},
     "output_type": "display_data"
    },
    {
     "name": "stdout",
     "output_type": "stream",
     "text": [
      "Recompensa total: 1.0\n",
      "Secuencia de acciones: ['↓', '↓', '→', '↓', '→', '→']\n",
      "\n",
      "Tabla Q aprendida:\n"
     ]
    },
    {
     "data": {
      "text/html": [
       "<div>\n",
       "<style scoped>\n",
       "    .dataframe tbody tr th:only-of-type {\n",
       "        vertical-align: middle;\n",
       "    }\n",
       "\n",
       "    .dataframe tbody tr th {\n",
       "        vertical-align: top;\n",
       "    }\n",
       "\n",
       "    .dataframe thead th {\n",
       "        text-align: right;\n",
       "    }\n",
       "</style>\n",
       "<table border=\"1\" class=\"dataframe\">\n",
       "  <thead>\n",
       "    <tr style=\"text-align: right;\">\n",
       "      <th></th>\n",
       "      <th>← Izquierda</th>\n",
       "      <th>↓ Abajo</th>\n",
       "      <th>→ Derecha</th>\n",
       "      <th>↑ Arriba</th>\n",
       "    </tr>\n",
       "    <tr>\n",
       "      <th>Estado</th>\n",
       "      <th></th>\n",
       "      <th></th>\n",
       "      <th></th>\n",
       "      <th></th>\n",
       "    </tr>\n",
       "  </thead>\n",
       "  <tbody>\n",
       "    <tr>\n",
       "      <th>0</th>\n",
       "      <td>0.116</td>\n",
       "      <td>0.167</td>\n",
       "      <td>0.158</td>\n",
       "      <td>0.115</td>\n",
       "    </tr>\n",
       "    <tr>\n",
       "      <th>1</th>\n",
       "      <td>0.113</td>\n",
       "      <td>0.000</td>\n",
       "      <td>0.235</td>\n",
       "      <td>0.166</td>\n",
       "    </tr>\n",
       "    <tr>\n",
       "      <th>2</th>\n",
       "      <td>0.161</td>\n",
       "      <td>0.339</td>\n",
       "      <td>0.164</td>\n",
       "      <td>0.237</td>\n",
       "    </tr>\n",
       "    <tr>\n",
       "      <th>3</th>\n",
       "      <td>0.237</td>\n",
       "      <td>0.000</td>\n",
       "      <td>0.030</td>\n",
       "      <td>0.011</td>\n",
       "    </tr>\n",
       "    <tr>\n",
       "      <th>4</th>\n",
       "      <td>0.166</td>\n",
       "      <td>0.238</td>\n",
       "      <td>0.000</td>\n",
       "      <td>0.113</td>\n",
       "    </tr>\n",
       "    <tr>\n",
       "      <th>5</th>\n",
       "      <td>0.000</td>\n",
       "      <td>0.000</td>\n",
       "      <td>0.000</td>\n",
       "      <td>0.000</td>\n",
       "    </tr>\n",
       "    <tr>\n",
       "      <th>6</th>\n",
       "      <td>0.000</td>\n",
       "      <td>0.488</td>\n",
       "      <td>0.000</td>\n",
       "      <td>0.230</td>\n",
       "    </tr>\n",
       "    <tr>\n",
       "      <th>7</th>\n",
       "      <td>0.000</td>\n",
       "      <td>0.000</td>\n",
       "      <td>0.000</td>\n",
       "      <td>0.000</td>\n",
       "    </tr>\n",
       "    <tr>\n",
       "      <th>8</th>\n",
       "      <td>0.238</td>\n",
       "      <td>0.000</td>\n",
       "      <td>0.339</td>\n",
       "      <td>0.162</td>\n",
       "    </tr>\n",
       "    <tr>\n",
       "      <th>9</th>\n",
       "      <td>0.233</td>\n",
       "      <td>0.485</td>\n",
       "      <td>0.461</td>\n",
       "      <td>0.000</td>\n",
       "    </tr>\n",
       "    <tr>\n",
       "      <th>10</th>\n",
       "      <td>0.336</td>\n",
       "      <td>0.693</td>\n",
       "      <td>0.000</td>\n",
       "      <td>0.337</td>\n",
       "    </tr>\n",
       "    <tr>\n",
       "      <th>11</th>\n",
       "      <td>0.000</td>\n",
       "      <td>0.000</td>\n",
       "      <td>0.000</td>\n",
       "      <td>0.000</td>\n",
       "    </tr>\n",
       "    <tr>\n",
       "      <th>12</th>\n",
       "      <td>0.000</td>\n",
       "      <td>0.000</td>\n",
       "      <td>0.000</td>\n",
       "      <td>0.000</td>\n",
       "    </tr>\n",
       "    <tr>\n",
       "      <th>13</th>\n",
       "      <td>0.000</td>\n",
       "      <td>0.489</td>\n",
       "      <td>0.696</td>\n",
       "      <td>0.331</td>\n",
       "    </tr>\n",
       "    <tr>\n",
       "      <th>14</th>\n",
       "      <td>0.483</td>\n",
       "      <td>0.700</td>\n",
       "      <td>1.000</td>\n",
       "      <td>0.480</td>\n",
       "    </tr>\n",
       "    <tr>\n",
       "      <th>15</th>\n",
       "      <td>0.000</td>\n",
       "      <td>0.000</td>\n",
       "      <td>0.000</td>\n",
       "      <td>0.000</td>\n",
       "    </tr>\n",
       "  </tbody>\n",
       "</table>\n",
       "</div>"
      ],
      "text/plain": [
       "        ← Izquierda  ↓ Abajo  → Derecha  ↑ Arriba\n",
       "Estado                                           \n",
       "0             0.116    0.167      0.158     0.115\n",
       "1             0.113    0.000      0.235     0.166\n",
       "2             0.161    0.339      0.164     0.237\n",
       "3             0.237    0.000      0.030     0.011\n",
       "4             0.166    0.238      0.000     0.113\n",
       "5             0.000    0.000      0.000     0.000\n",
       "6             0.000    0.488      0.000     0.230\n",
       "7             0.000    0.000      0.000     0.000\n",
       "8             0.238    0.000      0.339     0.162\n",
       "9             0.233    0.485      0.461     0.000\n",
       "10            0.336    0.693      0.000     0.337\n",
       "11            0.000    0.000      0.000     0.000\n",
       "12            0.000    0.000      0.000     0.000\n",
       "13            0.000    0.489      0.696     0.331\n",
       "14            0.483    0.700      1.000     0.480\n",
       "15            0.000    0.000      0.000     0.000"
      ]
     },
     "metadata": {},
     "output_type": "display_data"
    },
    {
     "name": "stdout",
     "output_type": "stream",
     "text": [
      "\n",
      "Política óptima aprendida:\n"
     ]
    },
    {
     "data": {
      "image/png": "[encoded data removed]",
      "text/plain": [
       "<Figure size 400x400 with 1 Axes>"
      ]
     },
     "metadata": {},
     "output_type": "display_data"
    }
   ],
   "source": [
    "mostrar_resultados_agente(agente_4x4)"
   ]
  },
  {
   "cell_type": "markdown",
   "id": "3c14d823-59c1-4791-a525-509d7f945d88",
   "metadata": {},
   "source": [
    "# Entorno 8x8"
   ]
  },
  {
   "cell_type": "code",
   "execution_count": 9,
   "id": "d8432bd7-07ab-4195-b0b7-444deded7ae1",
   "metadata": {
    "execution": {
     "iopub.execute_input": "2025-05-19T12:28:46.882655Z",
     "iopub.status.busy": "2025-05-19T12:28:46.881946Z",
     "iopub.status.idle": "2025-05-19T12:39:57.556638Z",
     "shell.execute_reply": "2025-05-19T12:39:57.555506Z",
     "shell.execute_reply.started": "2025-05-19T12:28:46.882630Z"
    }
   },
   "outputs": [
    {
     "name": "stdout",
     "output_type": "stream",
     "text": [
      "🔍 Buscando la mejor combinación de hiperparámetros...\n",
      "\n"
     ]
    },
    {
     "name": "stderr",
     "output_type": "stream",
     "text": [
      "Progreso:  10%|██████▋                                                               | 42/440 [11:10<1:45:50, 15.96s/it]Process ForkProcess-20:\n",
      "Process ForkProcess-29:\n",
      "\n",
      "Process ForkProcess-27:\n",
      "Process ForkProcess-18:\n",
      "Process ForkProcess-24:\n",
      "Process ForkProcess-22:\n",
      "Process ForkProcess-32:\n",
      "Process ForkProcess-26:\n",
      "Traceback (most recent call last):\n",
      "\n",
      "KeyboardInterrupt\n",
      "\n"
     ]
    }
   ],
   "source": [
    "grid_search(\"8x8\")"
   ]
  },
  {
   "cell_type": "code",
   "execution_count": 34,
   "id": "8a6eae31-a4ad-4755-bec6-b04a4be6a5da",
   "metadata": {
    "execution": {
     "iopub.execute_input": "2025-05-18T00:58:58.998315Z",
     "iopub.status.busy": "2025-05-18T00:58:58.998017Z",
     "iopub.status.idle": "2025-05-18T01:05:03.096286Z",
     "shell.execute_reply": "2025-05-18T01:05:03.093644Z",
     "shell.execute_reply.started": "2025-05-18T00:58:58.998285Z"
    }
   },
   "outputs": [
    {
     "name": "stderr",
     "output_type": "stream",
     "text": [
      "100%|██████████████████████████████████████████████████████████████████████████| 200000/200000 [06:03<00:00, 549.45it/s]\n"
     ]
    },
    {
     "data": {
      "text/plain": [
       "array([[2.26787762e-01, 2.46298932e-01, 2.52744639e-01, 2.26913180e-01],\n",
       "       [2.24642835e-01, 2.73264552e-01, 2.81083123e-01, 2.51966463e-01],\n",
       "       [2.49635970e-01, 3.06412597e-01, 3.13036274e-01, 2.80231809e-01],\n",
       "       [2.77388201e-01, 3.35510409e-01, 3.48114616e-01, 3.11600345e-01],\n",
       "       [3.08537992e-01, 3.80751363e-01, 3.86839496e-01, 3.46483868e-01],\n",
       "       [3.42655982e-01, 4.21912849e-01, 4.29493734e-01, 3.84741390e-01],\n",
       "       [3.80546845e-01, 4.76307082e-01, 4.67601881e-01, 4.26758160e-01],\n",
       "       [2.31032900e-01, 5.27750948e-01, 2.72914022e-01, 3.07865088e-01],\n",
       "       [1.21989020e-01, 2.53993714e-02, 2.78029622e-01, 1.19248811e-01],\n",
       "       [1.65244258e-01, 9.28191589e-02, 3.08395786e-01, 1.81427837e-01],\n",
       "       [2.30751196e-01, 1.56226269e-01, 3.44884126e-01, 2.43695526e-01],\n",
       "       [2.80436816e-01, 0.00000000e+00, 3.85693122e-01, 2.91177007e-01],\n",
       "       [3.44818408e-01, 4.19403303e-01, 4.28684022e-01, 3.42390604e-01],\n",
       "       [3.80776274e-01, 4.67556371e-01, 4.76329246e-01, 3.81170262e-01],\n",
       "       [4.24656935e-01, 5.21138704e-01, 5.27559582e-01, 4.21577730e-01],\n",
       "       [4.70522699e-01, 5.84332885e-01, 5.28957131e-01, 4.73765808e-01],\n",
       "       [1.06270951e-03, 1.21040233e-04, 1.26781993e-03, 9.83559920e-02],\n",
       "       [3.77267638e-03, 1.06587176e-04, 2.44006581e-02, 1.90387116e-01],\n",
       "       [1.79089286e-02, 2.75807997e-04, 0.00000000e+00, 2.56680426e-01],\n",
       "       [0.00000000e+00, 0.00000000e+00, 0.00000000e+00, 0.00000000e+00],\n",
       "       [0.00000000e+00, 2.88079145e-02, 4.71135006e-01, 1.39584417e-01],\n",
       "       [2.91652977e-01, 0.00000000e+00, 5.27332227e-01, 3.58543222e-01],\n",
       "       [4.73113227e-01, 5.74675881e-01, 5.88050609e-01, 4.70408455e-01],\n",
       "       [5.25412295e-01, 6.48383594e-01, 5.87813979e-01, 5.24557558e-01],\n",
       "       [7.81424245e-08, 1.54436042e-07, 8.27318319e-06, 4.15918675e-03],\n",
       "       [1.61521850e-06, 1.12365997e-09, 1.38419861e-05, 2.19025764e-03],\n",
       "       [1.42949838e-06, 8.03106320e-19, 9.96931471e-07, 1.02485877e-02],\n",
       "       [5.74323137e-05, 0.00000000e+00, 6.11332663e-04, 0.00000000e+00],\n",
       "       [1.48430300e-07, 4.48999108e-04, 0.00000000e+00, 1.40728725e-01],\n",
       "       [0.00000000e+00, 0.00000000e+00, 0.00000000e+00, 0.00000000e+00],\n",
       "       [0.00000000e+00, 5.97015345e-01, 6.54285900e-01, 4.85419644e-01],\n",
       "       [5.88037414e-01, 7.21665275e-01, 6.53984265e-01, 5.82206756e-01],\n",
       "       [1.45253076e-15, 2.89941973e-17, 8.82339879e-10, 1.85167259e-05],\n",
       "       [3.64560754e-10, 0.00000000e+00, 2.79969612e-19, 1.86468135e-08],\n",
       "       [1.06022143e-23, 0.00000000e+00, 0.00000000e+00, 1.25734033e-08],\n",
       "       [0.00000000e+00, 0.00000000e+00, 0.00000000e+00, 0.00000000e+00],\n",
       "       [0.00000000e+00, 4.40994314e-07, 3.46784527e-02, 2.04831132e-04],\n",
       "       [3.43387541e-06, 6.85183016e-10, 4.00999806e-01, 0.00000000e+00],\n",
       "       [1.58380631e-01, 0.00000000e+00, 7.26940289e-01, 3.28054812e-01],\n",
       "       [6.53975780e-01, 8.05235634e-01, 7.27796793e-01, 6.47589076e-01],\n",
       "       [2.90003751e-17, 0.00000000e+00, 0.00000000e+00, 3.98807615e-09],\n",
       "       [0.00000000e+00, 0.00000000e+00, 0.00000000e+00, 0.00000000e+00],\n",
       "       [0.00000000e+00, 0.00000000e+00, 0.00000000e+00, 0.00000000e+00],\n",
       "       [0.00000000e+00, 0.00000000e+00, 1.12546265e-15, 0.00000000e+00],\n",
       "       [0.00000000e+00, 0.00000000e+00, 1.42320187e-16, 9.97772492e-04],\n",
       "       [7.33996150e-06, 0.00000000e+00, 0.00000000e+00, 0.00000000e+00],\n",
       "       [0.00000000e+00, 0.00000000e+00, 0.00000000e+00, 0.00000000e+00],\n",
       "       [0.00000000e+00, 8.98476049e-01, 8.09442887e-01, 7.20289944e-01],\n",
       "       [0.00000000e+00, 0.00000000e+00, 0.00000000e+00, 1.07601706e-28],\n",
       "       [0.00000000e+00, 0.00000000e+00, 0.00000000e+00, 0.00000000e+00],\n",
       "       [0.00000000e+00, 0.00000000e+00, 0.00000000e+00, 0.00000000e+00],\n",
       "       [0.00000000e+00, 0.00000000e+00, 0.00000000e+00, 0.00000000e+00],\n",
       "       [0.00000000e+00, 0.00000000e+00, 0.00000000e+00, 0.00000000e+00],\n",
       "       [0.00000000e+00, 0.00000000e+00, 0.00000000e+00, 0.00000000e+00],\n",
       "       [0.00000000e+00, 0.00000000e+00, 0.00000000e+00, 0.00000000e+00],\n",
       "       [0.00000000e+00, 1.00000000e+00, 8.99085544e-01, 7.98085407e-01],\n",
       "       [0.00000000e+00, 0.00000000e+00, 0.00000000e+00, 0.00000000e+00],\n",
       "       [0.00000000e+00, 0.00000000e+00, 0.00000000e+00, 0.00000000e+00],\n",
       "       [0.00000000e+00, 0.00000000e+00, 0.00000000e+00, 0.00000000e+00],\n",
       "       [0.00000000e+00, 0.00000000e+00, 0.00000000e+00, 0.00000000e+00],\n",
       "       [0.00000000e+00, 0.00000000e+00, 0.00000000e+00, 0.00000000e+00],\n",
       "       [0.00000000e+00, 0.00000000e+00, 0.00000000e+00, 0.00000000e+00],\n",
       "       [0.00000000e+00, 0.00000000e+00, 0.00000000e+00, 0.00000000e+00],\n",
       "       [0.00000000e+00, 0.00000000e+00, 0.00000000e+00, 0.00000000e+00]])"
      ]
     },
     "execution_count": 34,
     "metadata": {},
     "output_type": "execute_result"
    }
   ],
   "source": [
    "# Ejecución de ejemplo\n",
    "env_8x8 = gym.make(\"FrozenLake-v1\", is_slippery=False, map_name=\"8x8\")\n",
    "env_8x8.reset(seed=SEED)\n",
    "agente_8x8 = AgenteSARSA(env_8x8, epsilon=0.1, alpha=0.05, discount_factor=0.9, decay=True)\n",
    "agente_8x8.entrenar(num_episodes=200000)"
   ]
  },
  {
   "cell_type": "code",
   "execution_count": 35,
   "id": "91ffc416-d029-4ee2-97c3-f711c4e0a14e",
   "metadata": {
    "execution": {
     "iopub.execute_input": "2025-05-18T01:05:03.103178Z",
     "iopub.status.busy": "2025-05-18T01:05:03.101893Z",
     "iopub.status.idle": "2025-05-18T01:05:03.786408Z",
     "shell.execute_reply": "2025-05-18T01:05:03.785619Z",
     "shell.execute_reply.started": "2025-05-18T01:05:03.103144Z"
    }
   },
   "outputs": [
    {
     "data": {
      "image/png": "[encoded data removed]",
      "text/plain": [
       "<Figure size 600x300 with 1 Axes>"
      ]
     },
     "metadata": {},
     "output_type": "display_data"
    }
   ],
   "source": [
    "graficar_recompensas(agente_8x8)"
   ]
  },
  {
   "cell_type": "code",
   "execution_count": 36,
   "id": "a612e365-90dd-4c60-bfef-c64a6e442b1e",
   "metadata": {
    "execution": {
     "iopub.execute_input": "2025-05-18T01:05:03.787496Z",
     "iopub.status.busy": "2025-05-18T01:05:03.787244Z",
     "iopub.status.idle": "2025-05-18T01:05:04.373581Z",
     "shell.execute_reply": "2025-05-18T01:05:04.372648Z",
     "shell.execute_reply.started": "2025-05-18T01:05:03.787469Z"
    }
   },
   "outputs": [
    {
     "data": {
      "image/png": "[encoded data removed]",
      "text/plain": [
       "<Figure size 640x480 with 1 Axes>"
      ]
     },
     "metadata": {},
     "output_type": "display_data"
    }
   ],
   "source": [
    "graficar_longitud_episodios(agente_8x8)"
   ]
  },
  {
   "cell_type": "code",
   "execution_count": 37,
   "id": "414d4394-691e-4a14-8795-ec2fd5187e03",
   "metadata": {
    "execution": {
     "iopub.execute_input": "2025-05-18T01:05:04.379096Z",
     "iopub.status.busy": "2025-05-18T01:05:04.378592Z",
     "iopub.status.idle": "2025-05-18T01:05:04.606109Z",
     "shell.execute_reply": "2025-05-18T01:05:04.605327Z",
     "shell.execute_reply.started": "2025-05-18T01:05:04.379067Z"
    }
   },
   "outputs": [
    {
     "data": {
      "text/html": [
       "<pre style='font-size: 24px'>🚩🧊🧊🧊🧊🧊🧊🧊<br>🧊🧊🧊🧊🧊🧊🧊🧊<br>🧊🧊🧊💀🧊🧊🧊🧊<br>🧊🧊🧊🧊🧊💀🧊🧊<br>🧊🧊🧊💀🧊🧊🧊🧊<br>🧊💀💀🧊🧊🧊💀🧊<br>🧊💀🧊🧊💀🧊💀🧊<br>🧊🧊🧊💀🧊🧊🧊🐧<br></pre>"
      ],
      "text/plain": [
       "<IPython.core.display.HTML object>"
      ]
     },
     "metadata": {},
     "output_type": "display_data"
    },
    {
     "name": "stdout",
     "output_type": "stream",
     "text": [
      "Recompensa total siguiendo la política greedy: 1.0\n",
      "Secuencia de acciones tomadas: ['→', '→', '→', '→', '→', '→', '↓', '→', '↓', '↓', '↓', '↓', '↓', '↓']\n",
      "Valores Q aprendidos por estado y acción:\n"
     ]
    },
    {
     "data": {
      "text/html": [
       "<div>\n",
       "<style scoped>\n",
       "    .dataframe tbody tr th:only-of-type {\n",
       "        vertical-align: middle;\n",
       "    }\n",
       "\n",
       "    .dataframe tbody tr th {\n",
       "        vertical-align: top;\n",
       "    }\n",
       "\n",
       "    .dataframe thead th {\n",
       "        text-align: right;\n",
       "    }\n",
       "</style>\n",
       "<table border=\"1\" class=\"dataframe\">\n",
       "  <thead>\n",
       "    <tr style=\"text-align: right;\">\n",
       "      <th></th>\n",
       "      <th>← Izquierda</th>\n",
       "      <th>↓ Abajo</th>\n",
       "      <th>→ Derecha</th>\n",
       "      <th>↑ Arriba</th>\n",
       "    </tr>\n",
       "    <tr>\n",
       "      <th>Estado</th>\n",
       "      <th></th>\n",
       "      <th></th>\n",
       "      <th></th>\n",
       "      <th></th>\n",
       "    </tr>\n",
       "  </thead>\n",
       "  <tbody>\n",
       "    <tr>\n",
       "      <th>0</th>\n",
       "      <td>0.227</td>\n",
       "      <td>0.246</td>\n",
       "      <td>0.253</td>\n",
       "      <td>0.227</td>\n",
       "    </tr>\n",
       "    <tr>\n",
       "      <th>1</th>\n",
       "      <td>0.225</td>\n",
       "      <td>0.273</td>\n",
       "      <td>0.281</td>\n",
       "      <td>0.252</td>\n",
       "    </tr>\n",
       "    <tr>\n",
       "      <th>2</th>\n",
       "      <td>0.250</td>\n",
       "      <td>0.306</td>\n",
       "      <td>0.313</td>\n",
       "      <td>0.280</td>\n",
       "    </tr>\n",
       "    <tr>\n",
       "      <th>3</th>\n",
       "      <td>0.277</td>\n",
       "      <td>0.336</td>\n",
       "      <td>0.348</td>\n",
       "      <td>0.312</td>\n",
       "    </tr>\n",
       "    <tr>\n",
       "      <th>4</th>\n",
       "      <td>0.309</td>\n",
       "      <td>0.381</td>\n",
       "      <td>0.387</td>\n",
       "      <td>0.346</td>\n",
       "    </tr>\n",
       "    <tr>\n",
       "      <th>...</th>\n",
       "      <td>...</td>\n",
       "      <td>...</td>\n",
       "      <td>...</td>\n",
       "      <td>...</td>\n",
       "    </tr>\n",
       "    <tr>\n",
       "      <th>59</th>\n",
       "      <td>0.000</td>\n",
       "      <td>0.000</td>\n",
       "      <td>0.000</td>\n",
       "      <td>0.000</td>\n",
       "    </tr>\n",
       "    <tr>\n",
       "      <th>60</th>\n",
       "      <td>0.000</td>\n",
       "      <td>0.000</td>\n",
       "      <td>0.000</td>\n",
       "      <td>0.000</td>\n",
       "    </tr>\n",
       "    <tr>\n",
       "      <th>61</th>\n",
       "      <td>0.000</td>\n",
       "      <td>0.000</td>\n",
       "      <td>0.000</td>\n",
       "      <td>0.000</td>\n",
       "    </tr>\n",
       "    <tr>\n",
       "      <th>62</th>\n",
       "      <td>0.000</td>\n",
       "      <td>0.000</td>\n",
       "      <td>0.000</td>\n",
       "      <td>0.000</td>\n",
       "    </tr>\n",
       "    <tr>\n",
       "      <th>63</th>\n",
       "      <td>0.000</td>\n",
       "      <td>0.000</td>\n",
       "      <td>0.000</td>\n",
       "      <td>0.000</td>\n",
       "    </tr>\n",
       "  </tbody>\n",
       "</table>\n",
       "<p>64 rows × 4 columns</p>\n",
       "</div>"
      ],
      "text/plain": [
       "        ← Izquierda  ↓ Abajo  → Derecha  ↑ Arriba\n",
       "Estado                                           \n",
       "0             0.227    0.246      0.253     0.227\n",
       "1             0.225    0.273      0.281     0.252\n",
       "2             0.250    0.306      0.313     0.280\n",
       "3             0.277    0.336      0.348     0.312\n",
       "4             0.309    0.381      0.387     0.346\n",
       "...             ...      ...        ...       ...\n",
       "59            0.000    0.000      0.000     0.000\n",
       "60            0.000    0.000      0.000     0.000\n",
       "61            0.000    0.000      0.000     0.000\n",
       "62            0.000    0.000      0.000     0.000\n",
       "63            0.000    0.000      0.000     0.000\n",
       "\n",
       "[64 rows x 4 columns]"
      ]
     },
     "metadata": {},
     "output_type": "display_data"
    },
    {
     "name": "stdout",
     "output_type": "stream",
     "text": [
      "\n",
      "Política óptima aprendida (mejor acción por estado):\n"
     ]
    },
    {
     "data": {
      "text/html": [
       "<div>\n",
       "<style scoped>\n",
       "    .dataframe tbody tr th:only-of-type {\n",
       "        vertical-align: middle;\n",
       "    }\n",
       "\n",
       "    .dataframe tbody tr th {\n",
       "        vertical-align: top;\n",
       "    }\n",
       "\n",
       "    .dataframe thead th {\n",
       "        text-align: right;\n",
       "    }\n",
       "</style>\n",
       "<table border=\"1\" class=\"dataframe\">\n",
       "  <thead>\n",
       "    <tr style=\"text-align: right;\">\n",
       "      <th></th>\n",
       "      <th>Mejor acción</th>\n",
       "      <th>Estado siguiente</th>\n",
       "    </tr>\n",
       "  </thead>\n",
       "  <tbody>\n",
       "    <tr>\n",
       "      <th>Estado 0</th>\n",
       "      <td>→</td>\n",
       "      <td>Estado 1</td>\n",
       "    </tr>\n",
       "    <tr>\n",
       "      <th>Estado 1</th>\n",
       "      <td>→</td>\n",
       "      <td>Estado 2</td>\n",
       "    </tr>\n",
       "    <tr>\n",
       "      <th>Estado 2</th>\n",
       "      <td>→</td>\n",
       "      <td>Estado 3</td>\n",
       "    </tr>\n",
       "    <tr>\n",
       "      <th>Estado 3</th>\n",
       "      <td>→</td>\n",
       "      <td>Estado 4</td>\n",
       "    </tr>\n",
       "    <tr>\n",
       "      <th>Estado 4</th>\n",
       "      <td>→</td>\n",
       "      <td>Estado 5</td>\n",
       "    </tr>\n",
       "    <tr>\n",
       "      <th>...</th>\n",
       "      <td>...</td>\n",
       "      <td>...</td>\n",
       "    </tr>\n",
       "    <tr>\n",
       "      <th>Estado 59</th>\n",
       "      <td>X</td>\n",
       "      <td>-</td>\n",
       "    </tr>\n",
       "    <tr>\n",
       "      <th>Estado 60</th>\n",
       "      <td>X</td>\n",
       "      <td>-</td>\n",
       "    </tr>\n",
       "    <tr>\n",
       "      <th>Estado 61</th>\n",
       "      <td>X</td>\n",
       "      <td>-</td>\n",
       "    </tr>\n",
       "    <tr>\n",
       "      <th>Estado 62</th>\n",
       "      <td>X</td>\n",
       "      <td>-</td>\n",
       "    </tr>\n",
       "    <tr>\n",
       "      <th>Estado 63</th>\n",
       "      <td>X</td>\n",
       "      <td>-</td>\n",
       "    </tr>\n",
       "  </tbody>\n",
       "</table>\n",
       "<p>64 rows × 2 columns</p>\n",
       "</div>"
      ],
      "text/plain": [
       "          Mejor acción Estado siguiente\n",
       "Estado 0             →         Estado 1\n",
       "Estado 1             →         Estado 2\n",
       "Estado 2             →         Estado 3\n",
       "Estado 3             →         Estado 4\n",
       "Estado 4             →         Estado 5\n",
       "...                ...              ...\n",
       "Estado 59            X                -\n",
       "Estado 60            X                -\n",
       "Estado 61            X                -\n",
       "Estado 62            X                -\n",
       "Estado 63            X                -\n",
       "\n",
       "[64 rows x 2 columns]"
      ]
     },
     "metadata": {},
     "output_type": "display_data"
    }
   ],
   "source": [
    "mostrar_resultados_agente(agente_8x8)"
   ]
  },
  {
   "cell_type": "code",
   "execution_count": null,
   "id": "fd82d335-4596-40e0-ac41-4339d66603f4",
   "metadata": {},
   "outputs": [],
   "source": []
  }
 ],
 "metadata": {
  "kernelspec": {
   "display_name": "Python 3 (ipykernel)",
   "language": "python",
   "name": "python3"
  },
  "language_info": {
   "codemirror_mode": {
    "name": "ipython",
    "version": 3
   },
   "file_extension": ".py",
   "mimetype": "text/x-python",
   "name": "python",
   "nbconvert_exporter": "python",
   "pygments_lexer": "ipython3",
   "version": "3.10.12"
  }
 },
 "nbformat": 4,
 "nbformat_minor": 5
}
