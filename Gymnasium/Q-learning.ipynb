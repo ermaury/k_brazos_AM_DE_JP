{
 "cells": [
  {
   "cell_type": "code",
   "execution_count": null,
   "id": "cdbac9d6-b209-4fcc-becd-b75e076b605d",
   "metadata": {},
   "outputs": [],
   "source": [
    "!pip install gymnasium\n",
    "!pip install pygame"
   ]
  },
  {
   "cell_type": "markdown",
   "id": "36ee8b9b-2a71-4bcd-96d5-5329a9ae5feb",
   "metadata": {},
   "source": [
    "# Carga y exploración de un entorno de Gymnasium"
   ]
  },
  {
   "cell_type": "code",
   "execution_count": 1,
   "id": "cd6db6f7-7bce-4b74-8f9d-d048d6359082",
   "metadata": {
    "execution": {
     "iopub.execute_input": "2025-05-17T00:02:47.797953Z",
     "iopub.status.busy": "2025-05-17T00:02:47.783891Z",
     "iopub.status.idle": "2025-05-17T00:02:52.219289Z",
     "shell.execute_reply": "2025-05-17T00:02:52.206155Z",
     "shell.execute_reply.started": "2025-05-17T00:02:47.797902Z"
    }
   },
   "outputs": [],
   "source": [
    "import gymnasium as gym\n",
    "import numpy as np\n",
    "import time\n",
    "from IPython.display import clear_output, display, HTML\n",
    "import matplotlib.pyplot as plt\n",
    "from tqdm import tqdm\n",
    "import pandas as pd\n",
    "import random\n",
    "from itertools import product\n",
    "from concurrent.futures import ProcessPoolExecutor, as_completed\n",
    "\n",
    "SEED = 42\n",
    "acciones = ['←', '↓', '→', '↑']\n",
    "\n",
    "# Función para mostrar el entorno con emojis\n",
    "def render_frozenlake_with_emojis(desc, agent_pos):\n",
    "    EMOJI_MAP = {b'S': '🚩', b'F': '🧊', b'H': '💀', b'G': '🏁'}\n",
    "    AGENT_EMOJI = '🐧'\n",
    "    grid = \"\"\n",
    "    for i, row in enumerate(desc):\n",
    "        for j, cell in enumerate(row):\n",
    "            pos = i * desc.shape[1] + j\n",
    "            if pos == agent_pos:\n",
    "                grid += AGENT_EMOJI\n",
    "            else:\n",
    "                grid += EMOJI_MAP[cell]\n",
    "        grid += \"<br>\"\n",
    "    clear_output(wait=True)\n",
    "    display(HTML(f\"<pre style='font-size: 24px'>{grid}</pre>\"))\n",
    "\n",
    "\n",
    "# Política epsilon-soft. Se usa para el entrenamiento\n",
    "def random_epsilon_greedy_policy(Q, epsilon, state, nA):\n",
    "    pi_A = np.ones(nA, dtype=float) * epsilon / nA\n",
    "    best_action = np.argmax(Q[state])\n",
    "    pi_A[best_action] += (1.0 - epsilon)\n",
    "    return pi_A\n",
    "\n",
    "# Política epsilon-greedy a partir de una epsilon-soft\n",
    "def epsilon_greedy_policy(Q, epsilon, state, nA):\n",
    "    pi_A = random_epsilon_greedy_policy(Q, epsilon, state, nA)\n",
    "    return np.random.choice(np.arange(nA), p=pi_A)\n",
    "\n",
    "# Política Greedy a partir de los valones Q. Se usa para mostrar la solución.\n",
    "# Visualización de la política aprendida (greedy)\n",
    "def pi_star_from_Q(agente):\n",
    "    env = agente.env\n",
    "    Q = agente.Q\n",
    "    desc = env.unwrapped.desc\n",
    "    state, info = agente.env.reset()\n",
    "    done = False\n",
    "    total_reward = 0\n",
    "    action_sequence = []\n",
    "    while not done:\n",
    "        render_frozenlake_with_emojis(desc, state)\n",
    "        action = np.argmax(Q[state])\n",
    "        action_sequence.append(acciones[action])\n",
    "        state, reward, terminated, truncated, info = env.step(action)\n",
    "        done = terminated or truncated\n",
    "        total_reward += reward\n",
    "\n",
    "    render_frozenlake_with_emojis(desc, state)\n",
    "    print(f\"Recompensa total siguiendo la política greedy: {total_reward}\")\n",
    "    print(f\"Secuencia de acciones tomadas: {action_sequence}\")\n",
    "\n",
    "# Tabla con la mejor acción por estado\n",
    "def obtener_politica_optima(agente):\n",
    "    Q = agente.Q\n",
    "    desc = agente.env.unwrapped.desc\n",
    "    num_cols = desc.shape[1]\n",
    "    transiciones = {\n",
    "        0: lambda s: s - 1,\n",
    "        1: lambda s: s + num_cols,\n",
    "        2: lambda s: s + 1,\n",
    "        3: lambda s: s - num_cols\n",
    "    }\n",
    "    mejores_acciones = []\n",
    "    simbolos = []\n",
    "    siguiente_estado = []\n",
    "\n",
    "    for i, fila in enumerate(Q):\n",
    "        if np.all(fila == 0):\n",
    "            simbolos.append('X')\n",
    "            siguiente_estado.append(\"-\")\n",
    "        else:\n",
    "            a = np.argmax(fila)\n",
    "            mejores_acciones.append(a)\n",
    "            simbolos.append(acciones[a])\n",
    "            try:\n",
    "                destino = transiciones[a](i)\n",
    "                if 0 <= destino < len(Q):\n",
    "                    siguiente_estado.append(f\"Estado {destino}\")\n",
    "                else:\n",
    "                    siguiente_estado.append(None)\n",
    "            except:\n",
    "                siguiente_estado.append(None)\n",
    "\n",
    "    df = pd.DataFrame({\n",
    "        'Mejor acción': simbolos,\n",
    "        'Estado siguiente': siguiente_estado\n",
    "    }, index=[f\"Estado {i}\" for i in range(len(simbolos))])\n",
    "    display(df)"
   ]
  },
  {
   "cell_type": "markdown",
   "id": "25ea2caf-b67a-4dbb-b612-3121e4403f06",
   "metadata": {},
   "source": [
    "# Objeto AgenteMonteCarlo"
   ]
  },
  {
   "cell_type": "code",
   "execution_count": 2,
   "id": "81be454b-f029-4467-b0ab-279f798fce9a",
   "metadata": {
    "execution": {
     "iopub.execute_input": "2025-05-17T00:02:52.255557Z",
     "iopub.status.busy": "2025-05-17T00:02:52.255227Z",
     "iopub.status.idle": "2025-05-17T00:02:52.361839Z",
     "shell.execute_reply": "2025-05-17T00:02:52.360915Z",
     "shell.execute_reply.started": "2025-05-17T00:02:52.255527Z"
    }
   },
   "outputs": [],
   "source": [
    "class AgenteQLearning:\n",
    "    def __init__(self, env, epsilon=1.0, alpha=0.1, discount_factor=1.0, decay=True):\n",
    "        self.env = env\n",
    "        self.epsilon = epsilon\n",
    "        self.alpha = alpha\n",
    "        self.discount_factor = discount_factor\n",
    "        self.decay = decay\n",
    "        self.nA = env.action_space.n\n",
    "        self.Q = np.zeros([env.observation_space.n, self.nA])\n",
    "        self.stats = []\n",
    "        self.episode_lengths = []\n",
    "\n",
    "    def entrenar(self, num_episodes=50000, mostrar_barra=True):\n",
    "\n",
    "        random.seed(SEED)\n",
    "        np.random.seed(SEED)\n",
    "        \n",
    "        acumulador_recompensas = 0.0\n",
    "\n",
    "        for t in tqdm(range(num_episodes), disable=not mostrar_barra):\n",
    "            state, _ = self.env.reset(seed=SEED + t)\n",
    "            done = False\n",
    "            total_reward = 0\n",
    "            pasos = 0\n",
    "\n",
    "            if self.decay:\n",
    "                self.epsilon = min(1.0, 1000.0 / (t + 1))\n",
    "\n",
    "            while not done:\n",
    "                action = epsilon_greedy_policy(self.Q, self.epsilon, state, self.nA)\n",
    "                next_state, reward, terminated, truncated, _ = self.env.step(action)\n",
    "                done = terminated or truncated\n",
    "                pasos += 1\n",
    "                total_reward += reward\n",
    "\n",
    "                # Q-learning: usa la acción óptima en s' (off-policy)\n",
    "                best_next_action = np.argmax(self.Q[next_state])\n",
    "                td_target = reward + self.discount_factor * self.Q[next_state, best_next_action]\n",
    "                td_error = td_target - self.Q[state, action]\n",
    "                self.Q[state, action] += self.alpha * td_error\n",
    "\n",
    "                state = next_state\n",
    "\n",
    "            self.episode_lengths.append(pasos)\n",
    "            acumulador_recompensas += total_reward\n",
    "            self.stats.append(acumulador_recompensas / (t + 1))\n",
    "\n",
    "        return self.Q\n",
    "\n"
   ]
  },
  {
   "cell_type": "markdown",
   "id": "72e848e7-90db-4ae5-8d66-8190accfc70b",
   "metadata": {},
   "source": [
    "# Entorno 4X4"
   ]
  },
  {
   "cell_type": "code",
   "execution_count": 19,
   "id": "7fd99155-cfa5-432e-8e00-f03d444afd2d",
   "metadata": {
    "execution": {
     "iopub.execute_input": "2025-05-18T00:55:39.072551Z",
     "iopub.status.busy": "2025-05-18T00:55:39.071023Z",
     "iopub.status.idle": "2025-05-18T00:55:39.117409Z",
     "shell.execute_reply": "2025-05-18T00:55:39.115931Z",
     "shell.execute_reply.started": "2025-05-18T00:55:39.072316Z"
    }
   },
   "outputs": [],
   "source": [
    "def evaluar_configuracion(params, map_name):\n",
    "    env = gym.make(\"FrozenLake-v1\", is_slippery=False, map_name=map_name)\n",
    "    env.action_space.seed(SEED)\n",
    "    env.observation_space.seed(SEED)\n",
    "    env.reset(seed=SEED)\n",
    "    alpha, gamma, epsilon, decay = params\n",
    "    agente = AgenteQLearning(env, alpha=alpha, epsilon=epsilon, discount_factor=gamma, decay=decay)\n",
    "    agente.entrenar(num_episodes=20000, mostrar_barra=False)\n",
    "    recompensa_final = agente.stats[-1]\n",
    "    return (alpha, gamma, epsilon, decay, recompensa_final)\n",
    "\n",
    "def grid_search(map_name):\n",
    "    # Espacio de búsqueda\n",
    "    alphas = [0.05, 0.1, 0.25, 0.5]\n",
    "    gammas = np.linspace(0.1, 1.0, 10)\n",
    "    epsilons = np.linspace(0.1, 1.0, 10)\n",
    "    decay = [True, False]\n",
    "    combinaciones = list(product(alphas, gammas, epsilons, decay))\n",
    "\n",
    "    mejor_config = None\n",
    "    mejor_recompensa = -float('inf')\n",
    "    resultados = []\n",
    "\n",
    "    print(\"🔍 Buscando la mejor combinación de hiperparámetros...\\n\")\n",
    "\n",
    "    with ProcessPoolExecutor() as executor:\n",
    "        futures = [executor.submit(evaluar_configuracion, combo, map_name) for combo in combinaciones]\n",
    "        for future in tqdm(as_completed(futures), total=len(futures), desc=\"Progreso\"):\n",
    "            alpha, gamma, epsilon, decay_flag, recompensa = future.result()\n",
    "            resultados.append((alpha, gamma, epsilon, decay_flag, recompensa))\n",
    "\n",
    "            if recompensa > mejor_recompensa:\n",
    "                mejor_recompensa = recompensa\n",
    "                mejor_config = (alpha, gamma, epsilon, decay_flag)\n",
    "\n",
    "    print(\"\\n✅ Mejor configuración encontrada:\")\n",
    "    print(f\" alpha = {mejor_config[0]}, γ = {mejor_config[1]}, ε = {mejor_config[2]}, decay = {mejor_config[3]}\")\n",
    "    print(f\"  → Recompensa media final: {mejor_recompensa:.4f}\")"
   ]
  },
  {
   "cell_type": "code",
   "execution_count": 4,
   "id": "861dbe86-d119-4542-90e8-717ad157b888",
   "metadata": {
    "execution": {
     "iopub.execute_input": "2025-05-17T00:02:53.166845Z",
     "iopub.status.busy": "2025-05-17T00:02:53.166340Z",
     "iopub.status.idle": "2025-05-17T01:19:52.124903Z",
     "shell.execute_reply": "2025-05-17T01:19:52.119526Z",
     "shell.execute_reply.started": "2025-05-17T00:02:53.166811Z"
    }
   },
   "outputs": [
    {
     "name": "stdout",
     "output_type": "stream",
     "text": [
      "🔍 Buscando la mejor combinación de hiperparámetros...\n",
      "\n"
     ]
    },
    {
     "name": "stderr",
     "output_type": "stream",
     "text": [
      "Progreso: 100%|█████████████████████████████████████████████████████████████████████| 800/800 [1:16:58<00:00,  5.77s/it]"
     ]
    },
    {
     "name": "stdout",
     "output_type": "stream",
     "text": [
      "\n",
      "✅ Mejor configuración encontrada:\n",
      " alpha = 0.5, γ = 0.1, ε = 0.1, decay = True\n",
      "  → Recompensa media final: 0.7919\n"
     ]
    },
    {
     "name": "stderr",
     "output_type": "stream",
     "text": [
      "\n"
     ]
    }
   ],
   "source": [
    "grid_search(\"4x4\")"
   ]
  },
  {
   "cell_type": "code",
   "execution_count": 20,
   "id": "60b0f9ac-91a1-4f3d-93d7-31d9546bfa97",
   "metadata": {
    "execution": {
     "iopub.execute_input": "2025-05-18T00:57:10.248399Z",
     "iopub.status.busy": "2025-05-18T00:57:10.247907Z",
     "iopub.status.idle": "2025-05-18T01:00:04.516604Z",
     "shell.execute_reply": "2025-05-18T01:00:04.512258Z",
     "shell.execute_reply.started": "2025-05-18T00:57:10.248353Z"
    }
   },
   "outputs": [
    {
     "name": "stderr",
     "output_type": "stream",
     "text": [
      "100%|█████████████████████████████████████████████████████████████████████████| 200000/200000 [02:54<00:00, 1148.48it/s]\n"
     ]
    },
    {
     "data": {
      "text/plain": [
       "array([[1.00000000e-06, 1.00000000e-05, 1.00000000e-05, 1.00000000e-06],\n",
       "       [1.00000000e-06, 0.00000000e+00, 1.00000000e-04, 1.00000000e-05],\n",
       "       [1.00000000e-05, 1.00000000e-03, 1.00000000e-05, 1.00000000e-04],\n",
       "       [1.00000000e-04, 0.00000000e+00, 9.99999913e-06, 9.99999021e-06],\n",
       "       [1.00000000e-05, 1.00000000e-04, 0.00000000e+00, 1.00000000e-06],\n",
       "       [0.00000000e+00, 0.00000000e+00, 0.00000000e+00, 0.00000000e+00],\n",
       "       [0.00000000e+00, 1.00000000e-02, 0.00000000e+00, 1.00000000e-04],\n",
       "       [0.00000000e+00, 0.00000000e+00, 0.00000000e+00, 0.00000000e+00],\n",
       "       [1.00000000e-04, 0.00000000e+00, 1.00000000e-03, 1.00000000e-05],\n",
       "       [1.00000000e-04, 1.00000000e-02, 1.00000000e-02, 0.00000000e+00],\n",
       "       [1.00000000e-03, 1.00000000e-01, 0.00000000e+00, 1.00000000e-03],\n",
       "       [0.00000000e+00, 0.00000000e+00, 0.00000000e+00, 0.00000000e+00],\n",
       "       [0.00000000e+00, 0.00000000e+00, 0.00000000e+00, 0.00000000e+00],\n",
       "       [0.00000000e+00, 1.00000000e-02, 1.00000000e-01, 1.00000000e-03],\n",
       "       [1.00000000e-02, 1.00000000e-01, 1.00000000e+00, 1.00000000e-02],\n",
       "       [0.00000000e+00, 0.00000000e+00, 0.00000000e+00, 0.00000000e+00]])"
      ]
     },
     "execution_count": 20,
     "metadata": {},
     "output_type": "execute_result"
    }
   ],
   "source": [
    "# Ejecución de ejemplo\n",
    "env_4x4 = gym.make(\"FrozenLake-v1\", is_slippery=False)\n",
    "env_4x4.reset(seed=SEED)\n",
    "env_4x4.action_space.seed(SEED)\n",
    "env_4x4.observation_space.seed(SEED)\n",
    "agente_4x4 = AgenteQLearning(env_4x4, epsilon=0.1, alpha=0.5, discount_factor=0.1, decay=True)\n",
    "agente_4x4.entrenar(num_episodes=200000)"
   ]
  },
  {
   "cell_type": "markdown",
   "id": "5f45bc4c-4001-4cc6-b535-3c85808ff65f",
   "metadata": {},
   "source": [
    "# Gráfica de Proporción de aciertos por número de episodios"
   ]
  },
  {
   "cell_type": "code",
   "execution_count": 21,
   "id": "aec87b34-d1e2-47d5-ad38-45cb9a69d5c2",
   "metadata": {
    "execution": {
     "iopub.execute_input": "2025-05-18T01:00:04.523338Z",
     "iopub.status.busy": "2025-05-18T01:00:04.522435Z",
     "iopub.status.idle": "2025-05-18T01:00:05.002916Z",
     "shell.execute_reply": "2025-05-18T01:00:05.001752Z",
     "shell.execute_reply.started": "2025-05-18T01:00:04.523299Z"
    }
   },
   "outputs": [
    {
     "data": {
      "image/png": "[encoded data removed]",
      "text/plain": [
       "<Figure size 600x300 with 1 Axes>"
      ]
     },
     "metadata": {},
     "output_type": "display_data"
    }
   ],
   "source": [
    "def plot_hit_proportion(agente):\n",
    "    stats = agente.stats\n",
    "    indices = list(range(len(stats)))\n",
    "    plt.figure(figsize=(6, 3))\n",
    "    plt.plot(indices, stats)\n",
    "    plt.title('Proporción de recompensas')\n",
    "    plt.xlabel('Episodio')\n",
    "    plt.ylabel('Proporción')\n",
    "    plt.grid(True)\n",
    "    plt.show()\n",
    "\n",
    "plot_hit_proportion(agente_4x4)"
   ]
  },
  {
   "cell_type": "markdown",
   "id": "23468f23-69ce-41aa-9ef1-425f8a64577a",
   "metadata": {},
   "source": [
    "# Gráfica de longitud de los episodios"
   ]
  },
  {
   "cell_type": "code",
   "execution_count": 22,
   "id": "387a9af9-4f43-44b0-93fa-bc7bccb21a5a",
   "metadata": {
    "execution": {
     "iopub.execute_input": "2025-05-18T01:00:05.004793Z",
     "iopub.status.busy": "2025-05-18T01:00:05.004450Z",
     "iopub.status.idle": "2025-05-18T01:00:05.698357Z",
     "shell.execute_reply": "2025-05-18T01:00:05.675432Z",
     "shell.execute_reply.started": "2025-05-18T01:00:05.004758Z"
    }
   },
   "outputs": [
    {
     "data": {
      "image/png": "[encoded data removed]",
      "text/plain": [
       "<Figure size 640x480 with 1 Axes>"
      ]
     },
     "metadata": {},
     "output_type": "display_data"
    }
   ],
   "source": [
    "def plot_episode_length(agente):\n",
    "    episode_lengths = agente.episode_lengths\n",
    "    plt.plot(episode_lengths)\n",
    "    plt.title(\"f(t) = longitud del episodio t\")\n",
    "    plt.xlabel(\"Episodio\")\n",
    "    plt.ylabel(\"Longitud del episodio\")\n",
    "    plt.grid(True)\n",
    "    plt.show()\n",
    "    \n",
    "plot_episode_length(agente_4x4)"
   ]
  },
  {
   "cell_type": "markdown",
   "id": "c41be3c3-cbeb-4ccc-b99e-f18c59d6a1bc",
   "metadata": {},
   "source": [
    "## Interpretación de las gráficas:\n",
    "\n",
    "1. La primera gráfica muestra la proporción acumulada de recompensas por episodio. Se observa una tendencia ascendente que se estabiliza, lo cual indica que el agente ha aprendido una política que mejora progresivamente su rendimiento. La proporción final cercana a 0.5 sugiere que logra alcanzar el objetivo en aproximadamente la mitad de los episodios.\n",
    "\n",
    "2. La segunda gráfica representa la longitud de cada episodio (número de pasos hasta terminar). Inicialmente, el agente necesita más pasos y los episodios son inestables. A medida que aprende, la longitud tiende a estabilizarse y reducirse, lo cual indica que el agente encuentra trayectorias más eficientes o termina el episodio de forma más consistente.\n",
    "\n",
    "Ambas gráficas son complementarias: mientras que una muestra la eficacia del agente, la otra muestra su eficiencia y estabilidad."
   ]
  },
  {
   "cell_type": "code",
   "execution_count": 23,
   "id": "e0f11422-d438-46e9-a88a-d944ecafbce9",
   "metadata": {
    "execution": {
     "iopub.execute_input": "2025-05-18T01:00:05.705244Z",
     "iopub.status.busy": "2025-05-18T01:00:05.704766Z",
     "iopub.status.idle": "2025-05-18T01:00:05.902536Z",
     "shell.execute_reply": "2025-05-18T01:00:05.901737Z",
     "shell.execute_reply.started": "2025-05-18T01:00:05.705216Z"
    }
   },
   "outputs": [
    {
     "data": {
      "text/html": [
       "<pre style='font-size: 24px'>🚩🧊🧊🧊<br>🧊💀🧊💀<br>🧊🧊🧊💀<br>💀🧊🧊🐧<br></pre>"
      ],
      "text/plain": [
       "<IPython.core.display.HTML object>"
      ]
     },
     "metadata": {},
     "output_type": "display_data"
    },
    {
     "name": "stdout",
     "output_type": "stream",
     "text": [
      "Recompensa total siguiendo la política greedy: 1.0\n",
      "Secuencia de acciones tomadas: ['↓', '↓', '→', '↓', '→', '→']\n",
      "Valores Q aprendidos por estado y acción:\n"
     ]
    },
    {
     "data": {
      "text/html": [
       "<div>\n",
       "<style scoped>\n",
       "    .dataframe tbody tr th:only-of-type {\n",
       "        vertical-align: middle;\n",
       "    }\n",
       "\n",
       "    .dataframe tbody tr th {\n",
       "        vertical-align: top;\n",
       "    }\n",
       "\n",
       "    .dataframe thead th {\n",
       "        text-align: right;\n",
       "    }\n",
       "</style>\n",
       "<table border=\"1\" class=\"dataframe\">\n",
       "  <thead>\n",
       "    <tr style=\"text-align: right;\">\n",
       "      <th></th>\n",
       "      <th>← Izquierda</th>\n",
       "      <th>↓ Abajo</th>\n",
       "      <th>→ Derecha</th>\n",
       "      <th>↑ Arriba</th>\n",
       "    </tr>\n",
       "    <tr>\n",
       "      <th>Estado</th>\n",
       "      <th></th>\n",
       "      <th></th>\n",
       "      <th></th>\n",
       "      <th></th>\n",
       "    </tr>\n",
       "  </thead>\n",
       "  <tbody>\n",
       "    <tr>\n",
       "      <th>0</th>\n",
       "      <td>1.000000e-06</td>\n",
       "      <td>0.00001</td>\n",
       "      <td>0.00001</td>\n",
       "      <td>1.000000e-06</td>\n",
       "    </tr>\n",
       "    <tr>\n",
       "      <th>1</th>\n",
       "      <td>1.000000e-06</td>\n",
       "      <td>0.00000</td>\n",
       "      <td>0.00010</td>\n",
       "      <td>1.000000e-05</td>\n",
       "    </tr>\n",
       "    <tr>\n",
       "      <th>2</th>\n",
       "      <td>1.000000e-05</td>\n",
       "      <td>0.00100</td>\n",
       "      <td>0.00001</td>\n",
       "      <td>1.000000e-04</td>\n",
       "    </tr>\n",
       "    <tr>\n",
       "      <th>3</th>\n",
       "      <td>1.000000e-04</td>\n",
       "      <td>0.00000</td>\n",
       "      <td>0.00001</td>\n",
       "      <td>9.999990e-06</td>\n",
       "    </tr>\n",
       "    <tr>\n",
       "      <th>4</th>\n",
       "      <td>1.000000e-05</td>\n",
       "      <td>0.00010</td>\n",
       "      <td>0.00000</td>\n",
       "      <td>1.000000e-06</td>\n",
       "    </tr>\n",
       "    <tr>\n",
       "      <th>5</th>\n",
       "      <td>0.000000e+00</td>\n",
       "      <td>0.00000</td>\n",
       "      <td>0.00000</td>\n",
       "      <td>0.000000e+00</td>\n",
       "    </tr>\n",
       "    <tr>\n",
       "      <th>6</th>\n",
       "      <td>0.000000e+00</td>\n",
       "      <td>0.01000</td>\n",
       "      <td>0.00000</td>\n",
       "      <td>1.000000e-04</td>\n",
       "    </tr>\n",
       "    <tr>\n",
       "      <th>7</th>\n",
       "      <td>0.000000e+00</td>\n",
       "      <td>0.00000</td>\n",
       "      <td>0.00000</td>\n",
       "      <td>0.000000e+00</td>\n",
       "    </tr>\n",
       "    <tr>\n",
       "      <th>8</th>\n",
       "      <td>1.000000e-04</td>\n",
       "      <td>0.00000</td>\n",
       "      <td>0.00100</td>\n",
       "      <td>1.000000e-05</td>\n",
       "    </tr>\n",
       "    <tr>\n",
       "      <th>9</th>\n",
       "      <td>1.000000e-04</td>\n",
       "      <td>0.01000</td>\n",
       "      <td>0.01000</td>\n",
       "      <td>0.000000e+00</td>\n",
       "    </tr>\n",
       "    <tr>\n",
       "      <th>10</th>\n",
       "      <td>1.000000e-03</td>\n",
       "      <td>0.10000</td>\n",
       "      <td>0.00000</td>\n",
       "      <td>1.000000e-03</td>\n",
       "    </tr>\n",
       "    <tr>\n",
       "      <th>11</th>\n",
       "      <td>0.000000e+00</td>\n",
       "      <td>0.00000</td>\n",
       "      <td>0.00000</td>\n",
       "      <td>0.000000e+00</td>\n",
       "    </tr>\n",
       "    <tr>\n",
       "      <th>12</th>\n",
       "      <td>0.000000e+00</td>\n",
       "      <td>0.00000</td>\n",
       "      <td>0.00000</td>\n",
       "      <td>0.000000e+00</td>\n",
       "    </tr>\n",
       "    <tr>\n",
       "      <th>13</th>\n",
       "      <td>0.000000e+00</td>\n",
       "      <td>0.01000</td>\n",
       "      <td>0.10000</td>\n",
       "      <td>1.000000e-03</td>\n",
       "    </tr>\n",
       "    <tr>\n",
       "      <th>14</th>\n",
       "      <td>1.000000e-02</td>\n",
       "      <td>0.10000</td>\n",
       "      <td>1.00000</td>\n",
       "      <td>1.000000e-02</td>\n",
       "    </tr>\n",
       "    <tr>\n",
       "      <th>15</th>\n",
       "      <td>0.000000e+00</td>\n",
       "      <td>0.00000</td>\n",
       "      <td>0.00000</td>\n",
       "      <td>0.000000e+00</td>\n",
       "    </tr>\n",
       "  </tbody>\n",
       "</table>\n",
       "</div>"
      ],
      "text/plain": [
       "         ← Izquierda  ↓ Abajo  → Derecha      ↑ Arriba\n",
       "Estado                                                \n",
       "0       1.000000e-06  0.00001    0.00001  1.000000e-06\n",
       "1       1.000000e-06  0.00000    0.00010  1.000000e-05\n",
       "2       1.000000e-05  0.00100    0.00001  1.000000e-04\n",
       "3       1.000000e-04  0.00000    0.00001  9.999990e-06\n",
       "4       1.000000e-05  0.00010    0.00000  1.000000e-06\n",
       "5       0.000000e+00  0.00000    0.00000  0.000000e+00\n",
       "6       0.000000e+00  0.01000    0.00000  1.000000e-04\n",
       "7       0.000000e+00  0.00000    0.00000  0.000000e+00\n",
       "8       1.000000e-04  0.00000    0.00100  1.000000e-05\n",
       "9       1.000000e-04  0.01000    0.01000  0.000000e+00\n",
       "10      1.000000e-03  0.10000    0.00000  1.000000e-03\n",
       "11      0.000000e+00  0.00000    0.00000  0.000000e+00\n",
       "12      0.000000e+00  0.00000    0.00000  0.000000e+00\n",
       "13      0.000000e+00  0.01000    0.10000  1.000000e-03\n",
       "14      1.000000e-02  0.10000    1.00000  1.000000e-02\n",
       "15      0.000000e+00  0.00000    0.00000  0.000000e+00"
      ]
     },
     "metadata": {},
     "output_type": "display_data"
    },
    {
     "name": "stdout",
     "output_type": "stream",
     "text": [
      "\n",
      "Política óptima aprendida (mejor acción por estado):\n"
     ]
    },
    {
     "data": {
      "text/html": [
       "<div>\n",
       "<style scoped>\n",
       "    .dataframe tbody tr th:only-of-type {\n",
       "        vertical-align: middle;\n",
       "    }\n",
       "\n",
       "    .dataframe tbody tr th {\n",
       "        vertical-align: top;\n",
       "    }\n",
       "\n",
       "    .dataframe thead th {\n",
       "        text-align: right;\n",
       "    }\n",
       "</style>\n",
       "<table border=\"1\" class=\"dataframe\">\n",
       "  <thead>\n",
       "    <tr style=\"text-align: right;\">\n",
       "      <th></th>\n",
       "      <th>Mejor acción</th>\n",
       "      <th>Estado siguiente</th>\n",
       "    </tr>\n",
       "  </thead>\n",
       "  <tbody>\n",
       "    <tr>\n",
       "      <th>Estado 0</th>\n",
       "      <td>↓</td>\n",
       "      <td>Estado 4</td>\n",
       "    </tr>\n",
       "    <tr>\n",
       "      <th>Estado 1</th>\n",
       "      <td>→</td>\n",
       "      <td>Estado 2</td>\n",
       "    </tr>\n",
       "    <tr>\n",
       "      <th>Estado 2</th>\n",
       "      <td>↓</td>\n",
       "      <td>Estado 6</td>\n",
       "    </tr>\n",
       "    <tr>\n",
       "      <th>Estado 3</th>\n",
       "      <td>←</td>\n",
       "      <td>Estado 2</td>\n",
       "    </tr>\n",
       "    <tr>\n",
       "      <th>Estado 4</th>\n",
       "      <td>↓</td>\n",
       "      <td>Estado 8</td>\n",
       "    </tr>\n",
       "    <tr>\n",
       "      <th>Estado 5</th>\n",
       "      <td>X</td>\n",
       "      <td>-</td>\n",
       "    </tr>\n",
       "    <tr>\n",
       "      <th>Estado 6</th>\n",
       "      <td>↓</td>\n",
       "      <td>Estado 10</td>\n",
       "    </tr>\n",
       "    <tr>\n",
       "      <th>Estado 7</th>\n",
       "      <td>X</td>\n",
       "      <td>-</td>\n",
       "    </tr>\n",
       "    <tr>\n",
       "      <th>Estado 8</th>\n",
       "      <td>→</td>\n",
       "      <td>Estado 9</td>\n",
       "    </tr>\n",
       "    <tr>\n",
       "      <th>Estado 9</th>\n",
       "      <td>↓</td>\n",
       "      <td>Estado 13</td>\n",
       "    </tr>\n",
       "    <tr>\n",
       "      <th>Estado 10</th>\n",
       "      <td>↓</td>\n",
       "      <td>Estado 14</td>\n",
       "    </tr>\n",
       "    <tr>\n",
       "      <th>Estado 11</th>\n",
       "      <td>X</td>\n",
       "      <td>-</td>\n",
       "    </tr>\n",
       "    <tr>\n",
       "      <th>Estado 12</th>\n",
       "      <td>X</td>\n",
       "      <td>-</td>\n",
       "    </tr>\n",
       "    <tr>\n",
       "      <th>Estado 13</th>\n",
       "      <td>→</td>\n",
       "      <td>Estado 14</td>\n",
       "    </tr>\n",
       "    <tr>\n",
       "      <th>Estado 14</th>\n",
       "      <td>→</td>\n",
       "      <td>Estado 15</td>\n",
       "    </tr>\n",
       "    <tr>\n",
       "      <th>Estado 15</th>\n",
       "      <td>X</td>\n",
       "      <td>-</td>\n",
       "    </tr>\n",
       "  </tbody>\n",
       "</table>\n",
       "</div>"
      ],
      "text/plain": [
       "          Mejor acción Estado siguiente\n",
       "Estado 0             ↓         Estado 4\n",
       "Estado 1             →         Estado 2\n",
       "Estado 2             ↓         Estado 6\n",
       "Estado 3             ←         Estado 2\n",
       "Estado 4             ↓         Estado 8\n",
       "Estado 5             X                -\n",
       "Estado 6             ↓        Estado 10\n",
       "Estado 7             X                -\n",
       "Estado 8             →         Estado 9\n",
       "Estado 9             ↓        Estado 13\n",
       "Estado 10            ↓        Estado 14\n",
       "Estado 11            X                -\n",
       "Estado 12            X                -\n",
       "Estado 13            →        Estado 14\n",
       "Estado 14            →        Estado 15\n",
       "Estado 15            X                -"
      ]
     },
     "metadata": {},
     "output_type": "display_data"
    }
   ],
   "source": [
    "pi_star_from_Q(agente_4x4)\n",
    "\n",
    "# Mostrar la tabla Q aprendida\n",
    "print(\"Valores Q aprendidos por estado y acción:\")\n",
    "q_table = pd.DataFrame(agente_4x4.Q, columns=['← Izquierda', '↓ Abajo', '→ Derecha', '↑ Arriba'])\n",
    "q_table.index.name = 'Estado'\n",
    "display(q_table)\n",
    "\n",
    "# Mostrar política óptima\n",
    "print(\"\\nPolítica óptima aprendida (mejor acción por estado):\")\n",
    "obtener_politica_optima(agente_4x4)"
   ]
  },
  {
   "cell_type": "markdown",
   "id": "3c14d823-59c1-4791-a525-509d7f945d88",
   "metadata": {},
   "source": [
    "# Entorno 8x8"
   ]
  },
  {
   "cell_type": "code",
   "execution_count": 5,
   "id": "d8432bd7-07ab-4195-b0b7-444deded7ae1",
   "metadata": {
    "execution": {
     "iopub.execute_input": "2025-05-17T01:19:52.147160Z",
     "iopub.status.busy": "2025-05-17T01:19:52.145753Z",
     "iopub.status.idle": "2025-05-17T03:39:32.692460Z",
     "shell.execute_reply": "2025-05-17T03:39:32.690323Z",
     "shell.execute_reply.started": "2025-05-17T01:19:52.147048Z"
    }
   },
   "outputs": [
    {
     "name": "stdout",
     "output_type": "stream",
     "text": [
      "🔍 Buscando la mejor combinación de hiperparámetros...\n",
      "\n"
     ]
    },
    {
     "name": "stderr",
     "output_type": "stream",
     "text": [
      "Progreso: 100%|█████████████████████████████████████████████████████████████████████| 800/800 [2:19:39<00:00, 10.47s/it]"
     ]
    },
    {
     "name": "stdout",
     "output_type": "stream",
     "text": [
      "\n",
      "✅ Mejor configuración encontrada:\n",
      " alpha = 0.05, γ = 1.0, ε = 0.1, decay = True\n",
      "  → Recompensa media final: 0.8087\n"
     ]
    },
    {
     "name": "stderr",
     "output_type": "stream",
     "text": [
      "\n"
     ]
    }
   ],
   "source": [
    "grid_search(\"8x8\")"
   ]
  },
  {
   "cell_type": "code",
   "execution_count": 24,
   "id": "fe298185-4405-4c7f-b797-6226b3fc585b",
   "metadata": {
    "execution": {
     "iopub.execute_input": "2025-05-18T01:00:05.904237Z",
     "iopub.status.busy": "2025-05-18T01:00:05.903694Z",
     "iopub.status.idle": "2025-05-18T01:06:18.611326Z",
     "shell.execute_reply": "2025-05-18T01:06:18.610084Z",
     "shell.execute_reply.started": "2025-05-18T01:00:05.904207Z"
    }
   },
   "outputs": [
    {
     "name": "stderr",
     "output_type": "stream",
     "text": [
      "100%|██████████████████████████████████████████████████████████████████████████| 200000/200000 [06:12<00:00, 536.79it/s]\n"
     ]
    },
    {
     "data": {
      "text/plain": [
       "array([[1.00000000e+00, 1.00000000e+00, 1.00000000e+00, 1.00000000e+00],\n",
       "       [1.00000000e+00, 1.00000000e+00, 1.00000000e+00, 1.00000000e+00],\n",
       "       [1.00000000e+00, 1.00000000e+00, 1.00000000e+00, 1.00000000e+00],\n",
       "       [9.82338597e-01, 1.00000000e+00, 9.94869844e-01, 9.94393734e-01],\n",
       "       [9.53015087e-01, 1.00000000e+00, 9.27298940e-01, 9.14341941e-01],\n",
       "       [9.25421284e-01, 1.00000000e+00, 8.95900198e-01, 8.18222837e-01],\n",
       "       [9.27471984e-01, 1.00000000e+00, 9.41592186e-01, 8.88967139e-01],\n",
       "       [9.17291692e-01, 1.00000000e+00, 9.10371532e-01, 9.38536207e-01],\n",
       "       [1.00000000e+00, 1.00000000e+00, 1.00000000e+00, 1.00000000e+00],\n",
       "       [1.00000000e+00, 1.00000000e+00, 1.00000000e+00, 1.00000000e+00],\n",
       "       [1.00000000e+00, 1.00000000e+00, 1.00000000e+00, 1.00000000e+00],\n",
       "       [1.00000000e+00, 0.00000000e+00, 1.00000000e+00, 1.00000000e+00],\n",
       "       [1.00000000e+00, 1.00000000e+00, 1.00000000e+00, 1.00000000e+00],\n",
       "       [1.00000000e+00, 1.00000000e+00, 1.00000000e+00, 1.00000000e+00],\n",
       "       [1.00000000e+00, 1.00000000e+00, 1.00000000e+00, 1.00000000e+00],\n",
       "       [1.00000000e+00, 1.00000000e+00, 1.00000000e+00, 1.00000000e+00],\n",
       "       [5.50377899e-01, 1.13461053e-01, 5.05927727e-01, 1.00000000e+00],\n",
       "       [4.92841582e-01, 2.10157293e-01, 6.59666631e-01, 1.00000000e+00],\n",
       "       [8.78921115e-01, 4.59772311e-01, 0.00000000e+00, 1.00000000e+00],\n",
       "       [0.00000000e+00, 0.00000000e+00, 0.00000000e+00, 0.00000000e+00],\n",
       "       [0.00000000e+00, 9.99999999e-01, 1.00000000e+00, 1.00000000e+00],\n",
       "       [1.00000000e+00, 0.00000000e+00, 1.00000000e+00, 1.00000000e+00],\n",
       "       [1.00000000e+00, 1.00000000e+00, 1.00000000e+00, 1.00000000e+00],\n",
       "       [1.00000000e+00, 1.00000000e+00, 1.00000000e+00, 1.00000000e+00],\n",
       "       [4.87011410e-02, 1.26553602e-03, 4.42867841e-02, 4.23676740e-01],\n",
       "       [4.16368094e-02, 1.22020785e-03, 3.00804509e-02, 5.69922799e-01],\n",
       "       [6.19199055e-02, 5.91510371e-03, 1.04403206e-02, 8.07075460e-01],\n",
       "       [2.13086330e-01, 0.00000000e+00, 1.32246245e-02, 0.00000000e+00],\n",
       "       [2.51605995e-02, 1.44666475e-02, 0.00000000e+00, 1.00000000e+00],\n",
       "       [0.00000000e+00, 0.00000000e+00, 0.00000000e+00, 0.00000000e+00],\n",
       "       [0.00000000e+00, 9.84942716e-01, 1.00000000e+00, 9.74781227e-01],\n",
       "       [1.00000000e+00, 1.00000000e+00, 1.00000000e+00, 1.00000000e+00],\n",
       "       [2.88146891e-07, 1.67160939e-08, 9.72345286e-04, 3.16529152e-02],\n",
       "       [2.26474319e-04, 0.00000000e+00, 2.10268285e-03, 9.35251675e-03],\n",
       "       [3.77368310e-04, 0.00000000e+00, 0.00000000e+00, 5.58845462e-02],\n",
       "       [0.00000000e+00, 0.00000000e+00, 0.00000000e+00, 0.00000000e+00],\n",
       "       [0.00000000e+00, 1.27424366e-05, 1.99393157e-01, 3.33507815e-06],\n",
       "       [9.36992334e-03, 1.95022164e-03, 9.52856097e-01, 0.00000000e+00],\n",
       "       [7.99130710e-01, 0.00000000e+00, 1.00000000e+00, 9.22627428e-01],\n",
       "       [1.00000000e+00, 1.00000000e+00, 1.00000000e+00, 1.00000000e+00],\n",
       "       [7.92716782e-11, 2.34889627e-12, 0.00000000e+00, 1.90099555e-06],\n",
       "       [0.00000000e+00, 0.00000000e+00, 0.00000000e+00, 0.00000000e+00],\n",
       "       [0.00000000e+00, 0.00000000e+00, 0.00000000e+00, 0.00000000e+00],\n",
       "       [0.00000000e+00, 0.00000000e+00, 0.00000000e+00, 0.00000000e+00],\n",
       "       [0.00000000e+00, 0.00000000e+00, 1.03296628e-06, 8.08671106e-03],\n",
       "       [9.67978548e-06, 0.00000000e+00, 0.00000000e+00, 5.65287243e-02],\n",
       "       [0.00000000e+00, 0.00000000e+00, 0.00000000e+00, 0.00000000e+00],\n",
       "       [0.00000000e+00, 1.00000000e+00, 1.00000000e+00, 1.00000000e+00],\n",
       "       [1.24973960e-12, 9.54091879e-15, 0.00000000e+00, 1.58311435e-09],\n",
       "       [0.00000000e+00, 0.00000000e+00, 0.00000000e+00, 0.00000000e+00],\n",
       "       [0.00000000e+00, 0.00000000e+00, 0.00000000e+00, 0.00000000e+00],\n",
       "       [0.00000000e+00, 0.00000000e+00, 0.00000000e+00, 0.00000000e+00],\n",
       "       [0.00000000e+00, 0.00000000e+00, 0.00000000e+00, 0.00000000e+00],\n",
       "       [0.00000000e+00, 0.00000000e+00, 0.00000000e+00, 0.00000000e+00],\n",
       "       [0.00000000e+00, 0.00000000e+00, 0.00000000e+00, 0.00000000e+00],\n",
       "       [0.00000000e+00, 1.00000000e+00, 1.00000000e+00, 1.00000000e+00],\n",
       "       [5.35007674e-15, 1.41525395e-14, 0.00000000e+00, 4.77726816e-13],\n",
       "       [1.63359318e-19, 0.00000000e+00, 0.00000000e+00, 0.00000000e+00],\n",
       "       [0.00000000e+00, 0.00000000e+00, 0.00000000e+00, 0.00000000e+00],\n",
       "       [0.00000000e+00, 0.00000000e+00, 0.00000000e+00, 0.00000000e+00],\n",
       "       [0.00000000e+00, 0.00000000e+00, 0.00000000e+00, 0.00000000e+00],\n",
       "       [0.00000000e+00, 0.00000000e+00, 0.00000000e+00, 0.00000000e+00],\n",
       "       [0.00000000e+00, 0.00000000e+00, 0.00000000e+00, 0.00000000e+00],\n",
       "       [0.00000000e+00, 0.00000000e+00, 0.00000000e+00, 0.00000000e+00]])"
      ]
     },
     "execution_count": 24,
     "metadata": {},
     "output_type": "execute_result"
    }
   ],
   "source": [
    "# Ejecución de ejemplo\n",
    "env_8x8 = gym.make(\"FrozenLake-v1\", is_slippery=False, map_name=\"8x8\")\n",
    "env_8x8.action_space.seed(SEED)\n",
    "env_8x8.observation_space.seed(SEED)\n",
    "env_8x8.reset(seed=SEED)\n",
    "agente_8x8 = AgenteQLearning(env_8x8, epsilon=0.1, alpha=0.05, discount_factor=1.0, decay=True)\n",
    "agente_8x8.entrenar(num_episodes=200000)"
   ]
  },
  {
   "cell_type": "code",
   "execution_count": 25,
   "id": "91ffc416-d029-4ee2-97c3-f711c4e0a14e",
   "metadata": {
    "execution": {
     "iopub.execute_input": "2025-05-18T01:06:18.620566Z",
     "iopub.status.busy": "2025-05-18T01:06:18.614577Z",
     "iopub.status.idle": "2025-05-18T01:06:19.288441Z",
     "shell.execute_reply": "2025-05-18T01:06:19.282564Z",
     "shell.execute_reply.started": "2025-05-18T01:06:18.618763Z"
    }
   },
   "outputs": [
    {
     "data": {
      "image/png": "[encoded data removed]",
      "text/plain": [
       "<Figure size 600x300 with 1 Axes>"
      ]
     },
     "metadata": {},
     "output_type": "display_data"
    }
   ],
   "source": [
    "plot_hit_proportion(agente_8x8)"
   ]
  },
  {
   "cell_type": "code",
   "execution_count": 26,
   "id": "a612e365-90dd-4c60-bfef-c64a6e442b1e",
   "metadata": {
    "execution": {
     "iopub.execute_input": "2025-05-18T01:06:19.303960Z",
     "iopub.status.busy": "2025-05-18T01:06:19.301579Z",
     "iopub.status.idle": "2025-05-18T01:06:19.802353Z",
     "shell.execute_reply": "2025-05-18T01:06:19.801203Z",
     "shell.execute_reply.started": "2025-05-18T01:06:19.303778Z"
    }
   },
   "outputs": [
    {
     "data": {
      "image/png": "[encoded data removed]",
      "text/plain": [
       "<Figure size 640x480 with 1 Axes>"
      ]
     },
     "metadata": {},
     "output_type": "display_data"
    }
   ],
   "source": [
    "plot_episode_length(agente_8x8)"
   ]
  },
  {
   "cell_type": "code",
   "execution_count": 27,
   "id": "414d4394-691e-4a14-8795-ec2fd5187e03",
   "metadata": {
    "execution": {
     "iopub.execute_input": "2025-05-18T01:06:19.807260Z",
     "iopub.status.busy": "2025-05-18T01:06:19.806656Z",
     "iopub.status.idle": "2025-05-18T01:06:20.138403Z",
     "shell.execute_reply": "2025-05-18T01:06:20.132400Z",
     "shell.execute_reply.started": "2025-05-18T01:06:19.807226Z"
    }
   },
   "outputs": [
    {
     "data": {
      "text/html": [
       "<pre style='font-size: 24px'>🚩🧊🧊🧊🧊🧊🧊🧊<br>🧊🧊🧊🧊🧊🧊🧊🧊<br>🧊🧊🧊💀🧊🧊🧊🧊<br>🧊🧊🧊🧊🧊💀🧊🧊<br>🧊🧊🧊💀🧊🧊🧊🧊<br>🧊💀💀🧊🧊🧊💀🧊<br>🧊💀🧊🧊💀🧊💀🧊<br>🧊🧊🧊💀🧊🧊🧊🐧<br></pre>"
      ],
      "text/plain": [
       "<IPython.core.display.HTML object>"
      ]
     },
     "metadata": {},
     "output_type": "display_data"
    },
    {
     "name": "stdout",
     "output_type": "stream",
     "text": [
      "Recompensa total siguiendo la política greedy: 1.0\n",
      "Secuencia de acciones tomadas: ['↓', '→', '→', '→', '→', '↓', '→', '→', '↓', '→', '↓', '↓', '↓', '↓']\n",
      "Valores Q aprendidos por estado y acción:\n"
     ]
    },
    {
     "data": {
      "text/html": [
       "<div>\n",
       "<style scoped>\n",
       "    .dataframe tbody tr th:only-of-type {\n",
       "        vertical-align: middle;\n",
       "    }\n",
       "\n",
       "    .dataframe tbody tr th {\n",
       "        vertical-align: top;\n",
       "    }\n",
       "\n",
       "    .dataframe thead th {\n",
       "        text-align: right;\n",
       "    }\n",
       "</style>\n",
       "<table border=\"1\" class=\"dataframe\">\n",
       "  <thead>\n",
       "    <tr style=\"text-align: right;\">\n",
       "      <th></th>\n",
       "      <th>← Izquierda</th>\n",
       "      <th>↓ Abajo</th>\n",
       "      <th>→ Derecha</th>\n",
       "      <th>↑ Arriba</th>\n",
       "    </tr>\n",
       "    <tr>\n",
       "      <th>Estado</th>\n",
       "      <th></th>\n",
       "      <th></th>\n",
       "      <th></th>\n",
       "      <th></th>\n",
       "    </tr>\n",
       "  </thead>\n",
       "  <tbody>\n",
       "    <tr>\n",
       "      <th>0</th>\n",
       "      <td>1.000000</td>\n",
       "      <td>1.0</td>\n",
       "      <td>1.000000</td>\n",
       "      <td>1.000000</td>\n",
       "    </tr>\n",
       "    <tr>\n",
       "      <th>1</th>\n",
       "      <td>1.000000</td>\n",
       "      <td>1.0</td>\n",
       "      <td>1.000000</td>\n",
       "      <td>1.000000</td>\n",
       "    </tr>\n",
       "    <tr>\n",
       "      <th>2</th>\n",
       "      <td>1.000000</td>\n",
       "      <td>1.0</td>\n",
       "      <td>1.000000</td>\n",
       "      <td>1.000000</td>\n",
       "    </tr>\n",
       "    <tr>\n",
       "      <th>3</th>\n",
       "      <td>0.982339</td>\n",
       "      <td>1.0</td>\n",
       "      <td>0.994870</td>\n",
       "      <td>0.994394</td>\n",
       "    </tr>\n",
       "    <tr>\n",
       "      <th>4</th>\n",
       "      <td>0.953015</td>\n",
       "      <td>1.0</td>\n",
       "      <td>0.927299</td>\n",
       "      <td>0.914342</td>\n",
       "    </tr>\n",
       "    <tr>\n",
       "      <th>...</th>\n",
       "      <td>...</td>\n",
       "      <td>...</td>\n",
       "      <td>...</td>\n",
       "      <td>...</td>\n",
       "    </tr>\n",
       "    <tr>\n",
       "      <th>59</th>\n",
       "      <td>0.000000</td>\n",
       "      <td>0.0</td>\n",
       "      <td>0.000000</td>\n",
       "      <td>0.000000</td>\n",
       "    </tr>\n",
       "    <tr>\n",
       "      <th>60</th>\n",
       "      <td>0.000000</td>\n",
       "      <td>0.0</td>\n",
       "      <td>0.000000</td>\n",
       "      <td>0.000000</td>\n",
       "    </tr>\n",
       "    <tr>\n",
       "      <th>61</th>\n",
       "      <td>0.000000</td>\n",
       "      <td>0.0</td>\n",
       "      <td>0.000000</td>\n",
       "      <td>0.000000</td>\n",
       "    </tr>\n",
       "    <tr>\n",
       "      <th>62</th>\n",
       "      <td>0.000000</td>\n",
       "      <td>0.0</td>\n",
       "      <td>0.000000</td>\n",
       "      <td>0.000000</td>\n",
       "    </tr>\n",
       "    <tr>\n",
       "      <th>63</th>\n",
       "      <td>0.000000</td>\n",
       "      <td>0.0</td>\n",
       "      <td>0.000000</td>\n",
       "      <td>0.000000</td>\n",
       "    </tr>\n",
       "  </tbody>\n",
       "</table>\n",
       "<p>64 rows × 4 columns</p>\n",
       "</div>"
      ],
      "text/plain": [
       "        ← Izquierda  ↓ Abajo  → Derecha  ↑ Arriba\n",
       "Estado                                           \n",
       "0          1.000000      1.0   1.000000  1.000000\n",
       "1          1.000000      1.0   1.000000  1.000000\n",
       "2          1.000000      1.0   1.000000  1.000000\n",
       "3          0.982339      1.0   0.994870  0.994394\n",
       "4          0.953015      1.0   0.927299  0.914342\n",
       "...             ...      ...        ...       ...\n",
       "59         0.000000      0.0   0.000000  0.000000\n",
       "60         0.000000      0.0   0.000000  0.000000\n",
       "61         0.000000      0.0   0.000000  0.000000\n",
       "62         0.000000      0.0   0.000000  0.000000\n",
       "63         0.000000      0.0   0.000000  0.000000\n",
       "\n",
       "[64 rows x 4 columns]"
      ]
     },
     "metadata": {},
     "output_type": "display_data"
    },
    {
     "name": "stdout",
     "output_type": "stream",
     "text": [
      "\n",
      "Política óptima aprendida (mejor acción por estado):\n"
     ]
    },
    {
     "data": {
      "text/html": [
       "<div>\n",
       "<style scoped>\n",
       "    .dataframe tbody tr th:only-of-type {\n",
       "        vertical-align: middle;\n",
       "    }\n",
       "\n",
       "    .dataframe tbody tr th {\n",
       "        vertical-align: top;\n",
       "    }\n",
       "\n",
       "    .dataframe thead th {\n",
       "        text-align: right;\n",
       "    }\n",
       "</style>\n",
       "<table border=\"1\" class=\"dataframe\">\n",
       "  <thead>\n",
       "    <tr style=\"text-align: right;\">\n",
       "      <th></th>\n",
       "      <th>Mejor acción</th>\n",
       "      <th>Estado siguiente</th>\n",
       "    </tr>\n",
       "  </thead>\n",
       "  <tbody>\n",
       "    <tr>\n",
       "      <th>Estado 0</th>\n",
       "      <td>↓</td>\n",
       "      <td>Estado 8</td>\n",
       "    </tr>\n",
       "    <tr>\n",
       "      <th>Estado 1</th>\n",
       "      <td>→</td>\n",
       "      <td>Estado 2</td>\n",
       "    </tr>\n",
       "    <tr>\n",
       "      <th>Estado 2</th>\n",
       "      <td>↓</td>\n",
       "      <td>Estado 10</td>\n",
       "    </tr>\n",
       "    <tr>\n",
       "      <th>Estado 3</th>\n",
       "      <td>↓</td>\n",
       "      <td>Estado 11</td>\n",
       "    </tr>\n",
       "    <tr>\n",
       "      <th>Estado 4</th>\n",
       "      <td>↓</td>\n",
       "      <td>Estado 12</td>\n",
       "    </tr>\n",
       "    <tr>\n",
       "      <th>...</th>\n",
       "      <td>...</td>\n",
       "      <td>...</td>\n",
       "    </tr>\n",
       "    <tr>\n",
       "      <th>Estado 59</th>\n",
       "      <td>X</td>\n",
       "      <td>-</td>\n",
       "    </tr>\n",
       "    <tr>\n",
       "      <th>Estado 60</th>\n",
       "      <td>X</td>\n",
       "      <td>-</td>\n",
       "    </tr>\n",
       "    <tr>\n",
       "      <th>Estado 61</th>\n",
       "      <td>X</td>\n",
       "      <td>-</td>\n",
       "    </tr>\n",
       "    <tr>\n",
       "      <th>Estado 62</th>\n",
       "      <td>X</td>\n",
       "      <td>-</td>\n",
       "    </tr>\n",
       "    <tr>\n",
       "      <th>Estado 63</th>\n",
       "      <td>X</td>\n",
       "      <td>-</td>\n",
       "    </tr>\n",
       "  </tbody>\n",
       "</table>\n",
       "<p>64 rows × 2 columns</p>\n",
       "</div>"
      ],
      "text/plain": [
       "          Mejor acción Estado siguiente\n",
       "Estado 0             ↓         Estado 8\n",
       "Estado 1             →         Estado 2\n",
       "Estado 2             ↓        Estado 10\n",
       "Estado 3             ↓        Estado 11\n",
       "Estado 4             ↓        Estado 12\n",
       "...                ...              ...\n",
       "Estado 59            X                -\n",
       "Estado 60            X                -\n",
       "Estado 61            X                -\n",
       "Estado 62            X                -\n",
       "Estado 63            X                -\n",
       "\n",
       "[64 rows x 2 columns]"
      ]
     },
     "metadata": {},
     "output_type": "display_data"
    }
   ],
   "source": [
    "pi_star_from_Q(agente_8x8)\n",
    "\n",
    "# Mostrar la tabla Q aprendida\n",
    "print(\"Valores Q aprendidos por estado y acción:\")\n",
    "q_table = pd.DataFrame(agente_8x8.Q, columns=['← Izquierda', '↓ Abajo', '→ Derecha', '↑ Arriba'])\n",
    "q_table.index.name = 'Estado'\n",
    "display(q_table)\n",
    "\n",
    "# Mostrar política óptima\n",
    "print(\"\\nPolítica óptima aprendida (mejor acción por estado):\")\n",
    "obtener_politica_optima(agente_8x8)"
   ]
  },
  {
   "cell_type": "code",
   "execution_count": null,
   "id": "28b24236-2bbd-48ff-a341-b68dc9cf8d5b",
   "metadata": {},
   "outputs": [],
   "source": []
  },
  {
   "cell_type": "code",
   "execution_count": null,
   "id": "a44e5af4-8620-4bb4-af05-f6956a8126a5",
   "metadata": {},
   "outputs": [],
   "source": []
  }
 ],
 "metadata": {
  "kernelspec": {
   "display_name": "Python 3 (ipykernel)",
   "language": "python",
   "name": "python3"
  },
  "language_info": {
   "codemirror_mode": {
    "name": "ipython",
    "version": 3
   },
   "file_extension": ".py",
   "mimetype": "text/x-python",
   "name": "python",
   "nbconvert_exporter": "python",
   "pygments_lexer": "ipython3",
   "version": "3.10.12"
  }
 },
 "nbformat": 4,
 "nbformat_minor": 5
}
