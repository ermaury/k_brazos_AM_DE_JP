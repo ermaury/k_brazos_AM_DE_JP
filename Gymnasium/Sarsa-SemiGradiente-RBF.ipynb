{
 "cells": [
  {
   "cell_type": "code",
   "execution_count": 1,
   "id": "aaaaa489",
   "metadata": {
    "execution": {
     "iopub.execute_input": "2025-05-25T01:41:23.632167Z",
     "iopub.status.busy": "2025-05-25T01:41:23.631859Z",
     "iopub.status.idle": "2025-05-25T01:41:37.894791Z",
     "shell.execute_reply": "2025-05-25T01:41:37.893881Z",
     "shell.execute_reply.started": "2025-05-25T01:41:23.632141Z"
    }
   },
   "outputs": [
    {
     "name": "stdout",
     "output_type": "stream",
     "text": [
      "Requirement already satisfied: gymnasium in /home/user/miniconda3/envs/cvenv/lib/python3.10/site-packages (1.1.1)\n",
      "Requirement already satisfied: numpy>=1.21.0 in /home/user/miniconda3/envs/cvenv/lib/python3.10/site-packages (from gymnasium) (1.24.1)\n",
      "Requirement already satisfied: cloudpickle>=1.2.0 in /home/user/miniconda3/envs/cvenv/lib/python3.10/site-packages (from gymnasium) (3.0.0)\n",
      "Requirement already satisfied: typing-extensions>=4.3.0 in /home/user/miniconda3/envs/cvenv/lib/python3.10/site-packages (from gymnasium) (4.8.0)\n",
      "Requirement already satisfied: farama-notifications>=0.0.1 in /home/user/miniconda3/envs/cvenv/lib/python3.10/site-packages (from gymnasium) (0.0.4)\n",
      "Requirement already satisfied: pygame in /home/user/miniconda3/envs/cvenv/lib/python3.10/site-packages (2.6.1)\n"
     ]
    }
   ],
   "source": [
    "!pip install gymnasium\n",
    "!pip install pygame"
   ]
  },
  {
   "cell_type": "markdown",
   "id": "b2996c1a",
   "metadata": {},
   "source": [
    "# Carga y exploración de un entorno de Gymnasium"
   ]
  },
  {
   "cell_type": "code",
   "execution_count": 20,
   "id": "83f1e201",
   "metadata": {
    "execution": {
     "iopub.execute_input": "2025-05-25T02:35:20.138515Z",
     "iopub.status.busy": "2025-05-25T02:35:20.137948Z",
     "iopub.status.idle": "2025-05-25T02:35:20.150044Z",
     "shell.execute_reply": "2025-05-25T02:35:20.148950Z",
     "shell.execute_reply.started": "2025-05-25T02:35:20.138487Z"
    }
   },
   "outputs": [],
   "source": [
    "import gymnasium as gym\n",
    "import numpy as np\n",
    "import time\n",
    "from IPython.display import clear_output, display, HTML\n",
    "import matplotlib.pyplot as plt\n",
    "from tqdm import tqdm\n",
    "import pandas as pd\n",
    "import random\n",
    "from itertools import product\n",
    "from concurrent.futures import ProcessPoolExecutor, as_completed\n",
    "import imageio\n",
    "from IPython.display import HTML\n",
    "\n",
    "SEED = 42\n",
    "\n",
    "# -------------------- VISUALIZACIÓN DE RESULTADOS --------------------\n",
    "\n",
    "def graficar_recompensas(agente):\n",
    "    \"\"\"Grafica la recompensa media acumulada por episodio.\"\"\"\n",
    "    plt.figure(figsize=(6, 3))\n",
    "    plt.plot(agente.stats)\n",
    "    plt.title('Recompensa media acumulada')\n",
    "    plt.xlabel('Episodio')\n",
    "    plt.ylabel('Recompensa media')\n",
    "    plt.grid(True)\n",
    "    plt.show()\n",
    "\n",
    "def graficar_longitud_episodios(agente):\n",
    "    \"\"\"Grafica la longitud de cada episodio.\"\"\"\n",
    "    plt.figure(figsize=(6, 3))\n",
    "    plt.plot(agente.episode_lengths)\n",
    "    plt.title(\"Longitud de episodios\")\n",
    "    plt.xlabel(\"Episodio\")\n",
    "    plt.ylabel(\"Pasos\")\n",
    "    plt.grid(True)\n",
    "    plt.show()\n",
    "\n",
    "def mostrar_resultados_agente_continuo(agente):\n",
    "    \"\"\"Muestra gráficos de rendimiento en entornos continuos.\"\"\"\n",
    "    graficar_recompensas(agente)\n",
    "    graficar_longitud_episodios(agente)\n",
    "\n",
    "# -------------------- EJECUCIÓN DE UN EPISODIO --------------------\n",
    "\n",
    "def ejecutar_episodio_y_mostrar(agente, render=False):\n",
    "    \"\"\"Ejecuta un episodio con la política aprendida y muestra la evolución de la posición.\"\"\"\n",
    "    env = agente.env\n",
    "    state, _ = env.reset()\n",
    "\n",
    "    random.seed(SEED)\n",
    "    np.random.seed(SEED)\n",
    "    \n",
    "    done = False\n",
    "    total_reward = 0\n",
    "    posiciones = []\n",
    "\n",
    "    while not done:\n",
    "        if render:\n",
    "            env.render()\n",
    "        posiciones.append(state[0])  # Guardamos la posición del coche\n",
    "        action = agente._seleccionar_accion_rbf(state)\n",
    "        state, reward, terminated, truncated, _ = env.step(action)\n",
    "        done = terminated or truncated\n",
    "        total_reward += reward\n",
    "\n",
    "    env.close()\n",
    "    \n",
    "    # Mostrar gráfico de posiciones\n",
    "    plt.figure(figsize=(6, 3))\n",
    "    plt.plot(posiciones)\n",
    "    plt.title(\"Evolución de la posición del coche\")\n",
    "    plt.xlabel(\"Paso del episodio\")\n",
    "    plt.ylabel(\"Posición\")\n",
    "    plt.grid(True)\n",
    "    plt.show()\n",
    "    \n",
    "    print(f\"Recompensa total obtenida: {total_reward:.2f}\")\n",
    "\n",
    "# -------------------- VISUALIZACIÓN DE LA POLÍTICA EN EL ESPACIO CONTINUO --------------------\n",
    "\n",
    "def visualizar_politica_aprendida(agente, resolution=50):\n",
    "    \"\"\"Visualiza la política aprendida en el espacio de estados continuo.\"\"\"\n",
    "    x = np.linspace(agente.low[0], agente.high[0], resolution)  # posición\n",
    "    y = np.linspace(agente.low[1], agente.high[1], resolution)  # velocidad\n",
    "    xx, yy = np.meshgrid(x, y)\n",
    "    \n",
    "    policy_map = np.zeros_like(xx)\n",
    "\n",
    "    for i in range(resolution):\n",
    "        for j in range(resolution):\n",
    "            state = np.array([xx[i, j], yy[i, j]])\n",
    "            policy_map[i, j] = agente._seleccionar_accion_rbf(state)\n",
    "\n",
    "    plt.figure(figsize=(6, 5))\n",
    "    plt.contourf(xx, yy, policy_map, levels=agente.nA, cmap=\"coolwarm\", alpha=0.8)\n",
    "    cbar = plt.colorbar(ticks=range(agente.nA))\n",
    "    cbar.ax.set_yticklabels([f\"A{a}\" for a in range(agente.nA)])\n",
    "    plt.xlabel(\"Posición\")\n",
    "    plt.ylabel(\"Velocidad\")\n",
    "    plt.title(\"Política aprendida (acción elegida en cada punto)\")\n",
    "    plt.grid(True)\n",
    "    plt.show()"
   ]
  },
  {
   "cell_type": "markdown",
   "id": "557a19ac",
   "metadata": {},
   "source": [
    "# Objeto AgenteSARSA-SemiGradiente con RBF"
   ]
  },
  {
   "cell_type": "code",
   "execution_count": 3,
   "id": "e9b7d98f",
   "metadata": {
    "execution": {
     "iopub.execute_input": "2025-05-25T01:41:38.648748Z",
     "iopub.status.busy": "2025-05-25T01:41:38.648428Z",
     "iopub.status.idle": "2025-05-25T01:41:38.665175Z",
     "shell.execute_reply": "2025-05-25T01:41:38.664063Z",
     "shell.execute_reply.started": "2025-05-25T01:41:38.648723Z"
    }
   },
   "outputs": [],
   "source": [
    "import numpy as np\n",
    "import random\n",
    "from tqdm import tqdm\n",
    "\n",
    "class RBFBasisFunctions:\n",
    "    def __init__(self, low, high, num_centers=(5, 5), sigma=0.5):\n",
    "        self.low = np.array(low)\n",
    "        self.high = np.array(high)\n",
    "        self.num_centers = np.array(num_centers)\n",
    "        self.sigma = sigma\n",
    "\n",
    "        # Normalizar límites para trabajar en [0, 1]\n",
    "        self.range = self.high - self.low\n",
    "\n",
    "        # Crear centros normalizados en grilla regular\n",
    "        pos_centers = np.linspace(0, 1, num_centers[0])\n",
    "        vel_centers = np.linspace(0, 1, num_centers[1])\n",
    "        self.centers = np.array([[p, v] for p in pos_centers for v in vel_centers])\n",
    "\n",
    "        self.num_features = len(self.centers)\n",
    "\n",
    "    def normalize_state(self, state):\n",
    "        return (np.array(state) - self.low) / self.range\n",
    "\n",
    "    def get_features(self, state):\n",
    "        state = self.normalize_state(state)\n",
    "        features = np.exp(-np.sum((state - self.centers) ** 2, axis=1) / (2 * self.sigma ** 2))\n",
    "        return features\n",
    "\n",
    "\n",
    "class AgenteSARSARBF:\n",
    "    def __init__(self, env, alpha=0.1, gamma=0.99, epsilon=1.0, decay=True, num_centers=(5, 5), sigma=0.5):\n",
    "        self.env = env\n",
    "        self.alpha = alpha\n",
    "        self.gamma = gamma\n",
    "        self.epsilon = epsilon\n",
    "        self.decay = decay\n",
    "\n",
    "        self.nA = env.action_space.n\n",
    "        self.low = env.observation_space.low\n",
    "        self.high = env.observation_space.high\n",
    "\n",
    "        self.rbf = RBFBasisFunctions(self.low, self.high, num_centers, sigma)\n",
    "        self.d = self.rbf.num_features\n",
    "        self.theta = np.zeros((self.nA, self.d))\n",
    "\n",
    "        self.stats = []\n",
    "        self.episode_lengths = []\n",
    "\n",
    "    def _phi(self, state):\n",
    "        return self.rbf.get_features(state)\n",
    "\n",
    "    def _Q(self, state, action):\n",
    "        return np.dot(self.theta[action], self._phi(state))\n",
    "\n",
    "    def _epsilon_soft_policy_rbf(self, state):\n",
    "        q_values = np.array([self._Q(state, a) for a in range(self.nA)])\n",
    "        q_values = np.nan_to_num(q_values)\n",
    "\n",
    "        policy = np.ones(self.nA) * self.epsilon / self.nA\n",
    "        best_action = np.argmax(q_values)\n",
    "        policy[best_action] += 1.0 - self.epsilon\n",
    "        policy = np.clip(policy, 0, 1)\n",
    "        return policy / policy.sum() if policy.sum() > 0 else np.ones(self.nA) / self.nA\n",
    "\n",
    "    def _seleccionar_accion_rbf(self, state):\n",
    "        policy = self._epsilon_soft_policy_rbf(state)\n",
    "        return np.random.choice(np.arange(self.nA), p=policy)\n",
    "\n",
    "    def entrenar(self, num_episodes=5000, mostrar_barra=True, seed=42):\n",
    "        random.seed(seed)\n",
    "        np.random.seed(seed)\n",
    "        acumulador_recompensas = 0.0\n",
    "\n",
    "        for t in tqdm(range(num_episodes), disable=not mostrar_barra):\n",
    "            if self.decay:\n",
    "                self.epsilon = max(0.05, 1000.0 / (t + 1))\n",
    "\n",
    "            state, _ = self.env.reset()\n",
    "            action = self._seleccionar_accion_rbf(state)\n",
    "            done = False\n",
    "            total_reward = 0\n",
    "            pasos = 0\n",
    "\n",
    "            while not done:\n",
    "                next_state, reward, terminated, truncated, _ = self.env.step(action)\n",
    "                done = terminated or truncated\n",
    "                next_action = self._seleccionar_accion_rbf(next_state)\n",
    "\n",
    "                phi = self._phi(state)\n",
    "                q_current = self._Q(state, action)\n",
    "                q_next = self._Q(next_state, next_action) if not done else 0.0\n",
    "                delta = reward + self.gamma * q_next - q_current\n",
    "\n",
    "                if not np.isnan(delta) and not np.isinf(delta):\n",
    "                    self.theta[action] += self.alpha * delta * phi\n",
    "                    self.theta[action] = np.clip(self.theta[action], -1e3, 1e3)\n",
    "\n",
    "                state = next_state\n",
    "                action = next_action\n",
    "                total_reward += reward\n",
    "                pasos += 1\n",
    "\n",
    "            self.episode_lengths.append(pasos)\n",
    "            acumulador_recompensas += total_reward\n",
    "            self.stats.append(acumulador_recompensas / (t + 1))"
   ]
  },
  {
   "cell_type": "code",
   "execution_count": 30,
   "id": "835d2873",
   "metadata": {
    "execution": {
     "iopub.execute_input": "2025-05-25T04:50:53.016955Z",
     "iopub.status.busy": "2025-05-25T04:50:53.014655Z",
     "iopub.status.idle": "2025-05-25T04:50:53.187718Z",
     "shell.execute_reply": "2025-05-25T04:50:53.184011Z",
     "shell.execute_reply.started": "2025-05-25T04:50:53.016715Z"
    }
   },
   "outputs": [],
   "source": [
    "def evaluar_configuracion(params, env_name=\"MountainCar-v0\"):\n",
    "    alpha, gamma, epsilon, decay, num_centers, sigma = params\n",
    "    env = gym.make(env_name)\n",
    "    agente = AgenteSARSARBF(\n",
    "        env,\n",
    "        alpha=alpha,\n",
    "        gamma=gamma,\n",
    "        epsilon=epsilon,\n",
    "        decay=decay,\n",
    "        num_centers=num_centers,\n",
    "        sigma=sigma\n",
    "    )\n",
    "    agente.entrenar(num_episodes=20000, mostrar_barra=False)\n",
    "    recompensa_final = np.mean(agente.stats[-100:])  # Media últimos 100 episodios\n",
    "    return (alpha, gamma, epsilon, decay, num_centers, sigma, recompensa_final)\n",
    "\n",
    "def random_search_rbf(env_name=\"MountainCar-v0\", n_configs=100, seed=42):\n",
    "    # Espacios de búsqueda\n",
    "    alphas = [0.01, 0.05, 0.1]\n",
    "    gammas = np.linspace(0.8, 1.0, 5)\n",
    "    epsilons = np.linspace(0.1, 1.0, 5)\n",
    "    num_centers_list = [(5, 5), (7, 7), (9, 9)]\n",
    "    sigmas = [0.2, 0.5, 0.7]\n",
    "    decays = [True, False]\n",
    "\n",
    "    # Combinaciones posibles y aleatorias\n",
    "    combinaciones = list(product(alphas, gammas, epsilons, decays, num_centers_list, sigmas))\n",
    "    np.random.seed(seed)\n",
    "    seleccionadas = np.random.choice(len(combinaciones), size=min(n_configs, len(combinaciones)), replace=False)\n",
    "    combinaciones_random = [combinaciones[i] for i in seleccionadas]\n",
    "\n",
    "    mejor_config = None\n",
    "    mejor_recompensa = -float(\"inf\")\n",
    "    resultados = []\n",
    "\n",
    "    print(\"🔍 Ejecutando búsqueda paralela de hiperparámetros (SARSA-RBF)...\\n\")\n",
    "\n",
    "    with ProcessPoolExecutor() as executor:\n",
    "        futures = [executor.submit(evaluar_configuracion, combo, env_name) for combo in combinaciones_random]\n",
    "        for future in tqdm(as_completed(futures), total=len(futures), desc=\"Progreso\"):\n",
    "            alpha, gamma, epsilon, decay, num_centers, sigma, recompensa = future.result()\n",
    "            resultados.append((alpha, gamma, epsilon, decay, num_centers, sigma, recompensa))\n",
    "\n",
    "            if recompensa > mejor_recompensa:\n",
    "                mejor_recompensa = recompensa\n",
    "                mejor_config = (alpha, gamma, epsilon, decay, num_centers, sigma)\n",
    "\n",
    "    print(\"\\n✅ Mejor configuración encontrada:\")\n",
    "    print(f\" α = {mejor_config[0]}, γ = {mejor_config[1]}, ε = {mejor_config[2]}, decay = {mejor_config[3]}\")\n",
    "    print(f\" num_centers = {mejor_config[4]}, sigma = {mejor_config[5]}\")\n",
    "    print(f\" → Recompensa media final: {mejor_recompensa:.4f}\")"
   ]
  },
  {
   "cell_type": "code",
   "execution_count": 31,
   "id": "82710e46",
   "metadata": {
    "execution": {
     "iopub.execute_input": "2025-05-25T04:50:53.489525Z",
     "iopub.status.busy": "2025-05-25T04:50:53.488899Z",
     "iopub.status.idle": "2025-05-25T09:14:55.604818Z",
     "shell.execute_reply": "2025-05-25T09:14:55.600757Z",
     "shell.execute_reply.started": "2025-05-25T04:50:53.489491Z"
    }
   },
   "outputs": [
    {
     "name": "stdout",
     "output_type": "stream",
     "text": [
      "🔍 Ejecutando búsqueda paralela de hiperparámetros (SARSA-RBF)...\n",
      "\n"
     ]
    },
    {
     "name": "stderr",
     "output_type": "stream",
     "text": [
      "Progreso: 100%|████████████████████████████████████████████████████████████████████| 100/100 [4:24:01<00:00, 158.41s/it]"
     ]
    },
    {
     "name": "stdout",
     "output_type": "stream",
     "text": [
      "\n",
      "✅ Mejor configuración encontrada:\n",
      " α = 0.01, γ = 1.0, ε = 1.0, decay = True\n",
      " num_centers = (9, 9), sigma = 0.2\n",
      " → Recompensa media final: -147.9385\n"
     ]
    },
    {
     "name": "stderr",
     "output_type": "stream",
     "text": [
      "\n"
     ]
    }
   ],
   "source": [
    "random_search_rbf()"
   ]
  },
  {
   "cell_type": "code",
   "execution_count": 32,
   "id": "a5c07a40",
   "metadata": {
    "execution": {
     "iopub.execute_input": "2025-05-25T14:37:44.292813Z",
     "iopub.status.busy": "2025-05-25T14:37:44.290169Z",
     "iopub.status.idle": "2025-05-25T15:10:06.460725Z",
     "shell.execute_reply": "2025-05-25T15:10:06.459383Z",
     "shell.execute_reply.started": "2025-05-25T14:37:44.292738Z"
    }
   },
   "outputs": [
    {
     "name": "stderr",
     "output_type": "stream",
     "text": [
      "100%|█████████████████████████████████████████████████████████████████████████████| 50000/50000 [32:22<00:00, 25.74it/s]\n"
     ]
    },
    {
     "data": {
      "text/plain": [
       "array([[-24.58561646, -16.65761545,  -8.38076872,  -7.40999906,\n",
       "         -3.22056235,  -3.09738338, -17.46633008, -26.29232871,\n",
       "        -17.25638729, -20.37275931,  14.73009257,  27.15950931,\n",
       "          4.84769372,   7.4547004 ,  33.05333727,  26.71295955,\n",
       "          4.14827028,   1.16220065, -29.76948513,  18.25445893,\n",
       "         19.10124191, -40.50278912, -50.61543967,  -2.39774794,\n",
       "         13.59603731,   6.18323766,  16.52061473, -28.00007678,\n",
       "         20.24329598,  12.98936695, -54.40794266, -66.94066969,\n",
       "        -31.4322411 , -29.99793464, -22.86576568,  19.30383349,\n",
       "        -19.81070342,  14.79914557,  12.51108311, -10.84006269,\n",
       "         11.3793133 ,  20.32312495, -27.7619142 , -32.89817633,\n",
       "         24.39449053, -18.5471047 ,  -4.27833702,  -3.9556229 ,\n",
       "          7.5154394 ,  49.22268177,  43.96263315, -15.75006041,\n",
       "        -19.69109557,  34.25236356, -13.14001279,  -8.57912115,\n",
       "        -13.57041512, -16.12840905,  -4.96384454, -11.95500102,\n",
       "        -30.15255142,  -8.3365603 ,  33.98990116,  -1.90432462,\n",
       "          3.70653257,  -2.39789249, -21.13981191, -33.07882431,\n",
       "        -30.60478837, -17.3101358 ,   4.58879751,  21.14390413,\n",
       "          3.84849467,  10.20333372,   9.81266196,   1.70806936,\n",
       "          1.73843723,  14.71642965,  22.54547891,  15.96648017,\n",
       "          5.8264445 ],\n",
       "       [-28.51316276, -14.26888635,  -5.02850831,  -9.19849459,\n",
       "         -7.30560186,  -2.40107844, -11.69542083, -20.37591032,\n",
       "        -13.2895247 , -25.38408482,  10.85328365,  25.47471541,\n",
       "          7.11323391,   7.39852696,  26.76441527,  20.77712382,\n",
       "          3.75681342,   4.86110755, -14.98811587,  22.83615506,\n",
       "         16.30519813, -33.9600235 , -41.97779583,  -3.88732458,\n",
       "         10.6858013 ,   8.28480272,  19.87106091,  -5.34658269,\n",
       "         13.78026708, -10.10706531, -59.31663964, -62.12674441,\n",
       "        -32.79524582, -27.31380405, -19.35312591,  13.30923936,\n",
       "         -9.62410724,  -6.66955072,  -8.56824942,  -0.20776977,\n",
       "         19.80088421,  11.01315757, -26.54221769, -29.3356518 ,\n",
       "          9.06925401, -17.05582366, -14.85863076,  10.52873196,\n",
       "         48.05904161,  56.53681665,  21.99884827, -10.65748543,\n",
       "         -0.33712307,  29.50109109, -11.2954076 ,  -6.14911797,\n",
       "          5.54795572,  -4.09744907, -39.42468868, -52.29865663,\n",
       "        -19.81805534,  20.93244512,  36.46860187,  -0.61597086,\n",
       "          2.13473562, -11.0015418 , -51.98377201, -77.61816054,\n",
       "        -43.23308527,   4.16754161,   7.81613181,  -8.21503665,\n",
       "          3.46263034,   5.05725955,  -2.07148783,  -4.17928026,\n",
       "         34.98309621,  89.11886825,  69.72551413, -15.58052234,\n",
       "        -65.74372453],\n",
       "       [-22.57240874, -11.71035886,  -4.31731977,  -7.60840591,\n",
       "        -10.61834195, -16.68115955, -22.97175445,  -9.98845545,\n",
       "         11.86693666, -15.82099619,  12.89192774,  17.44385573,\n",
       "          6.27607262,  26.64169981,  43.38437663,  17.78929561,\n",
       "          4.24804385,  23.925809  , -16.12771072,  20.41880084,\n",
       "          3.62957545, -47.53387971, -35.67370082,   3.00938777,\n",
       "        -10.50561227, -16.22033721,  22.55245909, -17.81630841,\n",
       "         18.92689521,  -1.5249973 , -63.09604108, -61.34609372,\n",
       "        -22.50943472, -28.77707922, -25.54154918,  23.31984127,\n",
       "        -17.86206502,   9.97752012,  10.96472131,  -5.57094214,\n",
       "         10.24045793,  22.9815487 ,  -7.74252381, -15.93232088,\n",
       "         23.9692021 , -17.37253373,  -6.55286574,   5.35259306,\n",
       "         21.18792433,  35.60059848,  16.74265825, -21.29936924,\n",
       "        -18.21456626,  19.55040582, -11.66935775, -12.07143254,\n",
       "         -8.9019696 ,  -4.97381759, -11.93972377, -30.59319159,\n",
       "        -30.98531643,   0.45452256,  29.18291195,  -2.90378189,\n",
       "         -4.05505516,  -8.22544006, -17.27944787, -25.07832034,\n",
       "        -18.31071445,   5.54546421,  26.03897782,  25.6529446 ,\n",
       "          1.46922083,   2.13091308,  -0.36631638,  -3.28702679,\n",
       "          3.15212999,  16.40372853,  16.04839369,  -3.53654339,\n",
       "        -20.44294784]])"
      ]
     },
     "execution_count": 32,
     "metadata": {},
     "output_type": "execute_result"
    }
   ],
   "source": [
    "# Ejecución de ejemplo\n",
    "env = gym.make(\"MountainCar-v0\")\n",
    "env.reset(seed=SEED)\n",
    "agente = AgenteSARSARBF(env, alpha=0.01, gamma=1.0, epsilon=1.0, num_centers=(9, 9), sigma=0.2, decay=True)\n",
    "agente.entrenar(num_episodes=50000)"
   ]
  },
  {
   "cell_type": "markdown",
   "id": "4f86e0b1",
   "metadata": {},
   "source": [
    "# Resultados de agente SARSA SemiGradiente con RBF"
   ]
  },
  {
   "cell_type": "code",
   "execution_count": 33,
   "id": "adf54fd0",
   "metadata": {
    "execution": {
     "iopub.execute_input": "2025-05-25T15:10:06.463461Z",
     "iopub.status.busy": "2025-05-25T15:10:06.463047Z",
     "iopub.status.idle": "2025-05-25T15:10:07.183341Z",
     "shell.execute_reply": "2025-05-25T15:10:07.182427Z",
     "shell.execute_reply.started": "2025-05-25T15:10:06.463436Z"
    }
   },
   "outputs": [
    {
     "data": {
      "image/png": "[encoded data removed]",
      "text/plain": [
       "<Figure size 600x300 with 1 Axes>"
      ]
     },
     "metadata": {},
     "output_type": "display_data"
    },
    {
     "data": {
      "image/png": "[encoded data removed]",
      "text/plain": [
       "<Figure size 600x300 with 1 Axes>"
      ]
     },
     "metadata": {},
     "output_type": "display_data"
    }
   ],
   "source": [
    "mostrar_resultados_agente_continuo(agente)"
   ]
  },
  {
   "cell_type": "code",
   "execution_count": 34,
   "id": "c20170c5",
   "metadata": {
    "execution": {
     "iopub.execute_input": "2025-05-25T15:10:07.184963Z",
     "iopub.status.busy": "2025-05-25T15:10:07.184293Z",
     "iopub.status.idle": "2025-05-25T15:10:07.350988Z",
     "shell.execute_reply": "2025-05-25T15:10:07.350042Z",
     "shell.execute_reply.started": "2025-05-25T15:10:07.184941Z"
    }
   },
   "outputs": [
    {
     "data": {
      "image/png": "[encoded data removed]",
      "text/plain": [
       "<Figure size 600x300 with 1 Axes>"
      ]
     },
     "metadata": {},
     "output_type": "display_data"
    },
    {
     "name": "stdout",
     "output_type": "stream",
     "text": [
      "Recompensa total obtenida: -109.00\n"
     ]
    }
   ],
   "source": [
    "ejecutar_episodio_y_mostrar(agente)"
   ]
  },
  {
   "cell_type": "code",
   "execution_count": 35,
   "id": "a54ee9ed",
   "metadata": {
    "execution": {
     "iopub.execute_input": "2025-05-25T15:10:07.353268Z",
     "iopub.status.busy": "2025-05-25T15:10:07.352839Z",
     "iopub.status.idle": "2025-05-25T15:10:07.362729Z",
     "shell.execute_reply": "2025-05-25T15:10:07.361842Z",
     "shell.execute_reply.started": "2025-05-25T15:10:07.353245Z"
    }
   },
   "outputs": [],
   "source": [
    "def grabar_video_agente(agente, nombre_archivo=\"video_mountaincar.gif\", fps=30):\n",
    "    \"\"\"\n",
    "    Ejecuta un episodio con la política aprendida y guarda un video del entorno.\n",
    "    \"\"\"\n",
    "    # Crear entorno con renderizado de imágenes\n",
    "    env = gym.make(\"MountainCar-v0\", render_mode=\"rgb_array\")\n",
    "    env.reset(seed=SEED)\n",
    "\n",
    "    random.seed(SEED)\n",
    "    np.random.seed(SEED)\n",
    "    \n",
    "    state, _ = env.reset()\n",
    "    done = False\n",
    "    total_reward = 0\n",
    "    frames = []\n",
    "    while not done:\n",
    "        frame = env.render()\n",
    "        frames.append(frame)\n",
    "\n",
    "        # Acción greedy\n",
    "        q_values = [agente._Q(state, a) for a in range(agente.nA)]\n",
    "        action = np.argmax(q_values)\n",
    "\n",
    "        next_state, reward, terminated, truncated, _ = env.step(action)\n",
    "        total_reward += reward\n",
    "        done = terminated or truncated\n",
    "        state = next_state\n",
    "\n",
    "        if done:\n",
    "            break\n",
    "\n",
    "    env.close()\n",
    "\n",
    "    print(f\"Número total de frames: {len(frames)}\")\n",
    "    # Guardar el video como GIF\n",
    "    imageio.mimsave(nombre_archivo, frames, fps=fps, loop=0)\n",
    "    print(f\"🎥 Vídeo guardado en: {nombre_archivo}\")\n",
    "    print(f\"🏁 Recompensa total obtenida: {total_reward:.2f}\")"
   ]
  },
  {
   "cell_type": "code",
   "execution_count": 36,
   "id": "f28dbfd4",
   "metadata": {
    "execution": {
     "iopub.execute_input": "2025-05-25T15:10:07.364228Z",
     "iopub.status.busy": "2025-05-25T15:10:07.363560Z",
     "iopub.status.idle": "2025-05-25T15:10:10.647345Z",
     "shell.execute_reply": "2025-05-25T15:10:10.646632Z",
     "shell.execute_reply.started": "2025-05-25T15:10:07.364204Z"
    }
   },
   "outputs": [
    {
     "name": "stdout",
     "output_type": "stream",
     "text": [
      "Número total de frames: 107\n",
      "🎥 Vídeo guardado en: video_mountaincar_rbf.gif\n",
      "🏁 Recompensa total obtenida: -107.00\n"
     ]
    },
    {
     "data": {
      "text/html": [
       "\n",
       "<img src=\"video_mountaincar_rbf.gif\" style=\"width: 600px;\" loop>\n"
      ],
      "text/plain": [
       "<IPython.core.display.HTML object>"
      ]
     },
     "execution_count": 36,
     "metadata": {},
     "output_type": "execute_result"
    }
   ],
   "source": [
    "nombre_archivo = \"video_mountaincar_rbf.gif\"\n",
    "\n",
    "grabar_video_agente(agente, nombre_archivo=nombre_archivo)\n",
    "\n",
    "HTML(f\"\"\"\n",
    "<img src=\"{nombre_archivo}\" style=\"width: 600px;\" loop>\n",
    "\"\"\")"
   ]
  },
  {
   "cell_type": "code",
   "execution_count": null,
   "id": "a0c78866-42bb-4e79-a5ba-d12a7b00f6c1",
   "metadata": {},
   "outputs": [],
   "source": []
  }
 ],
 "metadata": {
  "kernelspec": {
   "display_name": "Python 3 (ipykernel)",
   "language": "python",
   "name": "python3"
  },
  "language_info": {
   "codemirror_mode": {
    "name": "ipython",
    "version": 3
   },
   "file_extension": ".py",
   "mimetype": "text/x-python",
   "name": "python",
   "nbconvert_exporter": "python",
   "pygments_lexer": "ipython3",
   "version": "3.10.12"
  }
 },
 "nbformat": 4,
 "nbformat_minor": 5
}
