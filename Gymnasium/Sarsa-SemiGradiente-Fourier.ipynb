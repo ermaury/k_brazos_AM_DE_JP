{
 "cells": [
  {
   "cell_type": "code",
   "execution_count": null,
   "id": "cdbac9d6-b209-4fcc-becd-b75e076b605d",
   "metadata": {},
   "outputs": [],
   "source": [
    "!pip install gymnasium\n",
    "!pip install pygame"
   ]
  },
  {
   "cell_type": "markdown",
   "id": "36ee8b9b-2a71-4bcd-96d5-5329a9ae5feb",
   "metadata": {},
   "source": [
    "# Carga y exploración de un entorno de Gymnasium"
   ]
  },
  {
   "cell_type": "code",
   "execution_count": 48,
   "id": "cd6db6f7-7bce-4b74-8f9d-d048d6359082",
   "metadata": {
    "execution": {
     "iopub.execute_input": "2025-05-23T23:13:57.618303Z",
     "iopub.status.busy": "2025-05-23T23:13:57.617531Z",
     "iopub.status.idle": "2025-05-23T23:13:57.669903Z",
     "shell.execute_reply": "2025-05-23T23:13:57.669042Z",
     "shell.execute_reply.started": "2025-05-23T23:13:57.618264Z"
    }
   },
   "outputs": [],
   "source": [
    "import gymnasium as gym\n",
    "import numpy as np\n",
    "import time\n",
    "from IPython.display import clear_output, display, HTML\n",
    "import matplotlib.pyplot as plt\n",
    "from tqdm import tqdm\n",
    "import pandas as pd\n",
    "import random\n",
    "from itertools import product\n",
    "from concurrent.futures import ProcessPoolExecutor, as_completed\n",
    "import imageio\n",
    "from IPython.display import HTML\n",
    "\n",
    "SEED = 42\n",
    "\n",
    "# -------------------- VISUALIZACIÓN DE RESULTADOS --------------------\n",
    "\n",
    "def graficar_recompensas(agente):\n",
    "    \"\"\"Grafica la recompensa media acumulada por episodio.\"\"\"\n",
    "    plt.figure(figsize=(6, 3))\n",
    "    plt.plot(agente.stats)\n",
    "    plt.title('Recompensa media acumulada')\n",
    "    plt.xlabel('Episodio')\n",
    "    plt.ylabel('Recompensa media')\n",
    "    plt.grid(True)\n",
    "    plt.show()\n",
    "\n",
    "def graficar_longitud_episodios(agente):\n",
    "    \"\"\"Grafica la longitud de cada episodio.\"\"\"\n",
    "    plt.figure(figsize=(6, 3))\n",
    "    plt.plot(agente.episode_lengths)\n",
    "    plt.title(\"Longitud de episodios\")\n",
    "    plt.xlabel(\"Episodio\")\n",
    "    plt.ylabel(\"Pasos\")\n",
    "    plt.grid(True)\n",
    "    plt.show()\n",
    "\n",
    "def mostrar_resultados_agente_continuo(agente):\n",
    "    \"\"\"Muestra gráficos de rendimiento en entornos continuos.\"\"\"\n",
    "    graficar_recompensas(agente)\n",
    "    graficar_longitud_episodios(agente)\n",
    "\n",
    "# -------------------- EJECUCIÓN DE UN EPISODIO --------------------\n",
    "\n",
    "def ejecutar_episodio_y_mostrar(agente, render=False):\n",
    "    \"\"\"Ejecuta un episodio con la política aprendida y muestra la evolución de la posición.\"\"\"\n",
    "    env = agente.env\n",
    "    state, _ = env.reset()\n",
    "    done = False\n",
    "    total_reward = 0\n",
    "    posiciones = []\n",
    "\n",
    "    while not done:\n",
    "        if render:\n",
    "            env.render()\n",
    "        posiciones.append(state[0])  # Guardamos la posición del coche\n",
    "        action = agente._seleccionar_accion_fourier(state)\n",
    "        state, reward, terminated, truncated, _ = env.step(action)\n",
    "        done = terminated or truncated\n",
    "        total_reward += reward\n",
    "\n",
    "    env.close()\n",
    "    \n",
    "    # Mostrar gráfico de posiciones\n",
    "    plt.figure(figsize=(6, 3))\n",
    "    plt.plot(posiciones)\n",
    "    plt.title(\"Evolución de la posición del coche\")\n",
    "    plt.xlabel(\"Paso del episodio\")\n",
    "    plt.ylabel(\"Posición\")\n",
    "    plt.grid(True)\n",
    "    plt.show()\n",
    "    \n",
    "    print(f\"Recompensa total obtenida: {total_reward:.2f}\")\n",
    "\n",
    "# -------------------- VISUALIZACIÓN DE LA POLÍTICA EN EL ESPACIO CONTINUO --------------------\n",
    "\n",
    "def visualizar_politica_aprendida(agente, resolution=50):\n",
    "    \"\"\"Visualiza la política aprendida en el espacio de estados continuo.\"\"\"\n",
    "    x = np.linspace(agente.low[0], agente.high[0], resolution)  # posición\n",
    "    y = np.linspace(agente.low[1], agente.high[1], resolution)  # velocidad\n",
    "    xx, yy = np.meshgrid(x, y)\n",
    "    \n",
    "    policy_map = np.zeros_like(xx)\n",
    "\n",
    "    for i in range(resolution):\n",
    "        for j in range(resolution):\n",
    "            state = np.array([xx[i, j], yy[i, j]])\n",
    "            policy_map[i, j] = seleccionar_accion_fourier(agente, state)\n",
    "\n",
    "    plt.figure(figsize=(6, 5))\n",
    "    plt.contourf(xx, yy, policy_map, levels=agente.nA, cmap=\"coolwarm\", alpha=0.8)\n",
    "    cbar = plt.colorbar(ticks=range(agente.nA))\n",
    "    cbar.ax.set_yticklabels([f\"A{a}\" for a in range(agente.nA)])\n",
    "    plt.xlabel(\"Posición\")\n",
    "    plt.ylabel(\"Velocidad\")\n",
    "    plt.title(\"Política aprendida (acción elegida en cada punto)\")\n",
    "    plt.grid(True)\n",
    "    plt.show()"
   ]
  },
  {
   "cell_type": "markdown",
   "id": "25ea2caf-b67a-4dbb-b612-3121e4403f06",
   "metadata": {},
   "source": [
    "# Objeto AgenteSARSA-SemiGradiente"
   ]
  },
  {
   "cell_type": "code",
   "execution_count": 54,
   "id": "81be454b-f029-4467-b0ab-279f798fce9a",
   "metadata": {
    "execution": {
     "iopub.execute_input": "2025-05-23T23:18:57.273029Z",
     "iopub.status.busy": "2025-05-23T23:18:57.271998Z",
     "iopub.status.idle": "2025-05-23T23:18:57.375835Z",
     "shell.execute_reply": "2025-05-23T23:18:57.371721Z",
     "shell.execute_reply.started": "2025-05-23T23:18:57.272946Z"
    }
   },
   "outputs": [],
   "source": [
    "class AgenteSARSASemiGradienteMountainCar:\n",
    "    def __init__(self, env, alpha=0.01, gamma=1.0, epsilon=1.0, decay=True, fourier_order=3):\n",
    "        self.env = env\n",
    "        self.alpha = alpha\n",
    "        self.gamma = gamma\n",
    "        self.epsilon = epsilon\n",
    "        self.decay = decay\n",
    "        self.fourier_order = fourier_order\n",
    "\n",
    "        self.nA = env.action_space.n\n",
    "        self.low = env.observation_space.low\n",
    "        self.high = env.observation_space.high\n",
    "        self.state_dim = env.observation_space.shape[0]\n",
    "\n",
    "        # Generar los coeficientes c para Fourier basis\n",
    "        self.c = np.array(list(product(range(fourier_order + 1), repeat=self.state_dim)))\n",
    "        self.d = len(self.c)\n",
    "\n",
    "        # Una theta por acción\n",
    "        self.theta = np.zeros((self.nA, self.d))\n",
    "        self.stats = []\n",
    "        self.episode_lengths = []\n",
    "\n",
    "    def _scale_state(self, state):\n",
    "        \"\"\"Escala el estado continuo al rango [0, 1]\"\"\"\n",
    "        return (state - self.low) / (self.high - self.low)\n",
    "\n",
    "    def _phi(self, state):\n",
    "        \"\"\"Devuelve vector de características Fourier para un estado escalado\"\"\"\n",
    "        s_scaled = self._scale_state(state)\n",
    "        return np.cos(np.pi * np.dot(self.c, s_scaled))\n",
    "\n",
    "    def _Q(self, state, action):\n",
    "        \"\"\"Valor aproximado Q(s, a)\"\"\"\n",
    "        return np.dot(self.theta[action], self._phi(state))\n",
    "\n",
    "    # -------------------- POLÍTICAS Y SELECCIÓN DE ACCIONES --------------------\n",
    "\n",
    "    def _seleccionar_accion_fourier(self, state):\n",
    "        \"\"\"Selecciona una acción usando la política epsilon-soft explícita.\"\"\"\n",
    "        policy = self._epsilon_soft_policy_fourier(state)\n",
    "        return np.random.choice(np.arange(self.nA), p=policy)\n",
    "\n",
    "    def _epsilon_soft_policy_fourier(self, state):\n",
    "        \"\"\"Devuelve una política epsilon-soft como vector de probabilidades para entornos con Fourier.\"\"\"\n",
    "        q_values = np.array([self._Q(state, a) for a in range(self.nA)])\n",
    "        policy = np.ones(self.nA) * self.epsilon / self.nA\n",
    "        best_action = np.argmax(q_values)\n",
    "        policy[best_action] += 1.0 - self.epsilon\n",
    "        return policy\n",
    "\n",
    "\n",
    "    def entrenar(self, num_episodes=5000, mostrar_barra=True):\n",
    "        random.seed(SEED)\n",
    "        np.random.seed(SEED)\n",
    "    \n",
    "        acumulador_recompensas = 0.0\n",
    "    \n",
    "        for t in tqdm(range(num_episodes), disable=not mostrar_barra):\n",
    "            if self.decay:\n",
    "                self.epsilon = min(1.0, 1000.0 / (t + 1))\n",
    "    \n",
    "            state, _ = self.env.reset()\n",
    "            action = self._seleccionar_accion_fourier(state)\n",
    "            done = False\n",
    "            total_reward = 0\n",
    "            pasos = 0\n",
    "    \n",
    "            while not done:\n",
    "                next_state, reward, terminated, truncated, _ = self.env.step(action)\n",
    "                done = terminated or truncated\n",
    "                next_action = self._seleccionar_accion_fourier(next_state)\n",
    "    \n",
    "                phi = self._phi(state)\n",
    "    \n",
    "                if np.any(np.isnan(phi)) or np.any(np.isinf(phi)):\n",
    "                    phi = np.nan_to_num(phi)\n",
    "    \n",
    "                q_current = self._Q(state, action)\n",
    "                q_next = self._Q(next_state, next_action) if not done else 0.0\n",
    "                target = reward + self.gamma * q_next\n",
    "                delta = target - q_current\n",
    "    \n",
    "                if np.isnan(delta) or np.isinf(delta):\n",
    "                    delta = 0.0  # ignorar la actualización problemática\n",
    "    \n",
    "                # Update con control de valores extremos\n",
    "                self.theta[action] += self.alpha * delta * phi\n",
    "                self.theta[action] = np.clip(self.theta[action], -1e3, 1e3)\n",
    "    \n",
    "                state = next_state\n",
    "                action = next_action\n",
    "                total_reward += reward\n",
    "                pasos += 1\n",
    "    \n",
    "            self.episode_lengths.append(pasos)\n",
    "            acumulador_recompensas += total_reward\n",
    "            self.stats.append(acumulador_recompensas / (t + 1))\n",
    "    \n",
    "        return self.theta\n",
    "\n"
   ]
  },
  {
   "cell_type": "code",
   "execution_count": 55,
   "id": "7fd99155-cfa5-432e-8e00-f03d444afd2d",
   "metadata": {
    "execution": {
     "iopub.execute_input": "2025-05-23T23:18:58.274981Z",
     "iopub.status.busy": "2025-05-23T23:18:58.274606Z",
     "iopub.status.idle": "2025-05-23T23:18:58.294807Z",
     "shell.execute_reply": "2025-05-23T23:18:58.293736Z",
     "shell.execute_reply.started": "2025-05-23T23:18:58.274948Z"
    }
   },
   "outputs": [],
   "source": [
    "def evaluar_configuracion(params, env_name=\"MountainCar-v0\"):\n",
    "    alpha, gamma, epsilon, fourier_order, decay = params\n",
    "    env = gym.make(env_name)\n",
    "    agente = AgenteSARSASemiGradienteMountainCar(\n",
    "        env, alpha=alpha, gamma=gamma, epsilon=epsilon,\n",
    "        decay=decay, fourier_order=fourier_order\n",
    "    )\n",
    "    agente.entrenar(num_episodes=5000, mostrar_barra=False)\n",
    "    recompensa_final = np.mean(agente.stats[-100:])\n",
    "    return (alpha, gamma, epsilon, fourier_order, decay, recompensa_final)\n",
    "\n",
    "def random_search(env_name=\"MountainCar-v0\", n_trials=100):\n",
    "    # Espacio de búsqueda\n",
    "    alphas = [0.01, 0.05, 0.1, 0.5]\n",
    "    gammas = np.linspace(0.1, 1.0, 10)\n",
    "    epsilons = np.linspace(0.1, 1.0, 10)\n",
    "    fourier_orders = [1, 3, 5]\n",
    "\n",
    "    combinaciones = []\n",
    "\n",
    "    for _ in range(n_trials):\n",
    "        a = random.choice(alphas)\n",
    "        g = random.choice(gammas)\n",
    "        f = random.choice(fourier_orders)\n",
    "        decay = random.choice([True, False])\n",
    "        if decay:\n",
    "            e = 0.0  # ignorado\n",
    "        else:\n",
    "            e = random.choice(epsilons)\n",
    "        combinaciones.append((a, g, e, f, decay))\n",
    "\n",
    "    mejor_config = None\n",
    "    mejor_recompensa = -float('inf')\n",
    "    resultados = []\n",
    "\n",
    "    print(f\"🔍 Random Search: ejecutando {n_trials} configuraciones aleatorias...\\n\")\n",
    "\n",
    "    with ProcessPoolExecutor() as executor:\n",
    "        futures = [executor.submit(evaluar_configuracion, combo, env_name) for combo in combinaciones]\n",
    "        for future in tqdm(as_completed(futures), total=len(futures), desc=\"Progreso\"):\n",
    "            alpha, gamma, epsilon, fourier_order, decay_flag, recompensa = future.result()\n",
    "            resultados.append((alpha, gamma, epsilon, fourier_order, decay_flag, recompensa))\n",
    "\n",
    "            if recompensa > mejor_recompensa:\n",
    "                mejor_recompensa = recompensa\n",
    "                mejor_config = (alpha, gamma, epsilon, fourier_order, decay_flag)\n",
    "\n",
    "    print(\"\\n✅ Mejor configuración encontrada:\")\n",
    "    print(f\" alpha = {mejor_config[0]}, γ = {mejor_config[1]}, ε = {mejor_config[2]}, \"\n",
    "          f\"Fourier = {mejor_config[3]}, decay = {mejor_config[4]}\")\n",
    "    print(f\"  → Recompensa media final: {mejor_recompensa:.4f}\")\n"
   ]
  },
  {
   "cell_type": "code",
   "execution_count": 56,
   "id": "3f85ce5b-04b7-4b82-a2e3-5a16974a5c54",
   "metadata": {
    "execution": {
     "iopub.execute_input": "2025-05-23T23:18:59.896426Z",
     "iopub.status.busy": "2025-05-23T23:18:59.896083Z",
     "iopub.status.idle": "2025-05-24T00:21:50.576092Z",
     "shell.execute_reply": "2025-05-24T00:21:50.571220Z",
     "shell.execute_reply.started": "2025-05-23T23:18:59.896395Z"
    }
   },
   "outputs": [
    {
     "name": "stdout",
     "output_type": "stream",
     "text": [
      "🔍 Random Search: ejecutando 100 configuraciones aleatorias...\n",
      "\n"
     ]
    },
    {
     "name": "stderr",
     "output_type": "stream",
     "text": [
      "Progreso: 100%|█████████████████████████████████████████████████████████████████████| 100/100 [1:02:49<00:00, 37.70s/it]"
     ]
    },
    {
     "name": "stdout",
     "output_type": "stream",
     "text": [
      "\n",
      "✅ Mejor configuración encontrada:\n",
      " alpha = 0.01, γ = 1.0, ε = 0.30000000000000004, Fourier = 5, decay = False\n",
      "  → Recompensa media final: -183.7165\n"
     ]
    },
    {
     "name": "stderr",
     "output_type": "stream",
     "text": [
      "\n"
     ]
    }
   ],
   "source": [
    "random_search()"
   ]
  },
  {
   "cell_type": "code",
   "execution_count": 74,
   "id": "61b77384-6991-424a-85b8-4c6ca553dd73",
   "metadata": {
    "execution": {
     "iopub.execute_input": "2025-05-24T03:57:13.708939Z",
     "iopub.status.busy": "2025-05-24T03:57:13.677823Z",
     "iopub.status.idle": "2025-05-24T04:12:38.613966Z",
     "shell.execute_reply": "2025-05-24T04:12:38.612307Z",
     "shell.execute_reply.started": "2025-05-24T03:57:13.707830Z"
    }
   },
   "outputs": [
    {
     "name": "stderr",
     "output_type": "stream",
     "text": [
      "100%|█████████████████████████████████████████████████████████████████████████████| 15000/15000 [15:24<00:00, 16.22it/s]\n"
     ]
    },
    {
     "data": {
      "text/plain": [
       "array([[-44.95932231,  13.70734757,  79.86076184, -35.05098292,\n",
       "        -18.75779717, -13.22387554, -57.63691773,  -8.58446321,\n",
       "         63.76429131,  59.73970382,  13.7519319 ,  -1.0685362 ,\n",
       "         61.08831777, -81.67263404, -39.39174683,  -3.37944679,\n",
       "         11.11304703,  -3.13217218,  41.63218925,  35.02782323,\n",
       "        -34.87453958,  24.84973081,   4.13665052,   9.38004477,\n",
       "          2.04541587,  11.98478292,  -6.44312091, -30.19183005,\n",
       "         22.69534799,  -8.65487133,   2.4981134 ,   5.27020324,\n",
       "         14.44928036,   0.47208223,  -4.00551588,  13.60094382],\n",
       "       [-47.16485828,   9.50210357,  88.51556281, -28.2184174 ,\n",
       "        -16.55966404, -12.28968216, -45.47413173, -11.38815   ,\n",
       "         41.5509591 ,  63.87752611,  13.34656525,  -2.07224208,\n",
       "         55.48133828, -55.44352301, -27.99439601, -17.15023689,\n",
       "         20.78387032,  -3.46219771,  35.44672935,  18.20001733,\n",
       "        -22.83554967,  30.20858755,  -5.2717177 ,  15.14880111,\n",
       "          5.20355185,  10.86216108, -15.62914528, -28.05780873,\n",
       "         23.56830846, -11.57294448,   2.66662377,   6.0972935 ,\n",
       "         15.14189936,  -1.1284002 ,  -5.97804406,  13.41998899],\n",
       "       [-46.90910508,  -6.35721105,  88.85437976, -21.43863344,\n",
       "        -17.30516123, -10.69665523, -56.88705247, -18.12739599,\n",
       "         20.29669339,  65.97949987,  16.38219659,  -4.66990758,\n",
       "         66.85199249, -60.138563  , -37.87640219, -35.26183754,\n",
       "         27.45061618,  -0.5205965 ,  33.53358076,  36.96063466,\n",
       "        -26.13167811,  17.08376434, -18.30613582,  16.91854154,\n",
       "          3.02120108,  10.61401995,   2.63841842, -27.57927371,\n",
       "         20.18122167, -16.04783749,   3.00958452,   4.00245795,\n",
       "         14.1279606 ,   5.81611645,  -5.37509108,  14.04441258]])"
      ]
     },
     "execution_count": 74,
     "metadata": {},
     "output_type": "execute_result"
    }
   ],
   "source": [
    "# Ejecución de ejemplo\n",
    "env = gym.make(\"MountainCar-v0\")\n",
    "env.reset(seed=SEED)\n",
    "agente = AgenteSARSASemiGradienteMountainCar(env, alpha=0.01, gamma=1.0, epsilon=0.3, fourier_order=5, decay=False)\n",
    "agente.entrenar(num_episodes=15000)"
   ]
  },
  {
   "cell_type": "markdown",
   "id": "5f45bc4c-4001-4cc6-b535-3c85808ff65f",
   "metadata": {},
   "source": [
    "# Resultados de agente SARSA SemiGradiente"
   ]
  },
  {
   "cell_type": "code",
   "execution_count": 75,
   "id": "aec87b34-d1e2-47d5-ad38-45cb9a69d5c2",
   "metadata": {
    "execution": {
     "iopub.execute_input": "2025-05-24T04:12:38.618800Z",
     "iopub.status.busy": "2025-05-24T04:12:38.617880Z",
     "iopub.status.idle": "2025-05-24T04:12:39.978805Z",
     "shell.execute_reply": "2025-05-24T04:12:39.977705Z",
     "shell.execute_reply.started": "2025-05-24T04:12:38.618729Z"
    }
   },
   "outputs": [
    {
     "data": {
      "image/png": "[encoded data removed]",
      "text/plain": [
       "<Figure size 600x300 with 1 Axes>"
      ]
     },
     "metadata": {},
     "output_type": "display_data"
    },
    {
     "data": {
      "image/png": "[encoded data removed]",
      "text/plain": [
       "<Figure size 600x300 with 1 Axes>"
      ]
     },
     "metadata": {},
     "output_type": "display_data"
    }
   ],
   "source": [
    "mostrar_resultados_agente_continuo(agente)"
   ]
  },
  {
   "cell_type": "code",
   "execution_count": 76,
   "id": "fd82d335-4596-40e0-ac41-4339d66603f4",
   "metadata": {
    "execution": {
     "iopub.execute_input": "2025-05-24T04:12:39.980789Z",
     "iopub.status.busy": "2025-05-24T04:12:39.980225Z",
     "iopub.status.idle": "2025-05-24T04:12:40.195979Z",
     "shell.execute_reply": "2025-05-24T04:12:40.195051Z",
     "shell.execute_reply.started": "2025-05-24T04:12:39.980754Z"
    }
   },
   "outputs": [
    {
     "data": {
      "image/png": "[encoded data removed]",
      "text/plain": [
       "<Figure size 600x300 with 1 Axes>"
      ]
     },
     "metadata": {},
     "output_type": "display_data"
    },
    {
     "name": "stdout",
     "output_type": "stream",
     "text": [
      "Recompensa total obtenida: -133.00\n"
     ]
    }
   ],
   "source": [
    "ejecutar_episodio_y_mostrar(agente)"
   ]
  },
  {
   "cell_type": "code",
   "execution_count": 77,
   "id": "733fc842-48bb-4a5a-a171-5a631e364304",
   "metadata": {
    "execution": {
     "iopub.execute_input": "2025-05-24T04:12:40.198446Z",
     "iopub.status.busy": "2025-05-24T04:12:40.197875Z",
     "iopub.status.idle": "2025-05-24T04:12:40.209550Z",
     "shell.execute_reply": "2025-05-24T04:12:40.208067Z",
     "shell.execute_reply.started": "2025-05-24T04:12:40.198408Z"
    }
   },
   "outputs": [],
   "source": [
    "def grabar_video_agente(agente, nombre_archivo=\"video_mountaincar.gif\", fps=30):\n",
    "    \"\"\"\n",
    "    Ejecuta un episodio con la política aprendida y guarda un video del entorno.\n",
    "    \"\"\"\n",
    "    # Crear entorno con renderizado de imágenes\n",
    "    env = gym.make(\"MountainCar-v0\", render_mode=\"rgb_array\")\n",
    "    env.reset(seed=SEED)\n",
    "    state, _ = env.reset()\n",
    "    done = False\n",
    "    total_reward = 0\n",
    "    frames = []\n",
    "\n",
    "    while not done:\n",
    "        frame = env.render()\n",
    "        frames.append(frame)\n",
    "\n",
    "        # Acción greedy\n",
    "        q_values = [agente._Q(state, a) for a in range(agente.nA)]\n",
    "        action = np.argmax(q_values)\n",
    "\n",
    "        next_state, reward, terminated, truncated, _ = env.step(action)\n",
    "        total_reward += reward\n",
    "        done = terminated or truncated\n",
    "        state = next_state\n",
    "\n",
    "        if done:\n",
    "            break\n",
    "\n",
    "    env.close()\n",
    "\n",
    "    print(f\"Número total de frames: {len(frames)}\")\n",
    "    # Guardar el video como GIF\n",
    "    imageio.mimsave(nombre_archivo, frames, fps=fps, loop=0)\n",
    "    print(f\"🎥 Vídeo guardado en: {nombre_archivo}\")\n",
    "    print(f\"🏁 Recompensa total obtenida: {total_reward:.2f}\")"
   ]
  },
  {
   "cell_type": "code",
   "execution_count": 78,
   "id": "bb665331-176f-4b1a-a3fe-a511a15ec686",
   "metadata": {
    "execution": {
     "iopub.execute_input": "2025-05-24T04:12:40.211575Z",
     "iopub.status.busy": "2025-05-24T04:12:40.210955Z",
     "iopub.status.idle": "2025-05-24T04:12:45.064858Z",
     "shell.execute_reply": "2025-05-24T04:12:45.063709Z",
     "shell.execute_reply.started": "2025-05-24T04:12:40.211538Z"
    }
   },
   "outputs": [
    {
     "name": "stdout",
     "output_type": "stream",
     "text": [
      "Número total de frames: 130\n",
      "🎥 Vídeo guardado en: video_mountaincar_fourier.gif\n",
      "🏁 Recompensa total obtenida: -130.00\n"
     ]
    },
    {
     "data": {
      "text/html": [
       "\n",
       "<img src=\"video_mountaincar_fourier.gif\" style=\"width: 600px;\" loop>\n"
      ],
      "text/plain": [
       "<IPython.core.display.HTML object>"
      ]
     },
     "execution_count": 78,
     "metadata": {},
     "output_type": "execute_result"
    }
   ],
   "source": [
    "nombre_archivo = \"video_mountaincar_fourier.gif\"\n",
    "\n",
    "grabar_video_agente(agente, nombre_archivo=nombre_archivo)\n",
    "\n",
    "HTML(f\"\"\"\n",
    "<img src=\"{nombre_archivo}\" style=\"width: 600px;\" loop>\n",
    "\"\"\")"
   ]
  },
  {
   "cell_type": "code",
   "execution_count": null,
   "id": "e6275294-3b8b-4780-ac5b-debf9e8cd94c",
   "metadata": {},
   "outputs": [],
   "source": []
  },
  {
   "cell_type": "code",
   "execution_count": null,
   "id": "1c3c0ed2-ede6-4a48-bc69-103c2efb4ae6",
   "metadata": {},
   "outputs": [],
   "source": []
  }
 ],
 "metadata": {
  "kernelspec": {
   "display_name": "Python 3 (ipykernel)",
   "language": "python",
   "name": "python3"
  },
  "language_info": {
   "codemirror_mode": {
    "name": "ipython",
    "version": 3
   },
   "file_extension": ".py",
   "mimetype": "text/x-python",
   "name": "python",
   "nbconvert_exporter": "python",
   "pygments_lexer": "ipython3",
   "version": "3.10.12"
  }
 },
 "nbformat": 4,
 "nbformat_minor": 5
}
