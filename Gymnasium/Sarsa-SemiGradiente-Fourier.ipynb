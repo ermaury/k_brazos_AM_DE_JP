{
 "cells": [
  {
   "cell_type": "code",
   "execution_count": 2,
   "id": "cdbac9d6-b209-4fcc-becd-b75e076b605d",
   "metadata": {
    "execution": {
     "iopub.execute_input": "2025-06-02T19:16:05.204078Z",
     "iopub.status.busy": "2025-06-02T19:16:05.203846Z",
     "iopub.status.idle": "2025-06-02T19:16:26.720385Z",
     "shell.execute_reply": "2025-06-02T19:16:26.719308Z",
     "shell.execute_reply.started": "2025-06-02T19:16:05.204060Z"
    }
   },
   "outputs": [
    {
     "name": "stdout",
     "output_type": "stream",
     "text": [
      "Collecting gymnasium\n",
      "  Downloading gymnasium-1.1.1-py3-none-any.whl.metadata (9.4 kB)\n",
      "Requirement already satisfied: numpy>=1.21.0 in /home/user/miniconda3/envs/cvenv/lib/python3.10/site-packages (from gymnasium) (1.24.1)\n",
      "Requirement already satisfied: cloudpickle>=1.2.0 in /home/user/miniconda3/envs/cvenv/lib/python3.10/site-packages (from gymnasium) (3.0.0)\n",
      "Requirement already satisfied: typing-extensions>=4.3.0 in /home/user/miniconda3/envs/cvenv/lib/python3.10/site-packages (from gymnasium) (4.8.0)\n",
      "Collecting farama-notifications>=0.0.1 (from gymnasium)\n",
      "  Downloading Farama_Notifications-0.0.4-py3-none-any.whl.metadata (558 bytes)\n",
      "Downloading gymnasium-1.1.1-py3-none-any.whl (965 kB)\n",
      "\u001b[2K   \u001b[90m━━━━━━━━━━━━━━━━━━━━━━━━━━━━━━━━━━━━━━━━\u001b[0m \u001b[32m965.4/965.4 kB\u001b[0m \u001b[31m3.5 MB/s\u001b[0m eta \u001b[36m0:00:00\u001b[0m00:01\u001b[0m00:01\u001b[0m\n",
      "\u001b[?25hDownloading Farama_Notifications-0.0.4-py3-none-any.whl (2.5 kB)\n",
      "Installing collected packages: farama-notifications, gymnasium\n",
      "Successfully installed farama-notifications-0.0.4 gymnasium-1.1.1\n",
      "Collecting pygame\n",
      "  Downloading pygame-2.6.1-cp310-cp310-manylinux_2_17_x86_64.manylinux2014_x86_64.whl.metadata (12 kB)\n",
      "Downloading pygame-2.6.1-cp310-cp310-manylinux_2_17_x86_64.manylinux2014_x86_64.whl (14.0 MB)\n",
      "\u001b[2K   \u001b[90m━━━━━━━━━━━━━━━━━━━━━━━━━━━━━━━━━━━━━━━━\u001b[0m \u001b[32m14.0/14.0 MB\u001b[0m \u001b[31m6.7 MB/s\u001b[0m eta \u001b[36m0:00:00\u001b[0m00:01\u001b[0m00:01\u001b[0m0m\n",
      "\u001b[?25hInstalling collected packages: pygame\n",
      "Successfully installed pygame-2.6.1\n"
     ]
    }
   ],
   "source": [
    "!pip install gymnasium\n",
    "!pip install pygame"
   ]
  },
  {
   "cell_type": "markdown",
   "id": "36ee8b9b-2a71-4bcd-96d5-5329a9ae5feb",
   "metadata": {},
   "source": [
    "# Carga y exploración de un entorno de Gymnasium"
   ]
  },
  {
   "cell_type": "code",
   "execution_count": 50,
   "id": "cd6db6f7-7bce-4b74-8f9d-d048d6359082",
   "metadata": {
    "execution": {
     "iopub.execute_input": "2025-06-03T07:57:40.387828Z",
     "iopub.status.busy": "2025-06-03T07:57:40.387109Z",
     "iopub.status.idle": "2025-06-03T07:57:40.397067Z",
     "shell.execute_reply": "2025-06-03T07:57:40.396270Z",
     "shell.execute_reply.started": "2025-06-03T07:57:40.387806Z"
    }
   },
   "outputs": [],
   "source": [
    "import gymnasium as gym\n",
    "import numpy as np\n",
    "import time\n",
    "from IPython.display import clear_output, display, HTML\n",
    "import matplotlib.pyplot as plt\n",
    "from tqdm import tqdm\n",
    "import pandas as pd\n",
    "import random\n",
    "from itertools import product\n",
    "from concurrent.futures import ProcessPoolExecutor, as_completed\n",
    "import imageio\n",
    "from IPython.display import HTML\n",
    "import pickle\n",
    "\n",
    "SEED = 42\n",
    "\n",
    "# -------------------- VISUALIZACIÓN DE RESULTADOS --------------------\n",
    "\n",
    "def graficar_recompensas(agente):\n",
    "    \"\"\"Grafica la recompensa media acumulada por episodio.\"\"\"\n",
    "    plt.figure(figsize=(6, 3))\n",
    "    plt.plot(agente.stats)\n",
    "    plt.title('Recompensa media acumulada')\n",
    "    plt.xlabel('Episodio')\n",
    "    plt.ylabel('Recompensa media')\n",
    "    plt.grid(True)\n",
    "    plt.show()\n",
    "\n",
    "def graficar_longitud_episodios(agente):\n",
    "    \"\"\"Grafica la longitud de cada episodio.\"\"\"\n",
    "    plt.figure(figsize=(6, 3))\n",
    "    plt.plot(agente.episode_lengths)\n",
    "    plt.title(\"Longitud de episodios\")\n",
    "    plt.xlabel(\"Episodio\")\n",
    "    plt.ylabel(\"Pasos\")\n",
    "    plt.grid(True)\n",
    "    plt.show()\n",
    "\n",
    "def mostrar_resultados_agente_continuo(agente):\n",
    "    \"\"\"Muestra gráficos de rendimiento en entornos continuos.\"\"\"\n",
    "    graficar_recompensas(agente)\n",
    "    graficar_longitud_episodios(agente)\n",
    "\n",
    "\n",
    "# -------------------- EVALUACIÓN DE LA POLÍTICA --------------------\n",
    "\n",
    "def evaluar_politica(agente, num_episodios=100):\n",
    "    \"\"\"Evalúa la política del agente ejecutando múltiples episodios y muestra estadísticas.\"\"\"\n",
    "\n",
    "    env = agente.env\n",
    "    recompensas = []\n",
    "    longitudes = []\n",
    "    semillas_fallidas = []\n",
    "\n",
    "    for i in range(num_episodios):\n",
    "        random.seed(i)\n",
    "        np.random.seed(i)\n",
    "        env.action_space.seed(i)\n",
    "        state, _ = env.reset(seed=i)\n",
    "        done = False\n",
    "        total_reward = 0\n",
    "        posiciones = []\n",
    "        pasos = 0\n",
    "\n",
    "        terminated = False\n",
    "        truncated = False\n",
    "        \n",
    "        while not done:\n",
    "            posiciones.append(state[0])\n",
    "            action = agente.seleccionar_accion_greedy(state)\n",
    "            state, reward, terminated, truncated, _ = env.step(action)\n",
    "            done = terminated or truncated\n",
    "            total_reward += reward\n",
    "            pasos += 1\n",
    "            \n",
    "            if truncated:\n",
    "                semillas_fallidas.append(i)\n",
    "                \n",
    "        recompensas.append(total_reward)\n",
    "        longitudes.append(pasos)\n",
    "        env.close()\n",
    "\n",
    "    # Resumen estadístico\n",
    "    print(\"📊 Resultados de evaluación:\")\n",
    "    print(f\"  Episodios evaluados: {num_episodios}\")\n",
    "    print(f\"  Recompensa media:    {np.mean(recompensas):.2f} ± {np.std(recompensas):.2f}\")\n",
    "    print(f\"  Recompensa min/max:  {np.max(recompensas):.2f} / {np.min(recompensas):.2f}\")\n",
    "\n",
    "    print(f\"  Episodios exitosos:  {num_episodios - len(semillas_fallidas)}\")\n",
    "    print(f\"  Episodios fallidos:  {len(semillas_fallidas)}\")\n",
    "    print(f\"  Semillas fallidas: {semillas_fallidas}\")\n",
    "\n"
   ]
  },
  {
   "cell_type": "markdown",
   "id": "25ea2caf-b67a-4dbb-b612-3121e4403f06",
   "metadata": {},
   "source": [
    "# Objeto AgenteSARSA-SemiGradiente (Fourier)"
   ]
  },
  {
   "cell_type": "code",
   "execution_count": 57,
   "id": "81be454b-f029-4467-b0ab-279f798fce9a",
   "metadata": {
    "execution": {
     "iopub.execute_input": "2025-06-03T09:15:45.274920Z",
     "iopub.status.busy": "2025-06-03T09:15:45.274664Z",
     "iopub.status.idle": "2025-06-03T09:15:45.288164Z",
     "shell.execute_reply": "2025-06-03T09:15:45.287120Z",
     "shell.execute_reply.started": "2025-06-03T09:15:45.274901Z"
    }
   },
   "outputs": [],
   "source": [
    "class AgenteSARSASemiGradienteFourier:\n",
    "    def __init__(self, env, alpha=0.01, gamma=1.0, epsilon=1.0, decay=True, fourier_order=3):\n",
    "        self.env = env\n",
    "        self.alpha = alpha\n",
    "        self.gamma = gamma\n",
    "        self.epsilon = epsilon\n",
    "        self.decay = decay\n",
    "        self.fourier_order = fourier_order\n",
    "\n",
    "        self.nA = env.action_space.n\n",
    "        self.low = env.observation_space.low\n",
    "        self.high = env.observation_space.high\n",
    "        self.state_dim = env.observation_space.shape[0]\n",
    "\n",
    "        # Generar los coeficientes c para Fourier basis\n",
    "        self.c = np.array(list(product(range(fourier_order + 1), repeat=self.state_dim)))\n",
    "        self.d = len(self.c)\n",
    "\n",
    "        # Una theta por acción\n",
    "        self.theta = np.zeros((self.nA, self.d))\n",
    "        self.stats = []\n",
    "        self.episode_lengths = []\n",
    "\n",
    "    \n",
    "    def guardar_agente(self, ruta_archivo=\"agente_sarsa_fourier.pkl\"):\n",
    "        \"\"\"Guarda el agente SARSASemiGradienteFourier en un archivo pickle.\"\"\"\n",
    "        datos = {\n",
    "            \"alpha\": self.alpha,\n",
    "            \"gamma\": self.gamma,\n",
    "            \"epsilon\": self.epsilon,\n",
    "            \"decay\": self.decay,\n",
    "            \"fourier_order\": self.fourier_order,\n",
    "            \"theta\": self.theta,\n",
    "            \"stats\": self.stats,\n",
    "            \"episode_lengths\": self.episode_lengths,\n",
    "            \"c\": self.c,\n",
    "            \"low\": self.low,\n",
    "            \"high\": self.high,\n",
    "            \"state_dim\": self.state_dim,\n",
    "            \"nA\": self.nA\n",
    "        }\n",
    "        with open(ruta_archivo, \"wb\") as f:\n",
    "            pickle.dump(datos, f)\n",
    "            \n",
    "    @staticmethod\n",
    "    def cargar_agente(ruta_archivo=\"agente_sarsa_fourier.pkl\"):\n",
    "        \"\"\"Carga un agente SARSASemiGradienteFourier desde un archivo pickle.\"\"\"\n",
    "        with open(ruta_archivo, \"rb\") as f:\n",
    "            datos = pickle.load(f)\n",
    "    \n",
    "        # Reconstruir el entorno\n",
    "        env = gym.make(\"MountainCar-v0\")\n",
    "        env.reset(seed=SEED)\n",
    "    \n",
    "        agente = AgenteSARSASemiGradienteFourier(\n",
    "            env,\n",
    "            alpha=datos[\"alpha\"],\n",
    "            gamma=datos[\"gamma\"],\n",
    "            epsilon=datos[\"epsilon\"],\n",
    "            decay=datos[\"decay\"],\n",
    "            fourier_order=datos[\"fourier_order\"]\n",
    "        )\n",
    "        \n",
    "        # Restaurar parámetros\n",
    "        agente.theta = datos[\"theta\"]\n",
    "        agente.stats = datos[\"stats\"]\n",
    "        agente.episode_lengths = datos[\"episode_lengths\"]\n",
    "        agente.c = datos[\"c\"]\n",
    "        agente.low = datos[\"low\"]\n",
    "        agente.high = datos[\"high\"]\n",
    "        agente.state_dim = datos[\"state_dim\"]\n",
    "        agente.nA = datos[\"nA\"]\n",
    "    \n",
    "        return agente\n",
    "\n",
    "    def _scale_state(self, state):\n",
    "        \"\"\"Escala el estado continuo al rango [0, 1]\"\"\"\n",
    "        return (state - self.low) / (self.high - self.low)\n",
    "\n",
    "    def _phi(self, state):\n",
    "        \"\"\"Devuelve vector de características Fourier para un estado escalado\"\"\"\n",
    "        s_scaled = self._scale_state(state)\n",
    "        return np.cos(np.pi * np.dot(self.c, s_scaled))\n",
    "\n",
    "    def _Q(self, state, action):\n",
    "        \"\"\"Valor aproximado Q(s, a)\"\"\"\n",
    "        return np.dot(self.theta[action], self._phi(state))\n",
    "\n",
    "    # -------------------- POLÍTICAS Y SELECCIÓN DE ACCIONES --------------------\n",
    "\n",
    "    def seleccionar_accion(self, state):\n",
    "        \"\"\"Selecciona una acción usando la política epsilon-soft explícita.\"\"\"\n",
    "        policy = self._epsilon_soft_policy_fourier(state)\n",
    "        return np.random.choice(np.arange(self.nA), p=policy)\n",
    "\n",
    "    def seleccionar_accion_greedy(self, state):\n",
    "        \"\"\"Selecciona una acción usando la política greedy.\"\"\"\n",
    "        q_values = [self._Q(state, a) for a in range(self.nA)]\n",
    "        action = np.argmax(q_values)\n",
    "        return action\n",
    "\n",
    "    def _epsilon_soft_policy_fourier(self, state):\n",
    "        \"\"\"Devuelve una política epsilon-soft como vector de probabilidades.\"\"\"\n",
    "        q_values = np.array([self._Q(state, a) for a in range(self.nA)])\n",
    "        policy = np.ones(self.nA) * self.epsilon / self.nA\n",
    "        best_action = np.argmax(q_values)\n",
    "        policy[best_action] += 1.0 - self.epsilon\n",
    "        return policy\n",
    "\n",
    "\n",
    "    def entrenar(self, num_episodes=5000, mostrar_barra=True):\n",
    "        random.seed(SEED)\n",
    "        np.random.seed(SEED)\n",
    "    \n",
    "        acumulador_recompensas = 0.0\n",
    "    \n",
    "        for t in tqdm(range(num_episodes), disable=not mostrar_barra):\n",
    "            if self.decay:\n",
    "                self.epsilon = min(1.0, 1000.0 / (t + 1))\n",
    "    \n",
    "            state, _ = self.env.reset()\n",
    "            action = self.seleccionar_accion(state)\n",
    "            done = False\n",
    "            total_reward = 0\n",
    "            pasos = 0\n",
    "    \n",
    "            while not done:\n",
    "                next_state, reward, terminated, truncated, _ = self.env.step(action)\n",
    "                done = terminated or truncated\n",
    "                next_action = self.seleccionar_accion(next_state)\n",
    "    \n",
    "                phi = self._phi(state)\n",
    "    \n",
    "                if np.any(np.isnan(phi)) or np.any(np.isinf(phi)):\n",
    "                    phi = np.nan_to_num(phi)\n",
    "    \n",
    "                q_current = self._Q(state, action)\n",
    "                q_next = self._Q(next_state, next_action) if not done else 0.0\n",
    "                target = reward + self.gamma * q_next\n",
    "                delta = target - q_current\n",
    "    \n",
    "                if np.isnan(delta) or np.isinf(delta):\n",
    "                    delta = 0.0  # ignorar la actualización problemática\n",
    "    \n",
    "                # Update con control de valores extremos\n",
    "                self.theta[action] += self.alpha * delta * phi\n",
    "                self.theta[action] = np.clip(self.theta[action], -1e3, 1e3)\n",
    "    \n",
    "                state = next_state\n",
    "                action = next_action\n",
    "                total_reward += reward\n",
    "                pasos += 1\n",
    "    \n",
    "            self.episode_lengths.append(pasos)\n",
    "            acumulador_recompensas += total_reward\n",
    "            self.stats.append(acumulador_recompensas / (t + 1))\n",
    "    \n",
    "        return self.theta"
   ]
  },
  {
   "cell_type": "code",
   "execution_count": 11,
   "id": "7fd99155-cfa5-432e-8e00-f03d444afd2d",
   "metadata": {
    "execution": {
     "iopub.execute_input": "2025-06-02T19:37:11.849228Z",
     "iopub.status.busy": "2025-06-02T19:37:11.849006Z",
     "iopub.status.idle": "2025-06-02T19:37:11.856302Z",
     "shell.execute_reply": "2025-06-02T19:37:11.855487Z",
     "shell.execute_reply.started": "2025-06-02T19:37:11.849210Z"
    }
   },
   "outputs": [],
   "source": [
    "def evaluar_configuracion(params, env_name=\"MountainCar-v0\"):\n",
    "    alpha, gamma, epsilon, fourier_order, decay = params\n",
    "    env = gym.make(env_name)\n",
    "    agente = AgenteSARSASemiGradienteFourier(\n",
    "        env, alpha=alpha, gamma=gamma, epsilon=epsilon,\n",
    "        decay=decay, fourier_order=fourier_order\n",
    "    )\n",
    "    agente.entrenar(num_episodes=5000, mostrar_barra=False)\n",
    "    recompensa_final = np.mean(agente.stats[-100:])\n",
    "    return (alpha, gamma, epsilon, fourier_order, decay, recompensa_final)\n",
    "\n",
    "def random_search(env_name=\"MountainCar-v0\", n_trials=100):\n",
    "    # Espacio de búsqueda\n",
    "    alphas = [0.01, 0.05, 0.1, 0.5]\n",
    "    gammas = np.linspace(0.1, 1.0, 10)\n",
    "    epsilons = np.linspace(0.1, 1.0, 10)\n",
    "    fourier_orders = [1, 3, 5]\n",
    "\n",
    "    combinaciones = []\n",
    "\n",
    "    for _ in range(n_trials):\n",
    "        a = random.choice(alphas)\n",
    "        g = random.choice(gammas)\n",
    "        f = random.choice(fourier_orders)\n",
    "        decay = random.choice([True, False])\n",
    "        if decay:\n",
    "            e = 0.0  # ignorado\n",
    "        else:\n",
    "            e = random.choice(epsilons)\n",
    "        combinaciones.append((a, g, e, f, decay))\n",
    "\n",
    "    mejor_config = None\n",
    "    mejor_recompensa = -float('inf')\n",
    "    resultados = []\n",
    "\n",
    "    print(f\"🔍 Random Search: ejecutando {n_trials} configuraciones aleatorias...\\n\")\n",
    "\n",
    "    with ProcessPoolExecutor() as executor:\n",
    "        futures = [executor.submit(evaluar_configuracion, combo, env_name) for combo in combinaciones]\n",
    "        for future in tqdm(as_completed(futures), total=len(futures), desc=\"Progreso\"):\n",
    "            alpha, gamma, epsilon, fourier_order, decay_flag, recompensa = future.result()\n",
    "            resultados.append((alpha, gamma, epsilon, fourier_order, decay_flag, recompensa))\n",
    "\n",
    "            if recompensa > mejor_recompensa:\n",
    "                mejor_recompensa = recompensa\n",
    "                mejor_config = (alpha, gamma, epsilon, fourier_order, decay_flag)\n",
    "\n",
    "    print(\"\\n✅ Mejor configuración encontrada:\")\n",
    "    print(f\" alpha = {mejor_config[0]}, γ = {mejor_config[1]}, ε = {mejor_config[2]}, \"\n",
    "          f\"Fourier = {mejor_config[3]}, decay = {mejor_config[4]}\")\n",
    "    print(f\"  → Recompensa media final: {mejor_recompensa:.4f}\")\n"
   ]
  },
  {
   "cell_type": "code",
   "execution_count": null,
   "id": "3f85ce5b-04b7-4b82-a2e3-5a16974a5c54",
   "metadata": {},
   "outputs": [],
   "source": [
    "random_search()"
   ]
  },
  {
   "cell_type": "code",
   "execution_count": 47,
   "id": "61b77384-6991-424a-85b8-4c6ca553dd73",
   "metadata": {
    "execution": {
     "iopub.execute_input": "2025-06-03T07:44:18.174703Z",
     "iopub.status.busy": "2025-06-03T07:44:18.174337Z",
     "iopub.status.idle": "2025-06-03T07:48:41.927584Z",
     "shell.execute_reply": "2025-06-03T07:48:41.926773Z",
     "shell.execute_reply.started": "2025-06-03T07:44:18.174675Z"
    }
   },
   "outputs": [
    {
     "name": "stderr",
     "output_type": "stream",
     "text": [
      "100%|█████████████████████████████████████████████████████████████████████████████| 10000/10000 [04:23<00:00, 37.92it/s]\n"
     ]
    },
    {
     "data": {
      "text/plain": [
       "array([[-84.11448941, -22.02776384,   5.81714768,  81.82645838],\n",
       "       [-79.86354474, -41.18139544,   5.27656087,  92.84750049],\n",
       "       [-80.53382211, -54.95998186,   5.36442613,  91.19607727]])"
      ]
     },
     "execution_count": 47,
     "metadata": {},
     "output_type": "execute_result"
    }
   ],
   "source": [
    "# Ejecución de ejemplo\n",
    "env = gym.make(\"MountainCar-v0\")\n",
    "env.reset(seed=SEED)\n",
    "agente = AgenteSARSASemiGradienteFourier(env, alpha=0.05, gamma=1.0, fourier_order=1, decay=True)\n",
    "agente.entrenar(num_episodes=10000)"
   ]
  },
  {
   "cell_type": "code",
   "execution_count": 55,
   "id": "f83c8e98-df54-4036-b2eb-778195a85b80",
   "metadata": {
    "execution": {
     "iopub.execute_input": "2025-06-03T08:18:23.759289Z",
     "iopub.status.busy": "2025-06-03T08:18:23.758672Z",
     "iopub.status.idle": "2025-06-03T08:18:23.773373Z",
     "shell.execute_reply": "2025-06-03T08:18:23.772268Z",
     "shell.execute_reply.started": "2025-06-03T08:18:23.759271Z"
    }
   },
   "outputs": [],
   "source": [
    "agente.guardar_agente()"
   ]
  },
  {
   "cell_type": "code",
   "execution_count": 51,
   "id": "50b6af6c-c274-4cc1-93ca-ca92efb12f0b",
   "metadata": {
    "execution": {
     "iopub.execute_input": "2025-06-03T07:57:46.400819Z",
     "iopub.status.busy": "2025-06-03T07:57:46.400370Z",
     "iopub.status.idle": "2025-06-03T07:57:46.415307Z",
     "shell.execute_reply": "2025-06-03T07:57:46.414516Z",
     "shell.execute_reply.started": "2025-06-03T07:57:46.400799Z"
    }
   },
   "outputs": [],
   "source": [
    "agente = cargar_agente()"
   ]
  },
  {
   "cell_type": "markdown",
   "id": "5f45bc4c-4001-4cc6-b535-3c85808ff65f",
   "metadata": {},
   "source": [
    "# Resultados de agente SARSA SemiGradiente (Fourier)"
   ]
  },
  {
   "cell_type": "code",
   "execution_count": 52,
   "id": "aec87b34-d1e2-47d5-ad38-45cb9a69d5c2",
   "metadata": {
    "execution": {
     "iopub.execute_input": "2025-06-03T07:57:49.508348Z",
     "iopub.status.busy": "2025-06-03T07:57:49.507965Z",
     "iopub.status.idle": "2025-06-03T07:57:49.777439Z",
     "shell.execute_reply": "2025-06-03T07:57:49.776622Z",
     "shell.execute_reply.started": "2025-06-03T07:57:49.508329Z"
    }
   },
   "outputs": [
    {
     "data": {
      "image/png": "[encoded data removed]",
      "text/plain": [
       "<Figure size 600x300 with 1 Axes>"
      ]
     },
     "metadata": {},
     "output_type": "display_data"
    },
    {
     "data": {
      "image/png": "[encoded data removed]",
      "text/plain": [
       "<Figure size 600x300 with 1 Axes>"
      ]
     },
     "metadata": {},
     "output_type": "display_data"
    }
   ],
   "source": [
    "mostrar_resultados_agente_continuo(agente)"
   ]
  },
  {
   "cell_type": "code",
   "execution_count": 54,
   "id": "fd82d335-4596-40e0-ac41-4339d66603f4",
   "metadata": {
    "execution": {
     "iopub.execute_input": "2025-06-03T08:03:07.645053Z",
     "iopub.status.busy": "2025-06-03T08:03:07.644571Z",
     "iopub.status.idle": "2025-06-03T08:16:37.254204Z",
     "shell.execute_reply": "2025-06-03T08:16:37.253423Z",
     "shell.execute_reply.started": "2025-06-03T08:03:07.645032Z"
    }
   },
   "outputs": [
    {
     "name": "stdout",
     "output_type": "stream",
     "text": [
      "📊 Resultados de evaluación:\n",
      "  Episodios evaluados: 100000\n",
      "  Recompensa media:    -138.62 ± 30.21\n",
      "  Recompensa min/max:  -85.00 / -199.00\n",
      "  Episodios exitosos:  100000\n",
      "  Episodios fallidos:  0\n",
      "  Semillas fallidas: []\n"
     ]
    }
   ],
   "source": [
    "evaluar_politica(agente, num_episodios=100000)"
   ]
  },
  {
   "cell_type": "code",
   "execution_count": null,
   "id": "733fc842-48bb-4a5a-a171-5a631e364304",
   "metadata": {
    "execution": {
     "iopub.status.busy": "2025-06-02T19:37:10.141872Z",
     "iopub.status.idle": "2025-06-02T19:37:10.142087Z",
     "shell.execute_reply": "2025-06-02T19:37:10.141997Z",
     "shell.execute_reply.started": "2025-06-02T19:37:10.141987Z"
    }
   },
   "outputs": [],
   "source": [
    "def grabar_video_agente(agente, seed, nombre_archivo=\"video_mountaincar.gif\", fps=30):\n",
    "    \"\"\"\n",
    "    Ejecuta un episodio con la política aprendida y guarda un video del entorno.\n",
    "    \"\"\"\n",
    "\n",
    "    random.seed(seed)\n",
    "    np.random.seed(seed)\n",
    "\n",
    "    # Crear entorno con renderizado de imágenes\n",
    "    env = gym.make(\"MountainCar-v0\", render_mode=\"rgb_array\")\n",
    "    state, _ = env.reset(seed=seed)\n",
    "    done = False\n",
    "    total_reward = 0\n",
    "    frames = []\n",
    "\n",
    "    while not done:\n",
    "        frame = env.render()\n",
    "        frames.append(frame)\n",
    "\n",
    "        action = agente.seleccionar_accion_greedy(state)\n",
    "        state, reward, terminated, truncated, _ = env.step(action)\n",
    "        done = terminated or truncated\n",
    "        total_reward += reward\n",
    "\n",
    "        if done:\n",
    "            break\n",
    "\n",
    "    env.close()\n",
    "\n",
    "    print(f\"Número total de frames: {len(frames)}\")\n",
    "    # Guardar el video como GIF\n",
    "    imageio.mimsave(nombre_archivo, frames, fps=fps, loop=0)\n",
    "    print(f\"🎥 Vídeo guardado en: {nombre_archivo}\")\n",
    "    print(f\"🏁 Recompensa total obtenida: {total_reward:.2f}\")"
   ]
  },
  {
   "cell_type": "code",
   "execution_count": null,
   "id": "bb665331-176f-4b1a-a3fe-a511a15ec686",
   "metadata": {
    "execution": {
     "iopub.status.busy": "2025-06-02T19:37:10.143221Z",
     "iopub.status.idle": "2025-06-02T19:37:10.143438Z",
     "shell.execute_reply": "2025-06-02T19:37:10.143346Z",
     "shell.execute_reply.started": "2025-06-02T19:37:10.143336Z"
    }
   },
   "outputs": [],
   "source": [
    "nombre_archivo = \"video_mountaincar_fourier.gif\"\n",
    "\n",
    "grabar_video_agente(agente, seed=98747, nombre_archivo=nombre_archivo)\n",
    "\n",
    "HTML(f\"\"\"\n",
    "<img src=\"{nombre_archivo}\" style=\"width: 600px;\" loop>\n",
    "\"\"\")"
   ]
  },
  {
   "cell_type": "code",
   "execution_count": null,
   "id": "aacbd8a3-2421-4e7d-bf07-aa478ce82178",
   "metadata": {},
   "outputs": [],
   "source": []
  }
 ],
 "metadata": {
  "kernelspec": {
   "display_name": "Python 3 (ipykernel)",
   "language": "python",
   "name": "python3"
  },
  "language_info": {
   "codemirror_mode": {
    "name": "ipython",
    "version": 3
   },
   "file_extension": ".py",
   "mimetype": "text/x-python",
   "name": "python",
   "nbconvert_exporter": "python",
   "pygments_lexer": "ipython3",
   "version": "3.10.12"
  }
 },
 "nbformat": 4,
 "nbformat_minor": 5
}
