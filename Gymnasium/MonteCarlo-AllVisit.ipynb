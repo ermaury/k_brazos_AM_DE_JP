{
 "cells": [
  {
   "cell_type": "code",
   "execution_count": 1,
   "id": "cdbac9d6-b209-4fcc-becd-b75e076b605d",
   "metadata": {
    "execution": {
     "iopub.execute_input": "2025-05-19T11:04:15.858068Z",
     "iopub.status.busy": "2025-05-19T11:04:15.857538Z",
     "iopub.status.idle": "2025-05-19T11:04:37.908214Z",
     "shell.execute_reply": "2025-05-19T11:04:37.907440Z",
     "shell.execute_reply.started": "2025-05-19T11:04:15.858046Z"
    }
   },
   "outputs": [
    {
     "name": "stdout",
     "output_type": "stream",
     "text": [
      "Collecting gymnasium\n",
      "  Downloading gymnasium-1.1.1-py3-none-any.whl.metadata (9.4 kB)\n",
      "Requirement already satisfied: numpy>=1.21.0 in /home/user/miniconda3/envs/cvenv/lib/python3.10/site-packages (from gymnasium) (1.24.1)\n",
      "Requirement already satisfied: cloudpickle>=1.2.0 in /home/user/miniconda3/envs/cvenv/lib/python3.10/site-packages (from gymnasium) (3.0.0)\n",
      "Requirement already satisfied: typing-extensions>=4.3.0 in /home/user/miniconda3/envs/cvenv/lib/python3.10/site-packages (from gymnasium) (4.8.0)\n",
      "Collecting farama-notifications>=0.0.1 (from gymnasium)\n",
      "  Downloading Farama_Notifications-0.0.4-py3-none-any.whl.metadata (558 bytes)\n",
      "Downloading gymnasium-1.1.1-py3-none-any.whl (965 kB)\n",
      "\u001b[2K   \u001b[90m━━━━━━━━━━━━━━━━━━━━━━━━━━━━━━━━━━━━━━━━\u001b[0m \u001b[32m965.4/965.4 kB\u001b[0m \u001b[31m2.9 MB/s\u001b[0m eta \u001b[36m0:00:00\u001b[0m00:01\u001b[0m00:01\u001b[0m\n",
      "\u001b[?25hDownloading Farama_Notifications-0.0.4-py3-none-any.whl (2.5 kB)\n",
      "Installing collected packages: farama-notifications, gymnasium\n",
      "Successfully installed farama-notifications-0.0.4 gymnasium-1.1.1\n",
      "Collecting pygame\n",
      "  Downloading pygame-2.6.1-cp310-cp310-manylinux_2_17_x86_64.manylinux2014_x86_64.whl.metadata (12 kB)\n",
      "Downloading pygame-2.6.1-cp310-cp310-manylinux_2_17_x86_64.manylinux2014_x86_64.whl (14.0 MB)\n",
      "\u001b[2K   \u001b[90m━━━━━━━━━━━━━━━━━━━━━━━━━━━━━━━━━━━━━━━━\u001b[0m \u001b[32m14.0/14.0 MB\u001b[0m \u001b[31m8.3 MB/s\u001b[0m eta \u001b[36m0:00:00\u001b[0m:00:01\u001b[0m00:01\u001b[0m\n",
      "\u001b[?25hInstalling collected packages: pygame\n",
      "Successfully installed pygame-2.6.1\n"
     ]
    }
   ],
   "source": [
    "!pip install gymnasium\n",
    "!pip install pygame"
   ]
  },
  {
   "cell_type": "markdown",
   "id": "36ee8b9b-2a71-4bcd-96d5-5329a9ae5feb",
   "metadata": {},
   "source": [
    "# Carga y exploración de un entorno de Gymnasium"
   ]
  },
  {
   "cell_type": "code",
   "execution_count": 2,
   "id": "cd6db6f7-7bce-4b74-8f9d-d048d6359082",
   "metadata": {
    "execution": {
     "iopub.execute_input": "2025-05-19T11:04:37.913180Z",
     "iopub.status.busy": "2025-05-19T11:04:37.912944Z",
     "iopub.status.idle": "2025-05-19T11:04:42.118601Z",
     "shell.execute_reply": "2025-05-19T11:04:42.117536Z",
     "shell.execute_reply.started": "2025-05-19T11:04:37.913158Z"
    }
   },
   "outputs": [],
   "source": [
    "import gymnasium as gym\n",
    "import numpy as np\n",
    "import time\n",
    "from IPython.display import clear_output, display, HTML\n",
    "import matplotlib.pyplot as plt\n",
    "from tqdm import tqdm\n",
    "import pandas as pd\n",
    "import random\n",
    "from itertools import product\n",
    "from concurrent.futures import ProcessPoolExecutor, as_completed\n",
    "\n",
    "# Parámetros globales\n",
    "SEED = 42\n",
    "ACCIONES = ['←', '↓', '→', '↑']\n",
    "\n",
    "# -------------------- POLÍTICAS --------------------\n",
    "\n",
    "def epsilon_soft_policy(Q: np.ndarray, epsilon: float, state: int, nA: int) -> np.ndarray:\n",
    "    \"\"\"Devuelve una política epsilon-soft como vector de probabilidades.\"\"\"\n",
    "    policy = np.ones(nA) * epsilon / nA\n",
    "    best_action = np.argmax(Q[state])\n",
    "    policy[best_action] += 1.0 - epsilon\n",
    "    return policy\n",
    "\n",
    "def seleccionar_accion(Q: np.ndarray, epsilon: float, state: int, nA: int) -> int:\n",
    "    \"\"\"Devuelve una acción siguiendo política epsilon-greedy.\"\"\"\n",
    "    policy = epsilon_soft_policy(Q, epsilon, state, nA)\n",
    "    return np.random.choice(np.arange(nA), p=policy)\n",
    "\n",
    "# -------------------- VISUALIZACIÓN DE POLÍTICA --------------------\n",
    "\n",
    "def representar_politica_greedy(agente, mostrar_como_grid=True):\n",
    "    \"\"\"Ejecuta y visualiza la política greedy aprendida.\"\"\"\n",
    "    env = agente.env\n",
    "    Q = agente.Q\n",
    "    desc = env.unwrapped.desc\n",
    "\n",
    "    state, _ = env.reset()\n",
    "    done = False\n",
    "    total_reward = 0\n",
    "    acciones_realizadas = []\n",
    "    tableros = []\n",
    "\n",
    "    while not done:\n",
    "        action = np.argmax(Q[state])\n",
    "        acciones_realizadas.append(ACCIONES[action])\n",
    "        tableros.append(tablero_con_emojis(desc, state))\n",
    "        state, reward, terminated, truncated, _ = env.step(action)\n",
    "        done = terminated or truncated\n",
    "        total_reward += reward\n",
    "\n",
    "    tableros.append(tablero_con_emojis(desc, state))  # último estado\n",
    "\n",
    "    if mostrar_como_grid:\n",
    "        mostrar_tableros_en_grid(tableros)\n",
    "    else:\n",
    "        for tablero in tableros:\n",
    "            display(HTML(f\"<pre style='font-size: 24px'>{tablero}</pre>\"))\n",
    "\n",
    "    print(f\"Recompensa total: {total_reward}\")\n",
    "    print(f\"Secuencia de acciones: {acciones_realizadas}\")\n",
    "\n",
    "def tablero_con_emojis(desc: np.ndarray, pos_agente: int) -> str:\n",
    "    \"\"\"Devuelve una representación del entorno con emojis.\"\"\"\n",
    "    EMOJI_MAP = {b'S': '🚩', b'F': '🧊', b'H': '🕳️', b'G': '🏁'}\n",
    "    AGENTE = '🤖'\n",
    "    tablero = \"\"\n",
    "\n",
    "    for i, fila in enumerate(desc):\n",
    "        for j, celda in enumerate(fila):\n",
    "            idx = i * desc.shape[1] + j\n",
    "            tablero += AGENTE if idx == pos_agente else EMOJI_MAP[celda]\n",
    "        tablero += \"\\n\"\n",
    "    return tablero\n",
    "\n",
    "def mostrar_tableros_en_grid(tableros: list[str], columnas: int = 4):\n",
    "    \"\"\"Muestra múltiples tableros en una cuadrícula HTML.\"\"\"\n",
    "    html = \"<table><tr>\"\n",
    "    for i, t in enumerate(tableros):\n",
    "        html += f\"<td><pre style='font-size: 14px'>{t}</pre></td>\"\n",
    "        if (i + 1) % columnas == 0:\n",
    "            html += \"</tr><tr>\"\n",
    "    html += \"</tr></table>\"\n",
    "    display(HTML(html))\n",
    "\n",
    "def dibujar_politica_optima(agente):\n",
    "    \"\"\"Dibuja con matplotlib la política óptima aprendida.\"\"\"\n",
    "    Q = agente.Q\n",
    "    desc = agente.env.unwrapped.desc\n",
    "    num_rows, num_cols = desc.shape\n",
    "\n",
    "    simbolos = [\n",
    "        'X' if np.all(fila == 0) else ACCIONES[np.argmax(fila)]\n",
    "        for fila in Q\n",
    "    ]\n",
    "\n",
    "    matriz = np.array(simbolos).reshape(num_rows, num_cols)\n",
    "\n",
    "    fig, ax = plt.subplots(figsize=(num_cols, num_rows))\n",
    "    ax.set_xticks(np.arange(num_cols))\n",
    "    ax.set_yticks(np.arange(num_rows))\n",
    "    ax.set_xticklabels([])\n",
    "    ax.set_yticklabels([])\n",
    "    ax.set_xticks(np.arange(-.5, num_cols, 1), minor=True)\n",
    "    ax.set_yticks(np.arange(-.5, num_rows, 1), minor=True)\n",
    "    ax.grid(which='minor', color='black', linewidth=1)\n",
    "\n",
    "    for i in range(num_rows):\n",
    "        for j in range(num_cols):\n",
    "            ax.text(j, i, matriz[i, j], ha='center', va='center', fontsize=16)\n",
    "\n",
    "    ax.invert_yaxis()\n",
    "    plt.title(\"Política óptima\")\n",
    "    plt.show()\n",
    "\n",
    "# -------------------- MÉTRICAS Y RESULTADOS --------------------\n",
    "\n",
    "def graficar_recompensas(agente):\n",
    "    \"\"\"Grafica la proporción de éxitos por episodio.\"\"\"\n",
    "    plt.figure(figsize=(6, 3))\n",
    "    plt.plot(range(len(agente.stats)), agente.stats)\n",
    "    plt.title('Proporción de recompensas')\n",
    "    plt.xlabel('Episodio')\n",
    "    plt.ylabel('Proporción')\n",
    "    plt.grid(True)\n",
    "    plt.show()\n",
    "\n",
    "def graficar_longitud_episodios(agente):\n",
    "    \"\"\"Grafica la longitud de cada episodio.\"\"\"\n",
    "    plt.plot(agente.episode_lengths)\n",
    "    plt.title(\"Longitud por episodio\")\n",
    "    plt.xlabel(\"Episodio\")\n",
    "    plt.ylabel(\"Longitud\")\n",
    "    plt.grid(True)\n",
    "    plt.show()\n",
    "\n",
    "def mostrar_resultados_agente(agente):\n",
    "    \"\"\"Muestra la política seguida, la Q aprendida y la política óptima.\"\"\"\n",
    "    representar_politica_greedy(agente)\n",
    "    \n",
    "    print(\"\\nTabla Q aprendida:\")\n",
    "    columnas = ['← Izquierda', '↓ Abajo', '→ Derecha', '↑ Arriba']\n",
    "    tabla_q = pd.DataFrame(agente.Q, columns=columnas)\n",
    "    tabla_q.index.name = 'Estado'\n",
    "    display(tabla_q.round(3))\n",
    "\n",
    "    print(\"\\nPolítica óptima aprendida:\")\n",
    "    dibujar_politica_optima(agente)\n"
   ]
  },
  {
   "cell_type": "markdown",
   "id": "25ea2caf-b67a-4dbb-b612-3121e4403f06",
   "metadata": {},
   "source": [
    "# Objeto AgenteMonteCarlo"
   ]
  },
  {
   "cell_type": "code",
   "execution_count": 3,
   "id": "81be454b-f029-4467-b0ab-279f798fce9a",
   "metadata": {
    "execution": {
     "iopub.execute_input": "2025-05-19T11:04:42.123588Z",
     "iopub.status.busy": "2025-05-19T11:04:42.123234Z",
     "iopub.status.idle": "2025-05-19T11:04:42.136048Z",
     "shell.execute_reply": "2025-05-19T11:04:42.135030Z",
     "shell.execute_reply.started": "2025-05-19T11:04:42.123421Z"
    }
   },
   "outputs": [],
   "source": [
    "class AgenteMonteCarlo:\n",
    "    def __init__(self, env, epsilon=0.4, discount_factor=1.0, decay=False):\n",
    "        self.env = env\n",
    "        self.epsilon = epsilon\n",
    "        self.discount_factor = discount_factor\n",
    "        self.decay = decay\n",
    "        self.nA = env.action_space.n\n",
    "        self.Q = np.zeros([env.observation_space.n, self.nA])\n",
    "        self.n_visits = np.zeros([env.observation_space.n, self.nA])\n",
    "        self.stats = []\n",
    "        self.episode_lengths = []\n",
    "\n",
    "    def entrenar(self, num_episodes=5000, mostrar_barra=True):\n",
    "\n",
    "        random.seed(SEED)\n",
    "        np.random.seed(SEED)\n",
    "        \n",
    "        acumulador_recompensas = 0.0\n",
    "\n",
    "        for t in tqdm(range(num_episodes), disable=not mostrar_barra):\n",
    "            state, _ = self.env.reset()\n",
    "            done = False\n",
    "            episode = []\n",
    "\n",
    "            while not done:\n",
    "                if self.decay:\n",
    "                    self.epsilon = min(1.0, 1000.0 / (t + 1))\n",
    "                action = seleccionar_accion(self.Q, self.epsilon, state, self.nA)\n",
    "                next_state, reward, terminated, truncated, _ = self.env.step(action)\n",
    "                done = terminated or truncated\n",
    "                episode.append((state, action, reward))\n",
    "                state = next_state\n",
    "\n",
    "            self.episode_lengths.append(len(episode))\n",
    "\n",
    "            # Calcular G hacia atrás (descuento aplicado)\n",
    "            G = 0\n",
    "            returns = []\n",
    "            for _, _, reward in reversed(episode):\n",
    "                G = reward + self.discount_factor * G\n",
    "                returns.insert(0, G)\n",
    "\n",
    "            # Every-Visit: actualiza todos los (s, a) del episodio\n",
    "            for i, (state, action, _) in enumerate(episode):\n",
    "                self.n_visits[state, action] += 1.0\n",
    "                alpha = 1.0 / self.n_visits[state, action]\n",
    "                self.Q[state, action] += alpha * (returns[i] - self.Q[state, action])\n",
    "\n",
    "            acumulador_recompensas += returns[0]\n",
    "            self.stats.append(acumulador_recompensas / (t + 1))\n",
    "\n",
    "        return self.Q"
   ]
  },
  {
   "cell_type": "markdown",
   "id": "72e848e7-90db-4ae5-8d66-8190accfc70b",
   "metadata": {},
   "source": [
    "# Entorno 4X4"
   ]
  },
  {
   "cell_type": "code",
   "execution_count": 4,
   "id": "36dcfdd4-0bed-420b-bd80-0557734cc774",
   "metadata": {
    "execution": {
     "iopub.execute_input": "2025-05-19T11:04:42.139970Z",
     "iopub.status.busy": "2025-05-19T11:04:42.139479Z",
     "iopub.status.idle": "2025-05-19T11:04:42.318371Z",
     "shell.execute_reply": "2025-05-19T11:04:42.317502Z",
     "shell.execute_reply.started": "2025-05-19T11:04:42.139948Z"
    }
   },
   "outputs": [],
   "source": [
    "def evaluar_configuracion(params, map_name):\n",
    "    if isinstance(map_name, str):\n",
    "        env = gym.make(\"FrozenLake-v1\", is_slippery=False, map_name=map_name)\n",
    "    else:\n",
    "        env = gym.make(\"FrozenLake-v1\", is_slippery=False, desc=map_name)\n",
    "    gamma, epsilon, decay = params\n",
    "    agente = AgenteMonteCarlo(env, epsilon=epsilon, discount_factor=gamma, decay=decay)\n",
    "    agente.entrenar(num_episodes=20000, mostrar_barra=False)\n",
    "    recompensa_final = agente.stats[-1]\n",
    "    return (gamma, epsilon, decay, recompensa_final)\n",
    "\n",
    "def grid_search(map_name):\n",
    "    # Espacio de búsqueda\n",
    "    gammas = np.linspace(0.1, 1.0, 10)\n",
    "    epsilons = np.linspace(0.1, 1.0, 10)\n",
    "    \n",
    "    # Combinaciones con decay = False (usar todos los epsilon)\n",
    "    combinaciones_sin_decay = [(g, e, False) for g, e in product(gammas, epsilons)]\n",
    "    \n",
    "    # Combinaciones con decay = True (epsilon ignorado, se pone a 0.0)\n",
    "    combinaciones_con_decay = [(g, 0.0, True) for g in gammas]\n",
    "    \n",
    "    # Unir ambas listas\n",
    "    combinaciones = combinaciones_sin_decay + combinaciones_con_decay\n",
    "\n",
    "    mejor_config = None\n",
    "    mejor_recompensa = -float('inf')\n",
    "    resultados = []\n",
    "\n",
    "    print(\"🔍 Buscando la mejor combinación de hiperparámetros...\\n\")\n",
    "\n",
    "    with ProcessPoolExecutor() as executor:\n",
    "        futures = [executor.submit(evaluar_configuracion, combo, map_name) for combo in combinaciones]\n",
    "        for future in tqdm(as_completed(futures), total=len(futures), desc=\"Progreso\"):\n",
    "            gamma, epsilon, decay_flag, recompensa = future.result()\n",
    "            resultados.append((gamma, epsilon, decay_flag, recompensa))\n",
    "\n",
    "            if recompensa > mejor_recompensa:\n",
    "                mejor_recompensa = recompensa\n",
    "                mejor_config = (gamma, epsilon, decay_flag)\n",
    "\n",
    "    print(\"\\n✅ Mejor configuración encontrada:\")\n",
    "    print(f\" γ = {mejor_config[0]}, ε = {mejor_config[1]}, decay = {mejor_config[2]}\")\n",
    "    print(f\"  → Recompensa media final: {mejor_recompensa:.4f}\")"
   ]
  },
  {
   "cell_type": "code",
   "execution_count": 5,
   "id": "9f270f91-51e7-4347-8a7c-e76f22c1d692",
   "metadata": {
    "execution": {
     "iopub.execute_input": "2025-05-19T11:04:42.321879Z",
     "iopub.status.busy": "2025-05-19T11:04:42.321507Z",
     "iopub.status.idle": "2025-05-19T11:08:29.779149Z",
     "shell.execute_reply": "2025-05-19T11:08:29.778183Z",
     "shell.execute_reply.started": "2025-05-19T11:04:42.321856Z"
    }
   },
   "outputs": [
    {
     "name": "stdout",
     "output_type": "stream",
     "text": [
      "🔍 Buscando la mejor combinación de hiperparámetros...\n",
      "\n"
     ]
    },
    {
     "name": "stderr",
     "output_type": "stream",
     "text": [
      "Progreso: 100%|███████████████████████████████████████████████████████████████████████| 110/110 [03:47<00:00,  2.06s/it]"
     ]
    },
    {
     "name": "stdout",
     "output_type": "stream",
     "text": [
      "\n",
      "✅ Mejor configuración encontrada:\n",
      " γ = 1.0, ε = 0.0, decay = True\n",
      "  → Recompensa media final: 0.7625\n"
     ]
    },
    {
     "name": "stderr",
     "output_type": "stream",
     "text": [
      "\n"
     ]
    }
   ],
   "source": [
    "grid_search(\"4x4\")"
   ]
  },
  {
   "cell_type": "code",
   "execution_count": 13,
   "id": "b61b29bf-b801-4299-b68e-85c583dd207f",
   "metadata": {
    "execution": {
     "iopub.execute_input": "2025-05-19T11:42:13.513561Z",
     "iopub.status.busy": "2025-05-19T11:42:13.512983Z",
     "iopub.status.idle": "2025-05-19T11:43:58.648676Z",
     "shell.execute_reply": "2025-05-19T11:43:58.645534Z",
     "shell.execute_reply.started": "2025-05-19T11:42:13.513535Z"
    }
   },
   "outputs": [
    {
     "name": "stderr",
     "output_type": "stream",
     "text": [
      "100%|█████████████████████████████████████████████████████████████████████████| 200000/200000 [01:45<00:00, 1902.74it/s]\n"
     ]
    },
    {
     "data": {
      "text/plain": [
       "array([[0.76553091, 0.97363284, 0.77511733, 0.6958663 ],\n",
       "       [0.32478632, 0.        , 0.85024407, 0.37223587],\n",
       "       [0.48336252, 0.87408466, 0.46644845, 0.52076677],\n",
       "       [0.61158798, 0.        , 0.11363636, 0.16267943],\n",
       "       [0.61768707, 0.9826439 , 0.        , 0.61154669],\n",
       "       [0.        , 0.        , 0.        , 0.        ],\n",
       "       [0.        , 0.95207418, 0.        , 0.68432671],\n",
       "       [0.        , 0.        , 0.        , 0.        ],\n",
       "       [0.77686703, 0.        , 0.9887868 , 0.77349624],\n",
       "       [0.8444004 , 0.99455075, 0.88923077, 0.        ],\n",
       "       [0.74603175, 0.9925207 , 0.        , 0.736     ],\n",
       "       [0.        , 0.        , 0.        , 0.        ],\n",
       "       [0.        , 0.        , 0.        , 0.        ],\n",
       "       [0.        , 0.91444444, 0.99955914, 0.88461538],\n",
       "       [0.93191866, 0.97860963, 1.        , 0.93609672],\n",
       "       [0.        , 0.        , 0.        , 0.        ]])"
      ]
     },
     "execution_count": 13,
     "metadata": {},
     "output_type": "execute_result"
    }
   ],
   "source": [
    "# Ejecución de ejemplo\n",
    "env_4x4 = gym.make(\"FrozenLake-v1\", is_slippery=False)\n",
    "env_4x4.reset(seed=SEED)\n",
    "agente_4x4 = AgenteMonteCarlo(env_4x4, discount_factor=1.0, decay=True)\n",
    "agente_4x4.entrenar(num_episodes=200000)"
   ]
  },
  {
   "cell_type": "markdown",
   "id": "5f45bc4c-4001-4cc6-b535-3c85808ff65f",
   "metadata": {},
   "source": [
    "# Gráfica de Proporción de aciertos por número de episodios"
   ]
  },
  {
   "cell_type": "code",
   "execution_count": 14,
   "id": "aec87b34-d1e2-47d5-ad38-45cb9a69d5c2",
   "metadata": {
    "execution": {
     "iopub.execute_input": "2025-05-19T11:43:58.668538Z",
     "iopub.status.busy": "2025-05-19T11:43:58.654987Z",
     "iopub.status.idle": "2025-05-19T11:43:59.114801Z",
     "shell.execute_reply": "2025-05-19T11:43:59.113709Z",
     "shell.execute_reply.started": "2025-05-19T11:43:58.668491Z"
    }
   },
   "outputs": [
    {
     "data": {
      "image/png": "[encoded data removed]",
      "text/plain": [
       "<Figure size 600x300 with 1 Axes>"
      ]
     },
     "metadata": {},
     "output_type": "display_data"
    }
   ],
   "source": [
    "graficar_recompensas(agente_4x4)"
   ]
  },
  {
   "cell_type": "markdown",
   "id": "23468f23-69ce-41aa-9ef1-425f8a64577a",
   "metadata": {},
   "source": [
    "# Gráfica de longitud de los episodios"
   ]
  },
  {
   "cell_type": "code",
   "execution_count": 15,
   "id": "387a9af9-4f43-44b0-93fa-bc7bccb21a5a",
   "metadata": {
    "execution": {
     "iopub.execute_input": "2025-05-19T11:43:59.116602Z",
     "iopub.status.busy": "2025-05-19T11:43:59.116116Z",
     "iopub.status.idle": "2025-05-19T11:43:59.559232Z",
     "shell.execute_reply": "2025-05-19T11:43:59.558324Z",
     "shell.execute_reply.started": "2025-05-19T11:43:59.116573Z"
    }
   },
   "outputs": [
    {
     "data": {
      "image/png": "[encoded data removed]",
      "text/plain": [
       "<Figure size 640x480 with 1 Axes>"
      ]
     },
     "metadata": {},
     "output_type": "display_data"
    }
   ],
   "source": [
    "graficar_longitud_episodios(agente_4x4)"
   ]
  },
  {
   "cell_type": "markdown",
   "id": "c41be3c3-cbeb-4ccc-b99e-f18c59d6a1bc",
   "metadata": {},
   "source": [
    "## Interpretación de las gráficas:\n",
    "\n",
    "1. La primera gráfica muestra la proporción acumulada de recompensas por episodio. Se observa una tendencia ascendente que se estabiliza, lo cual indica que el agente ha aprendido una política que mejora progresivamente su rendimiento. La proporción final cercana a 0.5 sugiere que logra alcanzar el objetivo en aproximadamente la mitad de los episodios.\n",
    "\n",
    "2. La segunda gráfica representa la longitud de cada episodio (número de pasos hasta terminar). Inicialmente, el agente necesita más pasos y los episodios son inestables. A medida que aprende, la longitud tiende a estabilizarse y reducirse, lo cual indica que el agente encuentra trayectorias más eficientes o termina el episodio de forma más consistente.\n",
    "\n",
    "Ambas gráficas son complementarias: mientras que una muestra la eficacia del agente, la otra muestra su eficiencia y estabilidad."
   ]
  },
  {
   "cell_type": "code",
   "execution_count": 16,
   "id": "e0f11422-d438-46e9-a88a-d944ecafbce9",
   "metadata": {
    "execution": {
     "iopub.execute_input": "2025-05-19T11:43:59.561016Z",
     "iopub.status.busy": "2025-05-19T11:43:59.560620Z",
     "iopub.status.idle": "2025-05-19T11:43:59.915252Z",
     "shell.execute_reply": "2025-05-19T11:43:59.910548Z",
     "shell.execute_reply.started": "2025-05-19T11:43:59.560988Z"
    }
   },
   "outputs": [
    {
     "data": {
      "text/html": [
       "<table><tr><td><pre style='font-size: 14px'>🤖🧊🧊🧊\n",
       "🧊🕳️🧊🕳️\n",
       "🧊🧊🧊🕳️\n",
       "🕳️🧊🧊🏁\n",
       "</pre></td><td><pre style='font-size: 14px'>🚩🧊🧊🧊\n",
       "🤖🕳️🧊🕳️\n",
       "🧊🧊🧊🕳️\n",
       "🕳️🧊🧊🏁\n",
       "</pre></td><td><pre style='font-size: 14px'>🚩🧊🧊🧊\n",
       "🧊🕳️🧊🕳️\n",
       "🤖🧊🧊🕳️\n",
       "🕳️🧊🧊🏁\n",
       "</pre></td><td><pre style='font-size: 14px'>🚩🧊🧊🧊\n",
       "🧊🕳️🧊🕳️\n",
       "🧊🤖🧊🕳️\n",
       "🕳️🧊🧊🏁\n",
       "</pre></td></tr><tr><td><pre style='font-size: 14px'>🚩🧊🧊🧊\n",
       "🧊🕳️🧊🕳️\n",
       "🧊🧊🧊🕳️\n",
       "🕳️🤖🧊🏁\n",
       "</pre></td><td><pre style='font-size: 14px'>🚩🧊🧊🧊\n",
       "🧊🕳️🧊🕳️\n",
       "🧊🧊🧊🕳️\n",
       "🕳️🧊🤖🏁\n",
       "</pre></td><td><pre style='font-size: 14px'>🚩🧊🧊🧊\n",
       "🧊🕳️🧊🕳️\n",
       "🧊🧊🧊🕳️\n",
       "🕳️🧊🧊🤖\n",
       "</pre></td></tr></table>"
      ],
      "text/plain": [
       "<IPython.core.display.HTML object>"
      ]
     },
     "metadata": {},
     "output_type": "display_data"
    },
    {
     "name": "stdout",
     "output_type": "stream",
     "text": [
      "Recompensa total: 1.0\n",
      "Secuencia de acciones: ['↓', '↓', '→', '↓', '→', '→']\n",
      "\n",
      "Tabla Q aprendida:\n"
     ]
    },
    {
     "data": {
      "text/html": [
       "<div>\n",
       "<style scoped>\n",
       "    .dataframe tbody tr th:only-of-type {\n",
       "        vertical-align: middle;\n",
       "    }\n",
       "\n",
       "    .dataframe tbody tr th {\n",
       "        vertical-align: top;\n",
       "    }\n",
       "\n",
       "    .dataframe thead th {\n",
       "        text-align: right;\n",
       "    }\n",
       "</style>\n",
       "<table border=\"1\" class=\"dataframe\">\n",
       "  <thead>\n",
       "    <tr style=\"text-align: right;\">\n",
       "      <th></th>\n",
       "      <th>← Izquierda</th>\n",
       "      <th>↓ Abajo</th>\n",
       "      <th>→ Derecha</th>\n",
       "      <th>↑ Arriba</th>\n",
       "    </tr>\n",
       "    <tr>\n",
       "      <th>Estado</th>\n",
       "      <th></th>\n",
       "      <th></th>\n",
       "      <th></th>\n",
       "      <th></th>\n",
       "    </tr>\n",
       "  </thead>\n",
       "  <tbody>\n",
       "    <tr>\n",
       "      <th>0</th>\n",
       "      <td>0.766</td>\n",
       "      <td>0.974</td>\n",
       "      <td>0.775</td>\n",
       "      <td>0.696</td>\n",
       "    </tr>\n",
       "    <tr>\n",
       "      <th>1</th>\n",
       "      <td>0.325</td>\n",
       "      <td>0.000</td>\n",
       "      <td>0.850</td>\n",
       "      <td>0.372</td>\n",
       "    </tr>\n",
       "    <tr>\n",
       "      <th>2</th>\n",
       "      <td>0.483</td>\n",
       "      <td>0.874</td>\n",
       "      <td>0.466</td>\n",
       "      <td>0.521</td>\n",
       "    </tr>\n",
       "    <tr>\n",
       "      <th>3</th>\n",
       "      <td>0.612</td>\n",
       "      <td>0.000</td>\n",
       "      <td>0.114</td>\n",
       "      <td>0.163</td>\n",
       "    </tr>\n",
       "    <tr>\n",
       "      <th>4</th>\n",
       "      <td>0.618</td>\n",
       "      <td>0.983</td>\n",
       "      <td>0.000</td>\n",
       "      <td>0.612</td>\n",
       "    </tr>\n",
       "    <tr>\n",
       "      <th>5</th>\n",
       "      <td>0.000</td>\n",
       "      <td>0.000</td>\n",
       "      <td>0.000</td>\n",
       "      <td>0.000</td>\n",
       "    </tr>\n",
       "    <tr>\n",
       "      <th>6</th>\n",
       "      <td>0.000</td>\n",
       "      <td>0.952</td>\n",
       "      <td>0.000</td>\n",
       "      <td>0.684</td>\n",
       "    </tr>\n",
       "    <tr>\n",
       "      <th>7</th>\n",
       "      <td>0.000</td>\n",
       "      <td>0.000</td>\n",
       "      <td>0.000</td>\n",
       "      <td>0.000</td>\n",
       "    </tr>\n",
       "    <tr>\n",
       "      <th>8</th>\n",
       "      <td>0.777</td>\n",
       "      <td>0.000</td>\n",
       "      <td>0.989</td>\n",
       "      <td>0.773</td>\n",
       "    </tr>\n",
       "    <tr>\n",
       "      <th>9</th>\n",
       "      <td>0.844</td>\n",
       "      <td>0.995</td>\n",
       "      <td>0.889</td>\n",
       "      <td>0.000</td>\n",
       "    </tr>\n",
       "    <tr>\n",
       "      <th>10</th>\n",
       "      <td>0.746</td>\n",
       "      <td>0.993</td>\n",
       "      <td>0.000</td>\n",
       "      <td>0.736</td>\n",
       "    </tr>\n",
       "    <tr>\n",
       "      <th>11</th>\n",
       "      <td>0.000</td>\n",
       "      <td>0.000</td>\n",
       "      <td>0.000</td>\n",
       "      <td>0.000</td>\n",
       "    </tr>\n",
       "    <tr>\n",
       "      <th>12</th>\n",
       "      <td>0.000</td>\n",
       "      <td>0.000</td>\n",
       "      <td>0.000</td>\n",
       "      <td>0.000</td>\n",
       "    </tr>\n",
       "    <tr>\n",
       "      <th>13</th>\n",
       "      <td>0.000</td>\n",
       "      <td>0.914</td>\n",
       "      <td>1.000</td>\n",
       "      <td>0.885</td>\n",
       "    </tr>\n",
       "    <tr>\n",
       "      <th>14</th>\n",
       "      <td>0.932</td>\n",
       "      <td>0.979</td>\n",
       "      <td>1.000</td>\n",
       "      <td>0.936</td>\n",
       "    </tr>\n",
       "    <tr>\n",
       "      <th>15</th>\n",
       "      <td>0.000</td>\n",
       "      <td>0.000</td>\n",
       "      <td>0.000</td>\n",
       "      <td>0.000</td>\n",
       "    </tr>\n",
       "  </tbody>\n",
       "</table>\n",
       "</div>"
      ],
      "text/plain": [
       "        ← Izquierda  ↓ Abajo  → Derecha  ↑ Arriba\n",
       "Estado                                           \n",
       "0             0.766    0.974      0.775     0.696\n",
       "1             0.325    0.000      0.850     0.372\n",
       "2             0.483    0.874      0.466     0.521\n",
       "3             0.612    0.000      0.114     0.163\n",
       "4             0.618    0.983      0.000     0.612\n",
       "5             0.000    0.000      0.000     0.000\n",
       "6             0.000    0.952      0.000     0.684\n",
       "7             0.000    0.000      0.000     0.000\n",
       "8             0.777    0.000      0.989     0.773\n",
       "9             0.844    0.995      0.889     0.000\n",
       "10            0.746    0.993      0.000     0.736\n",
       "11            0.000    0.000      0.000     0.000\n",
       "12            0.000    0.000      0.000     0.000\n",
       "13            0.000    0.914      1.000     0.885\n",
       "14            0.932    0.979      1.000     0.936\n",
       "15            0.000    0.000      0.000     0.000"
      ]
     },
     "metadata": {},
     "output_type": "display_data"
    },
    {
     "name": "stdout",
     "output_type": "stream",
     "text": [
      "\n",
      "Política óptima aprendida:\n"
     ]
    },
    {
     "data": {
      "image/png": "[encoded data removed]",
      "text/plain": [
       "<Figure size 400x400 with 1 Axes>"
      ]
     },
     "metadata": {},
     "output_type": "display_data"
    }
   ],
   "source": [
    "mostrar_resultados_agente(agente_4x4)"
   ]
  },
  {
   "cell_type": "markdown",
   "id": "3c14d823-59c1-4791-a525-509d7f945d88",
   "metadata": {},
   "source": [
    "# Entorno 8x8"
   ]
  },
  {
   "cell_type": "code",
   "execution_count": 10,
   "id": "729d0349-6410-4b1f-8884-8e25d99dbc7a",
   "metadata": {
    "execution": {
     "iopub.execute_input": "2025-05-19T11:11:18.121449Z",
     "iopub.status.busy": "2025-05-19T11:11:18.121234Z",
     "iopub.status.idle": "2025-05-19T11:26:44.347320Z",
     "shell.execute_reply": "2025-05-19T11:26:44.346263Z",
     "shell.execute_reply.started": "2025-05-19T11:11:18.121429Z"
    }
   },
   "outputs": [
    {
     "name": "stdout",
     "output_type": "stream",
     "text": [
      "🔍 Buscando la mejor combinación de hiperparámetros...\n",
      "\n"
     ]
    },
    {
     "name": "stderr",
     "output_type": "stream",
     "text": [
      "Progreso: 100%|███████████████████████████████████████████████████████████████████████| 110/110 [15:26<00:00,  8.42s/it]"
     ]
    },
    {
     "name": "stdout",
     "output_type": "stream",
     "text": [
      "\n",
      "✅ Mejor configuración encontrada:\n",
      " γ = 1.0, ε = 0.0, decay = True\n",
      "  → Recompensa media final: 0.8177\n"
     ]
    },
    {
     "name": "stderr",
     "output_type": "stream",
     "text": [
      "\n"
     ]
    }
   ],
   "source": [
    "grid_search(\"8x8\")"
   ]
  },
  {
   "cell_type": "code",
   "execution_count": 17,
   "id": "8a6eae31-a4ad-4755-bec6-b04a4be6a5da",
   "metadata": {
    "execution": {
     "iopub.execute_input": "2025-05-19T11:44:05.473531Z",
     "iopub.status.busy": "2025-05-19T11:44:05.473148Z",
     "iopub.status.idle": "2025-05-19T11:48:33.238343Z",
     "shell.execute_reply": "2025-05-19T11:48:33.237513Z",
     "shell.execute_reply.started": "2025-05-19T11:44:05.473501Z"
    }
   },
   "outputs": [
    {
     "name": "stderr",
     "output_type": "stream",
     "text": [
      "100%|██████████████████████████████████████████████████████████████████████████| 200000/200000 [04:27<00:00, 747.01it/s]\n"
     ]
    },
    {
     "data": {
      "text/plain": [
       "array([[0.39846112, 0.40487546, 0.96472903, 0.4057971 ],\n",
       "       [0.57730479, 0.56471854, 0.97773042, 0.63260922],\n",
       "       [0.54414042, 0.5545766 , 0.98003529, 0.60254528],\n",
       "       [0.64940022, 0.63917526, 0.98054916, 0.68364611],\n",
       "       [0.68947671, 0.71051152, 0.98120931, 0.68981481],\n",
       "       [0.74195339, 0.73622047, 0.9803815 , 0.74346132],\n",
       "       [0.74514491, 0.95090248, 0.77350304, 0.73337328],\n",
       "       [0.43107221, 0.81456044, 0.45496536, 0.43438914],\n",
       "       [0.10547185, 0.11987626, 0.50402081, 0.11670663],\n",
       "       [0.26882477, 0.24982001, 0.26781003, 0.61902232],\n",
       "       [0.11952862, 0.09924812, 0.60547711, 0.10054348],\n",
       "       [0.16824645, 0.        , 0.21123596, 0.7785562 ],\n",
       "       [0.21359223, 0.1875    , 0.23666667, 0.74673203],\n",
       "       [0.38736264, 0.37368421, 0.78508458, 0.35802469],\n",
       "       [0.73726115, 0.8012959 , 0.9883885 , 0.74631907],\n",
       "       [0.7812269 , 0.98599274, 0.80334093, 0.78618182],\n",
       "       [0.09625668, 0.08850727, 0.07133421, 0.33058898],\n",
       "       [0.32754342, 0.05962521, 0.05436573, 0.06      ],\n",
       "       [0.18843683, 0.02903226, 0.        , 0.04532578],\n",
       "       [0.        , 0.        , 0.        , 0.        ],\n",
       "       [0.        , 0.04444444, 0.06896552, 0.38983051],\n",
       "       [0.15517241, 0.        , 0.60526316, 0.21538462],\n",
       "       [0.44807122, 0.48181818, 0.84457143, 0.49712644],\n",
       "       [0.79107254, 0.98490392, 0.791321  , 0.7979798 ],\n",
       "       [0.03406326, 0.02956989, 0.03684211, 0.15514334],\n",
       "       [0.10655738, 0.02610966, 0.02150538, 0.02352941],\n",
       "       [0.02020202, 0.01666667, 0.02285714, 0.06896552],\n",
       "       [0.08860759, 0.        , 0.02439024, 0.        ],\n",
       "       [0.07843137, 0.        , 0.        , 0.02564103],\n",
       "       [0.        , 0.        , 0.        , 0.        ],\n",
       "       [0.        , 0.45454545, 0.84599866, 0.42276423],\n",
       "       [0.80413793, 0.98554632, 0.8598862 , 0.84387895],\n",
       "       [0.00454545, 0.00561798, 0.00558659, 0.04910714],\n",
       "       [0.00740741, 0.        , 0.00543478, 0.04901961],\n",
       "       [0.00917431, 0.        , 0.        , 0.03409091],\n",
       "       [0.        , 0.        , 0.        , 0.        ],\n",
       "       [0.        , 0.        , 0.        , 0.        ],\n",
       "       [0.        , 0.        , 0.575     , 0.        ],\n",
       "       [0.28395062, 0.        , 0.90509259, 0.46511628],\n",
       "       [0.83852281, 0.98629084, 0.85985915, 0.87417703],\n",
       "       [0.        , 0.        , 0.        , 0.01351351],\n",
       "       [0.        , 0.        , 0.        , 0.        ],\n",
       "       [0.        , 0.        , 0.        , 0.        ],\n",
       "       [0.        , 0.        , 0.        , 0.        ],\n",
       "       [0.        , 0.        , 0.        , 0.        ],\n",
       "       [0.        , 0.        , 0.        , 0.        ],\n",
       "       [0.        , 0.        , 0.        , 0.        ],\n",
       "       [0.        , 0.99327945, 0.900369  , 0.89732143],\n",
       "       [0.        , 0.        , 0.        , 0.        ],\n",
       "       [0.        , 0.        , 0.        , 0.        ],\n",
       "       [0.        , 0.        , 0.        , 0.        ],\n",
       "       [0.        , 0.        , 0.        , 0.        ],\n",
       "       [0.        , 0.        , 0.        , 0.        ],\n",
       "       [0.        , 0.        , 0.        , 0.        ],\n",
       "       [0.        , 0.        , 0.        , 0.        ],\n",
       "       [0.        , 1.        , 0.94843618, 0.91460495],\n",
       "       [0.        , 0.        , 0.        , 0.        ],\n",
       "       [0.        , 0.        , 0.        , 0.        ],\n",
       "       [0.        , 0.        , 0.        , 0.        ],\n",
       "       [0.        , 0.        , 0.        , 0.        ],\n",
       "       [0.        , 0.        , 0.        , 0.        ],\n",
       "       [0.        , 0.        , 0.        , 0.        ],\n",
       "       [0.        , 0.        , 0.        , 0.        ],\n",
       "       [0.        , 0.        , 0.        , 0.        ]])"
      ]
     },
     "execution_count": 17,
     "metadata": {},
     "output_type": "execute_result"
    }
   ],
   "source": [
    "# Ejecución de ejemplo\n",
    "env_8x8 = gym.make(\"FrozenLake-v1\", is_slippery=False, map_name=\"8x8\")\n",
    "env_8x8.reset(seed=SEED)\n",
    "agente_8x8 = AgenteMonteCarlo(env_8x8, decay=True, discount_factor=1.0)\n",
    "agente_8x8.entrenar(num_episodes=200000)"
   ]
  },
  {
   "cell_type": "code",
   "execution_count": 18,
   "id": "91ffc416-d029-4ee2-97c3-f711c4e0a14e",
   "metadata": {
    "execution": {
     "iopub.execute_input": "2025-05-19T11:48:33.240331Z",
     "iopub.status.busy": "2025-05-19T11:48:33.239626Z",
     "iopub.status.idle": "2025-05-19T11:48:33.409587Z",
     "shell.execute_reply": "2025-05-19T11:48:33.408714Z",
     "shell.execute_reply.started": "2025-05-19T11:48:33.240309Z"
    }
   },
   "outputs": [
    {
     "data": {
      "image/png": "[encoded data removed]",
      "text/plain": [
       "<Figure size 600x300 with 1 Axes>"
      ]
     },
     "metadata": {},
     "output_type": "display_data"
    }
   ],
   "source": [
    "graficar_recompensas(agente_8x8)"
   ]
  },
  {
   "cell_type": "code",
   "execution_count": 19,
   "id": "a612e365-90dd-4c60-bfef-c64a6e442b1e",
   "metadata": {
    "execution": {
     "iopub.execute_input": "2025-05-19T11:48:33.410406Z",
     "iopub.status.busy": "2025-05-19T11:48:33.410202Z",
     "iopub.status.idle": "2025-05-19T11:48:33.648418Z",
     "shell.execute_reply": "2025-05-19T11:48:33.647508Z",
     "shell.execute_reply.started": "2025-05-19T11:48:33.410387Z"
    }
   },
   "outputs": [
    {
     "data": {
      "image/png": "[encoded data removed]",
      "text/plain": [
       "<Figure size 640x480 with 1 Axes>"
      ]
     },
     "metadata": {},
     "output_type": "display_data"
    }
   ],
   "source": [
    "graficar_longitud_episodios(agente_8x8)"
   ]
  },
  {
   "cell_type": "code",
   "execution_count": 20,
   "id": "414d4394-691e-4a14-8795-ec2fd5187e03",
   "metadata": {
    "execution": {
     "iopub.execute_input": "2025-05-19T11:48:33.649868Z",
     "iopub.status.busy": "2025-05-19T11:48:33.649646Z",
     "iopub.status.idle": "2025-05-19T11:48:33.934437Z",
     "shell.execute_reply": "2025-05-19T11:48:33.933632Z",
     "shell.execute_reply.started": "2025-05-19T11:48:33.649848Z"
    }
   },
   "outputs": [
    {
     "data": {
      "text/html": [
       "<table><tr><td><pre style='font-size: 14px'>🤖🧊🧊🧊🧊🧊🧊🧊\n",
       "🧊🧊🧊🧊🧊🧊🧊🧊\n",
       "🧊🧊🧊🕳️🧊🧊🧊🧊\n",
       "🧊🧊🧊🧊🧊🕳️🧊🧊\n",
       "🧊🧊🧊🕳️🧊🧊🧊🧊\n",
       "🧊🕳️🕳️🧊🧊🧊🕳️🧊\n",
       "🧊🕳️🧊🧊🕳️🧊🕳️🧊\n",
       "🧊🧊🧊🕳️🧊🧊🧊🏁\n",
       "</pre></td><td><pre style='font-size: 14px'>🚩🤖🧊🧊🧊🧊🧊🧊\n",
       "🧊🧊🧊🧊🧊🧊🧊🧊\n",
       "🧊🧊🧊🕳️🧊🧊🧊🧊\n",
       "🧊🧊🧊🧊🧊🕳️🧊🧊\n",
       "🧊🧊🧊🕳️🧊🧊🧊🧊\n",
       "🧊🕳️🕳️🧊🧊🧊🕳️🧊\n",
       "🧊🕳️🧊🧊🕳️🧊🕳️🧊\n",
       "🧊🧊🧊🕳️🧊🧊🧊🏁\n",
       "</pre></td><td><pre style='font-size: 14px'>🚩🧊🤖🧊🧊🧊🧊🧊\n",
       "🧊🧊🧊🧊🧊🧊🧊🧊\n",
       "🧊🧊🧊🕳️🧊🧊🧊🧊\n",
       "🧊🧊🧊🧊🧊🕳️🧊🧊\n",
       "🧊🧊🧊🕳️🧊🧊🧊🧊\n",
       "🧊🕳️🕳️🧊🧊🧊🕳️🧊\n",
       "🧊🕳️🧊🧊🕳️🧊🕳️🧊\n",
       "🧊🧊🧊🕳️🧊🧊🧊🏁\n",
       "</pre></td><td><pre style='font-size: 14px'>🚩🧊🧊🤖🧊🧊🧊🧊\n",
       "🧊🧊🧊🧊🧊🧊🧊🧊\n",
       "🧊🧊🧊🕳️🧊🧊🧊🧊\n",
       "🧊🧊🧊🧊🧊🕳️🧊🧊\n",
       "🧊🧊🧊🕳️🧊🧊🧊🧊\n",
       "🧊🕳️🕳️🧊🧊🧊🕳️🧊\n",
       "🧊🕳️🧊🧊🕳️🧊🕳️🧊\n",
       "🧊🧊🧊🕳️🧊🧊🧊🏁\n",
       "</pre></td></tr><tr><td><pre style='font-size: 14px'>🚩🧊🧊🧊🤖🧊🧊🧊\n",
       "🧊🧊🧊🧊🧊🧊🧊🧊\n",
       "🧊🧊🧊🕳️🧊🧊🧊🧊\n",
       "🧊🧊🧊🧊🧊🕳️🧊🧊\n",
       "🧊🧊🧊🕳️🧊🧊🧊🧊\n",
       "🧊🕳️🕳️🧊🧊🧊🕳️🧊\n",
       "🧊🕳️🧊🧊🕳️🧊🕳️🧊\n",
       "🧊🧊🧊🕳️🧊🧊🧊🏁\n",
       "</pre></td><td><pre style='font-size: 14px'>🚩🧊🧊🧊🧊🤖🧊🧊\n",
       "🧊🧊🧊🧊🧊🧊🧊🧊\n",
       "🧊🧊🧊🕳️🧊🧊🧊🧊\n",
       "🧊🧊🧊🧊🧊🕳️🧊🧊\n",
       "🧊🧊🧊🕳️🧊🧊🧊🧊\n",
       "🧊🕳️🕳️🧊🧊🧊🕳️🧊\n",
       "🧊🕳️🧊🧊🕳️🧊🕳️🧊\n",
       "🧊🧊🧊🕳️🧊🧊🧊🏁\n",
       "</pre></td><td><pre style='font-size: 14px'>🚩🧊🧊🧊🧊🧊🤖🧊\n",
       "🧊🧊🧊🧊🧊🧊🧊🧊\n",
       "🧊🧊🧊🕳️🧊🧊🧊🧊\n",
       "🧊🧊🧊🧊🧊🕳️🧊🧊\n",
       "🧊🧊🧊🕳️🧊🧊🧊🧊\n",
       "🧊🕳️🕳️🧊🧊🧊🕳️🧊\n",
       "🧊🕳️🧊🧊🕳️🧊🕳️🧊\n",
       "🧊🧊🧊🕳️🧊🧊🧊🏁\n",
       "</pre></td><td><pre style='font-size: 14px'>🚩🧊🧊🧊🧊🧊🧊🧊\n",
       "🧊🧊🧊🧊🧊🧊🤖🧊\n",
       "🧊🧊🧊🕳️🧊🧊🧊🧊\n",
       "🧊🧊🧊🧊🧊🕳️🧊🧊\n",
       "🧊🧊🧊🕳️🧊🧊🧊🧊\n",
       "🧊🕳️🕳️🧊🧊🧊🕳️🧊\n",
       "🧊🕳️🧊🧊🕳️🧊🕳️🧊\n",
       "🧊🧊🧊🕳️🧊🧊🧊🏁\n",
       "</pre></td></tr><tr><td><pre style='font-size: 14px'>🚩🧊🧊🧊🧊🧊🧊🧊\n",
       "🧊🧊🧊🧊🧊🧊🧊🤖\n",
       "🧊🧊🧊🕳️🧊🧊🧊🧊\n",
       "🧊🧊🧊🧊🧊🕳️🧊🧊\n",
       "🧊🧊🧊🕳️🧊🧊🧊🧊\n",
       "🧊🕳️🕳️🧊🧊🧊🕳️🧊\n",
       "🧊🕳️🧊🧊🕳️🧊🕳️🧊\n",
       "🧊🧊🧊🕳️🧊🧊🧊🏁\n",
       "</pre></td><td><pre style='font-size: 14px'>🚩🧊🧊🧊🧊🧊🧊🧊\n",
       "🧊🧊🧊🧊🧊🧊🧊🧊\n",
       "🧊🧊🧊🕳️🧊🧊🧊🤖\n",
       "🧊🧊🧊🧊🧊🕳️🧊🧊\n",
       "🧊🧊🧊🕳️🧊🧊🧊🧊\n",
       "🧊🕳️🕳️🧊🧊🧊🕳️🧊\n",
       "🧊🕳️🧊🧊🕳️🧊🕳️🧊\n",
       "🧊🧊🧊🕳️🧊🧊🧊🏁\n",
       "</pre></td><td><pre style='font-size: 14px'>🚩🧊🧊🧊🧊🧊🧊🧊\n",
       "🧊🧊🧊🧊🧊🧊🧊🧊\n",
       "🧊🧊🧊🕳️🧊🧊🧊🧊\n",
       "🧊🧊🧊🧊🧊🕳️🧊🤖\n",
       "🧊🧊🧊🕳️🧊🧊🧊🧊\n",
       "🧊🕳️🕳️🧊🧊🧊🕳️🧊\n",
       "🧊🕳️🧊🧊🕳️🧊🕳️🧊\n",
       "🧊🧊🧊🕳️🧊🧊🧊🏁\n",
       "</pre></td><td><pre style='font-size: 14px'>🚩🧊🧊🧊🧊🧊🧊🧊\n",
       "🧊🧊🧊🧊🧊🧊🧊🧊\n",
       "🧊🧊🧊🕳️🧊🧊🧊🧊\n",
       "🧊🧊🧊🧊🧊🕳️🧊🧊\n",
       "🧊🧊🧊🕳️🧊🧊🧊🤖\n",
       "🧊🕳️🕳️🧊🧊🧊🕳️🧊\n",
       "🧊🕳️🧊🧊🕳️🧊🕳️🧊\n",
       "🧊🧊🧊🕳️🧊🧊🧊🏁\n",
       "</pre></td></tr><tr><td><pre style='font-size: 14px'>🚩🧊🧊🧊🧊🧊🧊🧊\n",
       "🧊🧊🧊🧊🧊🧊🧊🧊\n",
       "🧊🧊🧊🕳️🧊🧊🧊🧊\n",
       "🧊🧊🧊🧊🧊🕳️🧊🧊\n",
       "🧊🧊🧊🕳️🧊🧊🧊🧊\n",
       "🧊🕳️🕳️🧊🧊🧊🕳️🤖\n",
       "🧊🕳️🧊🧊🕳️🧊🕳️🧊\n",
       "🧊🧊🧊🕳️🧊🧊🧊🏁\n",
       "</pre></td><td><pre style='font-size: 14px'>🚩🧊🧊🧊🧊🧊🧊🧊\n",
       "🧊🧊🧊🧊🧊🧊🧊🧊\n",
       "🧊🧊🧊🕳️🧊🧊🧊🧊\n",
       "🧊🧊🧊🧊🧊🕳️🧊🧊\n",
       "🧊🧊🧊🕳️🧊🧊🧊🧊\n",
       "🧊🕳️🕳️🧊🧊🧊🕳️🧊\n",
       "🧊🕳️🧊🧊🕳️🧊🕳️🤖\n",
       "🧊🧊🧊🕳️🧊🧊🧊🏁\n",
       "</pre></td><td><pre style='font-size: 14px'>🚩🧊🧊🧊🧊🧊🧊🧊\n",
       "🧊🧊🧊🧊🧊🧊🧊🧊\n",
       "🧊🧊🧊🕳️🧊🧊🧊🧊\n",
       "🧊🧊🧊🧊🧊🕳️🧊🧊\n",
       "🧊🧊🧊🕳️🧊🧊🧊🧊\n",
       "🧊🕳️🕳️🧊🧊🧊🕳️🧊\n",
       "🧊🕳️🧊🧊🕳️🧊🕳️🧊\n",
       "🧊🧊🧊🕳️🧊🧊🧊🤖\n",
       "</pre></td></tr></table>"
      ],
      "text/plain": [
       "<IPython.core.display.HTML object>"
      ]
     },
     "metadata": {},
     "output_type": "display_data"
    },
    {
     "name": "stdout",
     "output_type": "stream",
     "text": [
      "Recompensa total: 1.0\n",
      "Secuencia de acciones: ['→', '→', '→', '→', '→', '→', '↓', '→', '↓', '↓', '↓', '↓', '↓', '↓']\n",
      "\n",
      "Tabla Q aprendida:\n"
     ]
    },
    {
     "data": {
      "text/html": [
       "<div>\n",
       "<style scoped>\n",
       "    .dataframe tbody tr th:only-of-type {\n",
       "        vertical-align: middle;\n",
       "    }\n",
       "\n",
       "    .dataframe tbody tr th {\n",
       "        vertical-align: top;\n",
       "    }\n",
       "\n",
       "    .dataframe thead th {\n",
       "        text-align: right;\n",
       "    }\n",
       "</style>\n",
       "<table border=\"1\" class=\"dataframe\">\n",
       "  <thead>\n",
       "    <tr style=\"text-align: right;\">\n",
       "      <th></th>\n",
       "      <th>← Izquierda</th>\n",
       "      <th>↓ Abajo</th>\n",
       "      <th>→ Derecha</th>\n",
       "      <th>↑ Arriba</th>\n",
       "    </tr>\n",
       "    <tr>\n",
       "      <th>Estado</th>\n",
       "      <th></th>\n",
       "      <th></th>\n",
       "      <th></th>\n",
       "      <th></th>\n",
       "    </tr>\n",
       "  </thead>\n",
       "  <tbody>\n",
       "    <tr>\n",
       "      <th>0</th>\n",
       "      <td>0.398</td>\n",
       "      <td>0.405</td>\n",
       "      <td>0.965</td>\n",
       "      <td>0.406</td>\n",
       "    </tr>\n",
       "    <tr>\n",
       "      <th>1</th>\n",
       "      <td>0.577</td>\n",
       "      <td>0.565</td>\n",
       "      <td>0.978</td>\n",
       "      <td>0.633</td>\n",
       "    </tr>\n",
       "    <tr>\n",
       "      <th>2</th>\n",
       "      <td>0.544</td>\n",
       "      <td>0.555</td>\n",
       "      <td>0.980</td>\n",
       "      <td>0.603</td>\n",
       "    </tr>\n",
       "    <tr>\n",
       "      <th>3</th>\n",
       "      <td>0.649</td>\n",
       "      <td>0.639</td>\n",
       "      <td>0.981</td>\n",
       "      <td>0.684</td>\n",
       "    </tr>\n",
       "    <tr>\n",
       "      <th>4</th>\n",
       "      <td>0.689</td>\n",
       "      <td>0.711</td>\n",
       "      <td>0.981</td>\n",
       "      <td>0.690</td>\n",
       "    </tr>\n",
       "    <tr>\n",
       "      <th>...</th>\n",
       "      <td>...</td>\n",
       "      <td>...</td>\n",
       "      <td>...</td>\n",
       "      <td>...</td>\n",
       "    </tr>\n",
       "    <tr>\n",
       "      <th>59</th>\n",
       "      <td>0.000</td>\n",
       "      <td>0.000</td>\n",
       "      <td>0.000</td>\n",
       "      <td>0.000</td>\n",
       "    </tr>\n",
       "    <tr>\n",
       "      <th>60</th>\n",
       "      <td>0.000</td>\n",
       "      <td>0.000</td>\n",
       "      <td>0.000</td>\n",
       "      <td>0.000</td>\n",
       "    </tr>\n",
       "    <tr>\n",
       "      <th>61</th>\n",
       "      <td>0.000</td>\n",
       "      <td>0.000</td>\n",
       "      <td>0.000</td>\n",
       "      <td>0.000</td>\n",
       "    </tr>\n",
       "    <tr>\n",
       "      <th>62</th>\n",
       "      <td>0.000</td>\n",
       "      <td>0.000</td>\n",
       "      <td>0.000</td>\n",
       "      <td>0.000</td>\n",
       "    </tr>\n",
       "    <tr>\n",
       "      <th>63</th>\n",
       "      <td>0.000</td>\n",
       "      <td>0.000</td>\n",
       "      <td>0.000</td>\n",
       "      <td>0.000</td>\n",
       "    </tr>\n",
       "  </tbody>\n",
       "</table>\n",
       "<p>64 rows × 4 columns</p>\n",
       "</div>"
      ],
      "text/plain": [
       "        ← Izquierda  ↓ Abajo  → Derecha  ↑ Arriba\n",
       "Estado                                           \n",
       "0             0.398    0.405      0.965     0.406\n",
       "1             0.577    0.565      0.978     0.633\n",
       "2             0.544    0.555      0.980     0.603\n",
       "3             0.649    0.639      0.981     0.684\n",
       "4             0.689    0.711      0.981     0.690\n",
       "...             ...      ...        ...       ...\n",
       "59            0.000    0.000      0.000     0.000\n",
       "60            0.000    0.000      0.000     0.000\n",
       "61            0.000    0.000      0.000     0.000\n",
       "62            0.000    0.000      0.000     0.000\n",
       "63            0.000    0.000      0.000     0.000\n",
       "\n",
       "[64 rows x 4 columns]"
      ]
     },
     "metadata": {},
     "output_type": "display_data"
    },
    {
     "name": "stdout",
     "output_type": "stream",
     "text": [
      "\n",
      "Política óptima aprendida:\n"
     ]
    },
    {
     "data": {
      "image/png": "[encoded data removed]",
      "text/plain": [
       "<Figure size 800x800 with 1 Axes>"
      ]
     },
     "metadata": {},
     "output_type": "display_data"
    }
   ],
   "source": [
    "mostrar_resultados_agente(agente_8x8)"
   ]
  },
  {
   "cell_type": "code",
   "execution_count": null,
   "id": "fa8af0d7-5f49-414a-bf4d-71ac22f7d351",
   "metadata": {},
   "outputs": [],
   "source": []
  },
  {
   "cell_type": "code",
   "execution_count": null,
   "id": "e76870cc-e1c2-4b4b-baf8-b4341e77a2b4",
   "metadata": {},
   "outputs": [],
   "source": []
  }
 ],
 "metadata": {
  "kernelspec": {
   "display_name": "Python 3 (ipykernel)",
   "language": "python",
   "name": "python3"
  },
  "language_info": {
   "codemirror_mode": {
    "name": "ipython",
    "version": 3
   },
   "file_extension": ".py",
   "mimetype": "text/x-python",
   "name": "python",
   "nbconvert_exporter": "python",
   "pygments_lexer": "ipython3",
   "version": "3.10.12"
  }
 },
 "nbformat": 4,
 "nbformat_minor": 5
}
