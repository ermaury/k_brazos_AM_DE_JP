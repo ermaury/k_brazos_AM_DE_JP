{
 "cells": [
  {
   "cell_type": "code",
   "execution_count": null,
   "id": "cdbac9d6-b209-4fcc-becd-b75e076b605d",
   "metadata": {},
   "outputs": [],
   "source": [
    "!pip install gymnasium\n",
    "!pip install pygame"
   ]
  },
  {
   "cell_type": "markdown",
   "id": "36ee8b9b-2a71-4bcd-96d5-5329a9ae5feb",
   "metadata": {},
   "source": [
    "# Carga y exploración de un entorno de Gymnasium"
   ]
  },
  {
   "cell_type": "code",
   "execution_count": 42,
   "id": "cd6db6f7-7bce-4b74-8f9d-d048d6359082",
   "metadata": {
    "execution": {
     "iopub.execute_input": "2025-06-03T07:34:36.754445Z",
     "iopub.status.busy": "2025-06-03T07:34:36.753973Z",
     "iopub.status.idle": "2025-06-03T07:34:36.773064Z",
     "shell.execute_reply": "2025-06-03T07:34:36.772016Z",
     "shell.execute_reply.started": "2025-06-03T07:34:36.754424Z"
    }
   },
   "outputs": [],
   "source": [
    "import gymnasium as gym\n",
    "import numpy as np\n",
    "import time\n",
    "from IPython.display import clear_output, display, HTML\n",
    "import matplotlib.pyplot as plt\n",
    "from tqdm import tqdm\n",
    "import pandas as pd\n",
    "import random\n",
    "from itertools import product\n",
    "from concurrent.futures import ProcessPoolExecutor, as_completed\n",
    "import imageio\n",
    "from IPython.display import HTML\n",
    "import pickle\n",
    "\n",
    "SEED = 42\n",
    "\n",
    "# -------------------- VISUALIZACIÓN DE RESULTADOS --------------------\n",
    "\n",
    "def graficar_recompensas(agente):\n",
    "    \"\"\"Grafica la recompensa media acumulada por episodio.\"\"\"\n",
    "    plt.figure(figsize=(6, 3))\n",
    "    plt.plot(agente.stats)\n",
    "    plt.title('Recompensa media acumulada')\n",
    "    plt.xlabel('Episodio')\n",
    "    plt.ylabel('Recompensa media')\n",
    "    plt.grid(True)\n",
    "    plt.show()\n",
    "\n",
    "def graficar_longitud_episodios(agente):\n",
    "    \"\"\"Grafica la longitud de cada episodio.\"\"\"\n",
    "    plt.figure(figsize=(6, 3))\n",
    "    plt.plot(agente.episode_lengths)\n",
    "    plt.title(\"Longitud de episodios\")\n",
    "    plt.xlabel(\"Episodio\")\n",
    "    plt.ylabel(\"Pasos\")\n",
    "    plt.grid(True)\n",
    "    plt.show()\n",
    "\n",
    "def mostrar_resultados_agente_continuo(agente):\n",
    "    \"\"\"Muestra gráficos de rendimiento en entornos continuos.\"\"\"\n",
    "    graficar_recompensas(agente)\n",
    "    graficar_longitud_episodios(agente)\n",
    "\n",
    "# -------------------- EJECUCIÓN DE UN EPISODIO --------------------\n",
    "\n",
    "def ejecutar_episodio_y_mostrar(agente, render=False):\n",
    "    \"\"\"Ejecuta un episodio con la política aprendida y muestra la evolución de la posición.\"\"\"\n",
    "    env = agente.env\n",
    "    state, _ = env.reset()\n",
    "    done = False\n",
    "    total_reward = 0\n",
    "    posiciones = []\n",
    "\n",
    "    while not done:\n",
    "        if render:\n",
    "            env.render()\n",
    "        posiciones.append(state[0])  # Guardamos la posición del coche\n",
    "        action = agente.seleccionar_accion(state)\n",
    "        state, reward, terminated, truncated, _ = env.step(action)\n",
    "        done = terminated or truncated\n",
    "        total_reward += reward\n",
    "\n",
    "    env.close()\n",
    "    \n",
    "    # Mostrar gráfico de posiciones\n",
    "    plt.figure(figsize=(6, 3))\n",
    "    plt.plot(posiciones)\n",
    "    plt.title(\"Evolución de la posición del coche\")\n",
    "    plt.xlabel(\"Paso del episodio\")\n",
    "    plt.ylabel(\"Posición\")\n",
    "    plt.grid(True)\n",
    "    plt.show()\n",
    "    \n",
    "    print(f\"Recompensa total obtenida: {total_reward:.2f}\")\n",
    "\n",
    "# -------------------- EVALUACIÓN DE LA POLÍTICA --------------------\n",
    "\n",
    "def evaluar_politica(agente, num_episodios=100):\n",
    "    \"\"\"Evalúa la política del agente ejecutando múltiples episodios y muestra estadísticas.\"\"\"\n",
    "\n",
    "    env = agente.env\n",
    "    recompensas = []\n",
    "    longitudes = []\n",
    "    semillas_fallidas = []\n",
    "\n",
    "    for i in range(num_episodios):\n",
    "        random.seed(i)\n",
    "        np.random.seed(i)\n",
    "        env.action_space.seed(i)\n",
    "        state, _ = env.reset(seed=i)\n",
    "        done = False\n",
    "        total_reward = 0\n",
    "        posiciones = []\n",
    "        pasos = 0\n",
    "\n",
    "        terminated = False\n",
    "        truncated = False\n",
    "        \n",
    "        while not done:\n",
    "            posiciones.append(state[0])\n",
    "            action = agente.seleccionar_accion_greedy(state)\n",
    "            state, reward, terminated, truncated, _ = env.step(action)\n",
    "            done = terminated or truncated\n",
    "            total_reward += reward\n",
    "            pasos += 1\n",
    "            \n",
    "            if truncated:\n",
    "                semillas_fallidas.append(i)\n",
    "                \n",
    "        recompensas.append(total_reward)\n",
    "        longitudes.append(pasos)\n",
    "        env.close()\n",
    "\n",
    "    # Resumen estadístico\n",
    "    print(\"📊 Resultados de evaluación:\")\n",
    "    print(f\"  Episodios evaluados: {num_episodios}\")\n",
    "    print(f\"  Recompensa media:    {np.mean(recompensas):.2f} ± {np.std(recompensas):.2f}\")\n",
    "    print(f\"  Recompensa min/max:  {np.max(recompensas):.2f} / {np.min(recompensas):.2f}\")\n",
    "\n",
    "    print(f\"  Episodios exitosos:  {num_episodios - len(semillas_fallidas)}\")\n",
    "    print(f\"  Episodios fallidos:  {len(semillas_fallidas)}\")\n",
    "    print(f\"  Semillas fallidas: {semillas_fallidas}\")\n"
   ]
  },
  {
   "cell_type": "markdown",
   "id": "25ea2caf-b67a-4dbb-b612-3121e4403f06",
   "metadata": {},
   "source": [
    "# Objeto AgenteSARSA-SemiGradiente"
   ]
  },
  {
   "cell_type": "code",
   "execution_count": 55,
   "id": "81be454b-f029-4467-b0ab-279f798fce9a",
   "metadata": {
    "execution": {
     "iopub.execute_input": "2025-06-03T08:20:05.302542Z",
     "iopub.status.busy": "2025-06-03T08:20:05.302052Z",
     "iopub.status.idle": "2025-06-03T08:20:05.317004Z",
     "shell.execute_reply": "2025-06-03T08:20:05.316216Z",
     "shell.execute_reply.started": "2025-06-03T08:20:05.302520Z"
    }
   },
   "outputs": [],
   "source": [
    "# Tile coder para MountainCar\n",
    "class TileCoder:\n",
    "    def __init__(self, low, high, bins=(10, 10), num_tilings=8, offsets=None):\n",
    "        self.low = np.array(low)\n",
    "        self.high = np.array(high)\n",
    "        self.bins = np.array(bins)\n",
    "        self.num_tilings = num_tilings\n",
    "        self.tile_width = (self.high - self.low) / (self.bins - 1)\n",
    "        self.tiles_per_tiling = int(np.prod(self.bins))\n",
    "\n",
    "        if offsets is not None:\n",
    "            self.offsets = offsets\n",
    "        else:\n",
    "            # Offsets regulares para reproducibilidad\n",
    "            self.offsets = [\n",
    "                (np.arange(len(self.low)) * i * self.tile_width / self.num_tilings)\n",
    "                for i in range(num_tilings)\n",
    "            ]\n",
    "\n",
    "    def get_feature_indices(self, state):\n",
    "        indices = []\n",
    "        for i, offset in enumerate(self.offsets):\n",
    "            shifted = state + offset\n",
    "            idx = ((shifted - self.low) / self.tile_width).astype(int)\n",
    "            idx = np.clip(idx, 0, self.bins - 1)\n",
    "            tile_index = np.ravel_multi_index(idx, self.bins)\n",
    "            indices.append(i * self.tiles_per_tiling + tile_index)\n",
    "        return indices\n",
    "\n",
    "\n",
    "class AgenteSARSATileCoding:\n",
    "    def __init__(self, env, alpha=0.1, gamma=0.99, epsilon=1.0, decay=True, bins=(8, 8), num_tilings=8, offsets=None):\n",
    "        self.env = env\n",
    "        self.alpha = alpha\n",
    "        self.gamma = gamma\n",
    "        self.epsilon = epsilon\n",
    "        self.decay = decay\n",
    "\n",
    "        self.nA = env.action_space.n\n",
    "        self.tile_coder = TileCoder(env.observation_space.low, env.observation_space.high, bins, num_tilings, offsets)\n",
    "        self.d = self.tile_coder.tiles_per_tiling * num_tilings\n",
    "        self.theta = np.zeros((self.nA, self.d))\n",
    "        self.stats = []\n",
    "        self.episode_lengths = []\n",
    "\n",
    "    def guardar_agente(self, ruta_archivo=\"agente_sarsa_tilecoding.pkl\"):\n",
    "        datos = {\n",
    "            \"alpha\": self.alpha,\n",
    "            \"gamma\": self.gamma,\n",
    "            \"epsilon\": self.epsilon,\n",
    "            \"decay\": self.decay,\n",
    "            \"bins\": self.tile_coder.bins,\n",
    "            \"num_tilings\": self.tile_coder.num_tilings,\n",
    "            \"theta\": self.theta,\n",
    "            \"stats\": self.stats,\n",
    "            \"episode_lengths\": self.episode_lengths,\n",
    "            \"low\": self.tile_coder.low,\n",
    "            \"high\": self.tile_coder.high,\n",
    "            \"offsets\": self.tile_coder.offsets\n",
    "        }\n",
    "        with open(ruta_archivo, \"wb\") as f:\n",
    "            pickle.dump(datos, f)\n",
    "\n",
    "    @staticmethod\n",
    "    def cargar_agente(ruta_archivo=\"agente_sarsa_tilecoding.pkl\"):\n",
    "        with open(ruta_archivo, \"rb\") as f:\n",
    "            datos = pickle.load(f)\n",
    "\n",
    "        env = gym.make(\"MountainCar-v0\")\n",
    "        env.reset(seed=42)\n",
    "\n",
    "        agente = AgenteSARSATileCoding(\n",
    "            env,\n",
    "            alpha=datos[\"alpha\"],\n",
    "            gamma=datos[\"gamma\"],\n",
    "            epsilon=datos[\"epsilon\"],\n",
    "            decay=datos[\"decay\"],\n",
    "            bins=tuple(datos[\"bins\"]),\n",
    "            num_tilings=datos[\"num_tilings\"],\n",
    "            offsets=datos[\"offsets\"]\n",
    "        )\n",
    "\n",
    "        agente.theta = datos[\"theta\"]\n",
    "        agente.stats = datos[\"stats\"]\n",
    "        agente.episode_lengths = datos[\"episode_lengths\"]\n",
    "\n",
    "        return agente\n",
    "\n",
    "    def _Q(self, state, action):\n",
    "        indices = self.tile_coder.get_feature_indices(state)\n",
    "        return np.sum(self.theta[action, indices])\n",
    "\n",
    "    def seleccionar_accion(self, state):\n",
    "        policy = self._epsilon_soft_policy(state)\n",
    "        return np.random.choice(np.arange(self.nA), p=policy)\n",
    "\n",
    "    def seleccionar_accion_greedy(self, state):\n",
    "        q_values = [self._Q(state, a) for a in range(self.nA)]\n",
    "        return np.argmax(q_values)\n",
    "\n",
    "    def _epsilon_soft_policy(self, state):\n",
    "        q_values = np.array([self._Q(state, a) for a in range(self.nA)])\n",
    "        policy = np.ones(self.nA) * self.epsilon / self.nA\n",
    "        best_action = np.argmax(q_values)\n",
    "        policy[best_action] += 1.0 - self.epsilon\n",
    "        return policy\n",
    "\n",
    "    def entrenar(self, num_episodes=5000, mostrar_barra=True):\n",
    "        from tqdm import tqdm\n",
    "        acumulador_recompensas = 0.0\n",
    "\n",
    "        for t in tqdm(range(num_episodes), disable=not mostrar_barra):\n",
    "            if self.decay:\n",
    "                self.epsilon = max(0.05, 1000.0 / (t + 1))\n",
    "\n",
    "            state, _ = self.env.reset(seed=42)\n",
    "            action = self.seleccionar_accion(state)\n",
    "            done = False\n",
    "            total_reward = 0\n",
    "            pasos = 0\n",
    "\n",
    "            while not done:\n",
    "                next_state, reward, terminated, truncated, _ = self.env.step(action)\n",
    "                done = terminated or truncated\n",
    "                next_action = self.seleccionar_accion(next_state)\n",
    "\n",
    "                indices = self.tile_coder.get_feature_indices(state)\n",
    "                q_current = np.sum(self.theta[action, indices])\n",
    "                q_next = self._Q(next_state, next_action) if not done else 0.0\n",
    "                delta = reward + self.gamma * q_next - q_current\n",
    "\n",
    "                if not (np.isnan(delta) or np.isinf(delta)):\n",
    "                    self.theta[action, indices] += self.alpha * delta\n",
    "                    np.clip(self.theta[action, indices], -1e6, 1e6, out=self.theta[action, indices])\n",
    "\n",
    "                state = next_state\n",
    "                action = next_action\n",
    "                total_reward += reward\n",
    "                pasos += 1\n",
    "\n",
    "            self.episode_lengths.append(pasos)\n",
    "            acumulador_recompensas += total_reward\n",
    "            self.stats.append(acumulador_recompensas / (t + 1))\n",
    "\n",
    "        return self.theta\n"
   ]
  },
  {
   "cell_type": "code",
   "execution_count": 4,
   "id": "7fd99155-cfa5-432e-8e00-f03d444afd2d",
   "metadata": {
    "editable": true,
    "execution": {
     "iopub.execute_input": "2025-06-02T19:44:08.155756Z",
     "iopub.status.busy": "2025-06-02T19:44:08.155527Z",
     "iopub.status.idle": "2025-06-02T19:44:08.310560Z",
     "shell.execute_reply": "2025-06-02T19:44:08.309284Z",
     "shell.execute_reply.started": "2025-06-02T19:44:08.155735Z"
    },
    "slideshow": {
     "slide_type": ""
    },
    "tags": []
   },
   "outputs": [],
   "source": [
    "def evaluar_configuracion(params, env_name=\"MountainCar-v0\"):\n",
    "    alpha, gamma, epsilon, decay, num_tilings, bins = params\n",
    "    env = gym.make(env_name)\n",
    "    agente = AgenteSARSATileCoding(\n",
    "        env,\n",
    "        alpha=alpha,\n",
    "        gamma=gamma,\n",
    "        epsilon=epsilon,\n",
    "        decay=decay,\n",
    "        num_tilings=num_tilings,\n",
    "        bins=bins\n",
    "    )\n",
    "    agente.entrenar(num_episodes=20000, mostrar_barra=False)\n",
    "    recompensa_final = np.mean(agente.stats[-100:])  # Media últimos 100 episodios\n",
    "    return (alpha, gamma, epsilon, decay, num_tilings, bins, recompensa_final)\n",
    "\n",
    "def random_search(env_name=\"MountainCar-v0\", n_configs=100):\n",
    "    # Espacios de búsqueda\n",
    "    alphas = [0.01, 0.05, 0.1]\n",
    "    gammas = np.linspace(0.8, 1.0, 5)\n",
    "    epsilons = np.linspace(0.1, 1.0, 5)\n",
    "    num_tilings_list = [4, 8, 16]\n",
    "    bins_list = [(4, 4), (6, 6), (8, 8)]\n",
    "    decays = [True, False]\n",
    "\n",
    "    # Generar combinaciones aleatorias\n",
    "    combinaciones = list(product(alphas, gammas, epsilons, decays, num_tilings_list, bins_list))\n",
    "    np.random.seed(SEED)\n",
    "    seleccionadas = np.random.choice(len(combinaciones), size=min(n_configs, len(combinaciones)), replace=False)\n",
    "    combinaciones_random = [combinaciones[i] for i in seleccionadas]\n",
    "\n",
    "    mejor_config = None\n",
    "    mejor_recompensa = -float(\"inf\")\n",
    "    resultados = []\n",
    "\n",
    "    print(\"🔍 Ejecutando búsqueda aleatoria de hiperparámetros...\\n\")\n",
    "\n",
    "    with ProcessPoolExecutor() as executor:\n",
    "        futures = [executor.submit(evaluar_configuracion, combo, env_name) for combo in combinaciones_random]\n",
    "        for future in tqdm(as_completed(futures), total=len(futures), desc=\"Progreso\"):\n",
    "            alpha, gamma, epsilon, decay, num_tilings, bins, recompensa = future.result()\n",
    "            resultados.append((alpha, gamma, epsilon, decay, num_tilings, bins, recompensa))\n",
    "\n",
    "            if recompensa > mejor_recompensa:\n",
    "                mejor_recompensa = recompensa\n",
    "                mejor_config = (alpha, gamma, epsilon, decay, num_tilings, bins)\n",
    "\n",
    "    print(\"\\n✅ Mejor configuración encontrada:\")\n",
    "    print(f\" α = {mejor_config[0]}, γ = {mejor_config[1]}, ε = {mejor_config[2]}, decay = {mejor_config[3]}\")\n",
    "    print(f\" num_tilings = {mejor_config[4]}, bins = {mejor_config[5]}\")\n",
    "    print(f\" → Recompensa media final: {mejor_recompensa:.4f}\")"
   ]
  },
  {
   "cell_type": "code",
   "execution_count": 4,
   "id": "3f85ce5b-04b7-4b82-a2e3-5a16974a5c54",
   "metadata": {
    "editable": true,
    "execution": {
     "iopub.execute_input": "2025-05-25T21:25:24.980905Z",
     "iopub.status.busy": "2025-05-25T21:25:24.980521Z",
     "iopub.status.idle": "2025-05-26T20:38:10.515201Z",
     "shell.execute_reply": "2025-05-26T20:38:10.509783Z",
     "shell.execute_reply.started": "2025-05-25T21:25:24.980873Z"
    },
    "slideshow": {
     "slide_type": ""
    },
    "tags": []
   },
   "outputs": [
    {
     "name": "stdout",
     "output_type": "stream",
     "text": [
      "🔍 Ejecutando búsqueda aleatoria de hiperparámetros...\n",
      "\n"
     ]
    },
    {
     "name": "stderr",
     "output_type": "stream",
     "text": [
      "Progreso: 100%|███████████████████████████████████████████████████████████████████| 100/100 [23:12:45<00:00, 835.65s/it]"
     ]
    },
    {
     "name": "stdout",
     "output_type": "stream",
     "text": [
      "\n",
      "✅ Mejor configuración encontrada:\n",
      " α = 0.01, γ = 1.0, ε = 0.1, decay = False\n",
      " num_tilings = 8, bins = (8, 8)\n",
      " → Recompensa media final: -153.4282\n"
     ]
    },
    {
     "name": "stderr",
     "output_type": "stream",
     "text": [
      "\n"
     ]
    }
   ],
   "source": [
    "random_search()"
   ]
  },
  {
   "cell_type": "code",
   "execution_count": 56,
   "id": "61b77384-6991-424a-85b8-4c6ca553dd73",
   "metadata": {
    "editable": true,
    "execution": {
     "iopub.execute_input": "2025-06-03T08:20:08.990563Z",
     "iopub.status.busy": "2025-06-03T08:20:08.990183Z",
     "iopub.status.idle": "2025-06-03T08:45:14.491574Z",
     "shell.execute_reply": "2025-06-03T08:45:14.490774Z",
     "shell.execute_reply.started": "2025-06-03T08:20:08.990542Z"
    },
    "slideshow": {
     "slide_type": ""
    },
    "tags": []
   },
   "outputs": [
    {
     "name": "stderr",
     "output_type": "stream",
     "text": [
      "100%|█████████████████████████████████████████████████████████████████████████████| 10000/10000 [25:05<00:00,  6.64it/s]\n"
     ]
    },
    {
     "data": {
      "text/plain": [
       "array([[-11.29366561, -13.12306756, -12.31057209, ...,   0.        ,\n",
       "          0.        ,   0.        ],\n",
       "       [-10.64189407, -13.43289617, -11.95596115, ...,   0.        ,\n",
       "          0.        ,   0.        ],\n",
       "       [-10.23135613, -13.15607843, -11.49559951, ...,   0.        ,\n",
       "          0.        ,   0.        ]])"
      ]
     },
     "execution_count": 56,
     "metadata": {},
     "output_type": "execute_result"
    }
   ],
   "source": [
    "env = gym.make(\"MountainCar-v0\")\n",
    "agente = AgenteSARSATileCoding(env, alpha=0.01, gamma=1.0, epsilon=0.1, decay=False, bins=(8, 8), num_tilings=8)\n",
    "agente.entrenar(num_episodes=10000)"
   ]
  },
  {
   "cell_type": "code",
   "execution_count": 57,
   "id": "667318e1-f05e-4f03-b352-5873e93e9e84",
   "metadata": {
    "execution": {
     "iopub.execute_input": "2025-06-03T08:45:14.493859Z",
     "iopub.status.busy": "2025-06-03T08:45:14.492919Z",
     "iopub.status.idle": "2025-06-03T08:45:14.500268Z",
     "shell.execute_reply": "2025-06-03T08:45:14.499510Z",
     "shell.execute_reply.started": "2025-06-03T08:45:14.493837Z"
    }
   },
   "outputs": [],
   "source": [
    "agente.guardar_agente()"
   ]
  },
  {
   "cell_type": "code",
   "execution_count": 58,
   "id": "64d47bb2-55dd-4c11-a45d-1a463041f4fa",
   "metadata": {
    "execution": {
     "iopub.execute_input": "2025-06-03T08:45:14.501556Z",
     "iopub.status.busy": "2025-06-03T08:45:14.501164Z",
     "iopub.status.idle": "2025-06-03T08:45:14.825180Z",
     "shell.execute_reply": "2025-06-03T08:45:14.823771Z",
     "shell.execute_reply.started": "2025-06-03T08:45:14.501537Z"
    }
   },
   "outputs": [],
   "source": [
    "agente = AgenteSARSATileCoding.cargar_agente()"
   ]
  },
  {
   "cell_type": "markdown",
   "id": "5f45bc4c-4001-4cc6-b535-3c85808ff65f",
   "metadata": {},
   "source": [
    "# Resultados de agente SARSA SemiGradiente (Tile Coding)"
   ]
  },
  {
   "cell_type": "code",
   "execution_count": 59,
   "id": "aec87b34-d1e2-47d5-ad38-45cb9a69d5c2",
   "metadata": {
    "execution": {
     "iopub.execute_input": "2025-06-03T08:45:14.827030Z",
     "iopub.status.busy": "2025-06-03T08:45:14.826460Z",
     "iopub.status.idle": "2025-06-03T08:45:15.268501Z",
     "shell.execute_reply": "2025-06-03T08:45:15.267724Z",
     "shell.execute_reply.started": "2025-06-03T08:45:14.827004Z"
    }
   },
   "outputs": [
    {
     "data": {
      "image/png": "[encoded data removed]",
      "text/plain": [
       "<Figure size 600x300 with 1 Axes>"
      ]
     },
     "metadata": {},
     "output_type": "display_data"
    },
    {
     "data": {
      "image/png": "[encoded data removed]",
      "text/plain": [
       "<Figure size 600x300 with 1 Axes>"
      ]
     },
     "metadata": {},
     "output_type": "display_data"
    }
   ],
   "source": [
    "mostrar_resultados_agente_continuo(agente)"
   ]
  },
  {
   "cell_type": "code",
   "execution_count": 60,
   "id": "fd82d335-4596-40e0-ac41-4339d66603f4",
   "metadata": {
    "execution": {
     "iopub.execute_input": "2025-06-03T08:45:15.269695Z",
     "iopub.status.busy": "2025-06-03T08:45:15.269426Z",
     "iopub.status.idle": "2025-06-03T08:58:04.747257Z",
     "shell.execute_reply": "2025-06-03T08:58:04.746304Z",
     "shell.execute_reply.started": "2025-06-03T08:45:15.269672Z"
    }
   },
   "outputs": [
    {
     "name": "stdout",
     "output_type": "stream",
     "text": [
      "📊 Resultados de evaluación:\n",
      "  Episodios evaluados: 10000\n",
      "  Recompensa media:    -145.76 ± 16.38\n",
      "  Recompensa min/max:  -88.00 / -189.00\n",
      "  Episodios exitosos:  10000\n",
      "  Episodios fallidos:  0\n",
      "  Semillas fallidas: []\n"
     ]
    }
   ],
   "source": [
    "evaluar_politica(agente, num_episodios=10000)"
   ]
  },
  {
   "cell_type": "code",
   "execution_count": 30,
   "id": "047a050a-783c-4cf7-8e3c-2775d0df2f46",
   "metadata": {
    "execution": {
     "iopub.execute_input": "2025-06-03T06:38:33.564435Z",
     "iopub.status.busy": "2025-06-03T06:38:33.563546Z",
     "iopub.status.idle": "2025-06-03T06:38:33.574344Z",
     "shell.execute_reply": "2025-06-03T06:38:33.573434Z",
     "shell.execute_reply.started": "2025-06-03T06:38:33.564407Z"
    }
   },
   "outputs": [],
   "source": [
    "def grabar_video_agente(agente, seed, nombre_archivo=\"video_mountaincar.gif\", fps=30):\n",
    "    \"\"\"\n",
    "    Ejecuta un episodio con la política aprendida y guarda un video del entorno.\n",
    "    \"\"\"\n",
    "\n",
    "    random.seed(seed)\n",
    "    np.random.seed(seed)\n",
    "\n",
    "    # Crear entorno con renderizado de imágenes\n",
    "    env = gym.make(\"MountainCar-v0\", render_mode=\"rgb_array\")\n",
    "    state, _ = env.reset(seed=seed)\n",
    "    done = False\n",
    "    total_reward = 0\n",
    "    frames = []\n",
    "\n",
    "    while not done:\n",
    "        frame = env.render()\n",
    "        frames.append(frame)\n",
    "\n",
    "        action = agente.seleccionar_accion_greedy(state)\n",
    "        state, reward, terminated, truncated, _ = env.step(action)\n",
    "        done = terminated or truncated\n",
    "        total_reward += reward\n",
    "\n",
    "        if done:\n",
    "            break\n",
    "\n",
    "    env.close()\n",
    "\n",
    "    print(f\"Número total de frames: {len(frames)}\")\n",
    "    # Guardar el video como GIF\n",
    "    imageio.mimsave(nombre_archivo, frames, fps=fps, loop=0)\n",
    "    print(f\"🎥 Vídeo guardado en: {nombre_archivo}\")\n",
    "    print(f\"🏁 Recompensa total obtenida: {total_reward:.2f}\")"
   ]
  },
  {
   "cell_type": "code",
   "execution_count": 34,
   "id": "1f60e8db-af32-480a-b009-38a20b10f9fb",
   "metadata": {
    "execution": {
     "iopub.execute_input": "2025-06-03T06:39:12.974583Z",
     "iopub.status.busy": "2025-06-03T06:39:12.974121Z",
     "iopub.status.idle": "2025-06-03T06:39:16.616055Z",
     "shell.execute_reply": "2025-06-03T06:39:16.615330Z",
     "shell.execute_reply.started": "2025-06-03T06:39:12.974562Z"
    }
   },
   "outputs": [
    {
     "name": "stdout",
     "output_type": "stream",
     "text": [
      "Número total de frames: 200\n",
      "🎥 Vídeo guardado en: video_mountaincar_tile_coding.gif\n",
      "🏁 Recompensa total obtenida: -200.00\n"
     ]
    },
    {
     "data": {
      "text/html": [
       "\n",
       "<img src=\"video_mountaincar_tile_coding.gif\" style=\"width: 600px;\" loop>\n"
      ],
      "text/plain": [
       "<IPython.core.display.HTML object>"
      ]
     },
     "execution_count": 34,
     "metadata": {},
     "output_type": "execute_result"
    }
   ],
   "source": [
    "nombre_archivo = \"video_mountaincar_tile_coding.gif\"\n",
    "\n",
    "grabar_video_agente(agente, seed=7077, nombre_archivo=nombre_archivo)\n",
    "\n",
    "HTML(f\"\"\"\n",
    "<img src=\"{nombre_archivo}\" style=\"width: 600px;\" loop>\n",
    "\"\"\")"
   ]
  },
  {
   "cell_type": "code",
   "execution_count": null,
   "id": "282454d3-3508-4ef2-88d3-7842d5088fb4",
   "metadata": {},
   "outputs": [],
   "source": []
  }
 ],
 "metadata": {
  "kernelspec": {
   "display_name": "Python 3 (ipykernel)",
   "language": "python",
   "name": "python3"
  },
  "language_info": {
   "codemirror_mode": {
    "name": "ipython",
    "version": 3
   },
   "file_extension": ".py",
   "mimetype": "text/x-python",
   "name": "python",
   "nbconvert_exporter": "python",
   "pygments_lexer": "ipython3",
   "version": "3.10.12"
  }
 },
 "nbformat": 4,
 "nbformat_minor": 5
}
