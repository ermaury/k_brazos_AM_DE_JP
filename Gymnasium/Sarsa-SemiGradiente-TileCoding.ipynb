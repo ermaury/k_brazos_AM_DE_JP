{
 "cells": [
  {
   "cell_type": "code",
   "execution_count": null,
   "id": "cdbac9d6-b209-4fcc-becd-b75e076b605d",
   "metadata": {},
   "outputs": [],
   "source": [
    "!pip install gymnasium\n",
    "!pip install pygame"
   ]
  },
  {
   "cell_type": "markdown",
   "id": "36ee8b9b-2a71-4bcd-96d5-5329a9ae5feb",
   "metadata": {},
   "source": [
    "# Carga y exploración de un entorno de Gymnasium"
   ]
  },
  {
   "cell_type": "code",
   "execution_count": 1,
   "id": "cd6db6f7-7bce-4b74-8f9d-d048d6359082",
   "metadata": {
    "execution": {
     "iopub.execute_input": "2025-05-25T21:25:19.423019Z",
     "iopub.status.busy": "2025-05-25T21:25:19.421925Z",
     "iopub.status.idle": "2025-05-25T21:25:24.795903Z",
     "shell.execute_reply": "2025-05-25T21:25:24.795013Z",
     "shell.execute_reply.started": "2025-05-25T21:25:19.422926Z"
    }
   },
   "outputs": [],
   "source": [
    "import gymnasium as gym\n",
    "import numpy as np\n",
    "import time\n",
    "from IPython.display import clear_output, display, HTML\n",
    "import matplotlib.pyplot as plt\n",
    "from tqdm import tqdm\n",
    "import pandas as pd\n",
    "import random\n",
    "from itertools import product\n",
    "from concurrent.futures import ProcessPoolExecutor, as_completed\n",
    "import imageio\n",
    "from IPython.display import HTML\n",
    "\n",
    "SEED = 42\n",
    "\n",
    "# -------------------- VISUALIZACIÓN DE RESULTADOS --------------------\n",
    "\n",
    "def graficar_recompensas(agente):\n",
    "    \"\"\"Grafica la recompensa media acumulada por episodio.\"\"\"\n",
    "    plt.figure(figsize=(6, 3))\n",
    "    plt.plot(agente.stats)\n",
    "    plt.title('Recompensa media acumulada')\n",
    "    plt.xlabel('Episodio')\n",
    "    plt.ylabel('Recompensa media')\n",
    "    plt.grid(True)\n",
    "    plt.show()\n",
    "\n",
    "def graficar_longitud_episodios(agente):\n",
    "    \"\"\"Grafica la longitud de cada episodio.\"\"\"\n",
    "    plt.figure(figsize=(6, 3))\n",
    "    plt.plot(agente.episode_lengths)\n",
    "    plt.title(\"Longitud de episodios\")\n",
    "    plt.xlabel(\"Episodio\")\n",
    "    plt.ylabel(\"Pasos\")\n",
    "    plt.grid(True)\n",
    "    plt.show()\n",
    "\n",
    "def mostrar_resultados_agente_continuo(agente):\n",
    "    \"\"\"Muestra gráficos de rendimiento en entornos continuos.\"\"\"\n",
    "    graficar_recompensas(agente)\n",
    "    graficar_longitud_episodios(agente)\n",
    "\n",
    "# -------------------- EJECUCIÓN DE UN EPISODIO --------------------\n",
    "\n",
    "def ejecutar_episodio_y_mostrar(agente, render=False):\n",
    "    \"\"\"Ejecuta un episodio con la política aprendida y muestra la evolución de la posición.\"\"\"\n",
    "    env = agente.env\n",
    "    state, _ = env.reset()\n",
    "    done = False\n",
    "    total_reward = 0\n",
    "    posiciones = []\n",
    "\n",
    "    while not done:\n",
    "        if render:\n",
    "            env.render()\n",
    "        posiciones.append(state[0])  # Guardamos la posición del coche\n",
    "        action = agente._seleccionar_accion(state)\n",
    "        state, reward, terminated, truncated, _ = env.step(action)\n",
    "        done = terminated or truncated\n",
    "        total_reward += reward\n",
    "\n",
    "    env.close()\n",
    "    \n",
    "    # Mostrar gráfico de posiciones\n",
    "    plt.figure(figsize=(6, 3))\n",
    "    plt.plot(posiciones)\n",
    "    plt.title(\"Evolución de la posición del coche\")\n",
    "    plt.xlabel(\"Paso del episodio\")\n",
    "    plt.ylabel(\"Posición\")\n",
    "    plt.grid(True)\n",
    "    plt.show()\n",
    "    \n",
    "    print(f\"Recompensa total obtenida: {total_reward:.2f}\")\n",
    "\n",
    "# -------------------- VISUALIZACIÓN DE LA POLÍTICA EN EL ESPACIO CONTINUO --------------------\n",
    "\n",
    "def visualizar_politica_aprendida(agente, resolution=50):\n",
    "    \"\"\"Visualiza la política aprendida en el espacio de estados continuo.\"\"\"\n",
    "    x = np.linspace(agente.low[0], agente.high[0], resolution)  # posición\n",
    "    y = np.linspace(agente.low[1], agente.high[1], resolution)  # velocidad\n",
    "    xx, yy = np.meshgrid(x, y)\n",
    "    \n",
    "    policy_map = np.zeros_like(xx)\n",
    "\n",
    "    for i in range(resolution):\n",
    "        for j in range(resolution):\n",
    "            state = np.array([xx[i, j], yy[i, j]])\n",
    "            policy_map[i, j] = seleccionar_accion_fourier(agente, state)\n",
    "\n",
    "    plt.figure(figsize=(6, 5))\n",
    "    plt.contourf(xx, yy, policy_map, levels=agente.nA, cmap=\"coolwarm\", alpha=0.8)\n",
    "    cbar = plt.colorbar(ticks=range(agente.nA))\n",
    "    cbar.ax.set_yticklabels([f\"A{a}\" for a in range(agente.nA)])\n",
    "    plt.xlabel(\"Posición\")\n",
    "    plt.ylabel(\"Velocidad\")\n",
    "    plt.title(\"Política aprendida (acción elegida en cada punto)\")\n",
    "    plt.grid(True)\n",
    "    plt.show()"
   ]
  },
  {
   "cell_type": "markdown",
   "id": "25ea2caf-b67a-4dbb-b612-3121e4403f06",
   "metadata": {},
   "source": [
    "# Objeto AgenteSARSA-SemiGradiente"
   ]
  },
  {
   "cell_type": "code",
   "execution_count": 2,
   "id": "81be454b-f029-4467-b0ab-279f798fce9a",
   "metadata": {
    "execution": {
     "iopub.execute_input": "2025-05-25T21:25:24.798136Z",
     "iopub.status.busy": "2025-05-25T21:25:24.797726Z",
     "iopub.status.idle": "2025-05-25T21:25:24.814625Z",
     "shell.execute_reply": "2025-05-25T21:25:24.813423Z",
     "shell.execute_reply.started": "2025-05-25T21:25:24.798113Z"
    }
   },
   "outputs": [],
   "source": [
    "# Tile coder para MountainCar\n",
    "class TileCoder:\n",
    "    def __init__(self, low, high, bins=(10, 10), num_tilings=8):\n",
    "        self.low = np.array(low)\n",
    "        self.high = np.array(high)\n",
    "        self.bins = np.array(bins)\n",
    "        self.num_tilings = num_tilings\n",
    "        self.tile_width = (self.high - self.low) / (self.bins - 1)\n",
    "        self.total_tiles = np.prod(self.bins) * num_tilings\n",
    "\n",
    "        # Crear offsets para cada tiling\n",
    "        self.offsets = [\n",
    "            np.random.uniform(0, self.tile_width, size=len(self.low))\n",
    "            for _ in range(num_tilings)\n",
    "        ]\n",
    "\n",
    "    def get_features(self, state):\n",
    "        features = np.zeros(self.total_tiles)\n",
    "        for i, offset in enumerate(self.offsets):\n",
    "            shifted = np.array(state) + offset\n",
    "            idx = ((shifted - self.low) / self.tile_width).astype(int)\n",
    "            idx = np.clip(idx, 0, self.bins - 1)\n",
    "            tile_index = np.ravel_multi_index(idx, self.bins)\n",
    "            feature_index = i * np.prod(self.bins) + tile_index\n",
    "            features[int(feature_index)] = 1\n",
    "        return features\n",
    "\n",
    "\n",
    "\n",
    "class AgenteSARSATileCoding:\n",
    "    def __init__(self, env, alpha=0.1, gamma=0.99, epsilon=1.0, decay=True, bins=(8, 8), num_tilings=8):\n",
    "        self.env = env\n",
    "        self.alpha = alpha\n",
    "        self.gamma = gamma\n",
    "        self.epsilon = epsilon\n",
    "        self.decay = decay\n",
    "\n",
    "        self.nA = env.action_space.n\n",
    "        self.tile_coder = TileCoder(env.observation_space.low, env.observation_space.high, bins, num_tilings)\n",
    "        self.d = self.tile_coder.total_tiles\n",
    "        self.theta = np.zeros((self.nA, self.d))\n",
    "        self.stats = []\n",
    "        self.episode_lengths = []\n",
    "\n",
    "    def _Q(self, state, action):\n",
    "        phi = self.tile_coder.get_features(state)\n",
    "        return np.dot(self.theta[action], phi)\n",
    "\n",
    "    def _seleccionar_accion(self, state):\n",
    "        \"\"\"Selecciona una acción usando la política epsilon-soft explícita.\"\"\"\n",
    "        policy = self._epsilon_soft_policy(state)\n",
    "        return np.random.choice(np.arange(self.nA), p=policy)\n",
    "\n",
    "    def _epsilon_soft_policy(self, state):\n",
    "        \"\"\"Devuelve una política epsilon-soft como vector de probabilidades.\"\"\"\n",
    "        q_values = np.array([self._Q(state, a) for a in range(self.nA)])\n",
    "    \n",
    "        # Reemplazar NaNs o infinitos por 0\n",
    "        if np.any(np.isnan(q_values)) or np.any(np.isinf(q_values)):\n",
    "            q_values = np.nan_to_num(q_values)\n",
    "    \n",
    "        policy = np.ones(self.nA) * self.epsilon / self.nA\n",
    "        best_action = np.argmax(q_values)\n",
    "        policy[best_action] += 1.0 - self.epsilon\n",
    "    \n",
    "        # Corrección: asegurar que todas las probabilidades están en [0, 1] y suman 1\n",
    "        policy = np.clip(policy, 0, 1)\n",
    "        if policy.sum() == 0:\n",
    "            policy = np.ones(self.nA) / self.nA\n",
    "        else:\n",
    "            policy /= policy.sum()\n",
    "    \n",
    "        return policy\n",
    "\n",
    "\n",
    "\n",
    "    def entrenar(self, num_episodes=5000, mostrar_barra=True):\n",
    "        from tqdm import tqdm\n",
    "        acumulador_recompensas = 0.0\n",
    "\n",
    "        for t in tqdm(range(num_episodes), disable=not mostrar_barra):\n",
    "            if self.decay:\n",
    "                self.epsilon = max(0.05, 1000.0 / (t + 1))\n",
    "\n",
    "            state, _ = self.env.reset(seed=42)\n",
    "            action = self._seleccionar_accion(state)\n",
    "            done = False\n",
    "            total_reward = 0\n",
    "            pasos = 0\n",
    "\n",
    "            while not done:\n",
    "                next_state, reward, terminated, truncated, _ = self.env.step(action)\n",
    "                done = terminated or truncated\n",
    "                next_action = self._seleccionar_accion(next_state)\n",
    "\n",
    "                phi = self.tile_coder.get_features(state)\n",
    "                q_next = self._Q(next_state, next_action) if not done else 0.0\n",
    "                q_current = np.dot(self.theta[action], phi)\n",
    "                target = reward + self.gamma * q_next\n",
    "                delta = target - q_current\n",
    "\n",
    "                if not (np.isnan(delta) or np.isinf(delta)):\n",
    "                    self.theta[action] += self.alpha * delta * phi\n",
    "                    self.theta[action] = np.clip(self.theta[action], -1e6, 1e6)\n",
    "\n",
    "                state = next_state\n",
    "                action = next_action\n",
    "                total_reward += reward\n",
    "                pasos += 1\n",
    "\n",
    "            self.episode_lengths.append(pasos)\n",
    "            acumulador_recompensas += total_reward\n",
    "            self.stats.append(acumulador_recompensas / (t + 1))\n",
    "\n",
    "        return self.theta\n"
   ]
  },
  {
   "cell_type": "code",
   "execution_count": 3,
   "id": "7fd99155-cfa5-432e-8e00-f03d444afd2d",
   "metadata": {
    "editable": true,
    "execution": {
     "iopub.execute_input": "2025-05-25T21:25:24.816450Z",
     "iopub.status.busy": "2025-05-25T21:25:24.816111Z",
     "iopub.status.idle": "2025-05-25T21:25:24.979158Z",
     "shell.execute_reply": "2025-05-25T21:25:24.978401Z",
     "shell.execute_reply.started": "2025-05-25T21:25:24.816421Z"
    },
    "slideshow": {
     "slide_type": ""
    },
    "tags": []
   },
   "outputs": [],
   "source": [
    "def evaluar_configuracion(params, env_name=\"MountainCar-v0\"):\n",
    "    alpha, gamma, epsilon, decay, num_tilings, bins = params\n",
    "    env = gym.make(env_name)\n",
    "    agente = AgenteSARSATileCoding(\n",
    "        env,\n",
    "        alpha=alpha,\n",
    "        gamma=gamma,\n",
    "        epsilon=epsilon,\n",
    "        decay=decay,\n",
    "        num_tilings=num_tilings,\n",
    "        bins=bins\n",
    "    )\n",
    "    agente.entrenar(num_episodes=20000, mostrar_barra=False)\n",
    "    recompensa_final = np.mean(agente.stats[-100:])  # Media últimos 100 episodios\n",
    "    return (alpha, gamma, epsilon, decay, num_tilings, bins, recompensa_final)\n",
    "\n",
    "def random_search(env_name=\"MountainCar-v0\", n_configs=100):\n",
    "    # Espacios de búsqueda\n",
    "    alphas = [0.01, 0.05, 0.1]\n",
    "    gammas = np.linspace(0.8, 1.0, 5)\n",
    "    epsilons = np.linspace(0.1, 1.0, 5)\n",
    "    num_tilings_list = [4, 8, 16]\n",
    "    bins_list = [(4, 4), (6, 6), (8, 8)]\n",
    "    decays = [True, False]\n",
    "\n",
    "    # Generar combinaciones aleatorias\n",
    "    combinaciones = list(product(alphas, gammas, epsilons, decays, num_tilings_list, bins_list))\n",
    "    np.random.seed(SEED)\n",
    "    seleccionadas = np.random.choice(len(combinaciones), size=min(n_configs, len(combinaciones)), replace=False)\n",
    "    combinaciones_random = [combinaciones[i] for i in seleccionadas]\n",
    "\n",
    "    mejor_config = None\n",
    "    mejor_recompensa = -float(\"inf\")\n",
    "    resultados = []\n",
    "\n",
    "    print(\"🔍 Ejecutando búsqueda aleatoria de hiperparámetros...\\n\")\n",
    "\n",
    "    with ProcessPoolExecutor() as executor:\n",
    "        futures = [executor.submit(evaluar_configuracion, combo, env_name) for combo in combinaciones_random]\n",
    "        for future in tqdm(as_completed(futures), total=len(futures), desc=\"Progreso\"):\n",
    "            alpha, gamma, epsilon, decay, num_tilings, bins, recompensa = future.result()\n",
    "            resultados.append((alpha, gamma, epsilon, decay, num_tilings, bins, recompensa))\n",
    "\n",
    "            if recompensa > mejor_recompensa:\n",
    "                mejor_recompensa = recompensa\n",
    "                mejor_config = (alpha, gamma, epsilon, decay, num_tilings, bins)\n",
    "\n",
    "    print(\"\\n✅ Mejor configuración encontrada:\")\n",
    "    print(f\" α = {mejor_config[0]}, γ = {mejor_config[1]}, ε = {mejor_config[2]}, decay = {mejor_config[3]}\")\n",
    "    print(f\" num_tilings = {mejor_config[4]}, bins = {mejor_config[5]}\")\n",
    "    print(f\" → Recompensa media final: {mejor_recompensa:.4f}\")"
   ]
  },
  {
   "cell_type": "code",
   "execution_count": 4,
   "id": "3f85ce5b-04b7-4b82-a2e3-5a16974a5c54",
   "metadata": {
    "editable": true,
    "execution": {
     "iopub.execute_input": "2025-05-25T21:25:24.980905Z",
     "iopub.status.busy": "2025-05-25T21:25:24.980521Z",
     "iopub.status.idle": "2025-05-26T20:38:10.515201Z",
     "shell.execute_reply": "2025-05-26T20:38:10.509783Z",
     "shell.execute_reply.started": "2025-05-25T21:25:24.980873Z"
    },
    "slideshow": {
     "slide_type": ""
    },
    "tags": []
   },
   "outputs": [
    {
     "name": "stdout",
     "output_type": "stream",
     "text": [
      "🔍 Ejecutando búsqueda aleatoria de hiperparámetros...\n",
      "\n"
     ]
    },
    {
     "name": "stderr",
     "output_type": "stream",
     "text": [
      "Progreso: 100%|███████████████████████████████████████████████████████████████████| 100/100 [23:12:45<00:00, 835.65s/it]"
     ]
    },
    {
     "name": "stdout",
     "output_type": "stream",
     "text": [
      "\n",
      "✅ Mejor configuración encontrada:\n",
      " α = 0.01, γ = 1.0, ε = 0.1, decay = False\n",
      " num_tilings = 8, bins = (8, 8)\n",
      " → Recompensa media final: -153.4282\n"
     ]
    },
    {
     "name": "stderr",
     "output_type": "stream",
     "text": [
      "\n"
     ]
    }
   ],
   "source": [
    "random_search()"
   ]
  },
  {
   "cell_type": "code",
   "execution_count": 6,
   "id": "61b77384-6991-424a-85b8-4c6ca553dd73",
   "metadata": {
    "editable": true,
    "execution": {
     "iopub.execute_input": "2025-05-26T20:40:15.516084Z",
     "iopub.status.busy": "2025-05-26T20:40:15.514998Z",
     "iopub.status.idle": "2025-05-26T23:53:40.366657Z",
     "shell.execute_reply": "2025-05-26T23:53:40.362350Z",
     "shell.execute_reply.started": "2025-05-26T20:40:15.516018Z"
    },
    "slideshow": {
     "slide_type": ""
    },
    "tags": []
   },
   "outputs": [
    {
     "name": "stderr",
     "output_type": "stream",
     "text": [
      "100%|███████████████████████████████████████████████████████████████████████████| 50000/50000 [3:13:24<00:00,  4.31it/s]\n"
     ]
    },
    {
     "data": {
      "text/plain": [
       "array([[-7.04049972, -7.1105207 , -5.70283524, ...,  0.        ,\n",
       "         0.        ,  0.        ],\n",
       "       [-7.30362582, -6.55587069, -6.28961326, ...,  0.        ,\n",
       "         0.        ,  0.        ],\n",
       "       [-6.9098493 , -7.97842451, -6.53598984, ...,  0.        ,\n",
       "         0.        ,  0.        ]])"
      ]
     },
     "execution_count": 6,
     "metadata": {},
     "output_type": "execute_result"
    }
   ],
   "source": [
    "env = gym.make(\"MountainCar-v0\")\n",
    "agente = AgenteSARSATileCoding(env, alpha=0.01, gamma=1.0, epsilon=0.1, decay=False, bins=(8, 8), num_tilings=8)\n",
    "agente.entrenar(num_episodes=50000)"
   ]
  },
  {
   "cell_type": "markdown",
   "id": "5f45bc4c-4001-4cc6-b535-3c85808ff65f",
   "metadata": {},
   "source": [
    "# Resultados de agente SARSA SemiGradiente"
   ]
  },
  {
   "cell_type": "code",
   "execution_count": 7,
   "id": "aec87b34-d1e2-47d5-ad38-45cb9a69d5c2",
   "metadata": {
    "execution": {
     "iopub.execute_input": "2025-05-26T23:53:40.377326Z",
     "iopub.status.busy": "2025-05-26T23:53:40.376598Z",
     "iopub.status.idle": "2025-05-26T23:53:41.012838Z",
     "shell.execute_reply": "2025-05-26T23:53:41.011787Z",
     "shell.execute_reply.started": "2025-05-26T23:53:40.377269Z"
    }
   },
   "outputs": [
    {
     "data": {
      "image/png": "[encoded data removed]",
      "text/plain": [
       "<Figure size 600x300 with 1 Axes>"
      ]
     },
     "metadata": {},
     "output_type": "display_data"
    },
    {
     "data": {
      "image/png": "[encoded data removed]",
      "text/plain": [
       "<Figure size 600x300 with 1 Axes>"
      ]
     },
     "metadata": {},
     "output_type": "display_data"
    }
   ],
   "source": [
    "mostrar_resultados_agente_continuo(agente)"
   ]
  },
  {
   "cell_type": "code",
   "execution_count": 8,
   "id": "fd82d335-4596-40e0-ac41-4339d66603f4",
   "metadata": {
    "execution": {
     "iopub.execute_input": "2025-05-26T23:53:41.014745Z",
     "iopub.status.busy": "2025-05-26T23:53:41.014041Z",
     "iopub.status.idle": "2025-05-26T23:53:41.335600Z",
     "shell.execute_reply": "2025-05-26T23:53:41.334547Z",
     "shell.execute_reply.started": "2025-05-26T23:53:41.014716Z"
    }
   },
   "outputs": [
    {
     "data": {
      "image/png": "[encoded data removed]",
      "text/plain": [
       "<Figure size 600x300 with 1 Axes>"
      ]
     },
     "metadata": {},
     "output_type": "display_data"
    },
    {
     "name": "stdout",
     "output_type": "stream",
     "text": [
      "Recompensa total obtenida: -163.00\n"
     ]
    }
   ],
   "source": [
    "ejecutar_episodio_y_mostrar(agente)"
   ]
  },
  {
   "cell_type": "code",
   "execution_count": 9,
   "id": "047a050a-783c-4cf7-8e3c-2775d0df2f46",
   "metadata": {
    "execution": {
     "iopub.execute_input": "2025-05-26T23:53:41.337604Z",
     "iopub.status.busy": "2025-05-26T23:53:41.337306Z",
     "iopub.status.idle": "2025-05-26T23:53:41.703546Z",
     "shell.execute_reply": "2025-05-26T23:53:41.702650Z",
     "shell.execute_reply.started": "2025-05-26T23:53:41.337576Z"
    }
   },
   "outputs": [],
   "source": [
    "def grabar_video_agente(agente, nombre_archivo=\"video_mountaincar.gif\", fps=30):\n",
    "    \"\"\"\n",
    "    Ejecuta un episodio con la política aprendida y guarda un video del entorno.\n",
    "    \"\"\"\n",
    "    # Crear entorno con renderizado de imágenes\n",
    "    env = gym.make(\"MountainCar-v0\", render_mode=\"rgb_array\")\n",
    "    env.reset(seed=SEED)\n",
    "    state, _ = env.reset()\n",
    "    done = False\n",
    "    total_reward = 0\n",
    "    frames = []\n",
    "\n",
    "    while not done:\n",
    "        frame = env.render()\n",
    "        frames.append(frame)\n",
    "\n",
    "        # Acción greedy\n",
    "        q_values = [agente._Q(state, a) for a in range(agente.nA)]\n",
    "        action = np.argmax(q_values)\n",
    "\n",
    "        next_state, reward, terminated, truncated, _ = env.step(action)\n",
    "        total_reward += reward\n",
    "        done = terminated or truncated\n",
    "        state = next_state\n",
    "\n",
    "        if done:\n",
    "            break\n",
    "\n",
    "    env.close()\n",
    "\n",
    "    print(f\"Número total de frames: {len(frames)}\")\n",
    "    # Guardar el video como GIF\n",
    "    imageio.mimsave(nombre_archivo, frames, fps=fps, loop=0)\n",
    "    print(f\"🎥 Vídeo guardado en: {nombre_archivo}\")\n",
    "    print(f\"🏁 Recompensa total obtenida: {total_reward:.2f}\")"
   ]
  },
  {
   "cell_type": "code",
   "execution_count": 10,
   "id": "1f60e8db-af32-480a-b009-38a20b10f9fb",
   "metadata": {
    "execution": {
     "iopub.execute_input": "2025-05-26T23:53:41.705231Z",
     "iopub.status.busy": "2025-05-26T23:53:41.704764Z",
     "iopub.status.idle": "2025-05-26T23:53:52.291282Z",
     "shell.execute_reply": "2025-05-26T23:53:52.290196Z",
     "shell.execute_reply.started": "2025-05-26T23:53:41.705206Z"
    }
   },
   "outputs": [
    {
     "name": "stdout",
     "output_type": "stream",
     "text": [
      "Número total de frames: 154\n",
      "🎥 Vídeo guardado en: video_mountaincar_tile_coding.gif\n",
      "🏁 Recompensa total obtenida: -154.00\n"
     ]
    },
    {
     "data": {
      "text/html": [
       "\n",
       "<img src=\"video_mountaincar_tile_coding.gif\" style=\"width: 600px;\" loop>\n"
      ],
      "text/plain": [
       "<IPython.core.display.HTML object>"
      ]
     },
     "execution_count": 10,
     "metadata": {},
     "output_type": "execute_result"
    }
   ],
   "source": [
    "nombre_archivo = \"video_mountaincar_tile_coding.gif\"\n",
    "\n",
    "grabar_video_agente(agente, nombre_archivo=nombre_archivo)\n",
    "\n",
    "HTML(f\"\"\"\n",
    "<img src=\"{nombre_archivo}\" style=\"width: 600px;\" loop>\n",
    "\"\"\")"
   ]
  },
  {
   "cell_type": "code",
   "execution_count": null,
   "id": "282454d3-3508-4ef2-88d3-7842d5088fb4",
   "metadata": {},
   "outputs": [],
   "source": []
  }
 ],
 "metadata": {
  "kernelspec": {
   "display_name": "Python 3 (ipykernel)",
   "language": "python",
   "name": "python3"
  },
  "language_info": {
   "codemirror_mode": {
    "name": "ipython",
    "version": 3
   },
   "file_extension": ".py",
   "mimetype": "text/x-python",
   "name": "python",
   "nbconvert_exporter": "python",
   "pygments_lexer": "ipython3",
   "version": "3.10.12"
  }
 },
 "nbformat": 4,
 "nbformat_minor": 5
}
