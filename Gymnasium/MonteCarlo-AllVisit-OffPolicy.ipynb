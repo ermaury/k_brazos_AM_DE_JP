{
 "cells": [
  {
   "cell_type": "code",
   "execution_count": null,
   "id": "cdbac9d6-b209-4fcc-becd-b75e076b605d",
   "metadata": {},
   "outputs": [],
   "source": [
    "!pip install gymnasium\n",
    "!pip install pygame"
   ]
  },
  {
   "cell_type": "markdown",
   "id": "36ee8b9b-2a71-4bcd-96d5-5329a9ae5feb",
   "metadata": {},
   "source": [
    "# Carga y exploración de un entorno de Gymnasium"
   ]
  },
  {
   "cell_type": "code",
   "execution_count": 28,
   "id": "cd6db6f7-7bce-4b74-8f9d-d048d6359082",
   "metadata": {
    "execution": {
     "iopub.execute_input": "2025-05-17T20:45:37.163132Z",
     "iopub.status.busy": "2025-05-17T20:45:37.162599Z",
     "iopub.status.idle": "2025-05-17T20:45:37.187299Z",
     "shell.execute_reply": "2025-05-17T20:45:37.186094Z",
     "shell.execute_reply.started": "2025-05-17T20:45:37.163078Z"
    }
   },
   "outputs": [],
   "source": [
    "import gymnasium as gym\n",
    "import numpy as np\n",
    "import time\n",
    "from IPython.display import clear_output, display, HTML\n",
    "import matplotlib.pyplot as plt\n",
    "from tqdm import tqdm\n",
    "import pandas as pd\n",
    "import random\n",
    "from itertools import product\n",
    "from concurrent.futures import ProcessPoolExecutor, as_completed\n",
    "\n",
    "SEED = 42\n",
    "\n",
    "acciones = ['←', '↓', '→', '↑']\n",
    "\n",
    "# Función para mostrar el entorno con emojis\n",
    "def render_frozenlake_with_emojis(desc, agent_pos):\n",
    "    EMOJI_MAP = {b'S': '🚩', b'F': '🧊', b'H': '💀', b'G': '🏁'}\n",
    "    AGENT_EMOJI = '🐧'\n",
    "    grid = \"\"\n",
    "    for i, row in enumerate(desc):\n",
    "        for j, cell in enumerate(row):\n",
    "            pos = i * desc.shape[1] + j\n",
    "            if pos == agent_pos:\n",
    "                grid += AGENT_EMOJI\n",
    "            else:\n",
    "                grid += EMOJI_MAP[cell]\n",
    "        grid += \"<br>\"\n",
    "    clear_output(wait=True)\n",
    "    display(HTML(f\"<pre style='font-size: 24px'>{grid}</pre>\"))\n",
    "\n",
    "\n",
    "# Política epsilon-soft. Se usa para el entrenamiento\n",
    "def random_epsilon_greedy_policy(Q, epsilon, state, nA):\n",
    "    pi_A = np.ones(nA, dtype=float) * epsilon / nA\n",
    "    best_action = np.argmax(Q[state])\n",
    "    pi_A[best_action] += (1.0 - epsilon)\n",
    "    return pi_A\n",
    "\n",
    "# Política epsilon-greedy a partir de una epsilon-soft\n",
    "def epsilon_greedy_policy(Q, epsilon, state, nA):\n",
    "    pi_A = random_epsilon_greedy_policy(Q, epsilon, state, nA)\n",
    "    return np.random.choice(np.arange(nA), p=pi_A)\n",
    "\n",
    "# Política Greedy a partir de los valones Q. Se usa para mostrar la solución.\n",
    "# Visualización de la política aprendida (greedy)\n",
    "def pi_star_from_Q(agente):\n",
    "    env = agente.env\n",
    "    Q = agente.Q\n",
    "    desc = env.unwrapped.desc\n",
    "    state, info = agente.env.reset()\n",
    "    done = False\n",
    "    total_reward = 0\n",
    "    action_sequence = []\n",
    "    while not done:\n",
    "        render_frozenlake_with_emojis(desc, state)\n",
    "        action = np.argmax(Q[state])\n",
    "        action_sequence.append(acciones[action])\n",
    "        state, reward, terminated, truncated, info = env.step(action)\n",
    "        done = terminated or truncated\n",
    "        total_reward += reward\n",
    "\n",
    "    render_frozenlake_with_emojis(desc, state)\n",
    "    print(f\"Recompensa total siguiendo la política greedy: {total_reward}\")\n",
    "    print(f\"Secuencia de acciones tomadas: {action_sequence}\")\n",
    "\n",
    "# Tabla con la mejor acción por estado\n",
    "def obtener_politica_optima(agente):\n",
    "    Q = agente.Q\n",
    "    desc = agente.env.unwrapped.desc\n",
    "    num_cols = desc.shape[1]\n",
    "    transiciones = {\n",
    "        0: lambda s: s - 1,\n",
    "        1: lambda s: s + num_cols,\n",
    "        2: lambda s: s + 1,\n",
    "        3: lambda s: s - num_cols\n",
    "    }\n",
    "    mejores_acciones = []\n",
    "    simbolos = []\n",
    "    siguiente_estado = []\n",
    "\n",
    "    for i, fila in enumerate(Q):\n",
    "        if np.all(fila == 0):\n",
    "            simbolos.append('X')\n",
    "            siguiente_estado.append(\"-\")\n",
    "        else:\n",
    "            a = np.argmax(fila)\n",
    "            mejores_acciones.append(a)\n",
    "            simbolos.append(acciones[a])\n",
    "            try:\n",
    "                destino = transiciones[a](i)\n",
    "                if 0 <= destino < len(Q):\n",
    "                    siguiente_estado.append(f\"Estado {destino}\")\n",
    "                else:\n",
    "                    siguiente_estado.append(None)\n",
    "            except:\n",
    "                siguiente_estado.append(None)\n",
    "\n",
    "    df = pd.DataFrame({\n",
    "        'Mejor acción': simbolos,\n",
    "        'Estado siguiente': siguiente_estado\n",
    "    }, index=[f\"Estado {i}\" for i in range(len(simbolos))])\n",
    "    display(df)"
   ]
  },
  {
   "cell_type": "markdown",
   "id": "25ea2caf-b67a-4dbb-b612-3121e4403f06",
   "metadata": {},
   "source": [
    "# Objeto AgenteMonteCarlo (off policy)"
   ]
  },
  {
   "cell_type": "code",
   "execution_count": 35,
   "id": "81be454b-f029-4467-b0ab-279f798fce9a",
   "metadata": {
    "execution": {
     "iopub.execute_input": "2025-05-17T20:55:45.005525Z",
     "iopub.status.busy": "2025-05-17T20:55:45.005081Z",
     "iopub.status.idle": "2025-05-17T20:55:45.015420Z",
     "shell.execute_reply": "2025-05-17T20:55:45.014527Z",
     "shell.execute_reply.started": "2025-05-17T20:55:45.005468Z"
    }
   },
   "outputs": [],
   "source": [
    "class AgenteMonteCarloOffPolicy:\n",
    "     def __init__(self, env, epsilon=0.3, discount_factor=1.0):\n",
    "        self.env = env\n",
    "        self.epsilon = epsilon\n",
    "        self.discount_factor = discount_factor\n",
    "        self.nA = env.action_space.n\n",
    "        self.Q = np.zeros([env.observation_space.n, self.nA])\n",
    "        self.C = np.zeros_like(self.Q)  # acumulador de pesos\n",
    "        self.stats = []\n",
    "        self.episode_lengths = []\n",
    "\n",
    "     def entrenar(self, num_episodes=50000, mostrar_barra=True):\n",
    "    \n",
    "        random.seed(SEED)\n",
    "        np.random.seed(SEED)\n",
    "        self.env.reset(seed=SEED)\n",
    "        self.env.action_space.seed(SEED)\n",
    "        self.env.observation_space.seed(SEED)\n",
    "    \n",
    "        acumulador_recompensas = 0.0\n",
    "    \n",
    "        for t in tqdm(range(num_episodes), disable=not mostrar_barra):\n",
    "            state, _ = self.env.reset()\n",
    "            episode = []\n",
    "            done = False\n",
    "    \n",
    "            # Generar episodio con política de comportamiento ε-greedy\n",
    "            while not done:\n",
    "                action = epsilon_greedy_policy(self.Q, self.epsilon, state, self.nA)\n",
    "                next_state, reward, terminated, truncated, _ = self.env.step(action)\n",
    "                episode.append((state, action, reward))\n",
    "                state = next_state\n",
    "                done = terminated or truncated\n",
    "    \n",
    "            self.episode_lengths.append(len(episode))\n",
    "    \n",
    "            G = 0\n",
    "            W = 1.0\n",
    "    \n",
    "            # Procesar episodio hacia atrás\n",
    "            for i in reversed(range(len(episode))):\n",
    "                s, a, r = episode[i]\n",
    "                G = self.discount_factor * G + r\n",
    "\n",
    "                # Actualización de C y Q antes del corte\n",
    "                self.C[s, a] += W\n",
    "                self.Q[s, a] += (W / self.C[s, a]) * (G - self.Q[s, a])\n",
    "\n",
    "                # Actualizar política objetivo π(s) implícitamente como greedy\n",
    "                a_star = np.argmax(self.Q[s])\n",
    "\n",
    "                # Si la acción tomada no coincide con la nueva política π(s), cortar\n",
    "                if a != a_star:\n",
    "                    break\n",
    "\n",
    "                # Política de comportamiento (ε-greedy)\n",
    "                prob_b = self.epsilon / self.nA\n",
    "                prob_b += (1 - self.epsilon) if a == a_star else 0\n",
    "\n",
    "                W *= 1.0 / prob_b\n",
    "                if W == 0:\n",
    "                    break\n",
    "    \n",
    "            acumulador_recompensas += G\n",
    "            self.stats.append(acumulador_recompensas / (t + 1))\n",
    "    \n",
    "        return self.Q"
   ]
  },
  {
   "cell_type": "markdown",
   "id": "72e848e7-90db-4ae5-8d66-8190accfc70b",
   "metadata": {},
   "source": [
    "# Entorno 4X4"
   ]
  },
  {
   "cell_type": "code",
   "execution_count": 53,
   "id": "36dcfdd4-0bed-420b-bd80-0557734cc774",
   "metadata": {
    "execution": {
     "iopub.execute_input": "2025-05-18T00:56:01.772144Z",
     "iopub.status.busy": "2025-05-18T00:56:01.770838Z",
     "iopub.status.idle": "2025-05-18T00:56:01.812194Z",
     "shell.execute_reply": "2025-05-18T00:56:01.810921Z",
     "shell.execute_reply.started": "2025-05-18T00:56:01.771822Z"
    }
   },
   "outputs": [],
   "source": [
    "def evaluar_configuracion(params, map_name):\n",
    "    if isinstance(map_name, str):\n",
    "        env = gym.make(\"FrozenLake-v1\", is_slippery=False, map_name=map_name)\n",
    "    else:\n",
    "        env = gym.make(\"FrozenLake-v1\", is_slippery=False, desc=map_name)\n",
    "    gamma, epsilon = params\n",
    "    agente = AgenteMonteCarloOffPolicy(env, epsilon=epsilon, discount_factor=gamma)\n",
    "    agente.entrenar(num_episodes=29000, mostrar_barra=False)\n",
    "    recompensa_final = agente.stats[-1]\n",
    "    return (gamma, epsilon, recompensa_final)\n",
    "\n",
    "def grid_search(map_name):\n",
    "    # Espacio de búsqueda\n",
    "    gammas = np.linspace(0.1, 1.0, 10)\n",
    "    epsilons = np.linspace(0.1, 1.0, 10)\n",
    "    combinaciones = list(product(gammas, epsilons))\n",
    "\n",
    "    mejor_config = None\n",
    "    mejor_recompensa = -float('inf')\n",
    "    resultados = []\n",
    "\n",
    "    print(\"🔍 Buscando la mejor combinación de hiperparámetros...\\n\")\n",
    "\n",
    "    with ProcessPoolExecutor() as executor:\n",
    "        futures = [executor.submit(evaluar_configuracion, combo, map_name) for combo in combinaciones]\n",
    "        \n",
    "        with tqdm(total=len(futures), desc=\"Progreso\") as pbar:\n",
    "            for future in as_completed(futures):\n",
    "                gamma, epsilon, recompensa = future.result()\n",
    "                resultados.append((gamma, epsilon, recompensa))\n",
    "\n",
    "                if recompensa > mejor_recompensa:\n",
    "                    mejor_recompensa = recompensa\n",
    "                    mejor_config = (gamma, epsilon)\n",
    "\n",
    "                # Actualizar el postfix de tqdm\n",
    "                pbar.set_postfix({\n",
    "                    \"γ\": round(mejor_config[0], 2),\n",
    "                    \"ε\": round(mejor_config[1], 2),\n",
    "                    \"reward\": f\"{mejor_recompensa:.2f}\"\n",
    "                })\n",
    "                pbar.update(1)\n",
    "\n",
    "    print(\"\\n✅ Mejor configuración encontrada:\")\n",
    "    print(f\" γ = {mejor_config[0]}, ε = {mejor_config[1]}\")\n",
    "    print(f\"  → Recompensa media final: {mejor_recompensa:.4f}\")"
   ]
  },
  {
   "cell_type": "code",
   "execution_count": 37,
   "id": "9f270f91-51e7-4347-8a7c-e76f22c1d692",
   "metadata": {
    "execution": {
     "iopub.execute_input": "2025-05-17T20:55:46.495634Z",
     "iopub.status.busy": "2025-05-17T20:55:46.495214Z",
     "iopub.status.idle": "2025-05-17T20:59:19.971137Z",
     "shell.execute_reply": "2025-05-17T20:59:19.970164Z",
     "shell.execute_reply.started": "2025-05-17T20:55:46.495612Z"
    }
   },
   "outputs": [
    {
     "name": "stdout",
     "output_type": "stream",
     "text": [
      "🔍 Buscando la mejor combinación de hiperparámetros...\n",
      "\n"
     ]
    },
    {
     "name": "stderr",
     "output_type": "stream",
     "text": [
      "Progreso: 100%|██████████████████████████████████████████████| 100/100 [03:33<00:00,  2.13s/it, γ=1, ε=0.3, reward=0.47]"
     ]
    },
    {
     "name": "stdout",
     "output_type": "stream",
     "text": [
      "\n",
      "✅ Mejor configuración encontrada:\n",
      " γ = 1.0, ε = 0.30000000000000004\n",
      "  → Recompensa media final: 0.4728\n"
     ]
    },
    {
     "name": "stderr",
     "output_type": "stream",
     "text": [
      "\n"
     ]
    }
   ],
   "source": [
    "grid_search(\"4x4\")"
   ]
  },
  {
   "cell_type": "code",
   "execution_count": 43,
   "id": "b61b29bf-b801-4299-b68e-85c583dd207f",
   "metadata": {
    "execution": {
     "iopub.execute_input": "2025-05-17T21:01:13.576830Z",
     "iopub.status.busy": "2025-05-17T21:01:13.576323Z",
     "iopub.status.idle": "2025-05-17T21:02:35.326061Z",
     "shell.execute_reply": "2025-05-17T21:02:35.325181Z",
     "shell.execute_reply.started": "2025-05-17T21:01:13.576805Z"
    }
   },
   "outputs": [
    {
     "name": "stderr",
     "output_type": "stream",
     "text": [
      "100%|█████████████████████████████████████████████████████████████████████████| 200000/200000 [01:21<00:00, 2446.85it/s]\n"
     ]
    },
    {
     "data": {
      "text/plain": [
       "array([[0.9551977 , 0.99872759, 0.96831432, 0.99450528],\n",
       "       [0.97542753, 0.        , 0.9975722 , 0.99117662],\n",
       "       [0.98189591, 0.99547109, 0.9917148 , 0.99498786],\n",
       "       [0.9961073 , 0.        , 0.94345621, 0.93099446],\n",
       "       [0.94821055, 0.99954184, 0.        , 0.99223685],\n",
       "       [0.        , 0.        , 0.        , 0.        ],\n",
       "       [0.        , 0.99994632, 0.        , 0.99562784],\n",
       "       [0.        , 0.        , 0.        , 0.        ],\n",
       "       [0.98092393, 0.        , 0.99978179, 0.99686771],\n",
       "       [0.99830791, 0.99528493, 0.99997318, 0.        ],\n",
       "       [0.99976976, 0.99996454, 0.        , 0.98770393],\n",
       "       [0.        , 0.        , 0.        , 0.        ],\n",
       "       [0.        , 0.        , 0.        , 0.        ],\n",
       "       [0.        , 0.9968815 , 0.9992408 , 1.        ],\n",
       "       [0.99955472, 0.99991308, 1.        , 1.        ],\n",
       "       [0.        , 0.        , 0.        , 0.        ]])"
      ]
     },
     "execution_count": 43,
     "metadata": {},
     "output_type": "execute_result"
    }
   ],
   "source": [
    "# Ejecución de ejemplo\n",
    "env_4x4 = gym.make(\"FrozenLake-v1\", is_slippery=False)\n",
    "env_4x4.reset(seed=SEED)\n",
    "agente_4x4 = AgenteMonteCarloOffPolicy(env_4x4, epsilon=0.3, discount_factor=1.0)\n",
    "agente_4x4.entrenar(num_episodes=200000)"
   ]
  },
  {
   "cell_type": "markdown",
   "id": "5f45bc4c-4001-4cc6-b535-3c85808ff65f",
   "metadata": {},
   "source": [
    "# Gráfica de Proporción de aciertos por número de episodios"
   ]
  },
  {
   "cell_type": "code",
   "execution_count": 44,
   "id": "aec87b34-d1e2-47d5-ad38-45cb9a69d5c2",
   "metadata": {
    "execution": {
     "iopub.execute_input": "2025-05-17T21:02:35.328075Z",
     "iopub.status.busy": "2025-05-17T21:02:35.327553Z",
     "iopub.status.idle": "2025-05-17T21:02:35.513883Z",
     "shell.execute_reply": "2025-05-17T21:02:35.512787Z",
     "shell.execute_reply.started": "2025-05-17T21:02:35.328051Z"
    }
   },
   "outputs": [
    {
     "data": {
      "image/png": "[encoded data removed]",
      "text/plain": [
       "<Figure size 600x300 with 1 Axes>"
      ]
     },
     "metadata": {},
     "output_type": "display_data"
    }
   ],
   "source": [
    "def plot_hit_proportion(agente):\n",
    "    stats = agente.stats\n",
    "    indices = list(range(len(stats)))\n",
    "    plt.figure(figsize=(6, 3))\n",
    "    plt.plot(indices, stats)\n",
    "    plt.title('Proporción de recompensas')\n",
    "    plt.xlabel('Episodio')\n",
    "    plt.ylabel('Proporción')\n",
    "    plt.grid(True)\n",
    "    plt.show()\n",
    "\n",
    "plot_hit_proportion(agente_4x4)"
   ]
  },
  {
   "cell_type": "markdown",
   "id": "23468f23-69ce-41aa-9ef1-425f8a64577a",
   "metadata": {},
   "source": [
    "# Gráfica de longitud de los episodios"
   ]
  },
  {
   "cell_type": "code",
   "execution_count": 45,
   "id": "387a9af9-4f43-44b0-93fa-bc7bccb21a5a",
   "metadata": {
    "execution": {
     "iopub.execute_input": "2025-05-17T21:02:35.515807Z",
     "iopub.status.busy": "2025-05-17T21:02:35.515359Z",
     "iopub.status.idle": "2025-05-17T21:02:35.798693Z",
     "shell.execute_reply": "2025-05-17T21:02:35.797873Z",
     "shell.execute_reply.started": "2025-05-17T21:02:35.515775Z"
    }
   },
   "outputs": [
    {
     "data": {
      "image/png": "[encoded data removed]",
      "text/plain": [
       "<Figure size 640x480 with 1 Axes>"
      ]
     },
     "metadata": {},
     "output_type": "display_data"
    }
   ],
   "source": [
    "def plot_episode_length(agente):\n",
    "    episode_lengths = agente.episode_lengths\n",
    "    plt.plot(episode_lengths)\n",
    "    plt.title(\"f(t) = longitud del episodio t\")\n",
    "    plt.xlabel(\"Episodio\")\n",
    "    plt.ylabel(\"Longitud del episodio\")\n",
    "    plt.grid(True)\n",
    "    plt.show()\n",
    "    \n",
    "plot_episode_length(agente_4x4)"
   ]
  },
  {
   "cell_type": "markdown",
   "id": "c41be3c3-cbeb-4ccc-b99e-f18c59d6a1bc",
   "metadata": {},
   "source": [
    "## Interpretación de las gráficas:\n",
    "\n",
    "1. La primera gráfica muestra la proporción acumulada de recompensas por episodio. Se observa una tendencia ascendente que se estabiliza, lo cual indica que el agente ha aprendido una política que mejora progresivamente su rendimiento. La proporción final cercana a 0.5 sugiere que logra alcanzar el objetivo en aproximadamente la mitad de los episodios.\n",
    "\n",
    "2. La segunda gráfica representa la longitud de cada episodio (número de pasos hasta terminar). Inicialmente, el agente necesita más pasos y los episodios son inestables. A medida que aprende, la longitud tiende a estabilizarse y reducirse, lo cual indica que el agente encuentra trayectorias más eficientes o termina el episodio de forma más consistente.\n",
    "\n",
    "Ambas gráficas son complementarias: mientras que una muestra la eficacia del agente, la otra muestra su eficiencia y estabilidad."
   ]
  },
  {
   "cell_type": "code",
   "execution_count": 42,
   "id": "e0f11422-d438-46e9-a88a-d944ecafbce9",
   "metadata": {
    "execution": {
     "iopub.execute_input": "2025-05-17T21:00:57.819461Z",
     "iopub.status.busy": "2025-05-17T21:00:57.819236Z",
     "iopub.status.idle": "2025-05-17T21:00:57.952385Z",
     "shell.execute_reply": "2025-05-17T21:00:57.951541Z",
     "shell.execute_reply.started": "2025-05-17T21:00:57.819439Z"
    }
   },
   "outputs": [
    {
     "data": {
      "text/html": [
       "<pre style='font-size: 24px'>🚩🧊🧊🧊<br>🧊💀🧊💀<br>🧊🧊🧊💀<br>💀🧊🧊🐧<br></pre>"
      ],
      "text/plain": [
       "<IPython.core.display.HTML object>"
      ]
     },
     "metadata": {},
     "output_type": "display_data"
    },
    {
     "name": "stdout",
     "output_type": "stream",
     "text": [
      "Recompensa total siguiendo la política greedy: 1.0\n",
      "Secuencia de acciones tomadas: ['↓', '↓', '→', '→', '↓', '→']\n",
      "Valores Q aprendidos por estado y acción:\n"
     ]
    },
    {
     "data": {
      "text/html": [
       "<div>\n",
       "<style scoped>\n",
       "    .dataframe tbody tr th:only-of-type {\n",
       "        vertical-align: middle;\n",
       "    }\n",
       "\n",
       "    .dataframe tbody tr th {\n",
       "        vertical-align: top;\n",
       "    }\n",
       "\n",
       "    .dataframe thead th {\n",
       "        text-align: right;\n",
       "    }\n",
       "</style>\n",
       "<table border=\"1\" class=\"dataframe\">\n",
       "  <thead>\n",
       "    <tr style=\"text-align: right;\">\n",
       "      <th></th>\n",
       "      <th>← Izquierda</th>\n",
       "      <th>↓ Abajo</th>\n",
       "      <th>→ Derecha</th>\n",
       "      <th>↑ Arriba</th>\n",
       "    </tr>\n",
       "    <tr>\n",
       "      <th>Estado</th>\n",
       "      <th></th>\n",
       "      <th></th>\n",
       "      <th></th>\n",
       "      <th></th>\n",
       "    </tr>\n",
       "  </thead>\n",
       "  <tbody>\n",
       "    <tr>\n",
       "      <th>0</th>\n",
       "      <td>0.830</td>\n",
       "      <td>0.994</td>\n",
       "      <td>0.626</td>\n",
       "      <td>0.978</td>\n",
       "    </tr>\n",
       "    <tr>\n",
       "      <th>1</th>\n",
       "      <td>0.906</td>\n",
       "      <td>0.000</td>\n",
       "      <td>0.926</td>\n",
       "      <td>0.000</td>\n",
       "    </tr>\n",
       "    <tr>\n",
       "      <th>2</th>\n",
       "      <td>0.722</td>\n",
       "      <td>0.967</td>\n",
       "      <td>0.973</td>\n",
       "      <td>0.000</td>\n",
       "    </tr>\n",
       "    <tr>\n",
       "      <th>3</th>\n",
       "      <td>0.980</td>\n",
       "      <td>0.000</td>\n",
       "      <td>1.000</td>\n",
       "      <td>0.908</td>\n",
       "    </tr>\n",
       "    <tr>\n",
       "      <th>4</th>\n",
       "      <td>0.799</td>\n",
       "      <td>0.998</td>\n",
       "      <td>0.000</td>\n",
       "      <td>0.967</td>\n",
       "    </tr>\n",
       "    <tr>\n",
       "      <th>5</th>\n",
       "      <td>0.000</td>\n",
       "      <td>0.000</td>\n",
       "      <td>0.000</td>\n",
       "      <td>0.000</td>\n",
       "    </tr>\n",
       "    <tr>\n",
       "      <th>6</th>\n",
       "      <td>0.000</td>\n",
       "      <td>1.000</td>\n",
       "      <td>0.000</td>\n",
       "      <td>1.000</td>\n",
       "    </tr>\n",
       "    <tr>\n",
       "      <th>7</th>\n",
       "      <td>0.000</td>\n",
       "      <td>0.000</td>\n",
       "      <td>0.000</td>\n",
       "      <td>0.000</td>\n",
       "    </tr>\n",
       "    <tr>\n",
       "      <th>8</th>\n",
       "      <td>0.921</td>\n",
       "      <td>0.000</td>\n",
       "      <td>0.999</td>\n",
       "      <td>0.986</td>\n",
       "    </tr>\n",
       "    <tr>\n",
       "      <th>9</th>\n",
       "      <td>0.993</td>\n",
       "      <td>0.980</td>\n",
       "      <td>1.000</td>\n",
       "      <td>0.000</td>\n",
       "    </tr>\n",
       "    <tr>\n",
       "      <th>10</th>\n",
       "      <td>0.999</td>\n",
       "      <td>1.000</td>\n",
       "      <td>0.000</td>\n",
       "      <td>0.948</td>\n",
       "    </tr>\n",
       "    <tr>\n",
       "      <th>11</th>\n",
       "      <td>0.000</td>\n",
       "      <td>0.000</td>\n",
       "      <td>0.000</td>\n",
       "      <td>0.000</td>\n",
       "    </tr>\n",
       "    <tr>\n",
       "      <th>12</th>\n",
       "      <td>0.000</td>\n",
       "      <td>0.000</td>\n",
       "      <td>0.000</td>\n",
       "      <td>0.000</td>\n",
       "    </tr>\n",
       "    <tr>\n",
       "      <th>13</th>\n",
       "      <td>0.000</td>\n",
       "      <td>0.987</td>\n",
       "      <td>0.997</td>\n",
       "      <td>1.000</td>\n",
       "    </tr>\n",
       "    <tr>\n",
       "      <th>14</th>\n",
       "      <td>0.998</td>\n",
       "      <td>1.000</td>\n",
       "      <td>1.000</td>\n",
       "      <td>1.000</td>\n",
       "    </tr>\n",
       "    <tr>\n",
       "      <th>15</th>\n",
       "      <td>0.000</td>\n",
       "      <td>0.000</td>\n",
       "      <td>0.000</td>\n",
       "      <td>0.000</td>\n",
       "    </tr>\n",
       "  </tbody>\n",
       "</table>\n",
       "</div>"
      ],
      "text/plain": [
       "        ← Izquierda  ↓ Abajo  → Derecha  ↑ Arriba\n",
       "Estado                                           \n",
       "0             0.830    0.994      0.626     0.978\n",
       "1             0.906    0.000      0.926     0.000\n",
       "2             0.722    0.967      0.973     0.000\n",
       "3             0.980    0.000      1.000     0.908\n",
       "4             0.799    0.998      0.000     0.967\n",
       "5             0.000    0.000      0.000     0.000\n",
       "6             0.000    1.000      0.000     1.000\n",
       "7             0.000    0.000      0.000     0.000\n",
       "8             0.921    0.000      0.999     0.986\n",
       "9             0.993    0.980      1.000     0.000\n",
       "10            0.999    1.000      0.000     0.948\n",
       "11            0.000    0.000      0.000     0.000\n",
       "12            0.000    0.000      0.000     0.000\n",
       "13            0.000    0.987      0.997     1.000\n",
       "14            0.998    1.000      1.000     1.000\n",
       "15            0.000    0.000      0.000     0.000"
      ]
     },
     "metadata": {},
     "output_type": "display_data"
    },
    {
     "name": "stdout",
     "output_type": "stream",
     "text": [
      "\n",
      "Política óptima aprendida (mejor acción por estado):\n"
     ]
    },
    {
     "data": {
      "text/html": [
       "<div>\n",
       "<style scoped>\n",
       "    .dataframe tbody tr th:only-of-type {\n",
       "        vertical-align: middle;\n",
       "    }\n",
       "\n",
       "    .dataframe tbody tr th {\n",
       "        vertical-align: top;\n",
       "    }\n",
       "\n",
       "    .dataframe thead th {\n",
       "        text-align: right;\n",
       "    }\n",
       "</style>\n",
       "<table border=\"1\" class=\"dataframe\">\n",
       "  <thead>\n",
       "    <tr style=\"text-align: right;\">\n",
       "      <th></th>\n",
       "      <th>Mejor acción</th>\n",
       "      <th>Estado siguiente</th>\n",
       "    </tr>\n",
       "  </thead>\n",
       "  <tbody>\n",
       "    <tr>\n",
       "      <th>Estado 0</th>\n",
       "      <td>↓</td>\n",
       "      <td>Estado 4</td>\n",
       "    </tr>\n",
       "    <tr>\n",
       "      <th>Estado 1</th>\n",
       "      <td>→</td>\n",
       "      <td>Estado 2</td>\n",
       "    </tr>\n",
       "    <tr>\n",
       "      <th>Estado 2</th>\n",
       "      <td>→</td>\n",
       "      <td>Estado 3</td>\n",
       "    </tr>\n",
       "    <tr>\n",
       "      <th>Estado 3</th>\n",
       "      <td>→</td>\n",
       "      <td>Estado 4</td>\n",
       "    </tr>\n",
       "    <tr>\n",
       "      <th>Estado 4</th>\n",
       "      <td>↓</td>\n",
       "      <td>Estado 8</td>\n",
       "    </tr>\n",
       "    <tr>\n",
       "      <th>Estado 5</th>\n",
       "      <td>X</td>\n",
       "      <td>-</td>\n",
       "    </tr>\n",
       "    <tr>\n",
       "      <th>Estado 6</th>\n",
       "      <td>↓</td>\n",
       "      <td>Estado 10</td>\n",
       "    </tr>\n",
       "    <tr>\n",
       "      <th>Estado 7</th>\n",
       "      <td>X</td>\n",
       "      <td>-</td>\n",
       "    </tr>\n",
       "    <tr>\n",
       "      <th>Estado 8</th>\n",
       "      <td>→</td>\n",
       "      <td>Estado 9</td>\n",
       "    </tr>\n",
       "    <tr>\n",
       "      <th>Estado 9</th>\n",
       "      <td>→</td>\n",
       "      <td>Estado 10</td>\n",
       "    </tr>\n",
       "    <tr>\n",
       "      <th>Estado 10</th>\n",
       "      <td>↓</td>\n",
       "      <td>Estado 14</td>\n",
       "    </tr>\n",
       "    <tr>\n",
       "      <th>Estado 11</th>\n",
       "      <td>X</td>\n",
       "      <td>-</td>\n",
       "    </tr>\n",
       "    <tr>\n",
       "      <th>Estado 12</th>\n",
       "      <td>X</td>\n",
       "      <td>-</td>\n",
       "    </tr>\n",
       "    <tr>\n",
       "      <th>Estado 13</th>\n",
       "      <td>↑</td>\n",
       "      <td>Estado 9</td>\n",
       "    </tr>\n",
       "    <tr>\n",
       "      <th>Estado 14</th>\n",
       "      <td>→</td>\n",
       "      <td>Estado 15</td>\n",
       "    </tr>\n",
       "    <tr>\n",
       "      <th>Estado 15</th>\n",
       "      <td>X</td>\n",
       "      <td>-</td>\n",
       "    </tr>\n",
       "  </tbody>\n",
       "</table>\n",
       "</div>"
      ],
      "text/plain": [
       "          Mejor acción Estado siguiente\n",
       "Estado 0             ↓         Estado 4\n",
       "Estado 1             →         Estado 2\n",
       "Estado 2             →         Estado 3\n",
       "Estado 3             →         Estado 4\n",
       "Estado 4             ↓         Estado 8\n",
       "Estado 5             X                -\n",
       "Estado 6             ↓        Estado 10\n",
       "Estado 7             X                -\n",
       "Estado 8             →         Estado 9\n",
       "Estado 9             →        Estado 10\n",
       "Estado 10            ↓        Estado 14\n",
       "Estado 11            X                -\n",
       "Estado 12            X                -\n",
       "Estado 13            ↑         Estado 9\n",
       "Estado 14            →        Estado 15\n",
       "Estado 15            X                -"
      ]
     },
     "metadata": {},
     "output_type": "display_data"
    }
   ],
   "source": [
    "pi_star_from_Q(agente_4x4)\n",
    "\n",
    "# Mostrar la tabla Q aprendida\n",
    "print(\"Valores Q aprendidos por estado y acción:\")\n",
    "q_table = pd.DataFrame(agente_4x4.Q, columns=['← Izquierda', '↓ Abajo', '→ Derecha', '↑ Arriba'])\n",
    "q_table.index.name = 'Estado'\n",
    "display(q_table.round(3))\n",
    "\n",
    "# Mostrar política óptima\n",
    "print(\"\\nPolítica óptima aprendida (mejor acción por estado):\")\n",
    "obtener_politica_optima(agente_4x4)"
   ]
  },
  {
   "cell_type": "markdown",
   "id": "3c14d823-59c1-4791-a525-509d7f945d88",
   "metadata": {},
   "source": [
    "# Entorno 8x8"
   ]
  },
  {
   "cell_type": "code",
   "execution_count": 54,
   "id": "729d0349-6410-4b1f-8884-8e25d99dbc7a",
   "metadata": {
    "execution": {
     "iopub.execute_input": "2025-05-18T00:56:12.008294Z",
     "iopub.status.busy": "2025-05-18T00:56:12.007530Z",
     "iopub.status.idle": "2025-05-18T01:18:01.722617Z",
     "shell.execute_reply": "2025-05-18T01:18:01.721309Z",
     "shell.execute_reply.started": "2025-05-18T00:56:12.008270Z"
    }
   },
   "outputs": [
    {
     "name": "stdout",
     "output_type": "stream",
     "text": [
      "🔍 Buscando la mejor combinación de hiperparámetros...\n",
      "\n"
     ]
    },
    {
     "name": "stderr",
     "output_type": "stream",
     "text": [
      "Progreso: 100%|████████████████████████████████████████████████| 100/100 [21:49<00:00, 13.09s/it, γ=1, ε=1, reward=0.00]"
     ]
    },
    {
     "name": "stdout",
     "output_type": "stream",
     "text": [
      "\n",
      "✅ Mejor configuración encontrada:\n",
      " γ = 1.0, ε = 1.0\n",
      "  → Recompensa media final: 0.0013\n"
     ]
    },
    {
     "name": "stderr",
     "output_type": "stream",
     "text": [
      "\n"
     ]
    }
   ],
   "source": [
    "grid_search(\"8x8\")"
   ]
  },
  {
   "cell_type": "code",
   "execution_count": 55,
   "id": "8a6eae31-a4ad-4755-bec6-b04a4be6a5da",
   "metadata": {
    "execution": {
     "iopub.execute_input": "2025-05-18T01:18:31.112305Z",
     "iopub.status.busy": "2025-05-18T01:18:31.111494Z",
     "iopub.status.idle": "2025-05-18T01:23:20.719374Z",
     "shell.execute_reply": "2025-05-18T01:23:20.718174Z",
     "shell.execute_reply.started": "2025-05-18T01:18:31.112259Z"
    }
   },
   "outputs": [
    {
     "name": "stderr",
     "output_type": "stream",
     "text": [
      "100%|██████████████████████████████████████████████████████████████████████████| 200000/200000 [04:49<00:00, 690.81it/s]\n"
     ]
    },
    {
     "data": {
      "text/plain": [
       "array([[0.        , 0.        , 0.        , 0.        ],\n",
       "       [0.        , 0.        , 0.        , 0.        ],\n",
       "       [0.        , 0.        , 0.        , 0.        ],\n",
       "       [0.        , 0.        , 0.        , 0.        ],\n",
       "       [0.        , 0.        , 0.        , 0.        ],\n",
       "       [0.        , 0.        , 0.        , 0.        ],\n",
       "       [0.        , 0.        , 0.        , 0.        ],\n",
       "       [0.        , 0.        , 0.        , 0.        ],\n",
       "       [0.        , 0.        , 0.        , 0.        ],\n",
       "       [0.        , 0.        , 0.        , 0.        ],\n",
       "       [0.        , 0.        , 0.        , 0.        ],\n",
       "       [0.        , 0.        , 0.        , 0.        ],\n",
       "       [0.        , 0.        , 0.        , 0.        ],\n",
       "       [0.        , 0.        , 0.        , 0.        ],\n",
       "       [0.        , 0.99997562, 0.        , 0.        ],\n",
       "       [0.999998  , 0.99999966, 0.        , 0.        ],\n",
       "       [0.        , 0.        , 0.        , 0.        ],\n",
       "       [0.        , 0.        , 0.        , 0.        ],\n",
       "       [0.        , 0.        , 0.        , 0.        ],\n",
       "       [0.        , 0.        , 0.        , 0.        ],\n",
       "       [0.        , 0.        , 0.        , 0.        ],\n",
       "       [0.        , 0.        , 0.        , 0.        ],\n",
       "       [0.        , 0.99996162, 0.        , 0.        ],\n",
       "       [0.        , 0.99966061, 0.        , 0.99999967],\n",
       "       [0.        , 0.        , 0.        , 0.        ],\n",
       "       [0.        , 0.        , 0.        , 0.        ],\n",
       "       [0.        , 0.        , 0.        , 0.        ],\n",
       "       [0.        , 0.        , 0.        , 0.        ],\n",
       "       [0.        , 0.        , 0.        , 0.        ],\n",
       "       [0.        , 0.        , 0.        , 0.        ],\n",
       "       [0.        , 0.99996781, 0.85333333, 0.        ],\n",
       "       [0.        , 0.99952812, 0.98533724, 0.        ],\n",
       "       [0.        , 0.        , 0.        , 0.        ],\n",
       "       [0.        , 0.        , 0.        , 0.        ],\n",
       "       [0.        , 0.        , 0.        , 0.        ],\n",
       "       [0.        , 0.        , 0.        , 0.        ],\n",
       "       [0.        , 0.        , 0.99695753, 0.        ],\n",
       "       [0.99957294, 0.75571956, 0.99975592, 0.        ],\n",
       "       [0.        , 0.        , 0.98909091, 0.99994992],\n",
       "       [0.91428571, 0.98288016, 0.        , 0.99604839],\n",
       "       [0.        , 0.        , 0.        , 0.        ],\n",
       "       [0.        , 0.        , 0.        , 0.        ],\n",
       "       [0.        , 0.        , 0.        , 0.        ],\n",
       "       [0.        , 0.        , 0.        , 0.        ],\n",
       "       [0.        , 0.        , 0.        , 0.        ],\n",
       "       [0.        , 0.70914127, 0.        , 0.        ],\n",
       "       [0.        , 0.        , 0.        , 0.        ],\n",
       "       [0.        , 0.996997  , 0.99022801, 0.98969072],\n",
       "       [0.        , 0.        , 0.        , 0.        ],\n",
       "       [0.        , 0.        , 0.        , 0.        ],\n",
       "       [0.        , 0.        , 0.        , 0.        ],\n",
       "       [0.        , 0.        , 0.        , 0.        ],\n",
       "       [0.        , 0.        , 0.        , 0.        ],\n",
       "       [0.        , 0.8       , 0.        , 0.        ],\n",
       "       [0.        , 0.        , 0.        , 0.        ],\n",
       "       [0.        , 1.        , 0.9929078 , 0.99653979],\n",
       "       [0.        , 0.        , 0.        , 0.        ],\n",
       "       [0.        , 0.        , 0.        , 0.        ],\n",
       "       [0.        , 0.        , 0.        , 0.        ],\n",
       "       [0.        , 0.        , 0.        , 0.        ],\n",
       "       [0.        , 0.        , 1.        , 0.        ],\n",
       "       [0.87671233, 0.        , 0.90909091, 0.        ],\n",
       "       [0.        , 1.        , 1.        , 0.        ],\n",
       "       [0.        , 0.        , 0.        , 0.        ]])"
      ]
     },
     "execution_count": 55,
     "metadata": {},
     "output_type": "execute_result"
    }
   ],
   "source": [
    "# Ejecución de ejemplo\n",
    "env_8x8 = gym.make(\"FrozenLake-v1\", is_slippery=False, map_name=\"8x8\")\n",
    "env_8x8.reset(seed=SEED)\n",
    "agente_8x8 = AgenteMonteCarloOffPolicy(env_8x8, epsilon=1.0, discount_factor=1.0)\n",
    "agente_8x8.entrenar(num_episodes=200000)"
   ]
  },
  {
   "cell_type": "code",
   "execution_count": 56,
   "id": "91ffc416-d029-4ee2-97c3-f711c4e0a14e",
   "metadata": {
    "execution": {
     "iopub.execute_input": "2025-05-18T01:23:20.721973Z",
     "iopub.status.busy": "2025-05-18T01:23:20.721435Z",
     "iopub.status.idle": "2025-05-18T01:23:20.995318Z",
     "shell.execute_reply": "2025-05-18T01:23:20.994587Z",
     "shell.execute_reply.started": "2025-05-18T01:23:20.721945Z"
    }
   },
   "outputs": [
    {
     "data": {
      "image/png": "[encoded data removed]",
      "text/plain": [
       "<Figure size 600x300 with 1 Axes>"
      ]
     },
     "metadata": {},
     "output_type": "display_data"
    }
   ],
   "source": [
    "plot_hit_proportion(agente_8x8)"
   ]
  },
  {
   "cell_type": "code",
   "execution_count": 57,
   "id": "a612e365-90dd-4c60-bfef-c64a6e442b1e",
   "metadata": {
    "execution": {
     "iopub.execute_input": "2025-05-18T01:23:20.996667Z",
     "iopub.status.busy": "2025-05-18T01:23:20.996440Z",
     "iopub.status.idle": "2025-05-18T01:23:21.767180Z",
     "shell.execute_reply": "2025-05-18T01:23:21.766330Z",
     "shell.execute_reply.started": "2025-05-18T01:23:20.996647Z"
    }
   },
   "outputs": [
    {
     "data": {
      "image/png": "[encoded data removed]",
      "text/plain": [
       "<Figure size 640x480 with 1 Axes>"
      ]
     },
     "metadata": {},
     "output_type": "display_data"
    }
   ],
   "source": [
    "plot_episode_length(agente_8x8)"
   ]
  },
  {
   "cell_type": "code",
   "execution_count": 58,
   "id": "414d4394-691e-4a14-8795-ec2fd5187e03",
   "metadata": {
    "execution": {
     "iopub.execute_input": "2025-05-18T01:23:21.768871Z",
     "iopub.status.busy": "2025-05-18T01:23:21.768451Z",
     "iopub.status.idle": "2025-05-18T01:23:22.103624Z",
     "shell.execute_reply": "2025-05-18T01:23:22.102791Z",
     "shell.execute_reply.started": "2025-05-18T01:23:21.768846Z"
    }
   },
   "outputs": [
    {
     "data": {
      "text/html": [
       "<pre style='font-size: 24px'>🐧🧊🧊🧊🧊🧊🧊🧊<br>🧊🧊🧊🧊🧊🧊🧊🧊<br>🧊🧊🧊💀🧊🧊🧊🧊<br>🧊🧊🧊🧊🧊💀🧊🧊<br>🧊🧊🧊💀🧊🧊🧊🧊<br>🧊💀💀🧊🧊🧊💀🧊<br>🧊💀🧊🧊💀🧊💀🧊<br>🧊🧊🧊💀🧊🧊🧊🏁<br></pre>"
      ],
      "text/plain": [
       "<IPython.core.display.HTML object>"
      ]
     },
     "metadata": {},
     "output_type": "display_data"
    },
    {
     "name": "stdout",
     "output_type": "stream",
     "text": [
      "Recompensa total siguiendo la política greedy: 0.0\n",
      "Secuencia de acciones tomadas: ['←', '←', '←', '←', '←', '←', '←', '←', '←', '←', '←', '←', '←', '←', '←', '←', '←', '←', '←', '←', '←', '←', '←', '←', '←', '←', '←', '←', '←', '←', '←', '←', '←', '←', '←', '←', '←', '←', '←', '←', '←', '←', '←', '←', '←', '←', '←', '←', '←', '←', '←', '←', '←', '←', '←', '←', '←', '←', '←', '←', '←', '←', '←', '←', '←', '←', '←', '←', '←', '←', '←', '←', '←', '←', '←', '←', '←', '←', '←', '←', '←', '←', '←', '←', '←', '←', '←', '←', '←', '←', '←', '←', '←', '←', '←', '←', '←', '←', '←', '←']\n",
      "Valores Q aprendidos por estado y acción:\n"
     ]
    },
    {
     "data": {
      "text/html": [
       "<div>\n",
       "<style scoped>\n",
       "    .dataframe tbody tr th:only-of-type {\n",
       "        vertical-align: middle;\n",
       "    }\n",
       "\n",
       "    .dataframe tbody tr th {\n",
       "        vertical-align: top;\n",
       "    }\n",
       "\n",
       "    .dataframe thead th {\n",
       "        text-align: right;\n",
       "    }\n",
       "</style>\n",
       "<table border=\"1\" class=\"dataframe\">\n",
       "  <thead>\n",
       "    <tr style=\"text-align: right;\">\n",
       "      <th></th>\n",
       "      <th>← Izquierda</th>\n",
       "      <th>↓ Abajo</th>\n",
       "      <th>→ Derecha</th>\n",
       "      <th>↑ Arriba</th>\n",
       "    </tr>\n",
       "    <tr>\n",
       "      <th>Estado</th>\n",
       "      <th></th>\n",
       "      <th></th>\n",
       "      <th></th>\n",
       "      <th></th>\n",
       "    </tr>\n",
       "  </thead>\n",
       "  <tbody>\n",
       "    <tr>\n",
       "      <th>0</th>\n",
       "      <td>0.000</td>\n",
       "      <td>0.0</td>\n",
       "      <td>0.000</td>\n",
       "      <td>0.0</td>\n",
       "    </tr>\n",
       "    <tr>\n",
       "      <th>1</th>\n",
       "      <td>0.000</td>\n",
       "      <td>0.0</td>\n",
       "      <td>0.000</td>\n",
       "      <td>0.0</td>\n",
       "    </tr>\n",
       "    <tr>\n",
       "      <th>2</th>\n",
       "      <td>0.000</td>\n",
       "      <td>0.0</td>\n",
       "      <td>0.000</td>\n",
       "      <td>0.0</td>\n",
       "    </tr>\n",
       "    <tr>\n",
       "      <th>3</th>\n",
       "      <td>0.000</td>\n",
       "      <td>0.0</td>\n",
       "      <td>0.000</td>\n",
       "      <td>0.0</td>\n",
       "    </tr>\n",
       "    <tr>\n",
       "      <th>4</th>\n",
       "      <td>0.000</td>\n",
       "      <td>0.0</td>\n",
       "      <td>0.000</td>\n",
       "      <td>0.0</td>\n",
       "    </tr>\n",
       "    <tr>\n",
       "      <th>...</th>\n",
       "      <td>...</td>\n",
       "      <td>...</td>\n",
       "      <td>...</td>\n",
       "      <td>...</td>\n",
       "    </tr>\n",
       "    <tr>\n",
       "      <th>59</th>\n",
       "      <td>0.000</td>\n",
       "      <td>0.0</td>\n",
       "      <td>0.000</td>\n",
       "      <td>0.0</td>\n",
       "    </tr>\n",
       "    <tr>\n",
       "      <th>60</th>\n",
       "      <td>0.000</td>\n",
       "      <td>0.0</td>\n",
       "      <td>1.000</td>\n",
       "      <td>0.0</td>\n",
       "    </tr>\n",
       "    <tr>\n",
       "      <th>61</th>\n",
       "      <td>0.877</td>\n",
       "      <td>0.0</td>\n",
       "      <td>0.909</td>\n",
       "      <td>0.0</td>\n",
       "    </tr>\n",
       "    <tr>\n",
       "      <th>62</th>\n",
       "      <td>0.000</td>\n",
       "      <td>1.0</td>\n",
       "      <td>1.000</td>\n",
       "      <td>0.0</td>\n",
       "    </tr>\n",
       "    <tr>\n",
       "      <th>63</th>\n",
       "      <td>0.000</td>\n",
       "      <td>0.0</td>\n",
       "      <td>0.000</td>\n",
       "      <td>0.0</td>\n",
       "    </tr>\n",
       "  </tbody>\n",
       "</table>\n",
       "<p>64 rows × 4 columns</p>\n",
       "</div>"
      ],
      "text/plain": [
       "        ← Izquierda  ↓ Abajo  → Derecha  ↑ Arriba\n",
       "Estado                                           \n",
       "0             0.000      0.0      0.000       0.0\n",
       "1             0.000      0.0      0.000       0.0\n",
       "2             0.000      0.0      0.000       0.0\n",
       "3             0.000      0.0      0.000       0.0\n",
       "4             0.000      0.0      0.000       0.0\n",
       "...             ...      ...        ...       ...\n",
       "59            0.000      0.0      0.000       0.0\n",
       "60            0.000      0.0      1.000       0.0\n",
       "61            0.877      0.0      0.909       0.0\n",
       "62            0.000      1.0      1.000       0.0\n",
       "63            0.000      0.0      0.000       0.0\n",
       "\n",
       "[64 rows x 4 columns]"
      ]
     },
     "metadata": {},
     "output_type": "display_data"
    },
    {
     "name": "stdout",
     "output_type": "stream",
     "text": [
      "\n",
      "Política óptima aprendida (mejor acción por estado):\n"
     ]
    },
    {
     "data": {
      "text/html": [
       "<div>\n",
       "<style scoped>\n",
       "    .dataframe tbody tr th:only-of-type {\n",
       "        vertical-align: middle;\n",
       "    }\n",
       "\n",
       "    .dataframe tbody tr th {\n",
       "        vertical-align: top;\n",
       "    }\n",
       "\n",
       "    .dataframe thead th {\n",
       "        text-align: right;\n",
       "    }\n",
       "</style>\n",
       "<table border=\"1\" class=\"dataframe\">\n",
       "  <thead>\n",
       "    <tr style=\"text-align: right;\">\n",
       "      <th></th>\n",
       "      <th>Mejor acción</th>\n",
       "      <th>Estado siguiente</th>\n",
       "    </tr>\n",
       "  </thead>\n",
       "  <tbody>\n",
       "    <tr>\n",
       "      <th>Estado 0</th>\n",
       "      <td>X</td>\n",
       "      <td>-</td>\n",
       "    </tr>\n",
       "    <tr>\n",
       "      <th>Estado 1</th>\n",
       "      <td>X</td>\n",
       "      <td>-</td>\n",
       "    </tr>\n",
       "    <tr>\n",
       "      <th>Estado 2</th>\n",
       "      <td>X</td>\n",
       "      <td>-</td>\n",
       "    </tr>\n",
       "    <tr>\n",
       "      <th>Estado 3</th>\n",
       "      <td>X</td>\n",
       "      <td>-</td>\n",
       "    </tr>\n",
       "    <tr>\n",
       "      <th>Estado 4</th>\n",
       "      <td>X</td>\n",
       "      <td>-</td>\n",
       "    </tr>\n",
       "    <tr>\n",
       "      <th>...</th>\n",
       "      <td>...</td>\n",
       "      <td>...</td>\n",
       "    </tr>\n",
       "    <tr>\n",
       "      <th>Estado 59</th>\n",
       "      <td>X</td>\n",
       "      <td>-</td>\n",
       "    </tr>\n",
       "    <tr>\n",
       "      <th>Estado 60</th>\n",
       "      <td>→</td>\n",
       "      <td>Estado 61</td>\n",
       "    </tr>\n",
       "    <tr>\n",
       "      <th>Estado 61</th>\n",
       "      <td>→</td>\n",
       "      <td>Estado 62</td>\n",
       "    </tr>\n",
       "    <tr>\n",
       "      <th>Estado 62</th>\n",
       "      <td>↓</td>\n",
       "      <td>None</td>\n",
       "    </tr>\n",
       "    <tr>\n",
       "      <th>Estado 63</th>\n",
       "      <td>X</td>\n",
       "      <td>-</td>\n",
       "    </tr>\n",
       "  </tbody>\n",
       "</table>\n",
       "<p>64 rows × 2 columns</p>\n",
       "</div>"
      ],
      "text/plain": [
       "          Mejor acción Estado siguiente\n",
       "Estado 0             X                -\n",
       "Estado 1             X                -\n",
       "Estado 2             X                -\n",
       "Estado 3             X                -\n",
       "Estado 4             X                -\n",
       "...                ...              ...\n",
       "Estado 59            X                -\n",
       "Estado 60            →        Estado 61\n",
       "Estado 61            →        Estado 62\n",
       "Estado 62            ↓             None\n",
       "Estado 63            X                -\n",
       "\n",
       "[64 rows x 2 columns]"
      ]
     },
     "metadata": {},
     "output_type": "display_data"
    }
   ],
   "source": [
    "pi_star_from_Q(agente_8x8)\n",
    "\n",
    "# Mostrar la tabla Q aprendida\n",
    "print(\"Valores Q aprendidos por estado y acción:\")\n",
    "q_table = pd.DataFrame(agente_8x8.Q, columns=['← Izquierda', '↓ Abajo', '→ Derecha', '↑ Arriba'])\n",
    "q_table.index.name = 'Estado'\n",
    "display(q_table.round(3))\n",
    "\n",
    "# Mostrar política óptima\n",
    "print(\"\\nPolítica óptima aprendida (mejor acción por estado):\")\n",
    "obtener_politica_optima(agente_8x8)"
   ]
  },
  {
   "cell_type": "code",
   "execution_count": null,
   "id": "3cbd5c07-092b-4e4a-88bf-92f200ea3303",
   "metadata": {},
   "outputs": [],
   "source": []
  },
  {
   "cell_type": "code",
   "execution_count": null,
   "id": "c0893eab-0180-4e87-8876-4942951ed18f",
   "metadata": {},
   "outputs": [],
   "source": []
  }
 ],
 "metadata": {
  "kernelspec": {
   "display_name": "Python 3 (ipykernel)",
   "language": "python",
   "name": "python3"
  },
  "language_info": {
   "codemirror_mode": {
    "name": "ipython",
    "version": 3
   },
   "file_extension": ".py",
   "mimetype": "text/x-python",
   "name": "python",
   "nbconvert_exporter": "python",
   "pygments_lexer": "ipython3",
   "version": "3.10.12"
  }
 },
 "nbformat": 4,
 "nbformat_minor": 5
}
